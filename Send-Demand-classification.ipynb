{
 "cells": [
  {
   "cell_type": "code",
   "execution_count": 1,
   "id": "2c9caaf0",
   "metadata": {
    "_cell_guid": "b1076dfc-b9ad-4769-8c92-a6c4dae69d19",
    "_uuid": "8f2839f25d086af736a60e9eeb907d3b93b6e0e5",
    "execution": {
     "iopub.execute_input": "2021-11-09T08:53:24.729702Z",
     "iopub.status.busy": "2021-11-09T08:53:24.728966Z",
     "iopub.status.idle": "2021-11-09T08:53:24.747662Z",
     "shell.execute_reply": "2021-11-09T08:53:24.748150Z",
     "shell.execute_reply.started": "2021-11-09T08:42:06.620889Z"
    },
    "papermill": {
     "duration": 0.056888,
     "end_time": "2021-11-09T08:53:24.748478",
     "exception": false,
     "start_time": "2021-11-09T08:53:24.691590",
     "status": "completed"
    },
    "tags": []
   },
   "outputs": [
    {
     "name": "stdout",
     "output_type": "stream",
     "text": [
      "/kaggle/input/lineitem/lineitem_details_24_sep.csv\n",
      "/kaggle/input/sku-orders/Sku_forecast_8-nov.csv\n"
     ]
    }
   ],
   "source": [
    "# This Python 3 environment comes with many helpful analytics libraries installed\n",
    "# It is defined by the kaggle/python Docker image: https://github.com/kaggle/docker-python\n",
    "# For example, here's several helpful packages to load\n",
    "\n",
    "import numpy as np # linear algebra\n",
    "import pandas as pd # data processing, CSV file I/O (e.g. pd.read_csv)\n",
    "\n",
    "# Input data files are available in the read-only \"../input/\" directory\n",
    "# For example, running this (by clicking run or pressing Shift+Enter) will list all files under the input directory\n",
    "\n",
    "import os\n",
    "for dirname, _, filenames in os.walk('/kaggle/input'):\n",
    "    for filename in filenames:\n",
    "        print(os.path.join(dirname, filename))\n",
    "\n",
    "# You can write up to 20GB to the current directory (/kaggle/working/) that gets preserved as output when you create a version using \"Save & Run All\" \n",
    "# You can also write temporary files to /kaggle/temp/, but they won't be saved outside of the current session"
   ]
  },
  {
   "cell_type": "code",
   "execution_count": 2,
   "id": "d6024e04",
   "metadata": {
    "execution": {
     "iopub.execute_input": "2021-11-09T08:53:24.807687Z",
     "iopub.status.busy": "2021-11-09T08:53:24.806978Z",
     "iopub.status.idle": "2021-11-09T08:53:24.856363Z",
     "shell.execute_reply": "2021-11-09T08:53:24.855278Z",
     "shell.execute_reply.started": "2021-11-09T08:42:06.664854Z"
    },
    "papermill": {
     "duration": 0.08175,
     "end_time": "2021-11-09T08:53:24.856568",
     "exception": false,
     "start_time": "2021-11-09T08:53:24.774818",
     "status": "completed"
    },
    "tags": []
   },
   "outputs": [],
   "source": [
    "product = pd.read_csv(\"../input/sku-orders/Sku_forecast_8-nov.csv\")"
   ]
  },
  {
   "cell_type": "markdown",
   "id": "c0919bf4",
   "metadata": {
    "papermill": {
     "duration": 0.025647,
     "end_time": "2021-11-09T08:53:24.911733",
     "exception": false,
     "start_time": "2021-11-09T08:53:24.886086",
     "status": "completed"
    },
    "tags": []
   },
   "source": [
    "### Data Setup & Reading"
   ]
  },
  {
   "cell_type": "code",
   "execution_count": 3,
   "id": "92192a40",
   "metadata": {
    "execution": {
     "iopub.execute_input": "2021-11-09T08:53:24.967359Z",
     "iopub.status.busy": "2021-11-09T08:53:24.966353Z",
     "iopub.status.idle": "2021-11-09T08:53:24.992516Z",
     "shell.execute_reply": "2021-11-09T08:53:24.992976Z",
     "shell.execute_reply.started": "2021-11-09T08:42:06.719566Z"
    },
    "papermill": {
     "duration": 0.055473,
     "end_time": "2021-11-09T08:53:24.993143",
     "exception": false,
     "start_time": "2021-11-09T08:53:24.937670",
     "status": "completed"
    },
    "tags": []
   },
   "outputs": [
    {
     "data": {
      "text/html": [
       "<div>\n",
       "<style scoped>\n",
       "    .dataframe tbody tr th:only-of-type {\n",
       "        vertical-align: middle;\n",
       "    }\n",
       "\n",
       "    .dataframe tbody tr th {\n",
       "        vertical-align: top;\n",
       "    }\n",
       "\n",
       "    .dataframe thead th {\n",
       "        text-align: right;\n",
       "    }\n",
       "</style>\n",
       "<table border=\"1\" class=\"dataframe\">\n",
       "  <thead>\n",
       "    <tr style=\"text-align: right;\">\n",
       "      <th></th>\n",
       "      <th>store</th>\n",
       "      <th>order_id</th>\n",
       "      <th>user_id</th>\n",
       "      <th>product_id</th>\n",
       "      <th>prod_order_qty</th>\n",
       "      <th>createdAt</th>\n",
       "      <th>order_dt</th>\n",
       "      <th>hours</th>\n",
       "      <th>category_name</th>\n",
       "      <th>catg_status</th>\n",
       "      <th>product_name</th>\n",
       "      <th>odoo_id</th>\n",
       "      <th>prod_price</th>\n",
       "      <th>prod_status</th>\n",
       "      <th>prod_amount</th>\n",
       "    </tr>\n",
       "  </thead>\n",
       "  <tbody>\n",
       "    <tr>\n",
       "      <th>0</th>\n",
       "      <td>SOUTH MELBOURNE</td>\n",
       "      <td>1.636330e+12</td>\n",
       "      <td>0a4344db-061d-490a-9165-51207fb523f8</td>\n",
       "      <td>8b3f34cf-0ec3-415c-a5dc-02a7d24c8c3b</td>\n",
       "      <td>5</td>\n",
       "      <td>11/8/2021 11:26</td>\n",
       "      <td>11/8/2021</td>\n",
       "      <td>11</td>\n",
       "      <td>Eggs &amp; Dairy</td>\n",
       "      <td>Active</td>\n",
       "      <td>JOSH'S RAINBOW FREE RANGE EGGS JUMBO 6 PACK 400G</td>\n",
       "      <td>SEND00797</td>\n",
       "      <td>5.00</td>\n",
       "      <td>Active</td>\n",
       "      <td>25.00</td>\n",
       "    </tr>\n",
       "    <tr>\n",
       "      <th>1</th>\n",
       "      <td>POTTS POINT</td>\n",
       "      <td>1.636330e+12</td>\n",
       "      <td>f647bbba-08ac-4926-a59f-c696e7a9b43a</td>\n",
       "      <td>878eae08-7c07-4f89-b1b1-7854639ab133</td>\n",
       "      <td>1</td>\n",
       "      <td>11/8/2021 12:00</td>\n",
       "      <td>11/8/2021</td>\n",
       "      <td>12</td>\n",
       "      <td>Bakery</td>\n",
       "      <td>Active</td>\n",
       "      <td>WHOLEMEAL BOWAN ISLAND BAKERY 400G</td>\n",
       "      <td>SEND01533</td>\n",
       "      <td>5.00</td>\n",
       "      <td>Active</td>\n",
       "      <td>5.00</td>\n",
       "    </tr>\n",
       "    <tr>\n",
       "      <th>2</th>\n",
       "      <td>POTTS POINT</td>\n",
       "      <td>1.636330e+12</td>\n",
       "      <td>f647bbba-08ac-4926-a59f-c696e7a9b43a</td>\n",
       "      <td>2c0e96f8-62ef-4c50-9735-938921ea3a7c</td>\n",
       "      <td>1</td>\n",
       "      <td>11/8/2021 12:00</td>\n",
       "      <td>11/8/2021</td>\n",
       "      <td>12</td>\n",
       "      <td>Meals</td>\n",
       "      <td>Active</td>\n",
       "      <td>YOUFOODZ BEEF LASAGNE</td>\n",
       "      <td>SEND00657</td>\n",
       "      <td>9.95</td>\n",
       "      <td>Active</td>\n",
       "      <td>9.95</td>\n",
       "    </tr>\n",
       "    <tr>\n",
       "      <th>3</th>\n",
       "      <td>POTTS POINT</td>\n",
       "      <td>1.636330e+12</td>\n",
       "      <td>f647bbba-08ac-4926-a59f-c696e7a9b43a</td>\n",
       "      <td>8fc49263-a33d-457e-a87c-63e7dcfa6d5d</td>\n",
       "      <td>1</td>\n",
       "      <td>11/8/2021 12:00</td>\n",
       "      <td>11/8/2021</td>\n",
       "      <td>12</td>\n",
       "      <td>Snacks</td>\n",
       "      <td>Active</td>\n",
       "      <td>SUNRICE RICE CAKES THIN ORIGINAL 150G</td>\n",
       "      <td>SEND00354</td>\n",
       "      <td>3.00</td>\n",
       "      <td>Active</td>\n",
       "      <td>3.00</td>\n",
       "    </tr>\n",
       "    <tr>\n",
       "      <th>4</th>\n",
       "      <td>POTTS POINT</td>\n",
       "      <td>1.636330e+12</td>\n",
       "      <td>f647bbba-08ac-4926-a59f-c696e7a9b43a</td>\n",
       "      <td>65d328a7-db9a-448d-a33e-bdfef5998ffb</td>\n",
       "      <td>1</td>\n",
       "      <td>11/8/2021 12:00</td>\n",
       "      <td>11/8/2021</td>\n",
       "      <td>12</td>\n",
       "      <td>Meals</td>\n",
       "      <td>Active</td>\n",
       "      <td>YOUFOODZ NONNA'S SPAGHETTI BOLOGNESE</td>\n",
       "      <td>SEND00663</td>\n",
       "      <td>9.95</td>\n",
       "      <td>Active</td>\n",
       "      <td>9.95</td>\n",
       "    </tr>\n",
       "  </tbody>\n",
       "</table>\n",
       "</div>"
      ],
      "text/plain": [
       "             store      order_id                               user_id  \\\n",
       "0  SOUTH MELBOURNE  1.636330e+12  0a4344db-061d-490a-9165-51207fb523f8   \n",
       "1      POTTS POINT  1.636330e+12  f647bbba-08ac-4926-a59f-c696e7a9b43a   \n",
       "2      POTTS POINT  1.636330e+12  f647bbba-08ac-4926-a59f-c696e7a9b43a   \n",
       "3      POTTS POINT  1.636330e+12  f647bbba-08ac-4926-a59f-c696e7a9b43a   \n",
       "4      POTTS POINT  1.636330e+12  f647bbba-08ac-4926-a59f-c696e7a9b43a   \n",
       "\n",
       "                             product_id  prod_order_qty        createdAt  \\\n",
       "0  8b3f34cf-0ec3-415c-a5dc-02a7d24c8c3b               5  11/8/2021 11:26   \n",
       "1  878eae08-7c07-4f89-b1b1-7854639ab133               1  11/8/2021 12:00   \n",
       "2  2c0e96f8-62ef-4c50-9735-938921ea3a7c               1  11/8/2021 12:00   \n",
       "3  8fc49263-a33d-457e-a87c-63e7dcfa6d5d               1  11/8/2021 12:00   \n",
       "4  65d328a7-db9a-448d-a33e-bdfef5998ffb               1  11/8/2021 12:00   \n",
       "\n",
       "    order_dt  hours category_name catg_status  \\\n",
       "0  11/8/2021     11  Eggs & Dairy      Active   \n",
       "1  11/8/2021     12        Bakery      Active   \n",
       "2  11/8/2021     12         Meals      Active   \n",
       "3  11/8/2021     12        Snacks      Active   \n",
       "4  11/8/2021     12         Meals      Active   \n",
       "\n",
       "                                       product_name    odoo_id  prod_price  \\\n",
       "0  JOSH'S RAINBOW FREE RANGE EGGS JUMBO 6 PACK 400G  SEND00797        5.00   \n",
       "1                WHOLEMEAL BOWAN ISLAND BAKERY 400G  SEND01533        5.00   \n",
       "2                             YOUFOODZ BEEF LASAGNE  SEND00657        9.95   \n",
       "3             SUNRICE RICE CAKES THIN ORIGINAL 150G  SEND00354        3.00   \n",
       "4              YOUFOODZ NONNA'S SPAGHETTI BOLOGNESE  SEND00663        9.95   \n",
       "\n",
       "  prod_status  prod_amount  \n",
       "0      Active        25.00  \n",
       "1      Active         5.00  \n",
       "2      Active         9.95  \n",
       "3      Active         3.00  \n",
       "4      Active         9.95  "
      ]
     },
     "execution_count": 3,
     "metadata": {},
     "output_type": "execute_result"
    }
   ],
   "source": [
    "product.head()"
   ]
  },
  {
   "cell_type": "code",
   "execution_count": 4,
   "id": "d1d1f628",
   "metadata": {
    "execution": {
     "iopub.execute_input": "2021-11-09T08:53:25.067125Z",
     "iopub.status.busy": "2021-11-09T08:53:25.066034Z",
     "iopub.status.idle": "2021-11-09T08:53:25.091064Z",
     "shell.execute_reply": "2021-11-09T08:53:25.091632Z",
     "shell.execute_reply.started": "2021-11-09T08:42:06.752707Z"
    },
    "papermill": {
     "duration": 0.071967,
     "end_time": "2021-11-09T08:53:25.091892",
     "exception": false,
     "start_time": "2021-11-09T08:53:25.019925",
     "status": "completed"
    },
    "tags": []
   },
   "outputs": [
    {
     "data": {
      "text/html": [
       "<div>\n",
       "<style scoped>\n",
       "    .dataframe tbody tr th:only-of-type {\n",
       "        vertical-align: middle;\n",
       "    }\n",
       "\n",
       "    .dataframe tbody tr th {\n",
       "        vertical-align: top;\n",
       "    }\n",
       "\n",
       "    .dataframe thead th {\n",
       "        text-align: right;\n",
       "    }\n",
       "</style>\n",
       "<table border=\"1\" class=\"dataframe\">\n",
       "  <thead>\n",
       "    <tr style=\"text-align: right;\">\n",
       "      <th></th>\n",
       "      <th>order_id</th>\n",
       "      <th>prod_order_qty</th>\n",
       "      <th>hours</th>\n",
       "      <th>prod_price</th>\n",
       "      <th>prod_amount</th>\n",
       "    </tr>\n",
       "  </thead>\n",
       "  <tbody>\n",
       "    <tr>\n",
       "      <th>count</th>\n",
       "      <td>5.305000e+03</td>\n",
       "      <td>5305.000000</td>\n",
       "      <td>5305.000000</td>\n",
       "      <td>5226.000000</td>\n",
       "      <td>5305.000000</td>\n",
       "    </tr>\n",
       "    <tr>\n",
       "      <th>mean</th>\n",
       "      <td>1.633992e+12</td>\n",
       "      <td>1.210179</td>\n",
       "      <td>15.684637</td>\n",
       "      <td>5.236433</td>\n",
       "      <td>5.809425</td>\n",
       "    </tr>\n",
       "    <tr>\n",
       "      <th>std</th>\n",
       "      <td>1.599227e+09</td>\n",
       "      <td>0.702378</td>\n",
       "      <td>3.388200</td>\n",
       "      <td>2.699784</td>\n",
       "      <td>3.830308</td>\n",
       "    </tr>\n",
       "    <tr>\n",
       "      <th>min</th>\n",
       "      <td>1.629550e+12</td>\n",
       "      <td>1.000000</td>\n",
       "      <td>8.000000</td>\n",
       "      <td>0.400000</td>\n",
       "      <td>0.000000</td>\n",
       "    </tr>\n",
       "    <tr>\n",
       "      <th>25%</th>\n",
       "      <td>1.632970e+12</td>\n",
       "      <td>1.000000</td>\n",
       "      <td>13.000000</td>\n",
       "      <td>3.500000</td>\n",
       "      <td>3.500000</td>\n",
       "    </tr>\n",
       "    <tr>\n",
       "      <th>50%</th>\n",
       "      <td>1.634100e+12</td>\n",
       "      <td>1.000000</td>\n",
       "      <td>16.000000</td>\n",
       "      <td>5.000000</td>\n",
       "      <td>5.000000</td>\n",
       "    </tr>\n",
       "    <tr>\n",
       "      <th>75%</th>\n",
       "      <td>1.635330e+12</td>\n",
       "      <td>1.000000</td>\n",
       "      <td>18.000000</td>\n",
       "      <td>6.000000</td>\n",
       "      <td>7.500000</td>\n",
       "    </tr>\n",
       "    <tr>\n",
       "      <th>max</th>\n",
       "      <td>1.636370e+12</td>\n",
       "      <td>12.000000</td>\n",
       "      <td>23.000000</td>\n",
       "      <td>15.000000</td>\n",
       "      <td>83.200000</td>\n",
       "    </tr>\n",
       "  </tbody>\n",
       "</table>\n",
       "</div>"
      ],
      "text/plain": [
       "           order_id  prod_order_qty        hours   prod_price  prod_amount\n",
       "count  5.305000e+03     5305.000000  5305.000000  5226.000000  5305.000000\n",
       "mean   1.633992e+12        1.210179    15.684637     5.236433     5.809425\n",
       "std    1.599227e+09        0.702378     3.388200     2.699784     3.830308\n",
       "min    1.629550e+12        1.000000     8.000000     0.400000     0.000000\n",
       "25%    1.632970e+12        1.000000    13.000000     3.500000     3.500000\n",
       "50%    1.634100e+12        1.000000    16.000000     5.000000     5.000000\n",
       "75%    1.635330e+12        1.000000    18.000000     6.000000     7.500000\n",
       "max    1.636370e+12       12.000000    23.000000    15.000000    83.200000"
      ]
     },
     "execution_count": 4,
     "metadata": {},
     "output_type": "execute_result"
    }
   ],
   "source": [
    "product.describe()"
   ]
  },
  {
   "cell_type": "code",
   "execution_count": 5,
   "id": "8ca8214b",
   "metadata": {
    "execution": {
     "iopub.execute_input": "2021-11-09T08:53:25.165274Z",
     "iopub.status.busy": "2021-11-09T08:53:25.164266Z",
     "iopub.status.idle": "2021-11-09T08:53:25.178183Z",
     "shell.execute_reply": "2021-11-09T08:53:25.178764Z",
     "shell.execute_reply.started": "2021-11-09T08:42:06.795270Z"
    },
    "papermill": {
     "duration": 0.052005,
     "end_time": "2021-11-09T08:53:25.178958",
     "exception": false,
     "start_time": "2021-11-09T08:53:25.126953",
     "status": "completed"
    },
    "tags": []
   },
   "outputs": [
    {
     "name": "stdout",
     "output_type": "stream",
     "text": [
      "<class 'pandas.core.frame.DataFrame'>\n",
      "RangeIndex: 5305 entries, 0 to 5304\n",
      "Data columns (total 15 columns):\n",
      " #   Column          Non-Null Count  Dtype  \n",
      "---  ------          --------------  -----  \n",
      " 0   store           5305 non-null   object \n",
      " 1   order_id        5305 non-null   float64\n",
      " 2   user_id         5305 non-null   object \n",
      " 3   product_id      5305 non-null   object \n",
      " 4   prod_order_qty  5305 non-null   int64  \n",
      " 5   createdAt       5305 non-null   object \n",
      " 6   order_dt        5305 non-null   object \n",
      " 7   hours           5305 non-null   int64  \n",
      " 8   category_name   5305 non-null   object \n",
      " 9   catg_status     5305 non-null   object \n",
      " 10  product_name    5305 non-null   object \n",
      " 11  odoo_id         5305 non-null   object \n",
      " 12  prod_price      5226 non-null   float64\n",
      " 13  prod_status     5305 non-null   object \n",
      " 14  prod_amount     5305 non-null   float64\n",
      "dtypes: float64(3), int64(2), object(10)\n",
      "memory usage: 621.8+ KB\n"
     ]
    }
   ],
   "source": [
    "product.info()"
   ]
  },
  {
   "cell_type": "code",
   "execution_count": 6,
   "id": "9fb023b4",
   "metadata": {
    "execution": {
     "iopub.execute_input": "2021-11-09T08:53:25.251447Z",
     "iopub.status.busy": "2021-11-09T08:53:25.250790Z",
     "iopub.status.idle": "2021-11-09T08:53:25.269714Z",
     "shell.execute_reply": "2021-11-09T08:53:25.270162Z",
     "shell.execute_reply.started": "2021-11-09T08:42:06.820794Z"
    },
    "papermill": {
     "duration": 0.055113,
     "end_time": "2021-11-09T08:53:25.270368",
     "exception": false,
     "start_time": "2021-11-09T08:53:25.215255",
     "status": "completed"
    },
    "tags": []
   },
   "outputs": [],
   "source": [
    "product['order_dt']= pd.to_datetime(product['order_dt'])"
   ]
  },
  {
   "cell_type": "code",
   "execution_count": 7,
   "id": "b624f476",
   "metadata": {
    "execution": {
     "iopub.execute_input": "2021-11-09T08:53:25.332027Z",
     "iopub.status.busy": "2021-11-09T08:53:25.330997Z",
     "iopub.status.idle": "2021-11-09T08:53:25.347034Z",
     "shell.execute_reply": "2021-11-09T08:53:25.347954Z",
     "shell.execute_reply.started": "2021-11-09T08:42:06.841680Z"
    },
    "papermill": {
     "duration": 0.050188,
     "end_time": "2021-11-09T08:53:25.348211",
     "exception": false,
     "start_time": "2021-11-09T08:53:25.298023",
     "status": "completed"
    },
    "tags": []
   },
   "outputs": [
    {
     "name": "stdout",
     "output_type": "stream",
     "text": [
      "<class 'pandas.core.frame.DataFrame'>\n",
      "RangeIndex: 5305 entries, 0 to 5304\n",
      "Data columns (total 15 columns):\n",
      " #   Column          Non-Null Count  Dtype         \n",
      "---  ------          --------------  -----         \n",
      " 0   store           5305 non-null   object        \n",
      " 1   order_id        5305 non-null   float64       \n",
      " 2   user_id         5305 non-null   object        \n",
      " 3   product_id      5305 non-null   object        \n",
      " 4   prod_order_qty  5305 non-null   int64         \n",
      " 5   createdAt       5305 non-null   object        \n",
      " 6   order_dt        5305 non-null   datetime64[ns]\n",
      " 7   hours           5305 non-null   int64         \n",
      " 8   category_name   5305 non-null   object        \n",
      " 9   catg_status     5305 non-null   object        \n",
      " 10  product_name    5305 non-null   object        \n",
      " 11  odoo_id         5305 non-null   object        \n",
      " 12  prod_price      5226 non-null   float64       \n",
      " 13  prod_status     5305 non-null   object        \n",
      " 14  prod_amount     5305 non-null   float64       \n",
      "dtypes: datetime64[ns](1), float64(3), int64(2), object(9)\n",
      "memory usage: 621.8+ KB\n"
     ]
    }
   ],
   "source": [
    "product.info()"
   ]
  },
  {
   "cell_type": "code",
   "execution_count": 8,
   "id": "dae1e427",
   "metadata": {
    "execution": {
     "iopub.execute_input": "2021-11-09T08:53:25.428224Z",
     "iopub.status.busy": "2021-11-09T08:53:25.427187Z",
     "iopub.status.idle": "2021-11-09T08:53:25.431192Z",
     "shell.execute_reply": "2021-11-09T08:53:25.431968Z",
     "shell.execute_reply.started": "2021-11-09T08:42:06.868890Z"
    },
    "papermill": {
     "duration": 0.054811,
     "end_time": "2021-11-09T08:53:25.432230",
     "exception": false,
     "start_time": "2021-11-09T08:53:25.377419",
     "status": "completed"
    },
    "tags": []
   },
   "outputs": [],
   "source": [
    "product['week_day']= product['order_dt'].dt.day_name()"
   ]
  },
  {
   "cell_type": "code",
   "execution_count": 9,
   "id": "2109d86e",
   "metadata": {
    "execution": {
     "iopub.execute_input": "2021-11-09T08:53:25.502738Z",
     "iopub.status.busy": "2021-11-09T08:53:25.502089Z",
     "iopub.status.idle": "2021-11-09T08:53:25.507402Z",
     "shell.execute_reply": "2021-11-09T08:53:25.507914Z",
     "shell.execute_reply.started": "2021-11-09T08:42:06.879046Z"
    },
    "papermill": {
     "duration": 0.039189,
     "end_time": "2021-11-09T08:53:25.508077",
     "exception": false,
     "start_time": "2021-11-09T08:53:25.468888",
     "status": "completed"
    },
    "tags": []
   },
   "outputs": [],
   "source": [
    "product['hour'] = product['order_dt'].dt.hour"
   ]
  },
  {
   "cell_type": "markdown",
   "id": "c7e57598",
   "metadata": {
    "papermill": {
     "duration": 0.02697,
     "end_time": "2021-11-09T08:53:25.562408",
     "exception": false,
     "start_time": "2021-11-09T08:53:25.535438",
     "status": "completed"
    },
    "tags": []
   },
   "source": [
    "### Exploratory Demand Analysis based on Weekdays and Hours"
   ]
  },
  {
   "cell_type": "code",
   "execution_count": 10,
   "id": "2d1d8e97",
   "metadata": {
    "execution": {
     "iopub.execute_input": "2021-11-09T08:53:25.619747Z",
     "iopub.status.busy": "2021-11-09T08:53:25.619109Z",
     "iopub.status.idle": "2021-11-09T08:53:26.449739Z",
     "shell.execute_reply": "2021-11-09T08:53:26.448490Z",
     "shell.execute_reply.started": "2021-11-09T08:42:06.894289Z"
    },
    "papermill": {
     "duration": 0.860366,
     "end_time": "2021-11-09T08:53:26.449901",
     "exception": false,
     "start_time": "2021-11-09T08:53:25.589535",
     "status": "completed"
    },
    "tags": []
   },
   "outputs": [],
   "source": [
    "import matplotlib.pyplot as plt\n",
    "import seaborn as sns\n",
    "sns.set(rc={'figure.figsize':(8,6)})"
   ]
  },
  {
   "cell_type": "code",
   "execution_count": 11,
   "id": "3f489080",
   "metadata": {
    "execution": {
     "iopub.execute_input": "2021-11-09T08:53:26.531849Z",
     "iopub.status.busy": "2021-11-09T08:53:26.522988Z",
     "iopub.status.idle": "2021-11-09T08:53:26.827261Z",
     "shell.execute_reply": "2021-11-09T08:53:26.826767Z",
     "shell.execute_reply.started": "2021-11-09T08:42:07.842602Z"
    },
    "papermill": {
     "duration": 0.349878,
     "end_time": "2021-11-09T08:53:26.827443",
     "exception": false,
     "start_time": "2021-11-09T08:53:26.477565",
     "status": "completed"
    },
    "tags": []
   },
   "outputs": [
    {
     "data": {
      "text/plain": [
       "[Text(0, 0, '1024'),\n",
       " Text(0, 0, '890'),\n",
       " Text(0, 0, '788'),\n",
       " Text(0, 0, '677'),\n",
       " Text(0, 0, '672'),\n",
       " Text(0, 0, '648'),\n",
       " Text(0, 0, '606')]"
      ]
     },
     "execution_count": 11,
     "metadata": {},
     "output_type": "execute_result"
    },
    {
     "data": {
      "image/png": "[encoded data removed]",
      "text/plain": [
       "<Figure size 576x432 with 1 Axes>"
      ]
     },
     "metadata": {},
     "output_type": "display_data"
    }
   ],
   "source": [
    "ax=sns.barplot(x=product['week_day'].value_counts().index,\n",
    "       y=product['week_day'].value_counts(),palette=\"Set3\")\n",
    "ax.bar_label(ax.containers[0])"
   ]
  },
  {
   "cell_type": "markdown",
   "id": "a10308d5",
   "metadata": {
    "papermill": {
     "duration": 0.028304,
     "end_time": "2021-11-09T08:53:26.884553",
     "exception": false,
     "start_time": "2021-11-09T08:53:26.856249",
     "status": "completed"
    },
    "tags": []
   },
   "source": [
    "#### OBSERVATION: Friday records the highest sale by quantity (250) across all weekdays, whereas Sunday records the lowest orders."
   ]
  },
  {
   "cell_type": "code",
   "execution_count": 12,
   "id": "7fb4762b",
   "metadata": {
    "execution": {
     "iopub.execute_input": "2021-11-09T08:53:26.944765Z",
     "iopub.status.busy": "2021-11-09T08:53:26.944133Z",
     "iopub.status.idle": "2021-11-09T08:53:27.134746Z",
     "shell.execute_reply": "2021-11-09T08:53:27.133782Z",
     "shell.execute_reply.started": "2021-11-09T08:42:08.201971Z"
    },
    "papermill": {
     "duration": 0.22184,
     "end_time": "2021-11-09T08:53:27.134996",
     "exception": false,
     "start_time": "2021-11-09T08:53:26.913156",
     "status": "completed"
    },
    "tags": []
   },
   "outputs": [
    {
     "data": {
      "text/plain": [
       "[Text(0, 0, '5305')]"
      ]
     },
     "execution_count": 12,
     "metadata": {},
     "output_type": "execute_result"
    },
    {
     "data": {
      "image/png": "[encoded data removed]",
      "text/plain": [
       "<Figure size 576x432 with 1 Axes>"
      ]
     },
     "metadata": {},
     "output_type": "display_data"
    }
   ],
   "source": [
    "ax=sns.barplot(x=product['hour'].value_counts().index,\n",
    "       y=product['hour'].value_counts())\n",
    "ax.bar_label(ax.containers[0])"
   ]
  },
  {
   "cell_type": "markdown",
   "id": "33863685",
   "metadata": {
    "papermill": {
     "duration": 0.03027,
     "end_time": "2021-11-09T08:53:27.208177",
     "exception": false,
     "start_time": "2021-11-09T08:53:27.177907",
     "status": "completed"
    },
    "tags": []
   },
   "source": [
    "#### OBSERVATION: Maximum order rush identified at 5PM (17 hour) across all days. Whereas the busiest time interval is between 2PM to 6PM."
   ]
  },
  {
   "cell_type": "markdown",
   "id": "4a40dcfa",
   "metadata": {
    "papermill": {
     "duration": 0.030362,
     "end_time": "2021-11-09T08:53:27.270234",
     "exception": false,
     "start_time": "2021-11-09T08:53:27.239872",
     "status": "completed"
    },
    "tags": []
   },
   "source": [
    "### Data Modeling for Demand Classification"
   ]
  },
  {
   "cell_type": "code",
   "execution_count": 13,
   "id": "7263d326",
   "metadata": {
    "execution": {
     "iopub.execute_input": "2021-11-09T08:53:27.331788Z",
     "iopub.status.busy": "2021-11-09T08:53:27.331196Z",
     "iopub.status.idle": "2021-11-09T08:53:27.337496Z",
     "shell.execute_reply": "2021-11-09T08:53:27.337946Z",
     "shell.execute_reply.started": "2021-11-09T08:42:08.404922Z"
    },
    "papermill": {
     "duration": 0.038481,
     "end_time": "2021-11-09T08:53:27.338109",
     "exception": false,
     "start_time": "2021-11-09T08:53:27.299628",
     "status": "completed"
    },
    "tags": []
   },
   "outputs": [],
   "source": [
    "product['Date'] = product['order_dt'].dt.date"
   ]
  },
  {
   "cell_type": "code",
   "execution_count": 14,
   "id": "793be073",
   "metadata": {
    "execution": {
     "iopub.execute_input": "2021-11-09T08:53:27.399148Z",
     "iopub.status.busy": "2021-11-09T08:53:27.398566Z",
     "iopub.status.idle": "2021-11-09T08:53:27.403250Z",
     "shell.execute_reply": "2021-11-09T08:53:27.403764Z",
     "shell.execute_reply.started": "2021-11-09T08:42:08.415619Z"
    },
    "papermill": {
     "duration": 0.036669,
     "end_time": "2021-11-09T08:53:27.403928",
     "exception": false,
     "start_time": "2021-11-09T08:53:27.367259",
     "status": "completed"
    },
    "tags": []
   },
   "outputs": [
    {
     "data": {
      "text/plain": [
       "Index(['store', 'order_id', 'user_id', 'product_id', 'prod_order_qty',\n",
       "       'createdAt', 'order_dt', 'hours', 'category_name', 'catg_status',\n",
       "       'product_name', 'odoo_id', 'prod_price', 'prod_status', 'prod_amount',\n",
       "       'week_day', 'hour', 'Date'],\n",
       "      dtype='object')"
      ]
     },
     "execution_count": 14,
     "metadata": {},
     "output_type": "execute_result"
    }
   ],
   "source": [
    "product.columns"
   ]
  },
  {
   "cell_type": "code",
   "execution_count": 15,
   "id": "29c40fa0",
   "metadata": {
    "execution": {
     "iopub.execute_input": "2021-11-09T08:53:27.465296Z",
     "iopub.status.busy": "2021-11-09T08:53:27.464682Z",
     "iopub.status.idle": "2021-11-09T08:53:27.488609Z",
     "shell.execute_reply": "2021-11-09T08:53:27.487948Z",
     "shell.execute_reply.started": "2021-11-09T08:42:08.429475Z"
    },
    "papermill": {
     "duration": 0.055804,
     "end_time": "2021-11-09T08:53:27.488751",
     "exception": false,
     "start_time": "2021-11-09T08:53:27.432947",
     "status": "completed"
    },
    "tags": []
   },
   "outputs": [],
   "source": [
    "product_grouped = product.groupby(['product_id','product_name','Date']).agg(total_qty=('prod_order_qty','sum')).reset_index()"
   ]
  },
  {
   "cell_type": "code",
   "execution_count": 16,
   "id": "bf1dcda9",
   "metadata": {
    "execution": {
     "iopub.execute_input": "2021-11-09T08:53:27.559066Z",
     "iopub.status.busy": "2021-11-09T08:53:27.558355Z",
     "iopub.status.idle": "2021-11-09T08:53:27.566758Z",
     "shell.execute_reply": "2021-11-09T08:53:27.566178Z",
     "shell.execute_reply.started": "2021-11-09T08:42:08.464159Z"
    },
    "papermill": {
     "duration": 0.049049,
     "end_time": "2021-11-09T08:53:27.566908",
     "exception": false,
     "start_time": "2021-11-09T08:53:27.517859",
     "status": "completed"
    },
    "tags": []
   },
   "outputs": [],
   "source": [
    "# Calulating average and standard deviation\n",
    "\n",
    "stats = product_grouped.groupby('product_id').agg(average=('total_qty','mean'),\n",
    "                                                    sd=('total_qty','std')).reset_index()"
   ]
  },
  {
   "cell_type": "markdown",
   "id": "24ba2004",
   "metadata": {
    "papermill": {
     "duration": 0.028941,
     "end_time": "2021-11-09T08:53:27.625320",
     "exception": false,
     "start_time": "2021-11-09T08:53:27.596379",
     "status": "completed"
    },
    "tags": []
   },
   "source": [
    "#### Calculating Coefficient of Variation (CV²)"
   ]
  },
  {
   "cell_type": "code",
   "execution_count": 17,
   "id": "f1061d47",
   "metadata": {
    "execution": {
     "iopub.execute_input": "2021-11-09T08:53:27.688382Z",
     "iopub.status.busy": "2021-11-09T08:53:27.687436Z",
     "iopub.status.idle": "2021-11-09T08:53:27.701706Z",
     "shell.execute_reply": "2021-11-09T08:53:27.702179Z",
     "shell.execute_reply.started": "2021-11-09T08:42:08.482985Z"
    },
    "papermill": {
     "duration": 0.047541,
     "end_time": "2021-11-09T08:53:27.702359",
     "exception": false,
     "start_time": "2021-11-09T08:53:27.654818",
     "status": "completed"
    },
    "tags": []
   },
   "outputs": [
    {
     "data": {
      "text/html": [
       "<div>\n",
       "<style scoped>\n",
       "    .dataframe tbody tr th:only-of-type {\n",
       "        vertical-align: middle;\n",
       "    }\n",
       "\n",
       "    .dataframe tbody tr th {\n",
       "        vertical-align: top;\n",
       "    }\n",
       "\n",
       "    .dataframe thead th {\n",
       "        text-align: right;\n",
       "    }\n",
       "</style>\n",
       "<table border=\"1\" class=\"dataframe\">\n",
       "  <thead>\n",
       "    <tr style=\"text-align: right;\">\n",
       "      <th></th>\n",
       "      <th>product_id</th>\n",
       "      <th>average</th>\n",
       "      <th>sd</th>\n",
       "      <th>cv_sqr</th>\n",
       "    </tr>\n",
       "  </thead>\n",
       "  <tbody>\n",
       "    <tr>\n",
       "      <th>628</th>\n",
       "      <td>cba2ce2f-403b-4c40-94c6-45f2d420c388</td>\n",
       "      <td>1.000000</td>\n",
       "      <td>0.000000</td>\n",
       "      <td>0.000000</td>\n",
       "    </tr>\n",
       "    <tr>\n",
       "      <th>96</th>\n",
       "      <td>2034f1d7-03ec-4b42-9a01-58e3bcc40dee</td>\n",
       "      <td>1.857143</td>\n",
       "      <td>1.573592</td>\n",
       "      <td>0.717949</td>\n",
       "    </tr>\n",
       "    <tr>\n",
       "      <th>274</th>\n",
       "      <td>586a3dbf-cf6f-4a8e-921c-b8e36c003ed9</td>\n",
       "      <td>1.428571</td>\n",
       "      <td>0.786796</td>\n",
       "      <td>0.303333</td>\n",
       "    </tr>\n",
       "    <tr>\n",
       "      <th>366</th>\n",
       "      <td>7917e537-9e9a-4616-be4e-5f73e1351a7a</td>\n",
       "      <td>1.333333</td>\n",
       "      <td>0.500000</td>\n",
       "      <td>0.140625</td>\n",
       "    </tr>\n",
       "    <tr>\n",
       "      <th>698</th>\n",
       "      <td>e3e430b6-6476-487c-b61e-dff0a173a62a</td>\n",
       "      <td>1.000000</td>\n",
       "      <td>NaN</td>\n",
       "      <td>NaN</td>\n",
       "    </tr>\n",
       "  </tbody>\n",
       "</table>\n",
       "</div>"
      ],
      "text/plain": [
       "                               product_id   average        sd    cv_sqr\n",
       "628  cba2ce2f-403b-4c40-94c6-45f2d420c388  1.000000  0.000000  0.000000\n",
       "96   2034f1d7-03ec-4b42-9a01-58e3bcc40dee  1.857143  1.573592  0.717949\n",
       "274  586a3dbf-cf6f-4a8e-921c-b8e36c003ed9  1.428571  0.786796  0.303333\n",
       "366  7917e537-9e9a-4616-be4e-5f73e1351a7a  1.333333  0.500000  0.140625\n",
       "698  e3e430b6-6476-487c-b61e-dff0a173a62a  1.000000       NaN       NaN"
      ]
     },
     "execution_count": 17,
     "metadata": {},
     "output_type": "execute_result"
    }
   ],
   "source": [
    "stats['cv_sqr'] = (stats['sd']/stats['average'])**2\n",
    "stats.sample(5)"
   ]
  },
  {
   "cell_type": "markdown",
   "id": "83ae5021",
   "metadata": {
    "papermill": {
     "duration": 0.029542,
     "end_time": "2021-11-09T08:53:27.761411",
     "exception": false,
     "start_time": "2021-11-09T08:53:27.731869",
     "status": "completed"
    },
    "tags": []
   },
   "source": [
    "#### Modeling for Average Demand Interval(ADI)"
   ]
  },
  {
   "cell_type": "code",
   "execution_count": 18,
   "id": "63a9e814",
   "metadata": {
    "execution": {
     "iopub.execute_input": "2021-11-09T08:53:27.830172Z",
     "iopub.status.busy": "2021-11-09T08:53:27.829284Z",
     "iopub.status.idle": "2021-11-09T08:53:27.840248Z",
     "shell.execute_reply": "2021-11-09T08:53:27.840760Z",
     "shell.execute_reply.started": "2021-11-09T08:42:08.504449Z"
    },
    "papermill": {
     "duration": 0.049527,
     "end_time": "2021-11-09T08:53:27.840939",
     "exception": false,
     "start_time": "2021-11-09T08:53:27.791412",
     "status": "completed"
    },
    "tags": []
   },
   "outputs": [],
   "source": [
    "prod_by_date= product.groupby(['product_id','Date']).agg(count=('product_id','count')).reset_index()"
   ]
  },
  {
   "cell_type": "code",
   "execution_count": 19,
   "id": "ed54a8f8",
   "metadata": {
    "execution": {
     "iopub.execute_input": "2021-11-09T08:53:27.903704Z",
     "iopub.status.busy": "2021-11-09T08:53:27.902796Z",
     "iopub.status.idle": "2021-11-09T08:53:27.907890Z",
     "shell.execute_reply": "2021-11-09T08:53:27.908278Z",
     "shell.execute_reply.started": "2021-11-09T08:42:08.530181Z"
    },
    "papermill": {
     "duration": 0.038283,
     "end_time": "2021-11-09T08:53:27.908485",
     "exception": false,
     "start_time": "2021-11-09T08:53:27.870202",
     "status": "completed"
    },
    "tags": []
   },
   "outputs": [],
   "source": [
    "prod_skus= prod_by_date.product_id.value_counts()"
   ]
  },
  {
   "cell_type": "code",
   "execution_count": 20,
   "id": "7025f8a1",
   "metadata": {
    "execution": {
     "iopub.execute_input": "2021-11-09T08:53:27.972976Z",
     "iopub.status.busy": "2021-11-09T08:53:27.972317Z",
     "iopub.status.idle": "2021-11-09T08:53:27.975233Z",
     "shell.execute_reply": "2021-11-09T08:53:27.974758Z",
     "shell.execute_reply.started": "2021-11-09T08:42:08.537673Z"
    },
    "papermill": {
     "duration": 0.037073,
     "end_time": "2021-11-09T08:53:27.975373",
     "exception": false,
     "start_time": "2021-11-09T08:53:27.938300",
     "status": "completed"
    },
    "tags": []
   },
   "outputs": [],
   "source": [
    "new_df= pd.DataFrame()"
   ]
  },
  {
   "cell_type": "code",
   "execution_count": 21,
   "id": "25f40eb2",
   "metadata": {
    "execution": {
     "iopub.execute_input": "2021-11-09T08:53:28.042101Z",
     "iopub.status.busy": "2021-11-09T08:53:28.041499Z",
     "iopub.status.idle": "2021-11-09T08:53:29.618351Z",
     "shell.execute_reply": "2021-11-09T08:53:29.617845Z",
     "shell.execute_reply.started": "2021-11-09T08:42:08.551034Z"
    },
    "papermill": {
     "duration": 1.613386,
     "end_time": "2021-11-09T08:53:29.618532",
     "exception": false,
     "start_time": "2021-11-09T08:53:28.005146",
     "status": "completed"
    },
    "tags": []
   },
   "outputs": [
    {
     "name": "stderr",
     "output_type": "stream",
     "text": [
      "/opt/conda/lib/python3.7/site-packages/ipykernel_launcher.py:3: SettingWithCopyWarning: \n",
      "A value is trying to be set on a copy of a slice from a DataFrame.\n",
      "Try using .loc[row_indexer,col_indexer] = value instead\n",
      "\n",
      "See the caveats in the documentation: https://pandas.pydata.org/pandas-docs/stable/user_guide/indexing.html#returning-a-view-versus-a-copy\n",
      "  This is separate from the ipykernel package so we can avoid doing imports until\n"
     ]
    }
   ],
   "source": [
    "for i in range(len(prod_skus.index)):\n",
    "    a= prod_by_date[prod_by_date['product_id']==prod_skus.index[i]]\n",
    "    a['previous_date']=a['Date'].shift(1)\n",
    "    new_df=pd.concat([new_df,a],axis=0)"
   ]
  },
  {
   "cell_type": "code",
   "execution_count": 22,
   "id": "eb644e8b",
   "metadata": {
    "execution": {
     "iopub.execute_input": "2021-11-09T08:53:29.691339Z",
     "iopub.status.busy": "2021-11-09T08:53:29.690565Z",
     "iopub.status.idle": "2021-11-09T08:53:29.693554Z",
     "shell.execute_reply": "2021-11-09T08:53:29.693991Z",
     "shell.execute_reply.started": "2021-11-09T08:42:10.713365Z"
    },
    "papermill": {
     "duration": 0.04529,
     "end_time": "2021-11-09T08:53:29.694155",
     "exception": false,
     "start_time": "2021-11-09T08:53:29.648865",
     "status": "completed"
    },
    "tags": []
   },
   "outputs": [
    {
     "name": "stdout",
     "output_type": "stream",
     "text": [
      "<class 'pandas.core.frame.DataFrame'>\n",
      "Int64Index: 4104 entries, 3295 to 0\n",
      "Data columns (total 4 columns):\n",
      " #   Column         Non-Null Count  Dtype \n",
      "---  ------         --------------  ----- \n",
      " 0   product_id     4104 non-null   object\n",
      " 1   Date           4104 non-null   object\n",
      " 2   count          4104 non-null   int64 \n",
      " 3   previous_date  3311 non-null   object\n",
      "dtypes: int64(1), object(3)\n",
      "memory usage: 160.3+ KB\n"
     ]
    }
   ],
   "source": [
    "new_df.info()"
   ]
  },
  {
   "cell_type": "code",
   "execution_count": 23,
   "id": "635e3685",
   "metadata": {
    "execution": {
     "iopub.execute_input": "2021-11-09T08:53:29.758970Z",
     "iopub.status.busy": "2021-11-09T08:53:29.758320Z",
     "iopub.status.idle": "2021-11-09T08:53:29.779414Z",
     "shell.execute_reply": "2021-11-09T08:53:29.779902Z",
     "shell.execute_reply.started": "2021-11-09T08:42:10.727239Z"
    },
    "papermill": {
     "duration": 0.055767,
     "end_time": "2021-11-09T08:53:29.780072",
     "exception": false,
     "start_time": "2021-11-09T08:53:29.724305",
     "status": "completed"
    },
    "tags": []
   },
   "outputs": [
    {
     "data": {
      "text/html": [
       "<div>\n",
       "<style scoped>\n",
       "    .dataframe tbody tr th:only-of-type {\n",
       "        vertical-align: middle;\n",
       "    }\n",
       "\n",
       "    .dataframe tbody tr th {\n",
       "        vertical-align: top;\n",
       "    }\n",
       "\n",
       "    .dataframe thead th {\n",
       "        text-align: right;\n",
       "    }\n",
       "</style>\n",
       "<table border=\"1\" class=\"dataframe\">\n",
       "  <thead>\n",
       "    <tr style=\"text-align: right;\">\n",
       "      <th></th>\n",
       "      <th>product_id</th>\n",
       "      <th>Date</th>\n",
       "      <th>count</th>\n",
       "      <th>previous_date</th>\n",
       "      <th>duration</th>\n",
       "    </tr>\n",
       "  </thead>\n",
       "  <tbody>\n",
       "    <tr>\n",
       "      <th>2901</th>\n",
       "      <td>b6a0c551-eb41-480f-b1ec-2e3768c64aaf</td>\n",
       "      <td>2021-09-07</td>\n",
       "      <td>1</td>\n",
       "      <td>NaN</td>\n",
       "      <td>NaT</td>\n",
       "    </tr>\n",
       "    <tr>\n",
       "      <th>1193</th>\n",
       "      <td>43e04db5-cc28-45d1-970f-505d3116b303</td>\n",
       "      <td>2021-10-08</td>\n",
       "      <td>2</td>\n",
       "      <td>2021-10-07</td>\n",
       "      <td>1 days</td>\n",
       "    </tr>\n",
       "    <tr>\n",
       "      <th>1537</th>\n",
       "      <td>61411171-ad87-4ed8-9bfd-e1ea6dccf896</td>\n",
       "      <td>2021-09-14</td>\n",
       "      <td>1</td>\n",
       "      <td>NaN</td>\n",
       "      <td>NaT</td>\n",
       "    </tr>\n",
       "    <tr>\n",
       "      <th>109</th>\n",
       "      <td>0630160d-4e0e-41a7-b21f-e878e4f6c14c</td>\n",
       "      <td>2021-11-01</td>\n",
       "      <td>1</td>\n",
       "      <td>2021-10-27</td>\n",
       "      <td>5 days</td>\n",
       "    </tr>\n",
       "    <tr>\n",
       "      <th>78</th>\n",
       "      <td>05072bd4-0f58-4bc4-a993-d2e50b3fcd8f</td>\n",
       "      <td>2021-10-20</td>\n",
       "      <td>1</td>\n",
       "      <td>2021-10-15</td>\n",
       "      <td>5 days</td>\n",
       "    </tr>\n",
       "  </tbody>\n",
       "</table>\n",
       "</div>"
      ],
      "text/plain": [
       "                                product_id        Date  count previous_date  \\\n",
       "2901  b6a0c551-eb41-480f-b1ec-2e3768c64aaf  2021-09-07      1           NaN   \n",
       "1193  43e04db5-cc28-45d1-970f-505d3116b303  2021-10-08      2    2021-10-07   \n",
       "1537  61411171-ad87-4ed8-9bfd-e1ea6dccf896  2021-09-14      1           NaN   \n",
       "109   0630160d-4e0e-41a7-b21f-e878e4f6c14c  2021-11-01      1    2021-10-27   \n",
       "78    05072bd4-0f58-4bc4-a993-d2e50b3fcd8f  2021-10-20      1    2021-10-15   \n",
       "\n",
       "     duration  \n",
       "2901      NaT  \n",
       "1193   1 days  \n",
       "1537      NaT  \n",
       "109    5 days  \n",
       "78     5 days  "
      ]
     },
     "execution_count": 23,
     "metadata": {},
     "output_type": "execute_result"
    }
   ],
   "source": [
    "new_df['duration']=new_df['Date']- new_df['previous_date']\n",
    "new_df.sample(5)"
   ]
  },
  {
   "cell_type": "code",
   "execution_count": 24,
   "id": "00d70f79",
   "metadata": {
    "execution": {
     "iopub.execute_input": "2021-11-09T08:53:29.844620Z",
     "iopub.status.busy": "2021-11-09T08:53:29.843991Z",
     "iopub.status.idle": "2021-11-09T08:53:29.880445Z",
     "shell.execute_reply": "2021-11-09T08:53:29.880993Z",
     "shell.execute_reply.started": "2021-11-09T08:42:10.765303Z"
    },
    "papermill": {
     "duration": 0.070478,
     "end_time": "2021-11-09T08:53:29.881164",
     "exception": false,
     "start_time": "2021-11-09T08:53:29.810686",
     "status": "completed"
    },
    "tags": []
   },
   "outputs": [],
   "source": [
    "new_df['Duration']=new_df['duration'].astype(str).str.replace('days','')"
   ]
  },
  {
   "cell_type": "code",
   "execution_count": 25,
   "id": "b7a29089",
   "metadata": {
    "execution": {
     "iopub.execute_input": "2021-11-09T08:53:29.951798Z",
     "iopub.status.busy": "2021-11-09T08:53:29.951158Z",
     "iopub.status.idle": "2021-11-09T08:53:29.952888Z",
     "shell.execute_reply": "2021-11-09T08:53:29.953356Z",
     "shell.execute_reply.started": "2021-11-09T08:42:10.825250Z"
    },
    "papermill": {
     "duration": 0.041513,
     "end_time": "2021-11-09T08:53:29.953537",
     "exception": false,
     "start_time": "2021-11-09T08:53:29.912024",
     "status": "completed"
    },
    "tags": []
   },
   "outputs": [],
   "source": [
    "new_df['Duration']=pd.to_numeric(new_df['Duration'],errors='coerce')"
   ]
  },
  {
   "cell_type": "markdown",
   "id": "51cdc95b",
   "metadata": {
    "papermill": {
     "duration": 0.030821,
     "end_time": "2021-11-09T08:53:30.015182",
     "exception": false,
     "start_time": "2021-11-09T08:53:29.984361",
     "status": "completed"
    },
    "tags": []
   },
   "source": [
    "#### Calculating ADI"
   ]
  },
  {
   "cell_type": "code",
   "execution_count": 26,
   "id": "afc24268",
   "metadata": {
    "execution": {
     "iopub.execute_input": "2021-11-09T08:53:30.082775Z",
     "iopub.status.busy": "2021-11-09T08:53:30.082131Z",
     "iopub.status.idle": "2021-11-09T08:53:30.098273Z",
     "shell.execute_reply": "2021-11-09T08:53:30.098807Z",
     "shell.execute_reply.started": "2021-11-09T08:42:10.840996Z"
    },
    "papermill": {
     "duration": 0.051108,
     "end_time": "2021-11-09T08:53:30.098979",
     "exception": false,
     "start_time": "2021-11-09T08:53:30.047871",
     "status": "completed"
    },
    "tags": []
   },
   "outputs": [
    {
     "data": {
      "text/html": [
       "<div>\n",
       "<style scoped>\n",
       "    .dataframe tbody tr th:only-of-type {\n",
       "        vertical-align: middle;\n",
       "    }\n",
       "\n",
       "    .dataframe tbody tr th {\n",
       "        vertical-align: top;\n",
       "    }\n",
       "\n",
       "    .dataframe thead th {\n",
       "        text-align: right;\n",
       "    }\n",
       "</style>\n",
       "<table border=\"1\" class=\"dataframe\">\n",
       "  <thead>\n",
       "    <tr style=\"text-align: right;\">\n",
       "      <th></th>\n",
       "      <th>product_id</th>\n",
       "      <th>ADI</th>\n",
       "    </tr>\n",
       "  </thead>\n",
       "  <tbody>\n",
       "    <tr>\n",
       "      <th>511</th>\n",
       "      <td>a6eab7cd-1f68-4fd1-adc6-5413da0cbef9</td>\n",
       "      <td>9.50</td>\n",
       "    </tr>\n",
       "    <tr>\n",
       "      <th>127</th>\n",
       "      <td>2a742384-fe35-4756-8eda-3242aadc5618</td>\n",
       "      <td>11.00</td>\n",
       "    </tr>\n",
       "    <tr>\n",
       "      <th>455</th>\n",
       "      <td>9467735b-c47d-4655-b29f-634365bf408f</td>\n",
       "      <td>9.25</td>\n",
       "    </tr>\n",
       "    <tr>\n",
       "      <th>108</th>\n",
       "      <td>24c3de5a-c079-4da0-ad94-2acfd294d1a1</td>\n",
       "      <td>1.00</td>\n",
       "    </tr>\n",
       "    <tr>\n",
       "      <th>140</th>\n",
       "      <td>2e89668b-61e9-47dd-aeb3-e10993bebb1b</td>\n",
       "      <td>3.20</td>\n",
       "    </tr>\n",
       "  </tbody>\n",
       "</table>\n",
       "</div>"
      ],
      "text/plain": [
       "                               product_id    ADI\n",
       "511  a6eab7cd-1f68-4fd1-adc6-5413da0cbef9   9.50\n",
       "127  2a742384-fe35-4756-8eda-3242aadc5618  11.00\n",
       "455  9467735b-c47d-4655-b29f-634365bf408f   9.25\n",
       "108  24c3de5a-c079-4da0-ad94-2acfd294d1a1   1.00\n",
       "140  2e89668b-61e9-47dd-aeb3-e10993bebb1b   3.20"
      ]
     },
     "execution_count": 26,
     "metadata": {},
     "output_type": "execute_result"
    }
   ],
   "source": [
    "ADI = new_df.groupby('product_id').agg(ADI = ('Duration','mean')).reset_index()\n",
    "ADI.sample(5)"
   ]
  },
  {
   "cell_type": "code",
   "execution_count": 27,
   "id": "858b6654",
   "metadata": {
    "execution": {
     "iopub.execute_input": "2021-11-09T08:53:30.164740Z",
     "iopub.status.busy": "2021-11-09T08:53:30.164118Z",
     "iopub.status.idle": "2021-11-09T08:53:30.177407Z",
     "shell.execute_reply": "2021-11-09T08:53:30.176730Z",
     "shell.execute_reply.started": "2021-11-09T08:42:10.863410Z"
    },
    "papermill": {
     "duration": 0.047509,
     "end_time": "2021-11-09T08:53:30.177563",
     "exception": false,
     "start_time": "2021-11-09T08:53:30.130054",
     "status": "completed"
    },
    "tags": []
   },
   "outputs": [],
   "source": [
    "## Joining CV_sqr and ADI results\n",
    "\n",
    "adi_cv=pd.merge(ADI,stats, on='product_id')"
   ]
  },
  {
   "cell_type": "code",
   "execution_count": 28,
   "id": "574bac1a",
   "metadata": {
    "execution": {
     "iopub.execute_input": "2021-11-09T08:53:30.251621Z",
     "iopub.status.busy": "2021-11-09T08:53:30.242879Z",
     "iopub.status.idle": "2021-11-09T08:53:30.253819Z",
     "shell.execute_reply": "2021-11-09T08:53:30.254332Z",
     "shell.execute_reply.started": "2021-11-09T08:42:10.877898Z"
    },
    "papermill": {
     "duration": 0.045751,
     "end_time": "2021-11-09T08:53:30.254524",
     "exception": false,
     "start_time": "2021-11-09T08:53:30.208773",
     "status": "completed"
    },
    "tags": []
   },
   "outputs": [
    {
     "data": {
      "text/html": [
       "<div>\n",
       "<style scoped>\n",
       "    .dataframe tbody tr th:only-of-type {\n",
       "        vertical-align: middle;\n",
       "    }\n",
       "\n",
       "    .dataframe tbody tr th {\n",
       "        vertical-align: top;\n",
       "    }\n",
       "\n",
       "    .dataframe thead th {\n",
       "        text-align: right;\n",
       "    }\n",
       "</style>\n",
       "<table border=\"1\" class=\"dataframe\">\n",
       "  <thead>\n",
       "    <tr style=\"text-align: right;\">\n",
       "      <th></th>\n",
       "      <th>product_id</th>\n",
       "      <th>ADI</th>\n",
       "      <th>average</th>\n",
       "      <th>sd</th>\n",
       "      <th>cv_sqr</th>\n",
       "    </tr>\n",
       "  </thead>\n",
       "  <tbody>\n",
       "    <tr>\n",
       "      <th>649</th>\n",
       "      <td>d2a44930-6ef5-4bbb-b802-1f832a2ac0d7</td>\n",
       "      <td>4.600000</td>\n",
       "      <td>1.5000</td>\n",
       "      <td>0.836660</td>\n",
       "      <td>0.311111</td>\n",
       "    </tr>\n",
       "    <tr>\n",
       "      <th>641</th>\n",
       "      <td>cff0cc3b-78ca-4eda-b87c-1d19b42763b9</td>\n",
       "      <td>NaN</td>\n",
       "      <td>12.0000</td>\n",
       "      <td>NaN</td>\n",
       "      <td>NaN</td>\n",
       "    </tr>\n",
       "    <tr>\n",
       "      <th>515</th>\n",
       "      <td>a856fbc4-0319-4d99-9d91-136138f41a44</td>\n",
       "      <td>6.000000</td>\n",
       "      <td>1.0000</td>\n",
       "      <td>0.000000</td>\n",
       "      <td>0.000000</td>\n",
       "    </tr>\n",
       "    <tr>\n",
       "      <th>1</th>\n",
       "      <td>001c1708-971c-4be9-957d-01f62cde625f</td>\n",
       "      <td>10.333333</td>\n",
       "      <td>1.0000</td>\n",
       "      <td>0.000000</td>\n",
       "      <td>0.000000</td>\n",
       "    </tr>\n",
       "    <tr>\n",
       "      <th>706</th>\n",
       "      <td>e7f55304-c7f7-4a0f-a02b-cc1c9c6dc55a</td>\n",
       "      <td>3.266667</td>\n",
       "      <td>1.8125</td>\n",
       "      <td>2.007278</td>\n",
       "      <td>1.226476</td>\n",
       "    </tr>\n",
       "  </tbody>\n",
       "</table>\n",
       "</div>"
      ],
      "text/plain": [
       "                               product_id        ADI  average        sd  \\\n",
       "649  d2a44930-6ef5-4bbb-b802-1f832a2ac0d7   4.600000   1.5000  0.836660   \n",
       "641  cff0cc3b-78ca-4eda-b87c-1d19b42763b9        NaN  12.0000       NaN   \n",
       "515  a856fbc4-0319-4d99-9d91-136138f41a44   6.000000   1.0000  0.000000   \n",
       "1    001c1708-971c-4be9-957d-01f62cde625f  10.333333   1.0000  0.000000   \n",
       "706  e7f55304-c7f7-4a0f-a02b-cc1c9c6dc55a   3.266667   1.8125  2.007278   \n",
       "\n",
       "       cv_sqr  \n",
       "649  0.311111  \n",
       "641       NaN  \n",
       "515  0.000000  \n",
       "1    0.000000  \n",
       "706  1.226476  "
      ]
     },
     "execution_count": 28,
     "metadata": {},
     "output_type": "execute_result"
    }
   ],
   "source": [
    "adi_cv.sample(5)"
   ]
  },
  {
   "cell_type": "markdown",
   "id": "0b9d5905",
   "metadata": {
    "papermill": {
     "duration": 0.031102,
     "end_time": "2021-11-09T08:53:30.316843",
     "exception": false,
     "start_time": "2021-11-09T08:53:30.285741",
     "status": "completed"
    },
    "tags": []
   },
   "source": [
    "#### Classifying Product demand based on Forecastability"
   ]
  },
  {
   "cell_type": "code",
   "execution_count": 29,
   "id": "55ba745b",
   "metadata": {
    "execution": {
     "iopub.execute_input": "2021-11-09T08:53:30.385039Z",
     "iopub.status.busy": "2021-11-09T08:53:30.384371Z",
     "iopub.status.idle": "2021-11-09T08:53:30.390890Z",
     "shell.execute_reply": "2021-11-09T08:53:30.390354Z",
     "shell.execute_reply.started": "2021-11-09T08:42:10.895310Z"
    },
    "papermill": {
     "duration": 0.041651,
     "end_time": "2021-11-09T08:53:30.391030",
     "exception": false,
     "start_time": "2021-11-09T08:53:30.349379",
     "status": "completed"
    },
    "tags": []
   },
   "outputs": [],
   "source": [
    "## Defining a fuction for classification\n",
    "\n",
    "def category(df):\n",
    "    a=0\n",
    "    \n",
    "    if((df['ADI']<1.32) & (df['cv_sqr']<0.49)):\n",
    "        a='Smooth'\n",
    "    if((df['ADI']>=1.32) & (df['cv_sqr']>=0.49)):  \n",
    "        a='Lumpy'\n",
    "    if((df['ADI']<1.32) & (df['cv_sqr']>=0.49)):\n",
    "        a='Erratic'\n",
    "    if((df['ADI']>=1.32) & (df['cv_sqr']<0.49)):\n",
    "        a='Intermittent'\n",
    "    return a"
   ]
  },
  {
   "cell_type": "code",
   "execution_count": 30,
   "id": "d6319b34",
   "metadata": {
    "execution": {
     "iopub.execute_input": "2021-11-09T08:53:30.484575Z",
     "iopub.status.busy": "2021-11-09T08:53:30.483906Z",
     "iopub.status.idle": "2021-11-09T08:53:30.489128Z",
     "shell.execute_reply": "2021-11-09T08:53:30.488618Z",
     "shell.execute_reply.started": "2021-11-09T08:42:10.904586Z"
    },
    "papermill": {
     "duration": 0.066744,
     "end_time": "2021-11-09T08:53:30.489309",
     "exception": false,
     "start_time": "2021-11-09T08:53:30.422565",
     "status": "completed"
    },
    "tags": []
   },
   "outputs": [],
   "source": [
    "## classifying products based on their forcastability\n",
    "\n",
    "adi_cv['category']=adi_cv.apply(category,axis=1)"
   ]
  },
  {
   "cell_type": "code",
   "execution_count": 31,
   "id": "c9566a93",
   "metadata": {
    "execution": {
     "iopub.execute_input": "2021-11-09T08:53:30.555276Z",
     "iopub.status.busy": "2021-11-09T08:53:30.554683Z",
     "iopub.status.idle": "2021-11-09T08:53:30.566977Z",
     "shell.execute_reply": "2021-11-09T08:53:30.567515Z",
     "shell.execute_reply.started": "2021-11-09T08:42:10.960365Z"
    },
    "papermill": {
     "duration": 0.046966,
     "end_time": "2021-11-09T08:53:30.567691",
     "exception": false,
     "start_time": "2021-11-09T08:53:30.520725",
     "status": "completed"
    },
    "tags": []
   },
   "outputs": [
    {
     "data": {
      "text/html": [
       "<div>\n",
       "<style scoped>\n",
       "    .dataframe tbody tr th:only-of-type {\n",
       "        vertical-align: middle;\n",
       "    }\n",
       "\n",
       "    .dataframe tbody tr th {\n",
       "        vertical-align: top;\n",
       "    }\n",
       "\n",
       "    .dataframe thead th {\n",
       "        text-align: right;\n",
       "    }\n",
       "</style>\n",
       "<table border=\"1\" class=\"dataframe\">\n",
       "  <thead>\n",
       "    <tr style=\"text-align: right;\">\n",
       "      <th></th>\n",
       "      <th>product_id</th>\n",
       "      <th>ADI</th>\n",
       "      <th>average</th>\n",
       "      <th>sd</th>\n",
       "      <th>cv_sqr</th>\n",
       "      <th>category</th>\n",
       "    </tr>\n",
       "  </thead>\n",
       "  <tbody>\n",
       "    <tr>\n",
       "      <th>707</th>\n",
       "      <td>e7f63831-5945-4eec-821c-449f127a7d26</td>\n",
       "      <td>27.5</td>\n",
       "      <td>1.0</td>\n",
       "      <td>0.0</td>\n",
       "      <td>0.0</td>\n",
       "      <td>Intermittent</td>\n",
       "    </tr>\n",
       "    <tr>\n",
       "      <th>10</th>\n",
       "      <td>04101f3b-c399-42fb-987d-5c4eb8933879</td>\n",
       "      <td>9.0</td>\n",
       "      <td>1.0</td>\n",
       "      <td>0.0</td>\n",
       "      <td>0.0</td>\n",
       "      <td>Intermittent</td>\n",
       "    </tr>\n",
       "    <tr>\n",
       "      <th>781</th>\n",
       "      <td>fde2bd59-8a19-4c04-a960-9ae87ada6ec5</td>\n",
       "      <td>10.0</td>\n",
       "      <td>1.0</td>\n",
       "      <td>0.0</td>\n",
       "      <td>0.0</td>\n",
       "      <td>Intermittent</td>\n",
       "    </tr>\n",
       "    <tr>\n",
       "      <th>546</th>\n",
       "      <td>b1657019-3fe3-411d-ac57-8c45b76cb3f9</td>\n",
       "      <td>NaN</td>\n",
       "      <td>1.0</td>\n",
       "      <td>NaN</td>\n",
       "      <td>NaN</td>\n",
       "      <td>0</td>\n",
       "    </tr>\n",
       "    <tr>\n",
       "      <th>314</th>\n",
       "      <td>67ec0659-42a7-41ab-a521-ba09ab74aebd</td>\n",
       "      <td>8.0</td>\n",
       "      <td>1.0</td>\n",
       "      <td>0.0</td>\n",
       "      <td>0.0</td>\n",
       "      <td>Intermittent</td>\n",
       "    </tr>\n",
       "  </tbody>\n",
       "</table>\n",
       "</div>"
      ],
      "text/plain": [
       "                               product_id   ADI  average   sd  cv_sqr  \\\n",
       "707  e7f63831-5945-4eec-821c-449f127a7d26  27.5      1.0  0.0     0.0   \n",
       "10   04101f3b-c399-42fb-987d-5c4eb8933879   9.0      1.0  0.0     0.0   \n",
       "781  fde2bd59-8a19-4c04-a960-9ae87ada6ec5  10.0      1.0  0.0     0.0   \n",
       "546  b1657019-3fe3-411d-ac57-8c45b76cb3f9   NaN      1.0  NaN     NaN   \n",
       "314  67ec0659-42a7-41ab-a521-ba09ab74aebd   8.0      1.0  0.0     0.0   \n",
       "\n",
       "         category  \n",
       "707  Intermittent  \n",
       "10   Intermittent  \n",
       "781  Intermittent  \n",
       "546             0  \n",
       "314  Intermittent  "
      ]
     },
     "execution_count": 31,
     "metadata": {},
     "output_type": "execute_result"
    }
   ],
   "source": [
    "adi_cv.sample(5)"
   ]
  },
  {
   "cell_type": "code",
   "execution_count": null,
   "id": "87685f3b",
   "metadata": {
    "execution": {
     "iopub.execute_input": "2021-11-09T08:42:10.977259Z",
     "iopub.status.busy": "2021-11-09T08:42:10.976999Z",
     "iopub.status.idle": "2021-11-09T08:42:10.982807Z",
     "shell.execute_reply": "2021-11-09T08:42:10.981837Z",
     "shell.execute_reply.started": "2021-11-09T08:42:10.977230Z"
    },
    "papermill": {
     "duration": 0.031962,
     "end_time": "2021-11-09T08:53:30.631879",
     "exception": false,
     "start_time": "2021-11-09T08:53:30.599917",
     "status": "completed"
    },
    "tags": []
   },
   "outputs": [],
   "source": []
  },
  {
   "cell_type": "markdown",
   "id": "0d7417cb",
   "metadata": {
    "papermill": {
     "duration": 0.031475,
     "end_time": "2021-11-09T08:53:30.695187",
     "exception": false,
     "start_time": "2021-11-09T08:53:30.663712",
     "status": "completed"
    },
    "tags": []
   },
   "source": [
    "#### Results transferred to CSV file"
   ]
  },
  {
   "cell_type": "code",
   "execution_count": 32,
   "id": "680773ef",
   "metadata": {
    "execution": {
     "iopub.execute_input": "2021-11-09T08:53:30.761589Z",
     "iopub.status.busy": "2021-11-09T08:53:30.760985Z",
     "iopub.status.idle": "2021-11-09T08:53:30.771004Z",
     "shell.execute_reply": "2021-11-09T08:53:30.771506Z",
     "shell.execute_reply.started": "2021-11-09T08:42:19.995184Z"
    },
    "papermill": {
     "duration": 0.044935,
     "end_time": "2021-11-09T08:53:30.771680",
     "exception": false,
     "start_time": "2021-11-09T08:53:30.726745",
     "status": "completed"
    },
    "tags": []
   },
   "outputs": [],
   "source": [
    "adi_cv.to_csv('adi_cv.csv',index=False)"
   ]
  },
  {
   "cell_type": "code",
   "execution_count": 33,
   "id": "5ab81bbd",
   "metadata": {
    "execution": {
     "iopub.execute_input": "2021-11-09T08:53:30.839690Z",
     "iopub.status.busy": "2021-11-09T08:53:30.839037Z",
     "iopub.status.idle": "2021-11-09T08:53:30.845580Z",
     "shell.execute_reply": "2021-11-09T08:53:30.846105Z",
     "shell.execute_reply.started": "2021-11-09T08:49:16.594368Z"
    },
    "papermill": {
     "duration": 0.042521,
     "end_time": "2021-11-09T08:53:30.846270",
     "exception": false,
     "start_time": "2021-11-09T08:53:30.803749",
     "status": "completed"
    },
    "tags": []
   },
   "outputs": [
    {
     "data": {
      "text/plain": [
       "Intermittent    480\n",
       "0               223\n",
       "Lumpy            70\n",
       "Smooth           18\n",
       "Erratic           2\n",
       "Name: category, dtype: int64"
      ]
     },
     "execution_count": 33,
     "metadata": {},
     "output_type": "execute_result"
    }
   ],
   "source": [
    "adi_cv['category'].value_counts()"
   ]
  },
  {
   "cell_type": "markdown",
   "id": "6aea6fa6",
   "metadata": {
    "papermill": {
     "duration": 0.031942,
     "end_time": "2021-11-09T08:53:30.910844",
     "exception": false,
     "start_time": "2021-11-09T08:53:30.878902",
     "status": "completed"
    },
    "tags": []
   },
   "source": [
    "#### Visualizing the demand"
   ]
  },
  {
   "cell_type": "code",
   "execution_count": 34,
   "id": "3ef48cea",
   "metadata": {
    "execution": {
     "iopub.execute_input": "2021-11-09T08:53:30.977086Z",
     "iopub.status.busy": "2021-11-09T08:53:30.976504Z",
     "iopub.status.idle": "2021-11-09T08:53:31.469964Z",
     "shell.execute_reply": "2021-11-09T08:53:31.469460Z",
     "shell.execute_reply.started": "2021-11-09T08:49:44.135351Z"
    },
    "papermill": {
     "duration": 0.527547,
     "end_time": "2021-11-09T08:53:31.470103",
     "exception": false,
     "start_time": "2021-11-09T08:53:30.942556",
     "status": "completed"
    },
    "tags": []
   },
   "outputs": [
    {
     "data": {
      "text/plain": [
       "<AxesSubplot:xlabel='cv_sqr', ylabel='ADI'>"
      ]
     },
     "execution_count": 34,
     "metadata": {},
     "output_type": "execute_result"
    },
    {
     "data": {
      "image/png": "[encoded data removed]",
      "text/plain": [
       "<Figure size 576x432 with 1 Axes>"
      ]
     },
     "metadata": {},
     "output_type": "display_data"
    }
   ],
   "source": [
    "sns.scatterplot(x='cv_sqr',y='ADI',hue='category',data=adi_cv, palette=\"Set2\")"
   ]
  },
  {
   "cell_type": "markdown",
   "id": "ce6a8529",
   "metadata": {
    "papermill": {
     "duration": 0.033947,
     "end_time": "2021-11-09T08:53:31.537691",
     "exception": false,
     "start_time": "2021-11-09T08:53:31.503744",
     "status": "completed"
    },
    "tags": []
   },
   "source": [
    "#### OBSERVATION : Most product (113) depicts no pattern as these products have been only ordered once i.e single day order. Next is our Intermittent demand (52) showing little variation in qunatity but high variation in the interval between two demands."
   ]
  },
  {
   "cell_type": "code",
   "execution_count": null,
   "id": "c944aa78",
   "metadata": {
    "papermill": {
     "duration": 0.033099,
     "end_time": "2021-11-09T08:53:31.604376",
     "exception": false,
     "start_time": "2021-11-09T08:53:31.571277",
     "status": "completed"
    },
    "tags": []
   },
   "outputs": [],
   "source": []
  }
 ],
 "metadata": {
  "kernelspec": {
   "display_name": "Python 3",
   "language": "python",
   "name": "python3"
  },
  "language_info": {
   "codemirror_mode": {
    "name": "ipython",
    "version": 3
   },
   "file_extension": ".py",
   "mimetype": "text/x-python",
   "name": "python",
   "nbconvert_exporter": "python",
   "pygments_lexer": "ipython3",
   "version": "3.7.10"
  },
  "papermill": {
   "default_parameters": {},
   "duration": 14.669584,
   "end_time": "2021-11-09T08:53:32.247829",
   "environment_variables": {},
   "exception": null,
   "input_path": "__notebook__.ipynb",
   "output_path": "__notebook__.ipynb",
   "parameters": {},
   "start_time": "2021-11-09T08:53:17.578245",
   "version": "2.3.3"
  }
 },
 "nbformat": 4,
 "nbformat_minor": 5
}
