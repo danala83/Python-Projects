{
 "cells": [
  {
   "cell_type": "code",
   "execution_count": 250,
   "id": "b70a3c2f",
   "metadata": {},
   "outputs": [],
   "source": [
    "import numpy as np\n",
    "import pandas as pd\n",
    "import matplotlib.pyplot as plt\n",
    "from datetime import datetime\n",
    "from statsmodels.tsa.stattools import adfuller\n",
    "from pandas.plotting import autocorrelation_plot\n",
    "from statsmodels.graphics.tsaplots import plot_acf,plot_pacf\n",
    "from statsmodels.tsa.stattools import acf, pacf\n",
    "from statsmodels.tsa.arima_model import ARIMA\n",
    "from matplotlib.pylab import rcParams\n",
    "\n",
    "import warnings\n",
    "warnings.filterwarnings('ignore')"
   ]
  },
  {
   "cell_type": "code",
   "execution_count": 251,
   "id": "c0a5eef7",
   "metadata": {},
   "outputs": [],
   "source": [
    "#Ho: It is non stationary\n",
    "#H1: It is stationary\n",
    "\n",
    "def adfuller_test(sales):\n",
    "    result=adfuller(sales)\n",
    "    labels = ['ADF Test Statistic','p-value','#Lags Used','Number of Observations Used']\n",
    "    for value,label in zip(result,labels):\n",
    "        print(label+' : '+str(value) )\n",
    "    if result[1] <= 0.05:\n",
    "        print(\"strong evidence against the null hypothesis(Ho), reject the null hypothesis. Data has no unit root and is stationary\")\n",
    "    else:\n",
    "        print(\"weak evidence against null hypothesis, time series has a unit root, indicating it is non-stationary \")"
   ]
  },
  {
   "cell_type": "code",
   "execution_count": 252,
   "id": "87325159",
   "metadata": {},
   "outputs": [],
   "source": [
    "dff_alex_9 = pd.read_excel(\"ALEXANDRIA.xlsx\")\n",
    "dff_alex_9[\"order_dt\"] = pd.to_datetime(dff_alex_9[\"order_dt\"],infer_datetime_format=True)\n",
    "dff_alex_9= dff_alex_9.set_index([\"order_dt\"])"
   ]
  },
  {
   "cell_type": "code",
   "execution_count": 253,
   "id": "cdfb4b69",
   "metadata": {},
   "outputs": [
    {
     "data": {
      "text/plain": [
       "array([2.29501476, 2.36180132, 2.38282887, 2.39468188, 2.40469542,\n",
       "       2.41434016, 2.42391095, 2.43346691])"
      ]
     },
     "execution_count": 253,
     "metadata": {},
     "output_type": "execute_result"
    }
   ],
   "source": [
    "model_alex_9th=ARIMA(dff_alex_9['9th'],order=(1,1,1))\n",
    "model_alex_9th_fit=model_alex_9th.fit()\n",
    "model_alex_9th_forecast= model_alex_9th_fit.forecast(steps = 8)[0]\n",
    "model_alex_9th_forecast"
   ]
  },
  {
   "cell_type": "code",
   "execution_count": 254,
   "id": "f0999a84",
   "metadata": {},
   "outputs": [],
   "source": [
    "dff_alex_10 = pd.read_excel(\"ALEXANDRIA.xlsx\")\n",
    "dff_alex_10[\"order_dt\"] = pd.to_datetime(dff_alex_10[\"order_dt\"],infer_datetime_format=True)\n",
    "dff_alex_10= dff_alex_10.set_index([\"order_dt\"])"
   ]
  },
  {
   "cell_type": "code",
   "execution_count": 255,
   "id": "c8516825",
   "metadata": {},
   "outputs": [
    {
     "data": {
      "text/plain": [
       "array([1.70012163, 1.57828599, 1.60808848, 1.60991614, 1.61690471,\n",
       "       1.62294117, 1.62915328, 1.63533299])"
      ]
     },
     "execution_count": 255,
     "metadata": {},
     "output_type": "execute_result"
    }
   ],
   "source": [
    "model_alex_10th=ARIMA(dff_alex_10['10th'],order=(1,1,1))\n",
    "model_alex_10th_fit=model_alex_10th.fit()\n",
    "model_alex_10th_forecast= model_alex_10th_fit.forecast(steps = 8)[0]\n",
    "model_alex_10th_forecast"
   ]
  },
  {
   "cell_type": "code",
   "execution_count": 256,
   "id": "292cf242",
   "metadata": {},
   "outputs": [],
   "source": [
    "dff_alex_11 = pd.read_excel(\"ALEXANDRIA.xlsx\")\n",
    "dff_alex_11[\"order_dt\"] = pd.to_datetime(dff_alex_11[\"order_dt\"],infer_datetime_format=True)\n",
    "dff_alex_11= dff_alex_11.set_index([\"order_dt\"])"
   ]
  },
  {
   "cell_type": "code",
   "execution_count": 257,
   "id": "ae030723",
   "metadata": {},
   "outputs": [
    {
     "data": {
      "text/plain": [
       "array([2.75991435, 2.75960766, 2.76975427, 2.78035661, 2.79097882,\n",
       "       2.80160189, 2.812225  , 2.82284811])"
      ]
     },
     "execution_count": 257,
     "metadata": {},
     "output_type": "execute_result"
    }
   ],
   "source": [
    "model_alex_11th=ARIMA(dff_alex_11['11th'],order=(1,1,1))\n",
    "model_alex_11th_fit=model_alex_11th.fit()\n",
    "model_alex_11th_forecast= model_alex_11th_fit.forecast(steps = 8)[0]\n",
    "model_alex_11th_forecast"
   ]
  },
  {
   "cell_type": "code",
   "execution_count": 258,
   "id": "0ddbf8e5",
   "metadata": {},
   "outputs": [],
   "source": [
    "dff_alex_12 = pd.read_excel(\"ALEXANDRIA.xlsx\")\n",
    "dff_alex_12[\"order_dt\"] = pd.to_datetime(dff_alex_12[\"order_dt\"],infer_datetime_format=True)\n",
    "dff_alex_12= dff_alex_12.set_index([\"order_dt\"])"
   ]
  },
  {
   "cell_type": "code",
   "execution_count": 259,
   "id": "6eddbc4d",
   "metadata": {},
   "outputs": [
    {
     "data": {
      "text/plain": [
       "array([3.11569615, 3.11855402, 3.12815978, 3.13736201, 3.14658837,\n",
       "       3.15581328, 3.16503829, 3.17426328])"
      ]
     },
     "execution_count": 259,
     "metadata": {},
     "output_type": "execute_result"
    }
   ],
   "source": [
    "model_alex_12th=ARIMA(dff_alex_12['12th'],order=(1,1,1))\n",
    "model_alex_12th_fit=model_alex_12th.fit()\n",
    "model_alex_12th_forecast= model_alex_12th_fit.forecast(steps = 8)[0]\n",
    "model_alex_12th_forecast"
   ]
  },
  {
   "cell_type": "code",
   "execution_count": 260,
   "id": "a6e01c76",
   "metadata": {},
   "outputs": [],
   "source": [
    "dff_alex_13 = pd.read_excel(\"ALEXANDRIA.xlsx\")\n",
    "dff_alex_13[\"order_dt\"] = pd.to_datetime(dff_alex_13[\"order_dt\"],infer_datetime_format=True)\n",
    "dff_alex_13= dff_alex_13.set_index([\"order_dt\"])"
   ]
  },
  {
   "cell_type": "code",
   "execution_count": 261,
   "id": "59f9eef7",
   "metadata": {},
   "outputs": [
    {
     "data": {
      "text/plain": [
       "array([2.69350225, 2.68872961, 2.69698288, 2.70579849, 2.71463838,\n",
       "       2.72347932, 2.73232031, 2.74116129])"
      ]
     },
     "execution_count": 261,
     "metadata": {},
     "output_type": "execute_result"
    }
   ],
   "source": [
    "model_alex_13th=ARIMA(dff_alex_13['13th'],order=(1,1,1))\n",
    "model_alex_13th_fit=model_alex_13th.fit()\n",
    "model_alex_13th_forecast= model_alex_13th_fit.forecast(steps = 8)[0]\n",
    "model_alex_13th_forecast"
   ]
  },
  {
   "cell_type": "code",
   "execution_count": 262,
   "id": "11e0566b",
   "metadata": {},
   "outputs": [],
   "source": [
    "dff_alex_14 = pd.read_excel(\"ALEXANDRIA.xlsx\")\n",
    "dff_alex_14[\"order_dt\"] = pd.to_datetime(dff_alex_14[\"order_dt\"],infer_datetime_format=True)\n",
    "dff_alex_14= dff_alex_14.set_index([\"order_dt\"])"
   ]
  },
  {
   "cell_type": "code",
   "execution_count": 263,
   "id": "892dc5e7",
   "metadata": {},
   "outputs": [
    {
     "data": {
      "text/plain": [
       "array([2.49028477, 2.51373167, 2.5215838 , 2.52927013, 2.5369547 ,\n",
       "       2.54463925, 2.5523238 , 2.56000836])"
      ]
     },
     "execution_count": 263,
     "metadata": {},
     "output_type": "execute_result"
    }
   ],
   "source": [
    "model_alex_14th=ARIMA(dff_alex_14['14th'],order=(1,1,1))\n",
    "model_alex_14th_fit=model_alex_14th.fit()\n",
    "model_alex_14th_forecast= model_alex_14th_fit.forecast(steps = 8)[0]\n",
    "model_alex_14th_forecast"
   ]
  },
  {
   "cell_type": "code",
   "execution_count": 264,
   "id": "6ef1c6ab",
   "metadata": {},
   "outputs": [],
   "source": [
    "dff_alex_15 = pd.read_excel(\"ALEXANDRIA.xlsx\")\n",
    "dff_alex_15[\"order_dt\"] = pd.to_datetime(dff_alex_15[\"order_dt\"],infer_datetime_format=True)\n",
    "dff_alex_15= dff_alex_15.set_index([\"order_dt\"])"
   ]
  },
  {
   "cell_type": "code",
   "execution_count": 265,
   "id": "45413f9e",
   "metadata": {},
   "outputs": [
    {
     "data": {
      "text/plain": [
       "array([2.71544687, 2.74521317, 2.75364406, 2.7618049 , 2.76996234,\n",
       "       2.77811972, 2.78627711, 2.7944345 ])"
      ]
     },
     "execution_count": 265,
     "metadata": {},
     "output_type": "execute_result"
    }
   ],
   "source": [
    "model_alex_15th=ARIMA(dff_alex_15['15th'],order=(1,1,1))\n",
    "model_alex_15th_fit=model_alex_15th.fit()\n",
    "model_alex_15th_forecast= model_alex_15th_fit.forecast(steps = 8)[0]\n",
    "model_alex_15th_forecast"
   ]
  },
  {
   "cell_type": "code",
   "execution_count": 266,
   "id": "dc35585c",
   "metadata": {},
   "outputs": [],
   "source": [
    "dff_alex_16 = pd.read_excel(\"ALEXANDRIA.xlsx\")\n",
    "dff_alex_16[\"order_dt\"] = pd.to_datetime(dff_alex_16[\"order_dt\"],infer_datetime_format=True)\n",
    "dff_alex_16= dff_alex_16.set_index([\"order_dt\"])"
   ]
  },
  {
   "cell_type": "code",
   "execution_count": 267,
   "id": "e795ddba",
   "metadata": {},
   "outputs": [
    {
     "data": {
      "text/plain": [
       "array([3.13276883, 3.13958058, 3.15111646, 3.16247516, 3.1738405 ,\n",
       "       3.1852056 , 3.1965707 , 3.2079358 ])"
      ]
     },
     "execution_count": 267,
     "metadata": {},
     "output_type": "execute_result"
    }
   ],
   "source": [
    "model_alex_16th=ARIMA(dff_alex_16['16th'],order=(1,1,1))\n",
    "model_alex_16th_fit=model_alex_16th.fit()\n",
    "model_alex_16th_forecast= model_alex_16th_fit.forecast(steps = 8)[0]\n",
    "model_alex_16th_forecast"
   ]
  },
  {
   "cell_type": "code",
   "execution_count": 268,
   "id": "742612da",
   "metadata": {},
   "outputs": [],
   "source": [
    "dff_alex_17 = pd.read_excel(\"ALEXANDRIA.xlsx\")\n",
    "dff_alex_17[\"order_dt\"] = pd.to_datetime(dff_alex_17[\"order_dt\"],infer_datetime_format=True)\n",
    "dff_alex_17= dff_alex_17.set_index([\"order_dt\"])"
   ]
  },
  {
   "cell_type": "code",
   "execution_count": 269,
   "id": "a0d001c0",
   "metadata": {},
   "outputs": [
    {
     "data": {
      "text/plain": [
       "array([4.08446229, 4.22828517, 4.25249333, 4.26932883, 4.28570989,\n",
       "       4.30206295, 4.31841428, 4.33476551])"
      ]
     },
     "execution_count": 269,
     "metadata": {},
     "output_type": "execute_result"
    }
   ],
   "source": [
    "model_alex_17th=ARIMA(dff_alex_17['17th'],order=(1,1,1))\n",
    "model_alex_17th_fit=model_alex_17th.fit()\n",
    "model_alex_17th_forecast= model_alex_17th_fit.forecast(steps = 8)[0]\n",
    "model_alex_17th_forecast"
   ]
  },
  {
   "cell_type": "code",
   "execution_count": 270,
   "id": "929ff8eb",
   "metadata": {},
   "outputs": [],
   "source": [
    "dff_alex_18 = pd.read_excel(\"ALEXANDRIA.xlsx\")\n",
    "dff_alex_18[\"order_dt\"] = pd.to_datetime(dff_alex_18[\"order_dt\"],infer_datetime_format=True)\n",
    "dff_alex_18= dff_alex_18.set_index([\"order_dt\"])"
   ]
  },
  {
   "cell_type": "code",
   "execution_count": 271,
   "id": "1200b0a6",
   "metadata": {},
   "outputs": [
    {
     "data": {
      "text/plain": [
       "array([4.81070105, 4.81633144, 4.83102418, 4.84613823, 4.86127187,\n",
       "       4.87640642, 4.89154101, 4.90667561])"
      ]
     },
     "execution_count": 271,
     "metadata": {},
     "output_type": "execute_result"
    }
   ],
   "source": [
    "model_alex_18th=ARIMA(dff_alex_18['18th'],order=(1,1,1))\n",
    "model_alex_18th_fit=model_alex_18th.fit()\n",
    "model_alex_18th_forecast= model_alex_18th_fit.forecast(steps = 8)[0]\n",
    "model_alex_18th_forecast"
   ]
  },
  {
   "cell_type": "code",
   "execution_count": 272,
   "id": "53952ea3",
   "metadata": {},
   "outputs": [],
   "source": [
    "dff_alex_19 = pd.read_excel(\"ALEXANDRIA.xlsx\")\n",
    "dff_alex_19[\"order_dt\"] = pd.to_datetime(dff_alex_19[\"order_dt\"],infer_datetime_format=True)\n",
    "dff_alex_19= dff_alex_19.set_index([\"order_dt\"])"
   ]
  },
  {
   "cell_type": "code",
   "execution_count": 273,
   "id": "e74a1a34",
   "metadata": {},
   "outputs": [
    {
     "data": {
      "text/plain": [
       "array([3.77689927, 3.90178281, 3.92342021, 3.93860502, 3.95338657,\n",
       "       3.96814291, 3.98289768, 3.99765235])"
      ]
     },
     "execution_count": 273,
     "metadata": {},
     "output_type": "execute_result"
    }
   ],
   "source": [
    "model_alex_19th=ARIMA(dff_alex_19['19th'],order=(1,1,1))\n",
    "model_alex_19th_fit=model_alex_19th.fit()\n",
    "model_alex_19th_forecast= model_alex_19th_fit.forecast(steps = 8)[0]\n",
    "model_alex_19th_forecast"
   ]
  },
  {
   "cell_type": "code",
   "execution_count": 274,
   "id": "80d67a62",
   "metadata": {},
   "outputs": [],
   "source": [
    "dff_alex_20 = pd.read_excel(\"ALEXANDRIA.xlsx\")\n",
    "dff_alex_20[\"order_dt\"] = pd.to_datetime(dff_alex_20[\"order_dt\"],infer_datetime_format=True)\n",
    "dff_alex_20= dff_alex_20.set_index([\"order_dt\"])"
   ]
  },
  {
   "cell_type": "code",
   "execution_count": 275,
   "id": "ee632695",
   "metadata": {},
   "outputs": [
    {
     "data": {
      "text/plain": [
       "array([3.36031442, 3.38786816, 3.4012621 , 3.4140535 , 3.42681927,\n",
       "       3.43958395, 3.45234858, 3.4651132 ])"
      ]
     },
     "execution_count": 275,
     "metadata": {},
     "output_type": "execute_result"
    }
   ],
   "source": [
    "model_alex_20th=ARIMA(dff_alex_20['20th'],order=(1,1,1))\n",
    "model_alex_20th_fit=model_alex_20th.fit()\n",
    "model_alex_20th_forecast= model_alex_20th_fit.forecast(steps = 8)[0]\n",
    "model_alex_20th_forecast"
   ]
  },
  {
   "cell_type": "code",
   "execution_count": 276,
   "id": "1580c9a0",
   "metadata": {},
   "outputs": [],
   "source": [
    "data_alex = [k for k in zip(model_alex_9th_forecast,model_alex_10th_forecast,model_alex_11th_forecast,\n",
    "                           model_alex_12th_forecast,model_alex_13th_forecast,model_alex_14th_forecast,\n",
    "                 model_alex_15th_forecast,model_alex_16th_forecast,model_alex_17th_forecast,model_alex_18th_forecast,\n",
    "                            model_alex_19th_forecast,model_alex_20th_forecast\n",
    "                           )]"
   ]
  },
  {
   "cell_type": "code",
   "execution_count": 277,
   "id": "4f58c361",
   "metadata": {},
   "outputs": [
    {
     "data": {
      "text/html": [
       "<div>\n",
       "<style scoped>\n",
       "    .dataframe tbody tr th:only-of-type {\n",
       "        vertical-align: middle;\n",
       "    }\n",
       "\n",
       "    .dataframe tbody tr th {\n",
       "        vertical-align: top;\n",
       "    }\n",
       "\n",
       "    .dataframe thead th {\n",
       "        text-align: right;\n",
       "    }\n",
       "</style>\n",
       "<table border=\"1\" class=\"dataframe\">\n",
       "  <thead>\n",
       "    <tr style=\"text-align: right;\">\n",
       "      <th></th>\n",
       "      <th>0</th>\n",
       "      <th>1</th>\n",
       "      <th>2</th>\n",
       "      <th>3</th>\n",
       "      <th>4</th>\n",
       "      <th>5</th>\n",
       "      <th>6</th>\n",
       "      <th>7</th>\n",
       "      <th>8</th>\n",
       "      <th>9</th>\n",
       "      <th>10</th>\n",
       "      <th>11</th>\n",
       "    </tr>\n",
       "  </thead>\n",
       "  <tbody>\n",
       "    <tr>\n",
       "      <th>0</th>\n",
       "      <td>2.295015</td>\n",
       "      <td>1.700122</td>\n",
       "      <td>2.759914</td>\n",
       "      <td>3.115696</td>\n",
       "      <td>2.693502</td>\n",
       "      <td>2.490285</td>\n",
       "      <td>2.715447</td>\n",
       "      <td>3.132769</td>\n",
       "      <td>4.084462</td>\n",
       "      <td>4.810701</td>\n",
       "      <td>3.776899</td>\n",
       "      <td>3.360314</td>\n",
       "    </tr>\n",
       "    <tr>\n",
       "      <th>1</th>\n",
       "      <td>2.361801</td>\n",
       "      <td>1.578286</td>\n",
       "      <td>2.759608</td>\n",
       "      <td>3.118554</td>\n",
       "      <td>2.688730</td>\n",
       "      <td>2.513732</td>\n",
       "      <td>2.745213</td>\n",
       "      <td>3.139581</td>\n",
       "      <td>4.228285</td>\n",
       "      <td>4.816331</td>\n",
       "      <td>3.901783</td>\n",
       "      <td>3.387868</td>\n",
       "    </tr>\n",
       "    <tr>\n",
       "      <th>2</th>\n",
       "      <td>2.382829</td>\n",
       "      <td>1.608088</td>\n",
       "      <td>2.769754</td>\n",
       "      <td>3.128160</td>\n",
       "      <td>2.696983</td>\n",
       "      <td>2.521584</td>\n",
       "      <td>2.753644</td>\n",
       "      <td>3.151116</td>\n",
       "      <td>4.252493</td>\n",
       "      <td>4.831024</td>\n",
       "      <td>3.923420</td>\n",
       "      <td>3.401262</td>\n",
       "    </tr>\n",
       "    <tr>\n",
       "      <th>3</th>\n",
       "      <td>2.394682</td>\n",
       "      <td>1.609916</td>\n",
       "      <td>2.780357</td>\n",
       "      <td>3.137362</td>\n",
       "      <td>2.705798</td>\n",
       "      <td>2.529270</td>\n",
       "      <td>2.761805</td>\n",
       "      <td>3.162475</td>\n",
       "      <td>4.269329</td>\n",
       "      <td>4.846138</td>\n",
       "      <td>3.938605</td>\n",
       "      <td>3.414054</td>\n",
       "    </tr>\n",
       "    <tr>\n",
       "      <th>4</th>\n",
       "      <td>2.404695</td>\n",
       "      <td>1.616905</td>\n",
       "      <td>2.790979</td>\n",
       "      <td>3.146588</td>\n",
       "      <td>2.714638</td>\n",
       "      <td>2.536955</td>\n",
       "      <td>2.769962</td>\n",
       "      <td>3.173841</td>\n",
       "      <td>4.285710</td>\n",
       "      <td>4.861272</td>\n",
       "      <td>3.953387</td>\n",
       "      <td>3.426819</td>\n",
       "    </tr>\n",
       "    <tr>\n",
       "      <th>5</th>\n",
       "      <td>2.414340</td>\n",
       "      <td>1.622941</td>\n",
       "      <td>2.801602</td>\n",
       "      <td>3.155813</td>\n",
       "      <td>2.723479</td>\n",
       "      <td>2.544639</td>\n",
       "      <td>2.778120</td>\n",
       "      <td>3.185206</td>\n",
       "      <td>4.302063</td>\n",
       "      <td>4.876406</td>\n",
       "      <td>3.968143</td>\n",
       "      <td>3.439584</td>\n",
       "    </tr>\n",
       "    <tr>\n",
       "      <th>6</th>\n",
       "      <td>2.423911</td>\n",
       "      <td>1.629153</td>\n",
       "      <td>2.812225</td>\n",
       "      <td>3.165038</td>\n",
       "      <td>2.732320</td>\n",
       "      <td>2.552324</td>\n",
       "      <td>2.786277</td>\n",
       "      <td>3.196571</td>\n",
       "      <td>4.318414</td>\n",
       "      <td>4.891541</td>\n",
       "      <td>3.982898</td>\n",
       "      <td>3.452349</td>\n",
       "    </tr>\n",
       "    <tr>\n",
       "      <th>7</th>\n",
       "      <td>2.433467</td>\n",
       "      <td>1.635333</td>\n",
       "      <td>2.822848</td>\n",
       "      <td>3.174263</td>\n",
       "      <td>2.741161</td>\n",
       "      <td>2.560008</td>\n",
       "      <td>2.794434</td>\n",
       "      <td>3.207936</td>\n",
       "      <td>4.334766</td>\n",
       "      <td>4.906676</td>\n",
       "      <td>3.997652</td>\n",
       "      <td>3.465113</td>\n",
       "    </tr>\n",
       "  </tbody>\n",
       "</table>\n",
       "</div>"
      ],
      "text/plain": [
       "         0         1         2         3         4         5         6   \\\n",
       "0  2.295015  1.700122  2.759914  3.115696  2.693502  2.490285  2.715447   \n",
       "1  2.361801  1.578286  2.759608  3.118554  2.688730  2.513732  2.745213   \n",
       "2  2.382829  1.608088  2.769754  3.128160  2.696983  2.521584  2.753644   \n",
       "3  2.394682  1.609916  2.780357  3.137362  2.705798  2.529270  2.761805   \n",
       "4  2.404695  1.616905  2.790979  3.146588  2.714638  2.536955  2.769962   \n",
       "5  2.414340  1.622941  2.801602  3.155813  2.723479  2.544639  2.778120   \n",
       "6  2.423911  1.629153  2.812225  3.165038  2.732320  2.552324  2.786277   \n",
       "7  2.433467  1.635333  2.822848  3.174263  2.741161  2.560008  2.794434   \n",
       "\n",
       "         7         8         9         10        11  \n",
       "0  3.132769  4.084462  4.810701  3.776899  3.360314  \n",
       "1  3.139581  4.228285  4.816331  3.901783  3.387868  \n",
       "2  3.151116  4.252493  4.831024  3.923420  3.401262  \n",
       "3  3.162475  4.269329  4.846138  3.938605  3.414054  \n",
       "4  3.173841  4.285710  4.861272  3.953387  3.426819  \n",
       "5  3.185206  4.302063  4.876406  3.968143  3.439584  \n",
       "6  3.196571  4.318414  4.891541  3.982898  3.452349  \n",
       "7  3.207936  4.334766  4.906676  3.997652  3.465113  "
      ]
     },
     "execution_count": 277,
     "metadata": {},
     "output_type": "execute_result"
    }
   ],
   "source": [
    "dff_alex = pd.DataFrame(data_alex)\n",
    "dff_alex.head(10)"
   ]
  },
  {
   "cell_type": "code",
   "execution_count": 278,
   "id": "631e62fc",
   "metadata": {},
   "outputs": [],
   "source": [
    "dff_alex.to_excel('alex_test_2m_9m.xlsx')"
   ]
  },
  {
   "cell_type": "code",
   "execution_count": 279,
   "id": "5da27c2b",
   "metadata": {},
   "outputs": [],
   "source": [
    "df_colng_9 = pd.read_excel(\"COLLINGWOOD.xlsx\")\n",
    "df_colng_9[\"order_dt\"] = pd.to_datetime(df_colng_9[\"order_dt\"],infer_datetime_format=True)\n",
    "df_colng_9= df_colng_9.set_index([\"order_dt\"])"
   ]
  },
  {
   "cell_type": "code",
   "execution_count": 280,
   "id": "8c4c7609",
   "metadata": {},
   "outputs": [
    {
     "data": {
      "text/plain": [
       "array([2.89019617, 3.07547043, 3.10745533, 3.12565799, 3.1426215 ,\n",
       "       3.15947359, 3.17631567, 3.19315684])"
      ]
     },
     "execution_count": 280,
     "metadata": {},
     "output_type": "execute_result"
    }
   ],
   "source": [
    "model_colng_9th=ARIMA(df_colng_9['9th'],order=(1,1,1))\n",
    "model_colng_9th_fit=model_colng_9th.fit()\n",
    "model_colng_9th_forecast= model_colng_9th_fit.forecast(steps = 8)[0]\n",
    "model_colng_9th_forecast"
   ]
  },
  {
   "cell_type": "code",
   "execution_count": 281,
   "id": "2f8344d1",
   "metadata": {},
   "outputs": [],
   "source": [
    "df_colng_10 = pd.read_excel(\"COLLINGWOOD.xlsx\")\n",
    "df_colng_10[\"order_dt\"] = pd.to_datetime(df_colng_10[\"order_dt\"],infer_datetime_format=True)\n",
    "df_colng_10= df_colng_10.set_index([\"order_dt\"])"
   ]
  },
  {
   "cell_type": "code",
   "execution_count": 282,
   "id": "bda01995",
   "metadata": {},
   "outputs": [
    {
     "data": {
      "text/plain": [
       "array([2.23291651, 2.26292508, 2.27685907, 2.28951963, 2.3020793 ,\n",
       "       2.31463098, 2.32718202, 2.33973302])"
      ]
     },
     "execution_count": 282,
     "metadata": {},
     "output_type": "execute_result"
    }
   ],
   "source": [
    "model_colng_10th=ARIMA(df_colng_10['10th'],order=(1,1,1))\n",
    "model_colng_10th_fit=model_colng_10th.fit()\n",
    "model_colng_10th_forecast= model_colng_10th_fit.forecast(steps = 8)[0]\n",
    "model_colng_10th_forecast"
   ]
  },
  {
   "cell_type": "code",
   "execution_count": 283,
   "id": "51d04d2b",
   "metadata": {},
   "outputs": [],
   "source": [
    "df_colng_11 = pd.read_excel(\"COLLINGWOOD.xlsx\")\n",
    "df_colng_11[\"order_dt\"] = pd.to_datetime(df_colng_11[\"order_dt\"],infer_datetime_format=True)\n",
    "df_colng_11= df_colng_11.set_index([\"order_dt\"])"
   ]
  },
  {
   "cell_type": "code",
   "execution_count": 284,
   "id": "9199bb1b",
   "metadata": {},
   "outputs": [
    {
     "data": {
      "text/plain": [
       "array([3.23205841, 3.24786144, 3.26424374, 3.28062448, 3.29700522,\n",
       "       3.31338597, 3.32976671, 3.34614746])"
      ]
     },
     "execution_count": 284,
     "metadata": {},
     "output_type": "execute_result"
    }
   ],
   "source": [
    "model_colng_11th=ARIMA(df_colng_11['11th'],order=(1,1,1))\n",
    "model_colng_11th_fit=model_colng_11th.fit()\n",
    "model_colng_11th_forecast= model_colng_11th_fit.forecast(steps = 8)[0]\n",
    "model_colng_11th_forecast"
   ]
  },
  {
   "cell_type": "code",
   "execution_count": 285,
   "id": "9964d2a8",
   "metadata": {},
   "outputs": [],
   "source": [
    "df_colng_12 = pd.read_excel(\"COLLINGWOOD.xlsx\")\n",
    "df_colng_12[\"order_dt\"] = pd.to_datetime(df_colng_12[\"order_dt\"],infer_datetime_format=True)\n",
    "df_colng_12= df_colng_12.set_index([\"order_dt\"])"
   ]
  },
  {
   "cell_type": "code",
   "execution_count": 286,
   "id": "8293c506",
   "metadata": {},
   "outputs": [
    {
     "data": {
      "text/plain": [
       "array([2.56706727, 2.59192013, 2.6058211 , 2.61998407, 2.63414078,\n",
       "       2.64829763, 2.66245448, 2.67661134])"
      ]
     },
     "execution_count": 286,
     "metadata": {},
     "output_type": "execute_result"
    }
   ],
   "source": [
    "model_colng_12th=ARIMA(df_colng_12['12th'],order=(1,1,1))\n",
    "model_colng_12th_fit=model_colng_12th.fit()\n",
    "model_colng_12th_forecast= model_colng_12th_fit.forecast(steps = 8)[0]\n",
    "model_colng_12th_forecast"
   ]
  },
  {
   "cell_type": "code",
   "execution_count": 287,
   "id": "64c3dade",
   "metadata": {},
   "outputs": [],
   "source": [
    "df_colng_13 = pd.read_excel(\"COLLINGWOOD.xlsx\")\n",
    "df_colng_13[\"order_dt\"] = pd.to_datetime(df_colng_13[\"order_dt\"],infer_datetime_format=True)\n",
    "df_colng_13= df_colng_13.set_index([\"order_dt\"])"
   ]
  },
  {
   "cell_type": "code",
   "execution_count": 288,
   "id": "d9a29c0c",
   "metadata": {},
   "outputs": [
    {
     "data": {
      "text/plain": [
       "array([2.87577757, 2.8852704 , 2.89874548, 2.91233916, 2.92593638,\n",
       "       2.9395337 , 2.95313102, 2.96672834])"
      ]
     },
     "execution_count": 288,
     "metadata": {},
     "output_type": "execute_result"
    }
   ],
   "source": [
    "model_colng_13th=ARIMA(df_colng_13['13th'],order=(1,1,1))\n",
    "model_colng_13th_fit=model_colng_13th.fit()\n",
    "model_colng_13th_forecast= model_colng_13th_fit.forecast(steps = 8)[0]\n",
    "model_colng_13th_forecast"
   ]
  },
  {
   "cell_type": "code",
   "execution_count": 289,
   "id": "e669259a",
   "metadata": {},
   "outputs": [],
   "source": [
    "df_colng_14 = pd.read_excel(\"COLLINGWOOD.xlsx\")\n",
    "df_colng_14[\"order_dt\"] = pd.to_datetime(df_colng_14[\"order_dt\"],infer_datetime_format=True)\n",
    "df_colng_14= df_colng_14.set_index([\"order_dt\"])"
   ]
  },
  {
   "cell_type": "code",
   "execution_count": 290,
   "id": "0aafe00e",
   "metadata": {},
   "outputs": [
    {
     "data": {
      "text/plain": [
       "array([3.10851103, 3.1099483 , 3.12695842, 3.14374949, 3.16054364,\n",
       "       3.17733774, 3.19413185, 3.21092595])"
      ]
     },
     "execution_count": 290,
     "metadata": {},
     "output_type": "execute_result"
    }
   ],
   "source": [
    "model_colng_14th=ARIMA(df_colng_14['14th'],order=(1,1,1))\n",
    "model_colng_14th_fit=model_colng_14th.fit()\n",
    "model_colng_14th_forecast= model_colng_14th_fit.forecast(steps = 8)[0]\n",
    "model_colng_14th_forecast"
   ]
  },
  {
   "cell_type": "code",
   "execution_count": 291,
   "id": "c0e4fe9c",
   "metadata": {},
   "outputs": [],
   "source": [
    "df_colng_15 = pd.read_excel(\"COLLINGWOOD.xlsx\")\n",
    "df_colng_15[\"order_dt\"] = pd.to_datetime(df_colng_15[\"order_dt\"],infer_datetime_format=True)\n",
    "df_colng_15= df_colng_15.set_index([\"order_dt\"])"
   ]
  },
  {
   "cell_type": "code",
   "execution_count": 292,
   "id": "bafb61d4",
   "metadata": {},
   "outputs": [
    {
     "data": {
      "text/plain": [
       "array([2.93199754, 2.94763229, 2.95958368, 2.9715476 , 2.98351147,\n",
       "       2.99547535, 3.00743922, 3.0194031 ])"
      ]
     },
     "execution_count": 292,
     "metadata": {},
     "output_type": "execute_result"
    }
   ],
   "source": [
    "model_colng_15th=ARIMA(df_colng_15['15th'],order=(1,1,1))\n",
    "model_colng_15th_fit=model_colng_15th.fit()\n",
    "model_colng_15th_forecast= model_colng_15th_fit.forecast(steps = 8)[0]\n",
    "model_colng_15th_forecast"
   ]
  },
  {
   "cell_type": "code",
   "execution_count": 293,
   "id": "dcaa8cfa",
   "metadata": {},
   "outputs": [],
   "source": [
    "df_colng_16 = pd.read_excel(\"COLLINGWOOD.xlsx\")\n",
    "df_colng_16[\"order_dt\"] = pd.to_datetime(df_colng_16[\"order_dt\"],infer_datetime_format=True)\n",
    "df_colng_16= df_colng_16.set_index([\"order_dt\"])"
   ]
  },
  {
   "cell_type": "code",
   "execution_count": 294,
   "id": "3602d002",
   "metadata": {},
   "outputs": [
    {
     "data": {
      "text/plain": [
       "array([4.32853331, 4.27869536, 4.29534198, 4.31909926, 4.34361704,\n",
       "       4.36821616, 4.39282398, 4.41743273])"
      ]
     },
     "execution_count": 294,
     "metadata": {},
     "output_type": "execute_result"
    }
   ],
   "source": [
    "model_colng_16th=ARIMA(df_colng_16['16th'],order=(1,1,1))\n",
    "model_colng_16th_fit=model_colng_16th.fit()\n",
    "model_colng_16th_forecast= model_colng_16th_fit.forecast(steps = 8)[0]\n",
    "model_colng_16th_forecast"
   ]
  },
  {
   "cell_type": "code",
   "execution_count": 295,
   "id": "57e2c248",
   "metadata": {},
   "outputs": [],
   "source": [
    "df_colng_17 = pd.read_excel(\"COLLINGWOOD.xlsx\")\n",
    "df_colng_17[\"order_dt\"] = pd.to_datetime(df_colng_17[\"order_dt\"],infer_datetime_format=True)\n",
    "df_colng_17= df_colng_17.set_index([\"order_dt\"])"
   ]
  },
  {
   "cell_type": "code",
   "execution_count": 296,
   "id": "cd51b813",
   "metadata": {},
   "outputs": [
    {
     "data": {
      "text/plain": [
       "array([5.01051077, 5.03711897, 5.06447256, 5.09186066, 5.11925035,\n",
       "       5.14664012, 5.1740299 , 5.20141967])"
      ]
     },
     "execution_count": 296,
     "metadata": {},
     "output_type": "execute_result"
    }
   ],
   "source": [
    "model_colng_17th=ARIMA(df_colng_17['17th'],order=(1,1,1))\n",
    "model_colng_17th_fit=model_colng_17th.fit()\n",
    "model_colng_17th_forecast= model_colng_17th_fit.forecast(steps = 8)[0]\n",
    "model_colng_17th_forecast"
   ]
  },
  {
   "cell_type": "code",
   "execution_count": 297,
   "id": "325fc567",
   "metadata": {},
   "outputs": [],
   "source": [
    "df_colng_18 = pd.read_excel(\"COLLINGWOOD.xlsx\")\n",
    "df_colng_18[\"order_dt\"] = pd.to_datetime(df_colng_18[\"order_dt\"],infer_datetime_format=True)\n",
    "df_colng_18= df_colng_18.set_index([\"order_dt\"])"
   ]
  },
  {
   "cell_type": "code",
   "execution_count": 298,
   "id": "3112a8c6",
   "metadata": {},
   "outputs": [
    {
     "data": {
      "text/plain": [
       "array([4.47517961, 4.54918754, 4.58046306, 4.60718677, 4.63342563,\n",
       "       4.65961284, 4.68579455, 4.71197567])"
      ]
     },
     "execution_count": 298,
     "metadata": {},
     "output_type": "execute_result"
    }
   ],
   "source": [
    "model_colng_18th=ARIMA(df_colng_18['18th'],order=(1,1,1))\n",
    "model_colng_18th_fit=model_colng_18th.fit()\n",
    "model_colng_18th_forecast= model_colng_18th_fit.forecast(steps = 8)[0]\n",
    "model_colng_18th_forecast"
   ]
  },
  {
   "cell_type": "code",
   "execution_count": 299,
   "id": "1fca8f4f",
   "metadata": {},
   "outputs": [],
   "source": [
    "df_colng_19 = pd.read_excel(\"COLLINGWOOD.xlsx\")\n",
    "df_colng_19[\"order_dt\"] = pd.to_datetime(df_colng_19[\"order_dt\"],infer_datetime_format=True)\n",
    "df_colng_19= df_colng_19.set_index([\"order_dt\"])"
   ]
  },
  {
   "cell_type": "code",
   "execution_count": 300,
   "id": "d4985ced",
   "metadata": {},
   "outputs": [
    {
     "data": {
      "text/plain": [
       "array([4.68896976, 4.68192927, 4.70717208, 4.7321329 , 4.75709618,\n",
       "       4.78205944, 4.8070227 , 4.83198596])"
      ]
     },
     "execution_count": 300,
     "metadata": {},
     "output_type": "execute_result"
    }
   ],
   "source": [
    "model_colng_19th=ARIMA(df_colng_19['19th'],order=(1,1,1))\n",
    "model_colng_19th_fit=model_colng_19th.fit()\n",
    "model_colng_19th_forecast= model_colng_19th_fit.forecast(steps = 8)[0]\n",
    "model_colng_19th_forecast"
   ]
  },
  {
   "cell_type": "code",
   "execution_count": 301,
   "id": "fc2090f4",
   "metadata": {},
   "outputs": [],
   "source": [
    "df_colng_20 = pd.read_excel(\"COLLINGWOOD.xlsx\")\n",
    "df_colng_20[\"order_dt\"] = pd.to_datetime(df_colng_20[\"order_dt\"],infer_datetime_format=True)\n",
    "df_colng_20= df_colng_20.set_index([\"order_dt\"])"
   ]
  },
  {
   "cell_type": "code",
   "execution_count": 302,
   "id": "2032d19a",
   "metadata": {},
   "outputs": [
    {
     "data": {
      "text/plain": [
       "array([3.60765358, 3.60477659, 3.62349461, 3.64341002, 3.66339182,\n",
       "       3.68337731, 3.703363  , 3.72334869])"
      ]
     },
     "execution_count": 302,
     "metadata": {},
     "output_type": "execute_result"
    }
   ],
   "source": [
    "model_colng_20th=ARIMA(df_colng_20['20th'],order=(1,1,1))\n",
    "model_colng_20th_fit=model_colng_20th.fit()\n",
    "model_colng_20th_forecast= model_colng_20th_fit.forecast(steps = 8)[0]\n",
    "model_colng_20th_forecast"
   ]
  },
  {
   "cell_type": "code",
   "execution_count": 303,
   "id": "a64dfe20",
   "metadata": {},
   "outputs": [],
   "source": [
    "data_colng =[k for k in zip(model_colng_9th_forecast,model_colng_10th_forecast,\n",
    "                            model_colng_11th_forecast,model_colng_12th_forecast,model_colng_13th_forecast,\n",
    "                           model_colng_14th_forecast,model_colng_15th_forecast,model_colng_16th_forecast,\n",
    "                           model_colng_17th_forecast,model_colng_18th_forecast,model_colng_19th_forecast,\n",
    "                           model_colng_20th_forecast)]"
   ]
  },
  {
   "cell_type": "code",
   "execution_count": 304,
   "id": "23f3fb20",
   "metadata": {},
   "outputs": [
    {
     "data": {
      "text/html": [
       "<div>\n",
       "<style scoped>\n",
       "    .dataframe tbody tr th:only-of-type {\n",
       "        vertical-align: middle;\n",
       "    }\n",
       "\n",
       "    .dataframe tbody tr th {\n",
       "        vertical-align: top;\n",
       "    }\n",
       "\n",
       "    .dataframe thead th {\n",
       "        text-align: right;\n",
       "    }\n",
       "</style>\n",
       "<table border=\"1\" class=\"dataframe\">\n",
       "  <thead>\n",
       "    <tr style=\"text-align: right;\">\n",
       "      <th></th>\n",
       "      <th>0</th>\n",
       "      <th>1</th>\n",
       "      <th>2</th>\n",
       "      <th>3</th>\n",
       "      <th>4</th>\n",
       "      <th>5</th>\n",
       "      <th>6</th>\n",
       "      <th>7</th>\n",
       "      <th>8</th>\n",
       "      <th>9</th>\n",
       "      <th>10</th>\n",
       "      <th>11</th>\n",
       "    </tr>\n",
       "  </thead>\n",
       "  <tbody>\n",
       "    <tr>\n",
       "      <th>0</th>\n",
       "      <td>2.890196</td>\n",
       "      <td>2.232917</td>\n",
       "      <td>3.232058</td>\n",
       "      <td>2.567067</td>\n",
       "      <td>2.875778</td>\n",
       "      <td>3.108511</td>\n",
       "      <td>2.931998</td>\n",
       "      <td>4.328533</td>\n",
       "      <td>5.010511</td>\n",
       "      <td>4.475180</td>\n",
       "      <td>4.688970</td>\n",
       "      <td>3.607654</td>\n",
       "    </tr>\n",
       "    <tr>\n",
       "      <th>1</th>\n",
       "      <td>3.075470</td>\n",
       "      <td>2.262925</td>\n",
       "      <td>3.247861</td>\n",
       "      <td>2.591920</td>\n",
       "      <td>2.885270</td>\n",
       "      <td>3.109948</td>\n",
       "      <td>2.947632</td>\n",
       "      <td>4.278695</td>\n",
       "      <td>5.037119</td>\n",
       "      <td>4.549188</td>\n",
       "      <td>4.681929</td>\n",
       "      <td>3.604777</td>\n",
       "    </tr>\n",
       "    <tr>\n",
       "      <th>2</th>\n",
       "      <td>3.107455</td>\n",
       "      <td>2.276859</td>\n",
       "      <td>3.264244</td>\n",
       "      <td>2.605821</td>\n",
       "      <td>2.898745</td>\n",
       "      <td>3.126958</td>\n",
       "      <td>2.959584</td>\n",
       "      <td>4.295342</td>\n",
       "      <td>5.064473</td>\n",
       "      <td>4.580463</td>\n",
       "      <td>4.707172</td>\n",
       "      <td>3.623495</td>\n",
       "    </tr>\n",
       "    <tr>\n",
       "      <th>3</th>\n",
       "      <td>3.125658</td>\n",
       "      <td>2.289520</td>\n",
       "      <td>3.280624</td>\n",
       "      <td>2.619984</td>\n",
       "      <td>2.912339</td>\n",
       "      <td>3.143749</td>\n",
       "      <td>2.971548</td>\n",
       "      <td>4.319099</td>\n",
       "      <td>5.091861</td>\n",
       "      <td>4.607187</td>\n",
       "      <td>4.732133</td>\n",
       "      <td>3.643410</td>\n",
       "    </tr>\n",
       "    <tr>\n",
       "      <th>4</th>\n",
       "      <td>3.142621</td>\n",
       "      <td>2.302079</td>\n",
       "      <td>3.297005</td>\n",
       "      <td>2.634141</td>\n",
       "      <td>2.925936</td>\n",
       "      <td>3.160544</td>\n",
       "      <td>2.983511</td>\n",
       "      <td>4.343617</td>\n",
       "      <td>5.119250</td>\n",
       "      <td>4.633426</td>\n",
       "      <td>4.757096</td>\n",
       "      <td>3.663392</td>\n",
       "    </tr>\n",
       "    <tr>\n",
       "      <th>5</th>\n",
       "      <td>3.159474</td>\n",
       "      <td>2.314631</td>\n",
       "      <td>3.313386</td>\n",
       "      <td>2.648298</td>\n",
       "      <td>2.939534</td>\n",
       "      <td>3.177338</td>\n",
       "      <td>2.995475</td>\n",
       "      <td>4.368216</td>\n",
       "      <td>5.146640</td>\n",
       "      <td>4.659613</td>\n",
       "      <td>4.782059</td>\n",
       "      <td>3.683377</td>\n",
       "    </tr>\n",
       "    <tr>\n",
       "      <th>6</th>\n",
       "      <td>3.176316</td>\n",
       "      <td>2.327182</td>\n",
       "      <td>3.329767</td>\n",
       "      <td>2.662454</td>\n",
       "      <td>2.953131</td>\n",
       "      <td>3.194132</td>\n",
       "      <td>3.007439</td>\n",
       "      <td>4.392824</td>\n",
       "      <td>5.174030</td>\n",
       "      <td>4.685795</td>\n",
       "      <td>4.807023</td>\n",
       "      <td>3.703363</td>\n",
       "    </tr>\n",
       "    <tr>\n",
       "      <th>7</th>\n",
       "      <td>3.193157</td>\n",
       "      <td>2.339733</td>\n",
       "      <td>3.346147</td>\n",
       "      <td>2.676611</td>\n",
       "      <td>2.966728</td>\n",
       "      <td>3.210926</td>\n",
       "      <td>3.019403</td>\n",
       "      <td>4.417433</td>\n",
       "      <td>5.201420</td>\n",
       "      <td>4.711976</td>\n",
       "      <td>4.831986</td>\n",
       "      <td>3.723349</td>\n",
       "    </tr>\n",
       "  </tbody>\n",
       "</table>\n",
       "</div>"
      ],
      "text/plain": [
       "         0         1         2         3         4         5         6   \\\n",
       "0  2.890196  2.232917  3.232058  2.567067  2.875778  3.108511  2.931998   \n",
       "1  3.075470  2.262925  3.247861  2.591920  2.885270  3.109948  2.947632   \n",
       "2  3.107455  2.276859  3.264244  2.605821  2.898745  3.126958  2.959584   \n",
       "3  3.125658  2.289520  3.280624  2.619984  2.912339  3.143749  2.971548   \n",
       "4  3.142621  2.302079  3.297005  2.634141  2.925936  3.160544  2.983511   \n",
       "5  3.159474  2.314631  3.313386  2.648298  2.939534  3.177338  2.995475   \n",
       "6  3.176316  2.327182  3.329767  2.662454  2.953131  3.194132  3.007439   \n",
       "7  3.193157  2.339733  3.346147  2.676611  2.966728  3.210926  3.019403   \n",
       "\n",
       "         7         8         9         10        11  \n",
       "0  4.328533  5.010511  4.475180  4.688970  3.607654  \n",
       "1  4.278695  5.037119  4.549188  4.681929  3.604777  \n",
       "2  4.295342  5.064473  4.580463  4.707172  3.623495  \n",
       "3  4.319099  5.091861  4.607187  4.732133  3.643410  \n",
       "4  4.343617  5.119250  4.633426  4.757096  3.663392  \n",
       "5  4.368216  5.146640  4.659613  4.782059  3.683377  \n",
       "6  4.392824  5.174030  4.685795  4.807023  3.703363  \n",
       "7  4.417433  5.201420  4.711976  4.831986  3.723349  "
      ]
     },
     "execution_count": 304,
     "metadata": {},
     "output_type": "execute_result"
    }
   ],
   "source": [
    "df_colng = pd.DataFrame(data_colng)\n",
    "df_colng.head(10)"
   ]
  },
  {
   "cell_type": "code",
   "execution_count": 305,
   "id": "4d3abe1e",
   "metadata": {},
   "outputs": [],
   "source": [
    "df_colng.to_excel('colng_2m_9m_test.xlsx')"
   ]
  },
  {
   "cell_type": "code",
   "execution_count": 306,
   "id": "be69e344",
   "metadata": {},
   "outputs": [],
   "source": [
    "df_potts_9 = pd.read_excel(\"POTTSPOINT.xlsx\")\n",
    "df_potts_9[\"order_dt\"] = pd.to_datetime(df_potts_9[\"order_dt\"],infer_datetime_format=True)\n",
    "df_potts_9= df_potts_9.set_index([\"order_dt\"])"
   ]
  },
  {
   "cell_type": "code",
   "execution_count": 307,
   "id": "3d639a52",
   "metadata": {},
   "outputs": [
    {
     "data": {
      "text/plain": [
       "array([1.98793225, 2.26215473, 2.34424539, 2.37461385, 2.39105861,\n",
       "       2.40375508, 2.41544251, 2.4268583 ])"
      ]
     },
     "execution_count": 307,
     "metadata": {},
     "output_type": "execute_result"
    }
   ],
   "source": [
    "model_potts_9th=ARIMA(df_potts_9['potts_9th'],order=(1,1,1))\n",
    "model_potts_9th_fit=model_potts_9th.fit()\n",
    "model_potts_9th_forecast= model_potts_9th_fit.forecast(steps = 8)[0]\n",
    "model_potts_9th_forecast"
   ]
  },
  {
   "cell_type": "code",
   "execution_count": 308,
   "id": "cadfd2c5",
   "metadata": {},
   "outputs": [],
   "source": [
    "df_potts_10 = pd.read_excel(\"POTTSPOINT.xlsx\")\n",
    "df_potts_10[\"order_dt\"] = pd.to_datetime(df_potts_10[\"order_dt\"],infer_datetime_format=True)\n",
    "df_potts_10= df_potts_10.set_index([\"order_dt\"])"
   ]
  },
  {
   "cell_type": "code",
   "execution_count": 309,
   "id": "3be1d62f",
   "metadata": {},
   "outputs": [
    {
     "data": {
      "text/plain": [
       "array([2.40951749, 2.15309954, 2.11858499, 2.12098103, 2.12951665,\n",
       "       2.1390735 , 2.14880022, 2.1585552 ])"
      ]
     },
     "execution_count": 309,
     "metadata": {},
     "output_type": "execute_result"
    }
   ],
   "source": [
    "model_potts_10th=ARIMA(df_potts_10['potts_10th'],order=(1,1,1))\n",
    "model_potts_10th_fit=model_potts_10th.fit()\n",
    "model_potts_10th_forecast= model_potts_10th_fit.forecast(steps = 8)[0]\n",
    "model_potts_10th_forecast"
   ]
  },
  {
   "cell_type": "code",
   "execution_count": 310,
   "id": "1c552be1",
   "metadata": {},
   "outputs": [],
   "source": [
    "df_potts_11 = pd.read_excel(\"POTTSPOINT.xlsx\")\n",
    "df_potts_11[\"order_dt\"] = pd.to_datetime(df_potts_11[\"order_dt\"],infer_datetime_format=True)\n",
    "df_potts_11= df_potts_11.set_index([\"order_dt\"])"
   ]
  },
  {
   "cell_type": "code",
   "execution_count": 311,
   "id": "8e3936ea",
   "metadata": {},
   "outputs": [
    {
     "data": {
      "text/plain": [
       "array([2.45838   , 2.4525194 , 2.46472251, 2.47753467, 2.49036736,\n",
       "       2.50320074, 2.51603414, 2.52886755])"
      ]
     },
     "execution_count": 311,
     "metadata": {},
     "output_type": "execute_result"
    }
   ],
   "source": [
    "model_potts_11th=ARIMA(df_potts_11['potts_11th'],order=(1,1,1))\n",
    "model_potts_11th_fit=model_potts_11th.fit()\n",
    "model_potts_11th_forecast= model_potts_11th_fit.forecast(steps = 8)[0]\n",
    "model_potts_11th_forecast"
   ]
  },
  {
   "cell_type": "code",
   "execution_count": 312,
   "id": "eaabed4e",
   "metadata": {},
   "outputs": [],
   "source": [
    "df_potts_12 = pd.read_excel(\"POTTSPOINT.xlsx\")\n",
    "df_potts_12[\"order_dt\"] = pd.to_datetime(df_potts_12[\"order_dt\"],infer_datetime_format=True)\n",
    "df_potts_12= df_potts_12.set_index([\"order_dt\"])"
   ]
  },
  {
   "cell_type": "code",
   "execution_count": 313,
   "id": "a9633b13",
   "metadata": {},
   "outputs": [
    {
     "data": {
      "text/plain": [
       "array([2.72354158, 2.68219573, 2.68494461, 2.69596334, 2.70853305,\n",
       "       2.72139365, 2.73430881, 2.7472342 ])"
      ]
     },
     "execution_count": 313,
     "metadata": {},
     "output_type": "execute_result"
    }
   ],
   "source": [
    "model_potts_12th=ARIMA(df_potts_12['potts_12th'],order=(1,1,1))\n",
    "model_potts_12th_fit=model_potts_12th.fit()\n",
    "model_potts_12th_forecast= model_potts_12th_fit.forecast(steps = 8)[0]\n",
    "model_potts_12th_forecast"
   ]
  },
  {
   "cell_type": "code",
   "execution_count": 314,
   "id": "5f975eaa",
   "metadata": {},
   "outputs": [],
   "source": [
    "df_potts_13 = pd.read_excel(\"POTTSPOINT.xlsx\")\n",
    "df_potts_13[\"order_dt\"] = pd.to_datetime(df_potts_13[\"order_dt\"],infer_datetime_format=True)\n",
    "df_potts_13= df_potts_13.set_index([\"order_dt\"])"
   ]
  },
  {
   "cell_type": "code",
   "execution_count": 315,
   "id": "a2c072ce",
   "metadata": {},
   "outputs": [
    {
     "data": {
      "text/plain": [
       "array([2.25905956, 2.27785831, 2.28936624, 2.30083132, 2.31229614,\n",
       "       2.32376096, 2.33522578, 2.3466906 ])"
      ]
     },
     "execution_count": 315,
     "metadata": {},
     "output_type": "execute_result"
    }
   ],
   "source": [
    "model_potts_13th=ARIMA(df_potts_13['potts_13th'],order=(1,1,1))\n",
    "model_potts_13th_fit=model_potts_13th.fit()\n",
    "model_potts_13th_forecast= model_potts_13th_fit.forecast(steps = 8)[0]\n",
    "model_potts_13th_forecast"
   ]
  },
  {
   "cell_type": "code",
   "execution_count": 316,
   "id": "3f9cff03",
   "metadata": {},
   "outputs": [],
   "source": [
    "df_potts_14 = pd.read_excel(\"POTTSPOINT.xlsx\")\n",
    "df_potts_14[\"order_dt\"] = pd.to_datetime(df_potts_14[\"order_dt\"],infer_datetime_format=True)\n",
    "df_potts_14= df_potts_14.set_index([\"order_dt\"])"
   ]
  },
  {
   "cell_type": "code",
   "execution_count": 317,
   "id": "d42c3252",
   "metadata": {},
   "outputs": [
    {
     "data": {
      "text/plain": [
       "array([3.01067367, 3.02683339, 3.04229107, 3.05783859, 3.07337461,\n",
       "       3.0889121 , 3.10444941, 3.11998674])"
      ]
     },
     "execution_count": 317,
     "metadata": {},
     "output_type": "execute_result"
    }
   ],
   "source": [
    "model_potts_14th=ARIMA(df_potts_14['potts_14th'],order=(1,1,1))\n",
    "model_potts_14th_fit=model_potts_14th.fit()\n",
    "model_potts_14th_forecast= model_potts_14th_fit.forecast(steps = 8)[0]\n",
    "model_potts_14th_forecast"
   ]
  },
  {
   "cell_type": "code",
   "execution_count": 318,
   "id": "51696c3e",
   "metadata": {},
   "outputs": [],
   "source": [
    "df_potts_15 = pd.read_excel(\"POTTSPOINT.xlsx\")\n",
    "df_potts_15[\"order_dt\"] = pd.to_datetime(df_potts_15[\"order_dt\"],infer_datetime_format=True)\n",
    "df_potts_15= df_potts_15.set_index([\"order_dt\"])"
   ]
  },
  {
   "cell_type": "code",
   "execution_count": 319,
   "id": "60d30a6d",
   "metadata": {},
   "outputs": [
    {
     "data": {
      "text/plain": [
       "array([1.99551722, 2.00625883, 2.01623954, 2.02625829, 2.03627513,\n",
       "       2.04629206, 2.056309  , 2.06632593])"
      ]
     },
     "execution_count": 319,
     "metadata": {},
     "output_type": "execute_result"
    }
   ],
   "source": [
    "model_potts_15th=ARIMA(df_potts_15['potts_15th'],order=(1,1,1))\n",
    "model_potts_15th_fit=model_potts_15th.fit()\n",
    "model_potts_15th_forecast= model_potts_15th_fit.forecast(steps = 8)[0]\n",
    "model_potts_15th_forecast"
   ]
  },
  {
   "cell_type": "code",
   "execution_count": 320,
   "id": "d8d9de46",
   "metadata": {},
   "outputs": [],
   "source": [
    "df_potts_16 = pd.read_excel(\"POTTSPOINT.xlsx\")\n",
    "df_potts_16[\"order_dt\"] = pd.to_datetime(df_potts_16[\"order_dt\"],infer_datetime_format=True)\n",
    "df_potts_16= df_potts_16.set_index([\"order_dt\"])"
   ]
  },
  {
   "cell_type": "code",
   "execution_count": 321,
   "id": "a295fad1",
   "metadata": {},
   "outputs": [
    {
     "data": {
      "text/plain": [
       "array([3.34556052, 3.77533276, 3.74769249, 3.77128027, 3.78913075,\n",
       "       3.80762378, 3.82604485, 3.84447398])"
      ]
     },
     "execution_count": 321,
     "metadata": {},
     "output_type": "execute_result"
    }
   ],
   "source": [
    "model_potts_16th=ARIMA(df_potts_16['potts_16th'],order=(1,1,1))\n",
    "model_potts_16th_fit=model_potts_16th.fit()\n",
    "model_potts_16th_forecast= model_potts_16th_fit.forecast(steps = 8)[0]\n",
    "model_potts_16th_forecast"
   ]
  },
  {
   "cell_type": "code",
   "execution_count": 322,
   "id": "792e85ae",
   "metadata": {},
   "outputs": [],
   "source": [
    "df_potts_17 = pd.read_excel(\"POTTSPOINT.xlsx\")\n",
    "df_potts_17[\"order_dt\"] = pd.to_datetime(df_potts_17[\"order_dt\"],infer_datetime_format=True)\n",
    "df_potts_17= df_potts_17.set_index([\"order_dt\"])"
   ]
  },
  {
   "cell_type": "code",
   "execution_count": 323,
   "id": "d64c1232",
   "metadata": {},
   "outputs": [
    {
     "data": {
      "text/plain": [
       "array([4.37801684, 4.37803569, 4.40163656, 4.42376622, 4.44598768,\n",
       "       4.4682034 , 4.49041948, 4.51263554])"
      ]
     },
     "execution_count": 323,
     "metadata": {},
     "output_type": "execute_result"
    }
   ],
   "source": [
    "model_potts_17th=ARIMA(df_potts_17['potts_17th'],order=(1,1,1))\n",
    "model_potts_17th_fit=model_potts_17th.fit()\n",
    "model_potts_17th_forecast= model_potts_17th_fit.forecast(steps = 8)[0]\n",
    "model_potts_17th_forecast"
   ]
  },
  {
   "cell_type": "code",
   "execution_count": 324,
   "id": "b9b5fa42",
   "metadata": {},
   "outputs": [],
   "source": [
    "df_potts_18 = pd.read_excel(\"POTTSPOINT.xlsx\")\n",
    "df_potts_18[\"order_dt\"] = pd.to_datetime(df_potts_18[\"order_dt\"],infer_datetime_format=True)\n",
    "df_potts_18= df_potts_18.set_index([\"order_dt\"])"
   ]
  },
  {
   "cell_type": "code",
   "execution_count": 325,
   "id": "e5e4f498",
   "metadata": {},
   "outputs": [
    {
     "data": {
      "text/plain": [
       "array([5.20438392, 5.38339684, 5.42982006, 5.45909824, 5.48615941,\n",
       "       5.5129339 , 5.53967132, 5.56640395])"
      ]
     },
     "execution_count": 325,
     "metadata": {},
     "output_type": "execute_result"
    }
   ],
   "source": [
    "model_potts_18th=ARIMA(df_potts_18['potts_18th'],order=(1,1,1))\n",
    "model_potts_18th_fit=model_potts_18th.fit()\n",
    "model_potts_18th_forecast= model_potts_18th_fit.forecast(steps = 8)[0]\n",
    "model_potts_18th_forecast"
   ]
  },
  {
   "cell_type": "code",
   "execution_count": 326,
   "id": "382c7ed4",
   "metadata": {},
   "outputs": [],
   "source": [
    "df_potts_19 = pd.read_excel(\"POTTSPOINT.xlsx\")\n",
    "df_potts_19[\"order_dt\"] = pd.to_datetime(df_potts_19[\"order_dt\"],infer_datetime_format=True)\n",
    "df_potts_19= df_potts_19.set_index([\"order_dt\"])"
   ]
  },
  {
   "cell_type": "code",
   "execution_count": 327,
   "id": "88279433",
   "metadata": {},
   "outputs": [
    {
     "data": {
      "text/plain": [
       "array([5.61584639, 5.96556485, 6.02253884, 6.05327402, 6.08165741,\n",
       "       6.10983   , 6.1379837 , 6.16613571])"
      ]
     },
     "execution_count": 327,
     "metadata": {},
     "output_type": "execute_result"
    }
   ],
   "source": [
    "model_potts_19th=ARIMA(df_potts_19['potts_19th'],order=(1,1,1))\n",
    "model_potts_19th_fit=model_potts_19th.fit()\n",
    "model_potts_19th_forecast= model_potts_19th_fit.forecast(steps = 8)[0]\n",
    "model_potts_19th_forecast"
   ]
  },
  {
   "cell_type": "code",
   "execution_count": 328,
   "id": "7391dba8",
   "metadata": {},
   "outputs": [],
   "source": [
    "df_potts_20 = pd.read_excel(\"POTTSPOINT.xlsx\")\n",
    "df_potts_20[\"order_dt\"] = pd.to_datetime(df_potts_20[\"order_dt\"],infer_datetime_format=True)\n",
    "df_potts_20= df_potts_20.set_index([\"order_dt\"])"
   ]
  },
  {
   "cell_type": "code",
   "execution_count": 329,
   "id": "41bdabd8",
   "metadata": {},
   "outputs": [
    {
     "data": {
      "text/plain": [
       "array([2.52008945, 2.52210475, 2.53344672, 2.54473138, 2.5560164 ,\n",
       "       2.56730141, 2.57858642, 2.58987143])"
      ]
     },
     "execution_count": 329,
     "metadata": {},
     "output_type": "execute_result"
    }
   ],
   "source": [
    "model_potts_20th=ARIMA(df_potts_20['potts_20th'],order=(1,1,1))\n",
    "model_potts_20th_fit=model_potts_20th.fit()\n",
    "model_potts_20th_forecast= model_potts_20th_fit.forecast(steps = 8)[0]\n",
    "model_potts_20th_forecast"
   ]
  },
  {
   "cell_type": "code",
   "execution_count": 330,
   "id": "5a78f2f0",
   "metadata": {},
   "outputs": [],
   "source": [
    "data_potts = [k for k in zip(model_potts_9th_forecast,model_potts_10th_forecast,\n",
    "                             model_potts_11th_forecast,model_potts_12th_forecast,model_potts_13th_forecast,\n",
    "                            model_potts_14th_forecast,model_potts_15th_forecast,model_potts_16th_forecast,\n",
    "                             model_potts_17th_forecast,model_potts_18th_forecast,model_potts_19th_forecast,\n",
    "                            model_potts_20th_forecast)]"
   ]
  },
  {
   "cell_type": "code",
   "execution_count": 331,
   "id": "4a60bd6b",
   "metadata": {},
   "outputs": [
    {
     "data": {
      "text/html": [
       "<div>\n",
       "<style scoped>\n",
       "    .dataframe tbody tr th:only-of-type {\n",
       "        vertical-align: middle;\n",
       "    }\n",
       "\n",
       "    .dataframe tbody tr th {\n",
       "        vertical-align: top;\n",
       "    }\n",
       "\n",
       "    .dataframe thead th {\n",
       "        text-align: right;\n",
       "    }\n",
       "</style>\n",
       "<table border=\"1\" class=\"dataframe\">\n",
       "  <thead>\n",
       "    <tr style=\"text-align: right;\">\n",
       "      <th></th>\n",
       "      <th>0</th>\n",
       "      <th>1</th>\n",
       "      <th>2</th>\n",
       "      <th>3</th>\n",
       "      <th>4</th>\n",
       "      <th>5</th>\n",
       "      <th>6</th>\n",
       "      <th>7</th>\n",
       "      <th>8</th>\n",
       "      <th>9</th>\n",
       "      <th>10</th>\n",
       "      <th>11</th>\n",
       "    </tr>\n",
       "  </thead>\n",
       "  <tbody>\n",
       "    <tr>\n",
       "      <th>0</th>\n",
       "      <td>1.987932</td>\n",
       "      <td>2.409517</td>\n",
       "      <td>2.458380</td>\n",
       "      <td>2.723542</td>\n",
       "      <td>2.259060</td>\n",
       "      <td>3.010674</td>\n",
       "      <td>1.995517</td>\n",
       "      <td>3.345561</td>\n",
       "      <td>4.378017</td>\n",
       "      <td>5.204384</td>\n",
       "      <td>5.615846</td>\n",
       "      <td>2.520089</td>\n",
       "    </tr>\n",
       "    <tr>\n",
       "      <th>1</th>\n",
       "      <td>2.262155</td>\n",
       "      <td>2.153100</td>\n",
       "      <td>2.452519</td>\n",
       "      <td>2.682196</td>\n",
       "      <td>2.277858</td>\n",
       "      <td>3.026833</td>\n",
       "      <td>2.006259</td>\n",
       "      <td>3.775333</td>\n",
       "      <td>4.378036</td>\n",
       "      <td>5.383397</td>\n",
       "      <td>5.965565</td>\n",
       "      <td>2.522105</td>\n",
       "    </tr>\n",
       "    <tr>\n",
       "      <th>2</th>\n",
       "      <td>2.344245</td>\n",
       "      <td>2.118585</td>\n",
       "      <td>2.464723</td>\n",
       "      <td>2.684945</td>\n",
       "      <td>2.289366</td>\n",
       "      <td>3.042291</td>\n",
       "      <td>2.016240</td>\n",
       "      <td>3.747692</td>\n",
       "      <td>4.401637</td>\n",
       "      <td>5.429820</td>\n",
       "      <td>6.022539</td>\n",
       "      <td>2.533447</td>\n",
       "    </tr>\n",
       "    <tr>\n",
       "      <th>3</th>\n",
       "      <td>2.374614</td>\n",
       "      <td>2.120981</td>\n",
       "      <td>2.477535</td>\n",
       "      <td>2.695963</td>\n",
       "      <td>2.300831</td>\n",
       "      <td>3.057839</td>\n",
       "      <td>2.026258</td>\n",
       "      <td>3.771280</td>\n",
       "      <td>4.423766</td>\n",
       "      <td>5.459098</td>\n",
       "      <td>6.053274</td>\n",
       "      <td>2.544731</td>\n",
       "    </tr>\n",
       "    <tr>\n",
       "      <th>4</th>\n",
       "      <td>2.391059</td>\n",
       "      <td>2.129517</td>\n",
       "      <td>2.490367</td>\n",
       "      <td>2.708533</td>\n",
       "      <td>2.312296</td>\n",
       "      <td>3.073375</td>\n",
       "      <td>2.036275</td>\n",
       "      <td>3.789131</td>\n",
       "      <td>4.445988</td>\n",
       "      <td>5.486159</td>\n",
       "      <td>6.081657</td>\n",
       "      <td>2.556016</td>\n",
       "    </tr>\n",
       "    <tr>\n",
       "      <th>5</th>\n",
       "      <td>2.403755</td>\n",
       "      <td>2.139074</td>\n",
       "      <td>2.503201</td>\n",
       "      <td>2.721394</td>\n",
       "      <td>2.323761</td>\n",
       "      <td>3.088912</td>\n",
       "      <td>2.046292</td>\n",
       "      <td>3.807624</td>\n",
       "      <td>4.468203</td>\n",
       "      <td>5.512934</td>\n",
       "      <td>6.109830</td>\n",
       "      <td>2.567301</td>\n",
       "    </tr>\n",
       "    <tr>\n",
       "      <th>6</th>\n",
       "      <td>2.415443</td>\n",
       "      <td>2.148800</td>\n",
       "      <td>2.516034</td>\n",
       "      <td>2.734309</td>\n",
       "      <td>2.335226</td>\n",
       "      <td>3.104449</td>\n",
       "      <td>2.056309</td>\n",
       "      <td>3.826045</td>\n",
       "      <td>4.490419</td>\n",
       "      <td>5.539671</td>\n",
       "      <td>6.137984</td>\n",
       "      <td>2.578586</td>\n",
       "    </tr>\n",
       "    <tr>\n",
       "      <th>7</th>\n",
       "      <td>2.426858</td>\n",
       "      <td>2.158555</td>\n",
       "      <td>2.528868</td>\n",
       "      <td>2.747234</td>\n",
       "      <td>2.346691</td>\n",
       "      <td>3.119987</td>\n",
       "      <td>2.066326</td>\n",
       "      <td>3.844474</td>\n",
       "      <td>4.512636</td>\n",
       "      <td>5.566404</td>\n",
       "      <td>6.166136</td>\n",
       "      <td>2.589871</td>\n",
       "    </tr>\n",
       "  </tbody>\n",
       "</table>\n",
       "</div>"
      ],
      "text/plain": [
       "         0         1         2         3         4         5         6   \\\n",
       "0  1.987932  2.409517  2.458380  2.723542  2.259060  3.010674  1.995517   \n",
       "1  2.262155  2.153100  2.452519  2.682196  2.277858  3.026833  2.006259   \n",
       "2  2.344245  2.118585  2.464723  2.684945  2.289366  3.042291  2.016240   \n",
       "3  2.374614  2.120981  2.477535  2.695963  2.300831  3.057839  2.026258   \n",
       "4  2.391059  2.129517  2.490367  2.708533  2.312296  3.073375  2.036275   \n",
       "5  2.403755  2.139074  2.503201  2.721394  2.323761  3.088912  2.046292   \n",
       "6  2.415443  2.148800  2.516034  2.734309  2.335226  3.104449  2.056309   \n",
       "7  2.426858  2.158555  2.528868  2.747234  2.346691  3.119987  2.066326   \n",
       "\n",
       "         7         8         9         10        11  \n",
       "0  3.345561  4.378017  5.204384  5.615846  2.520089  \n",
       "1  3.775333  4.378036  5.383397  5.965565  2.522105  \n",
       "2  3.747692  4.401637  5.429820  6.022539  2.533447  \n",
       "3  3.771280  4.423766  5.459098  6.053274  2.544731  \n",
       "4  3.789131  4.445988  5.486159  6.081657  2.556016  \n",
       "5  3.807624  4.468203  5.512934  6.109830  2.567301  \n",
       "6  3.826045  4.490419  5.539671  6.137984  2.578586  \n",
       "7  3.844474  4.512636  5.566404  6.166136  2.589871  "
      ]
     },
     "execution_count": 331,
     "metadata": {},
     "output_type": "execute_result"
    }
   ],
   "source": [
    "df_potts = pd.DataFrame(data_potts)\n",
    "df_potts.head(10)"
   ]
  },
  {
   "cell_type": "code",
   "execution_count": 332,
   "id": "0bfeee2c",
   "metadata": {},
   "outputs": [],
   "source": [
    "df_potts.to_excel('potts_2m_9m_test.xlsx')"
   ]
  },
  {
   "cell_type": "code",
   "execution_count": 333,
   "id": "e568f32b",
   "metadata": {},
   "outputs": [],
   "source": [
    "df_smb_9 = pd.read_excel(\"SMB.xlsx\")\n",
    "df_smb_9[\"order_dt\"] = pd.to_datetime(df_smb_9[\"order_dt\"],infer_datetime_format=True)\n",
    "df_smb_9= df_smb_9.set_index([\"order_dt\"])"
   ]
  },
  {
   "cell_type": "code",
   "execution_count": 334,
   "id": "863517d4",
   "metadata": {},
   "outputs": [
    {
     "data": {
      "text/plain": [
       "array([1.3180557 , 1.35763244, 1.36717975, 1.37348887, 1.3794488 ,\n",
       "       1.38537108, 1.3912893 , 1.39720709])"
      ]
     },
     "execution_count": 334,
     "metadata": {},
     "output_type": "execute_result"
    }
   ],
   "source": [
    "model_smb_9th=ARIMA(df_smb_9['9th'],order=(1,1,1))\n",
    "model_smb_9th_fit=model_smb_9th.fit()\n",
    "model_smb_9th_forecast= model_smb_9th_fit.forecast(steps = 8)[0]\n",
    "model_smb_9th_forecast"
   ]
  },
  {
   "cell_type": "code",
   "execution_count": 335,
   "id": "d59c7d5e",
   "metadata": {},
   "outputs": [],
   "source": [
    "df_smb_10 = pd.read_excel(\"SMB.xlsx\")\n",
    "df_smb_10[\"order_dt\"] = pd.to_datetime(df_smb_10[\"order_dt\"],infer_datetime_format=True)\n",
    "df_smb_10= df_smb_10.set_index([\"order_dt\"])"
   ]
  },
  {
   "cell_type": "code",
   "execution_count": 336,
   "id": "aa91db75",
   "metadata": {},
   "outputs": [
    {
     "data": {
      "text/plain": [
       "array([1.69419156, 1.7696521 , 1.7829512 , 1.79000519, 1.79643175,\n",
       "       1.80279528, 1.80915248, 1.81550904])"
      ]
     },
     "execution_count": 336,
     "metadata": {},
     "output_type": "execute_result"
    }
   ],
   "source": [
    "model_smb_10th=ARIMA(df_smb_10['10th'],order=(1,1,1))\n",
    "model_smb_10th_fit=model_smb_10th.fit()\n",
    "model_smb_10th_forecast= model_smb_10th_fit.forecast(steps = 8)[0]\n",
    "model_smb_10th_forecast"
   ]
  },
  {
   "cell_type": "code",
   "execution_count": 337,
   "id": "9ded997e",
   "metadata": {},
   "outputs": [],
   "source": [
    "df_smb_11 = pd.read_excel(\"SMB.xlsx\")\n",
    "df_smb_11[\"order_dt\"] = pd.to_datetime(df_smb_11[\"order_dt\"],infer_datetime_format=True)\n",
    "df_smb_11= df_smb_11.set_index([\"order_dt\"])"
   ]
  },
  {
   "cell_type": "code",
   "execution_count": 338,
   "id": "6ca52512",
   "metadata": {},
   "outputs": [
    {
     "data": {
      "text/plain": [
       "array([1.80081294, 1.77447316, 1.77516894, 1.78009343, 1.78567934,\n",
       "       1.79136872, 1.79707427, 1.80278235])"
      ]
     },
     "execution_count": 338,
     "metadata": {},
     "output_type": "execute_result"
    }
   ],
   "source": [
    "model_smb_11th=ARIMA(df_smb_11['11th'],order=(1,1,1))\n",
    "model_smb_11th_fit=model_smb_11th.fit()\n",
    "model_smb_11th_forecast= model_smb_11th_fit.forecast(steps = 8)[0]\n",
    "model_smb_11th_forecast"
   ]
  },
  {
   "cell_type": "code",
   "execution_count": 339,
   "id": "9f169adc",
   "metadata": {},
   "outputs": [],
   "source": [
    "df_smb_12 = pd.read_excel(\"SMB.xlsx\")\n",
    "df_smb_12[\"order_dt\"] = pd.to_datetime(df_smb_12[\"order_dt\"],infer_datetime_format=True)\n",
    "df_smb_12= df_smb_12.set_index([\"order_dt\"])"
   ]
  },
  {
   "cell_type": "code",
   "execution_count": 340,
   "id": "fdf62465",
   "metadata": {},
   "outputs": [
    {
     "data": {
      "text/plain": [
       "array([1.60398288, 1.63467516, 1.63956238, 1.64601016, 1.65236355,\n",
       "       1.65872266, 1.66508142, 1.67144021])"
      ]
     },
     "execution_count": 340,
     "metadata": {},
     "output_type": "execute_result"
    }
   ],
   "source": [
    "model_smb_12th=ARIMA(df_smb_12['12th'],order=(1,1,1))\n",
    "model_smb_12th_fit=model_smb_12th.fit()\n",
    "model_smb_12th_forecast= model_smb_12th_fit.forecast(steps = 8)[0]\n",
    "model_smb_12th_forecast"
   ]
  },
  {
   "cell_type": "code",
   "execution_count": 341,
   "id": "1dc62651",
   "metadata": {},
   "outputs": [],
   "source": [
    "df_smb_13 = pd.read_excel(\"SMB.xlsx\")\n",
    "df_smb_13[\"order_dt\"] = pd.to_datetime(df_smb_13[\"order_dt\"],infer_datetime_format=True)\n",
    "df_smb_13= df_smb_13.set_index([\"order_dt\"])"
   ]
  },
  {
   "cell_type": "code",
   "execution_count": 342,
   "id": "10c8c420",
   "metadata": {},
   "outputs": [
    {
     "data": {
      "text/plain": [
       "array([1.88501484, 1.78600648, 1.79737994, 1.80261227, 1.80818627,\n",
       "       1.81374125, 1.8192973 , 1.82485328])"
      ]
     },
     "execution_count": 342,
     "metadata": {},
     "output_type": "execute_result"
    }
   ],
   "source": [
    "model_smb_13th=ARIMA(df_smb_13['13th'],order=(1,1,1))\n",
    "model_smb_13th_fit=model_smb_13th.fit()\n",
    "model_smb_13th_forecast= model_smb_13th_fit.forecast(steps = 8)[0]\n",
    "model_smb_13th_forecast"
   ]
  },
  {
   "cell_type": "code",
   "execution_count": 343,
   "id": "257bd45c",
   "metadata": {},
   "outputs": [],
   "source": [
    "df_smb_14 = pd.read_excel(\"SMB.xlsx\")\n",
    "df_smb_14[\"order_dt\"] = pd.to_datetime(df_smb_14[\"order_dt\"],infer_datetime_format=True)\n",
    "df_smb_14= df_smb_14.set_index([\"order_dt\"])"
   ]
  },
  {
   "cell_type": "code",
   "execution_count": 344,
   "id": "bb07fe84",
   "metadata": {},
   "outputs": [
    {
     "data": {
      "text/plain": [
       "array([2.07254323, 2.08096874, 2.08869533, 2.09641429, 2.10413317,\n",
       "       2.11185205, 2.11957093, 2.12728981])"
      ]
     },
     "execution_count": 344,
     "metadata": {},
     "output_type": "execute_result"
    }
   ],
   "source": [
    "model_smb_14th=ARIMA(df_smb_14['14th'],order=(1,1,1))\n",
    "model_smb_14th_fit=model_smb_14th.fit()\n",
    "model_smb_14th_forecast= model_smb_14th_fit.forecast(steps = 8)[0]\n",
    "model_smb_14th_forecast"
   ]
  },
  {
   "cell_type": "code",
   "execution_count": 345,
   "id": "b770eb78",
   "metadata": {},
   "outputs": [],
   "source": [
    "df_smb_15 = pd.read_excel(\"SMB.xlsx\")\n",
    "df_smb_15[\"order_dt\"] = pd.to_datetime(df_smb_15[\"order_dt\"],infer_datetime_format=True)\n",
    "df_smb_15= df_smb_15.set_index([\"order_dt\"])"
   ]
  },
  {
   "cell_type": "code",
   "execution_count": 346,
   "id": "561963ed",
   "metadata": {},
   "outputs": [
    {
     "data": {
      "text/plain": [
       "array([2.70365512, 2.56209091, 2.57844227, 2.58602898, 2.59410215,\n",
       "       2.60214832, 2.61019599, 2.61824357])"
      ]
     },
     "execution_count": 346,
     "metadata": {},
     "output_type": "execute_result"
    }
   ],
   "source": [
    "model_smb_15th=ARIMA(df_smb_15['15th'],order=(1,1,1))\n",
    "model_smb_15th_fit=model_smb_15th.fit()\n",
    "model_smb_15th_forecast= model_smb_15th_fit.forecast(steps = 8)[0]\n",
    "model_smb_15th_forecast"
   ]
  },
  {
   "cell_type": "code",
   "execution_count": 347,
   "id": "e5e12012",
   "metadata": {},
   "outputs": [],
   "source": [
    "df_smb_16 = pd.read_excel(\"SMB.xlsx\")\n",
    "df_smb_16[\"order_dt\"] = pd.to_datetime(df_smb_16[\"order_dt\"],infer_datetime_format=True)\n",
    "df_smb_16= df_smb_16.set_index([\"order_dt\"])"
   ]
  },
  {
   "cell_type": "code",
   "execution_count": 348,
   "id": "e00d308f",
   "metadata": {},
   "outputs": [
    {
     "data": {
      "text/plain": [
       "array([2.13271872, 2.19433168, 2.19767737, 2.20467802, 2.2114494 ,\n",
       "       2.21823517, 2.22502003, 2.23180495])"
      ]
     },
     "execution_count": 348,
     "metadata": {},
     "output_type": "execute_result"
    }
   ],
   "source": [
    "model_smb_16th=ARIMA(df_smb_16['16th'],order=(1,1,1))\n",
    "model_smb_16th_fit=model_smb_16th.fit()\n",
    "model_smb_16th_forecast= model_smb_16th_fit.forecast(steps = 8)[0]\n",
    "model_smb_16th_forecast"
   ]
  },
  {
   "cell_type": "code",
   "execution_count": 349,
   "id": "e532b1ba",
   "metadata": {},
   "outputs": [],
   "source": [
    "df_smb_17 = pd.read_excel(\"SMB.xlsx\")\n",
    "df_smb_17[\"order_dt\"] = pd.to_datetime(df_smb_17[\"order_dt\"],infer_datetime_format=True)\n",
    "df_smb_17= df_smb_17.set_index([\"order_dt\"])"
   ]
  },
  {
   "cell_type": "code",
   "execution_count": 350,
   "id": "5af198a8",
   "metadata": {},
   "outputs": [
    {
     "data": {
      "text/plain": [
       "array([3.52782933, 3.52936024, 3.54376545, 3.55785572, 3.5719537 ,\n",
       "       3.58605149, 3.60014928, 3.61424707])"
      ]
     },
     "execution_count": 350,
     "metadata": {},
     "output_type": "execute_result"
    }
   ],
   "source": [
    "model_smb_17th=ARIMA(df_smb_17['17th'],order=(1,1,1))\n",
    "model_smb_17th_fit=model_smb_17th.fit()\n",
    "model_smb_17th_forecast= model_smb_17th_fit.forecast(steps = 8)[0]\n",
    "model_smb_17th_forecast"
   ]
  },
  {
   "cell_type": "code",
   "execution_count": 351,
   "id": "7367dd8b",
   "metadata": {},
   "outputs": [],
   "source": [
    "df_smb_18 = pd.read_excel(\"SMB.xlsx\")\n",
    "df_smb_18[\"order_dt\"] = pd.to_datetime(df_smb_18[\"order_dt\"],infer_datetime_format=True)\n",
    "df_smb_18= df_smb_18.set_index([\"order_dt\"])"
   ]
  },
  {
   "cell_type": "code",
   "execution_count": 352,
   "id": "b0fda6d3",
   "metadata": {},
   "outputs": [
    {
     "data": {
      "text/plain": [
       "array([3.76982765, 3.78104479, 3.79510751, 3.80916563, 3.82322375,\n",
       "       3.83728188, 3.85134   , 3.86539812])"
      ]
     },
     "execution_count": 352,
     "metadata": {},
     "output_type": "execute_result"
    }
   ],
   "source": [
    "model_smb_18th=ARIMA(df_smb_18['18th'],order=(1,1,1))\n",
    "model_smb_18th_fit=model_smb_18th.fit()\n",
    "model_smb_18th_forecast= model_smb_18th_fit.forecast(steps = 8)[0]\n",
    "model_smb_18th_forecast"
   ]
  },
  {
   "cell_type": "code",
   "execution_count": 353,
   "id": "7e38703f",
   "metadata": {},
   "outputs": [],
   "source": [
    "df_smb_19 = pd.read_excel(\"SMB.xlsx\")\n",
    "df_smb_19[\"order_dt\"] = pd.to_datetime(df_smb_19[\"order_dt\"],infer_datetime_format=True)\n",
    "df_smb_19= df_smb_19.set_index([\"order_dt\"])"
   ]
  },
  {
   "cell_type": "code",
   "execution_count": 354,
   "id": "7d5ea015",
   "metadata": {},
   "outputs": [
    {
     "data": {
      "text/plain": [
       "array([3.35816411, 3.88541281, 4.01313094, 4.05366608, 4.07517672,\n",
       "       4.09253595, 4.10898928, 4.12524494])"
      ]
     },
     "execution_count": 354,
     "metadata": {},
     "output_type": "execute_result"
    }
   ],
   "source": [
    "model_smb_19th=ARIMA(df_smb_19['19th'],order=(1,1,1))\n",
    "model_smb_19th_fit=model_smb_19th.fit()\n",
    "model_smb_19th_forecast= model_smb_19th_fit.forecast(steps = 8)[0]\n",
    "model_smb_19th_forecast"
   ]
  },
  {
   "cell_type": "code",
   "execution_count": 355,
   "id": "acf714a4",
   "metadata": {},
   "outputs": [],
   "source": [
    "df_smb_20 = pd.read_excel(\"SMB.xlsx\")\n",
    "df_smb_20[\"order_dt\"] = pd.to_datetime(df_smb_20[\"order_dt\"],infer_datetime_format=True)\n",
    "df_smb_20= df_smb_20.set_index([\"order_dt\"])"
   ]
  },
  {
   "cell_type": "code",
   "execution_count": 356,
   "id": "b3629018",
   "metadata": {},
   "outputs": [
    {
     "data": {
      "text/plain": [
       "array([2.15172632, 2.45148715, 2.50089389, 2.51645704, 2.52744511,\n",
       "       2.53781471, 2.5481007 , 2.5583754 ])"
      ]
     },
     "execution_count": 356,
     "metadata": {},
     "output_type": "execute_result"
    }
   ],
   "source": [
    "model_smb_20th=ARIMA(df_smb_20['20th'],order=(1,1,1))\n",
    "model_smb_20th_fit=model_smb_20th.fit()\n",
    "model_smb_20th_forecast= model_smb_20th_fit.forecast(steps = 8)[0]\n",
    "model_smb_20th_forecast"
   ]
  },
  {
   "cell_type": "code",
   "execution_count": 357,
   "id": "c3154beb",
   "metadata": {},
   "outputs": [],
   "source": [
    "data_smb =[k for k in zip(model_smb_9th_forecast,model_smb_10th_forecast,model_smb_11th_forecast,\n",
    "                      model_smb_12th_forecast,model_smb_13th_forecast,model_smb_14th_forecast,model_smb_15th_forecast,\n",
    "                      model_smb_16th_forecast,model_smb_17th_forecast,model_smb_18th_forecast,model_smb_19th_forecast,\n",
    "                      model_smb_20th_forecast)]\n"
   ]
  },
  {
   "cell_type": "code",
   "execution_count": 358,
   "id": "da0d645b",
   "metadata": {},
   "outputs": [
    {
     "data": {
      "text/html": [
       "<div>\n",
       "<style scoped>\n",
       "    .dataframe tbody tr th:only-of-type {\n",
       "        vertical-align: middle;\n",
       "    }\n",
       "\n",
       "    .dataframe tbody tr th {\n",
       "        vertical-align: top;\n",
       "    }\n",
       "\n",
       "    .dataframe thead th {\n",
       "        text-align: right;\n",
       "    }\n",
       "</style>\n",
       "<table border=\"1\" class=\"dataframe\">\n",
       "  <thead>\n",
       "    <tr style=\"text-align: right;\">\n",
       "      <th></th>\n",
       "      <th>0</th>\n",
       "      <th>1</th>\n",
       "      <th>2</th>\n",
       "      <th>3</th>\n",
       "      <th>4</th>\n",
       "      <th>5</th>\n",
       "      <th>6</th>\n",
       "      <th>7</th>\n",
       "      <th>8</th>\n",
       "      <th>9</th>\n",
       "      <th>10</th>\n",
       "      <th>11</th>\n",
       "    </tr>\n",
       "  </thead>\n",
       "  <tbody>\n",
       "    <tr>\n",
       "      <th>0</th>\n",
       "      <td>1.318056</td>\n",
       "      <td>1.694192</td>\n",
       "      <td>1.800813</td>\n",
       "      <td>1.603983</td>\n",
       "      <td>1.885015</td>\n",
       "      <td>2.072543</td>\n",
       "      <td>2.703655</td>\n",
       "      <td>2.132719</td>\n",
       "      <td>3.527829</td>\n",
       "      <td>3.769828</td>\n",
       "      <td>3.358164</td>\n",
       "      <td>2.151726</td>\n",
       "    </tr>\n",
       "    <tr>\n",
       "      <th>1</th>\n",
       "      <td>1.357632</td>\n",
       "      <td>1.769652</td>\n",
       "      <td>1.774473</td>\n",
       "      <td>1.634675</td>\n",
       "      <td>1.786006</td>\n",
       "      <td>2.080969</td>\n",
       "      <td>2.562091</td>\n",
       "      <td>2.194332</td>\n",
       "      <td>3.529360</td>\n",
       "      <td>3.781045</td>\n",
       "      <td>3.885413</td>\n",
       "      <td>2.451487</td>\n",
       "    </tr>\n",
       "    <tr>\n",
       "      <th>2</th>\n",
       "      <td>1.367180</td>\n",
       "      <td>1.782951</td>\n",
       "      <td>1.775169</td>\n",
       "      <td>1.639562</td>\n",
       "      <td>1.797380</td>\n",
       "      <td>2.088695</td>\n",
       "      <td>2.578442</td>\n",
       "      <td>2.197677</td>\n",
       "      <td>3.543765</td>\n",
       "      <td>3.795108</td>\n",
       "      <td>4.013131</td>\n",
       "      <td>2.500894</td>\n",
       "    </tr>\n",
       "    <tr>\n",
       "      <th>3</th>\n",
       "      <td>1.373489</td>\n",
       "      <td>1.790005</td>\n",
       "      <td>1.780093</td>\n",
       "      <td>1.646010</td>\n",
       "      <td>1.802612</td>\n",
       "      <td>2.096414</td>\n",
       "      <td>2.586029</td>\n",
       "      <td>2.204678</td>\n",
       "      <td>3.557856</td>\n",
       "      <td>3.809166</td>\n",
       "      <td>4.053666</td>\n",
       "      <td>2.516457</td>\n",
       "    </tr>\n",
       "    <tr>\n",
       "      <th>4</th>\n",
       "      <td>1.379449</td>\n",
       "      <td>1.796432</td>\n",
       "      <td>1.785679</td>\n",
       "      <td>1.652364</td>\n",
       "      <td>1.808186</td>\n",
       "      <td>2.104133</td>\n",
       "      <td>2.594102</td>\n",
       "      <td>2.211449</td>\n",
       "      <td>3.571954</td>\n",
       "      <td>3.823224</td>\n",
       "      <td>4.075177</td>\n",
       "      <td>2.527445</td>\n",
       "    </tr>\n",
       "    <tr>\n",
       "      <th>5</th>\n",
       "      <td>1.385371</td>\n",
       "      <td>1.802795</td>\n",
       "      <td>1.791369</td>\n",
       "      <td>1.658723</td>\n",
       "      <td>1.813741</td>\n",
       "      <td>2.111852</td>\n",
       "      <td>2.602148</td>\n",
       "      <td>2.218235</td>\n",
       "      <td>3.586051</td>\n",
       "      <td>3.837282</td>\n",
       "      <td>4.092536</td>\n",
       "      <td>2.537815</td>\n",
       "    </tr>\n",
       "    <tr>\n",
       "      <th>6</th>\n",
       "      <td>1.391289</td>\n",
       "      <td>1.809152</td>\n",
       "      <td>1.797074</td>\n",
       "      <td>1.665081</td>\n",
       "      <td>1.819297</td>\n",
       "      <td>2.119571</td>\n",
       "      <td>2.610196</td>\n",
       "      <td>2.225020</td>\n",
       "      <td>3.600149</td>\n",
       "      <td>3.851340</td>\n",
       "      <td>4.108989</td>\n",
       "      <td>2.548101</td>\n",
       "    </tr>\n",
       "    <tr>\n",
       "      <th>7</th>\n",
       "      <td>1.397207</td>\n",
       "      <td>1.815509</td>\n",
       "      <td>1.802782</td>\n",
       "      <td>1.671440</td>\n",
       "      <td>1.824853</td>\n",
       "      <td>2.127290</td>\n",
       "      <td>2.618244</td>\n",
       "      <td>2.231805</td>\n",
       "      <td>3.614247</td>\n",
       "      <td>3.865398</td>\n",
       "      <td>4.125245</td>\n",
       "      <td>2.558375</td>\n",
       "    </tr>\n",
       "  </tbody>\n",
       "</table>\n",
       "</div>"
      ],
      "text/plain": [
       "         0         1         2         3         4         5         6   \\\n",
       "0  1.318056  1.694192  1.800813  1.603983  1.885015  2.072543  2.703655   \n",
       "1  1.357632  1.769652  1.774473  1.634675  1.786006  2.080969  2.562091   \n",
       "2  1.367180  1.782951  1.775169  1.639562  1.797380  2.088695  2.578442   \n",
       "3  1.373489  1.790005  1.780093  1.646010  1.802612  2.096414  2.586029   \n",
       "4  1.379449  1.796432  1.785679  1.652364  1.808186  2.104133  2.594102   \n",
       "5  1.385371  1.802795  1.791369  1.658723  1.813741  2.111852  2.602148   \n",
       "6  1.391289  1.809152  1.797074  1.665081  1.819297  2.119571  2.610196   \n",
       "7  1.397207  1.815509  1.802782  1.671440  1.824853  2.127290  2.618244   \n",
       "\n",
       "         7         8         9         10        11  \n",
       "0  2.132719  3.527829  3.769828  3.358164  2.151726  \n",
       "1  2.194332  3.529360  3.781045  3.885413  2.451487  \n",
       "2  2.197677  3.543765  3.795108  4.013131  2.500894  \n",
       "3  2.204678  3.557856  3.809166  4.053666  2.516457  \n",
       "4  2.211449  3.571954  3.823224  4.075177  2.527445  \n",
       "5  2.218235  3.586051  3.837282  4.092536  2.537815  \n",
       "6  2.225020  3.600149  3.851340  4.108989  2.548101  \n",
       "7  2.231805  3.614247  3.865398  4.125245  2.558375  "
      ]
     },
     "execution_count": 358,
     "metadata": {},
     "output_type": "execute_result"
    }
   ],
   "source": [
    "\n",
    "df_smb = pd.DataFrame(data_smb)\n",
    "df_smb.head(10)"
   ]
  },
  {
   "cell_type": "code",
   "execution_count": 360,
   "id": "972d825c",
   "metadata": {},
   "outputs": [],
   "source": [
    "df_smb.to_excel('smb_2m_9m_test.xlsx')"
   ]
  },
  {
   "cell_type": "code",
   "execution_count": 361,
   "id": "0bf9a48a",
   "metadata": {},
   "outputs": [],
   "source": [
    "df_andl_9 = pd.read_excel(\"ANNANDALE.xlsx\")\n",
    "df_andl_9[\"order_dt\"] = pd.to_datetime(df_andl_9[\"order_dt\"],infer_datetime_format=True)\n",
    "df_andl_9= df_andl_9.set_index([\"order_dt\"])"
   ]
  },
  {
   "cell_type": "code",
   "execution_count": 362,
   "id": "3962bef6",
   "metadata": {},
   "outputs": [
    {
     "data": {
      "text/plain": [
       "array([1.21543155, 0.72441213, 0.92418199, 0.84431309, 0.8776449 ,\n",
       "       0.86515187, 0.87120922, 0.86975718])"
      ]
     },
     "execution_count": 362,
     "metadata": {},
     "output_type": "execute_result"
    }
   ],
   "source": [
    "model_andl_9th=ARIMA(df_andl_9['9th'],order=(1,1,0))\n",
    "model_andl_9th_fit=model_andl_9th.fit()\n",
    "model_andl_9th_forecast= model_andl_9th_fit.forecast(steps = 8)[0]\n",
    "model_andl_9th_forecast"
   ]
  },
  {
   "cell_type": "code",
   "execution_count": 363,
   "id": "3a648a70",
   "metadata": {},
   "outputs": [],
   "source": [
    "df_andl_10 = pd.read_excel(\"ANNANDALE.xlsx\")\n",
    "df_andl_10[\"order_dt\"] = pd.to_datetime(df_andl_10[\"order_dt\"],infer_datetime_format=True)\n",
    "df_andl_10= df_andl_10.set_index([\"order_dt\"])"
   ]
  },
  {
   "cell_type": "code",
   "execution_count": 364,
   "id": "734691a0",
   "metadata": {},
   "outputs": [
    {
     "data": {
      "text/plain": [
       "array([2.49946179, 2.51914776, 2.5276411 , 2.53587333, 2.54409946,\n",
       "       2.55232546, 2.56055145, 2.56877744])"
      ]
     },
     "execution_count": 364,
     "metadata": {},
     "output_type": "execute_result"
    }
   ],
   "source": [
    "model_andl_10th=ARIMA(df_andl_10['10th'],order=(1,1,1))\n",
    "model_andl_10th_fit=model_andl_10th.fit()\n",
    "model_andl_10th_forecast= model_andl_10th_fit.forecast(steps = 8)[0]\n",
    "model_andl_10th_forecast"
   ]
  },
  {
   "cell_type": "code",
   "execution_count": 365,
   "id": "119679c1",
   "metadata": {},
   "outputs": [],
   "source": [
    "df_andl_11 = pd.read_excel(\"ANNANDALE.xlsx\")\n",
    "df_andl_11[\"order_dt\"] = pd.to_datetime(df_andl_11[\"order_dt\"],infer_datetime_format=True)\n",
    "df_andl_11= df_andl_11.set_index([\"order_dt\"])"
   ]
  },
  {
   "cell_type": "code",
   "execution_count": 366,
   "id": "011c650a",
   "metadata": {},
   "outputs": [
    {
     "data": {
      "text/plain": [
       "array([2.46219945, 2.48672274, 2.49597935, 2.50565044, 2.51531028,\n",
       "       2.52497042, 2.53463056, 2.54429069])"
      ]
     },
     "execution_count": 366,
     "metadata": {},
     "output_type": "execute_result"
    }
   ],
   "source": [
    "model_andl_11th=ARIMA(df_andl_11['11th'],order=(1,1,1))\n",
    "model_andl_11th_fit=model_andl_11th.fit()\n",
    "model_andl_11th_forecast= model_andl_11th_fit.forecast(steps = 8)[0]\n",
    "model_andl_11th_forecast"
   ]
  },
  {
   "cell_type": "code",
   "execution_count": 367,
   "id": "e1833797",
   "metadata": {},
   "outputs": [],
   "source": [
    "df_andl_12 = pd.read_excel(\"ANNANDALE.xlsx\")\n",
    "df_andl_12[\"order_dt\"] = pd.to_datetime(df_andl_12[\"order_dt\"],infer_datetime_format=True)\n",
    "df_andl_12= df_andl_12.set_index([\"order_dt\"])"
   ]
  },
  {
   "cell_type": "code",
   "execution_count": 368,
   "id": "b0aadf79",
   "metadata": {},
   "outputs": [
    {
     "data": {
      "text/plain": [
       "array([1.73557967, 1.69764553, 1.69769347, 1.70411106, 1.71159685,\n",
       "       1.71926178, 1.72695675, 1.73465676])"
      ]
     },
     "execution_count": 368,
     "metadata": {},
     "output_type": "execute_result"
    }
   ],
   "source": [
    "model_andl_12th=ARIMA(df_andl_12['12th'],order=(1,1,1))\n",
    "model_andl_12th_fit=model_andl_12th.fit()\n",
    "model_andl_12th_forecast= model_andl_12th_fit.forecast(steps = 8)[0]\n",
    "model_andl_12th_forecast"
   ]
  },
  {
   "cell_type": "code",
   "execution_count": 369,
   "id": "c1957c4f",
   "metadata": {},
   "outputs": [],
   "source": [
    "df_andl_13 = pd.read_excel(\"ANNANDALE.xlsx\")\n",
    "df_andl_13[\"order_dt\"] = pd.to_datetime(df_andl_13[\"order_dt\"],infer_datetime_format=True)\n",
    "df_andl_13= df_andl_13.set_index([\"order_dt\"])"
   ]
  },
  {
   "cell_type": "code",
   "execution_count": 370,
   "id": "d01635ab",
   "metadata": {},
   "outputs": [
    {
     "data": {
      "text/plain": [
       "array([2.66057826, 3.09809573, 3.22092175, 3.2627782 , 3.28380131,\n",
       "       3.29946405, 3.31374757, 3.32767622])"
      ]
     },
     "execution_count": 370,
     "metadata": {},
     "output_type": "execute_result"
    }
   ],
   "source": [
    "model_andl_13th=ARIMA(df_andl_13['13th'],order=(1,1,1))\n",
    "model_andl_13th_fit=model_andl_13th.fit()\n",
    "model_andl_13th_forecast= model_andl_13th_fit.forecast(steps = 8)[0]\n",
    "model_andl_13th_forecast"
   ]
  },
  {
   "cell_type": "code",
   "execution_count": 371,
   "id": "798358ac",
   "metadata": {},
   "outputs": [],
   "source": [
    "df_andl_14 = pd.read_excel(\"ANNANDALE.xlsx\")\n",
    "df_andl_14[\"order_dt\"] = pd.to_datetime(df_andl_14[\"order_dt\"],infer_datetime_format=True)\n",
    "df_andl_14= df_andl_14.set_index([\"order_dt\"])"
   ]
  },
  {
   "cell_type": "code",
   "execution_count": 372,
   "id": "3f79ed85",
   "metadata": {},
   "outputs": [
    {
     "data": {
      "text/plain": [
       "array([1.7732226 , 1.85086716, 1.86484745, 1.87300074, 1.8806207 ,\n",
       "       1.88819185, 1.89575853, 1.9033248 ])"
      ]
     },
     "execution_count": 372,
     "metadata": {},
     "output_type": "execute_result"
    }
   ],
   "source": [
    "model_andl_14th=ARIMA(df_andl_14['14th'],order=(1,1,1))\n",
    "model_andl_14th_fit=model_andl_14th.fit()\n",
    "model_andl_14th_forecast= model_andl_14th_fit.forecast(steps = 8)[0]\n",
    "model_andl_14th_forecast"
   ]
  },
  {
   "cell_type": "code",
   "execution_count": 373,
   "id": "1aa25875",
   "metadata": {},
   "outputs": [],
   "source": [
    "df_andl_15 = pd.read_excel(\"ANNANDALE.xlsx\")\n",
    "df_andl_15[\"order_dt\"] = pd.to_datetime(df_andl_15[\"order_dt\"],infer_datetime_format=True)\n",
    "df_andl_15= df_andl_15.set_index([\"order_dt\"])"
   ]
  },
  {
   "cell_type": "code",
   "execution_count": 374,
   "id": "91d326d8",
   "metadata": {},
   "outputs": [
    {
     "data": {
      "text/plain": [
       "array([3.53558198, 3.54036556, 3.55428503, 3.56838238, 3.5824832 ,\n",
       "       3.59658409, 3.61068497, 3.62478586])"
      ]
     },
     "execution_count": 374,
     "metadata": {},
     "output_type": "execute_result"
    }
   ],
   "source": [
    "model_andl_15th=ARIMA(df_andl_15['15th'],order=(1,1,1))\n",
    "model_andl_15th_fit=model_andl_15th.fit()\n",
    "model_andl_15th_forecast= model_andl_15th_fit.forecast(steps = 8)[0]\n",
    "model_andl_15th_forecast"
   ]
  },
  {
   "cell_type": "code",
   "execution_count": 375,
   "id": "a45579d4",
   "metadata": {},
   "outputs": [],
   "source": [
    "df_andl_16 = pd.read_excel(\"ANNANDALE.xlsx\")\n",
    "df_andl_16[\"order_dt\"] = pd.to_datetime(df_andl_16[\"order_dt\"],infer_datetime_format=True)\n",
    "df_andl_16= df_andl_16.set_index([\"order_dt\"])"
   ]
  },
  {
   "cell_type": "code",
   "execution_count": 376,
   "id": "6dda568d",
   "metadata": {},
   "outputs": [
    {
     "data": {
      "text/plain": [
       "array([4.33581496, 4.34718545, 4.36698788, 4.38683274, 4.40667781,\n",
       "       4.42652288, 4.44636796, 4.46621303])"
      ]
     },
     "execution_count": 376,
     "metadata": {},
     "output_type": "execute_result"
    }
   ],
   "source": [
    "model_andl_16th=ARIMA(df_andl_16['16th'],order=(1,1,1))\n",
    "model_andl_16th_fit=model_andl_16th.fit()\n",
    "model_andl_16th_forecast= model_andl_16th_fit.forecast(steps = 8)[0]\n",
    "model_andl_16th_forecast"
   ]
  },
  {
   "cell_type": "code",
   "execution_count": 377,
   "id": "c364b9af",
   "metadata": {},
   "outputs": [],
   "source": [
    "df_andl_17 = pd.read_excel(\"ANNANDALE.xlsx\")\n",
    "df_andl_17[\"order_dt\"] = pd.to_datetime(df_andl_17[\"order_dt\"],infer_datetime_format=True)\n",
    "df_andl_17= df_andl_17.set_index([\"order_dt\"])"
   ]
  },
  {
   "cell_type": "code",
   "execution_count": 378,
   "id": "52ef303f",
   "metadata": {},
   "outputs": [
    {
     "data": {
      "text/plain": [
       "array([4.2427505 , 4.2681181 , 4.28632121, 4.30448215, 4.32264284,\n",
       "       4.34080354, 4.35896423, 4.37712492])"
      ]
     },
     "execution_count": 378,
     "metadata": {},
     "output_type": "execute_result"
    }
   ],
   "source": [
    "model_andl_17th=ARIMA(df_andl_17['17th'],order=(1,1,1))\n",
    "model_andl_17th_fit=model_andl_17th.fit()\n",
    "model_andl_17th_forecast= model_andl_17th_fit.forecast(steps = 8)[0]\n",
    "model_andl_17th_forecast"
   ]
  },
  {
   "cell_type": "code",
   "execution_count": 379,
   "id": "ecf23d1f",
   "metadata": {},
   "outputs": [],
   "source": [
    "df_andl_18 = pd.read_excel(\"ANNANDALE.xlsx\")\n",
    "df_andl_18[\"order_dt\"] = pd.to_datetime(df_andl_18[\"order_dt\"],infer_datetime_format=True)\n",
    "df_andl_18= df_andl_18.set_index([\"order_dt\"])"
   ]
  },
  {
   "cell_type": "code",
   "execution_count": 380,
   "id": "80b3cda4",
   "metadata": {},
   "outputs": [
    {
     "data": {
      "text/plain": [
       "array([3.40782609, 3.37656383, 3.3964319 , 3.41034602, 3.42495345,\n",
       "       3.43948015, 3.45401625, 3.46855125])"
      ]
     },
     "execution_count": 380,
     "metadata": {},
     "output_type": "execute_result"
    }
   ],
   "source": [
    "model_andl_18th=ARIMA(df_andl_18['18th'],order=(1,1,1))\n",
    "model_andl_18th_fit=model_andl_18th.fit()\n",
    "model_andl_18th_forecast= model_andl_18th_fit.forecast(steps = 8)[0]\n",
    "model_andl_18th_forecast"
   ]
  },
  {
   "cell_type": "code",
   "execution_count": 381,
   "id": "06146087",
   "metadata": {},
   "outputs": [],
   "source": [
    "df_andl_19 = pd.read_excel(\"ANNANDALE.xlsx\")\n",
    "df_andl_19[\"order_dt\"] = pd.to_datetime(df_andl_19[\"order_dt\"],infer_datetime_format=True)\n",
    "df_andl_19= df_andl_19.set_index([\"order_dt\"])"
   ]
  },
  {
   "cell_type": "code",
   "execution_count": 382,
   "id": "96fb2008",
   "metadata": {},
   "outputs": [
    {
     "data": {
      "text/plain": [
       "array([3.42175506, 3.87032455, 4.01959355, 4.07681352, 4.10572408,\n",
       "       4.12592815, 4.14345457, 4.16015748])"
      ]
     },
     "execution_count": 382,
     "metadata": {},
     "output_type": "execute_result"
    }
   ],
   "source": [
    "model_andl_19th=ARIMA(df_andl_19['19th'],order=(1,1,1))\n",
    "model_andl_19th_fit=model_andl_19th.fit()\n",
    "model_andl_19th_forecast= model_andl_19th_fit.forecast(steps = 8)[0]\n",
    "model_andl_19th_forecast"
   ]
  },
  {
   "cell_type": "code",
   "execution_count": 383,
   "id": "43c99bb1",
   "metadata": {},
   "outputs": [],
   "source": [
    "df_andl_20 = pd.read_excel(\"ANNANDALE.xlsx\")\n",
    "df_andl_20[\"order_dt\"] = pd.to_datetime(df_andl_20[\"order_dt\"],infer_datetime_format=True)\n",
    "df_andl_20= df_andl_20.set_index([\"order_dt\"])"
   ]
  },
  {
   "cell_type": "code",
   "execution_count": 384,
   "id": "6ce5fa31",
   "metadata": {},
   "outputs": [
    {
     "data": {
      "text/plain": [
       "array([3.23304608, 3.14440403, 3.16657087, 3.1794476 , 3.19310321,\n",
       "       3.20669352, 3.2202893 , 3.23388463])"
      ]
     },
     "execution_count": 384,
     "metadata": {},
     "output_type": "execute_result"
    }
   ],
   "source": [
    "model_andl_20th=ARIMA(df_andl_20['20th'],order=(1,1,1))\n",
    "model_andl_20th_fit=model_andl_20th.fit()\n",
    "model_andl_20th_forecast= model_andl_20th_fit.forecast(steps = 8)[0]\n",
    "model_andl_20th_forecast"
   ]
  },
  {
   "cell_type": "code",
   "execution_count": 385,
   "id": "85a63dc7",
   "metadata": {},
   "outputs": [],
   "source": [
    "data_andl =[k for k in zip(model_andl_9th_forecast,model_andl_10th_forecast,model_andl_11th_forecast,\n",
    "                          model_andl_12th_forecast,model_andl_13th_forecast,model_andl_14th_forecast,model_andl_15th_forecast,\n",
    "                          model_andl_16th_forecast,model_andl_17th_forecast,model_andl_18th_forecast,model_andl_19th_forecast,\n",
    "                          model_andl_20th_forecast)]"
   ]
  },
  {
   "cell_type": "code",
   "execution_count": 386,
   "id": "66a62bad",
   "metadata": {},
   "outputs": [
    {
     "data": {
      "text/html": [
       "<div>\n",
       "<style scoped>\n",
       "    .dataframe tbody tr th:only-of-type {\n",
       "        vertical-align: middle;\n",
       "    }\n",
       "\n",
       "    .dataframe tbody tr th {\n",
       "        vertical-align: top;\n",
       "    }\n",
       "\n",
       "    .dataframe thead th {\n",
       "        text-align: right;\n",
       "    }\n",
       "</style>\n",
       "<table border=\"1\" class=\"dataframe\">\n",
       "  <thead>\n",
       "    <tr style=\"text-align: right;\">\n",
       "      <th></th>\n",
       "      <th>0</th>\n",
       "      <th>1</th>\n",
       "      <th>2</th>\n",
       "      <th>3</th>\n",
       "      <th>4</th>\n",
       "      <th>5</th>\n",
       "      <th>6</th>\n",
       "      <th>7</th>\n",
       "      <th>8</th>\n",
       "      <th>9</th>\n",
       "      <th>10</th>\n",
       "      <th>11</th>\n",
       "    </tr>\n",
       "  </thead>\n",
       "  <tbody>\n",
       "    <tr>\n",
       "      <th>0</th>\n",
       "      <td>1.215432</td>\n",
       "      <td>2.499462</td>\n",
       "      <td>2.462199</td>\n",
       "      <td>1.735580</td>\n",
       "      <td>2.660578</td>\n",
       "      <td>1.773223</td>\n",
       "      <td>3.535582</td>\n",
       "      <td>4.335815</td>\n",
       "      <td>4.242750</td>\n",
       "      <td>3.407826</td>\n",
       "      <td>3.421755</td>\n",
       "      <td>3.233046</td>\n",
       "    </tr>\n",
       "    <tr>\n",
       "      <th>1</th>\n",
       "      <td>0.724412</td>\n",
       "      <td>2.519148</td>\n",
       "      <td>2.486723</td>\n",
       "      <td>1.697646</td>\n",
       "      <td>3.098096</td>\n",
       "      <td>1.850867</td>\n",
       "      <td>3.540366</td>\n",
       "      <td>4.347185</td>\n",
       "      <td>4.268118</td>\n",
       "      <td>3.376564</td>\n",
       "      <td>3.870325</td>\n",
       "      <td>3.144404</td>\n",
       "    </tr>\n",
       "    <tr>\n",
       "      <th>2</th>\n",
       "      <td>0.924182</td>\n",
       "      <td>2.527641</td>\n",
       "      <td>2.495979</td>\n",
       "      <td>1.697693</td>\n",
       "      <td>3.220922</td>\n",
       "      <td>1.864847</td>\n",
       "      <td>3.554285</td>\n",
       "      <td>4.366988</td>\n",
       "      <td>4.286321</td>\n",
       "      <td>3.396432</td>\n",
       "      <td>4.019594</td>\n",
       "      <td>3.166571</td>\n",
       "    </tr>\n",
       "    <tr>\n",
       "      <th>3</th>\n",
       "      <td>0.844313</td>\n",
       "      <td>2.535873</td>\n",
       "      <td>2.505650</td>\n",
       "      <td>1.704111</td>\n",
       "      <td>3.262778</td>\n",
       "      <td>1.873001</td>\n",
       "      <td>3.568382</td>\n",
       "      <td>4.386833</td>\n",
       "      <td>4.304482</td>\n",
       "      <td>3.410346</td>\n",
       "      <td>4.076814</td>\n",
       "      <td>3.179448</td>\n",
       "    </tr>\n",
       "    <tr>\n",
       "      <th>4</th>\n",
       "      <td>0.877645</td>\n",
       "      <td>2.544099</td>\n",
       "      <td>2.515310</td>\n",
       "      <td>1.711597</td>\n",
       "      <td>3.283801</td>\n",
       "      <td>1.880621</td>\n",
       "      <td>3.582483</td>\n",
       "      <td>4.406678</td>\n",
       "      <td>4.322643</td>\n",
       "      <td>3.424953</td>\n",
       "      <td>4.105724</td>\n",
       "      <td>3.193103</td>\n",
       "    </tr>\n",
       "    <tr>\n",
       "      <th>5</th>\n",
       "      <td>0.865152</td>\n",
       "      <td>2.552325</td>\n",
       "      <td>2.524970</td>\n",
       "      <td>1.719262</td>\n",
       "      <td>3.299464</td>\n",
       "      <td>1.888192</td>\n",
       "      <td>3.596584</td>\n",
       "      <td>4.426523</td>\n",
       "      <td>4.340804</td>\n",
       "      <td>3.439480</td>\n",
       "      <td>4.125928</td>\n",
       "      <td>3.206694</td>\n",
       "    </tr>\n",
       "    <tr>\n",
       "      <th>6</th>\n",
       "      <td>0.871209</td>\n",
       "      <td>2.560551</td>\n",
       "      <td>2.534631</td>\n",
       "      <td>1.726957</td>\n",
       "      <td>3.313748</td>\n",
       "      <td>1.895759</td>\n",
       "      <td>3.610685</td>\n",
       "      <td>4.446368</td>\n",
       "      <td>4.358964</td>\n",
       "      <td>3.454016</td>\n",
       "      <td>4.143455</td>\n",
       "      <td>3.220289</td>\n",
       "    </tr>\n",
       "    <tr>\n",
       "      <th>7</th>\n",
       "      <td>0.869757</td>\n",
       "      <td>2.568777</td>\n",
       "      <td>2.544291</td>\n",
       "      <td>1.734657</td>\n",
       "      <td>3.327676</td>\n",
       "      <td>1.903325</td>\n",
       "      <td>3.624786</td>\n",
       "      <td>4.466213</td>\n",
       "      <td>4.377125</td>\n",
       "      <td>3.468551</td>\n",
       "      <td>4.160157</td>\n",
       "      <td>3.233885</td>\n",
       "    </tr>\n",
       "  </tbody>\n",
       "</table>\n",
       "</div>"
      ],
      "text/plain": [
       "         0         1         2         3         4         5         6   \\\n",
       "0  1.215432  2.499462  2.462199  1.735580  2.660578  1.773223  3.535582   \n",
       "1  0.724412  2.519148  2.486723  1.697646  3.098096  1.850867  3.540366   \n",
       "2  0.924182  2.527641  2.495979  1.697693  3.220922  1.864847  3.554285   \n",
       "3  0.844313  2.535873  2.505650  1.704111  3.262778  1.873001  3.568382   \n",
       "4  0.877645  2.544099  2.515310  1.711597  3.283801  1.880621  3.582483   \n",
       "5  0.865152  2.552325  2.524970  1.719262  3.299464  1.888192  3.596584   \n",
       "6  0.871209  2.560551  2.534631  1.726957  3.313748  1.895759  3.610685   \n",
       "7  0.869757  2.568777  2.544291  1.734657  3.327676  1.903325  3.624786   \n",
       "\n",
       "         7         8         9         10        11  \n",
       "0  4.335815  4.242750  3.407826  3.421755  3.233046  \n",
       "1  4.347185  4.268118  3.376564  3.870325  3.144404  \n",
       "2  4.366988  4.286321  3.396432  4.019594  3.166571  \n",
       "3  4.386833  4.304482  3.410346  4.076814  3.179448  \n",
       "4  4.406678  4.322643  3.424953  4.105724  3.193103  \n",
       "5  4.426523  4.340804  3.439480  4.125928  3.206694  \n",
       "6  4.446368  4.358964  3.454016  4.143455  3.220289  \n",
       "7  4.466213  4.377125  3.468551  4.160157  3.233885  "
      ]
     },
     "execution_count": 386,
     "metadata": {},
     "output_type": "execute_result"
    }
   ],
   "source": [
    "df_andl = pd.DataFrame(data_andl)\n",
    "df_andl.head(10)"
   ]
  },
  {
   "cell_type": "code",
   "execution_count": 387,
   "id": "2e2b763a",
   "metadata": {},
   "outputs": [],
   "source": [
    "df_andl.to_excel('andl_2m_9m_test.xlsx')"
   ]
  },
  {
   "cell_type": "code",
   "execution_count": null,
   "id": "82053914",
   "metadata": {},
   "outputs": [],
   "source": []
  }
 ],
 "metadata": {
  "kernelspec": {
   "display_name": "Python 3 (ipykernel)",
   "language": "python",
   "name": "python3"
  },
  "language_info": {
   "codemirror_mode": {
    "name": "ipython",
    "version": 3
   },
   "file_extension": ".py",
   "mimetype": "text/x-python",
   "name": "python",
   "nbconvert_exporter": "python",
   "pygments_lexer": "ipython3",
   "version": "3.9.7"
  }
 },
 "nbformat": 4,
 "nbformat_minor": 5
}
