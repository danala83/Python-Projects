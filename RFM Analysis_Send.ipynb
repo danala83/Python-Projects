{
 "cells": [
  {
   "cell_type": "code",
   "execution_count": 162,
   "id": "3e6cb002",
   "metadata": {},
   "outputs": [],
   "source": [
    "import pandas as pd,numpy as np\n",
    "import matplotlib.pyplot as plt\n",
    "import seaborn as sns\n",
    "import matplotlib.pyplot as plt\n",
    "\n",
    "import warnings\n",
    "warnings.filterwarnings('ignore')"
   ]
  },
  {
   "cell_type": "code",
   "execution_count": 163,
   "id": "3a89b05e",
   "metadata": {},
   "outputs": [
    {
     "data": {
      "text/html": [
       "<div>\n",
       "<style scoped>\n",
       "    .dataframe tbody tr th:only-of-type {\n",
       "        vertical-align: middle;\n",
       "    }\n",
       "\n",
       "    .dataframe tbody tr th {\n",
       "        vertical-align: top;\n",
       "    }\n",
       "\n",
       "    .dataframe thead th {\n",
       "        text-align: right;\n",
       "    }\n",
       "</style>\n",
       "<table border=\"1\" class=\"dataframe\">\n",
       "  <thead>\n",
       "    <tr style=\"text-align: right;\">\n",
       "      <th></th>\n",
       "      <th>userId</th>\n",
       "      <th>orderId</th>\n",
       "      <th>productId</th>\n",
       "      <th>product_name</th>\n",
       "      <th>quantity</th>\n",
       "      <th>price</th>\n",
       "      <th>gmv</th>\n",
       "      <th>store</th>\n",
       "      <th>order_date</th>\n",
       "    </tr>\n",
       "  </thead>\n",
       "  <tbody>\n",
       "    <tr>\n",
       "      <th>0</th>\n",
       "      <td>56af5729-be72-4dee-9142-b31449e22532</td>\n",
       "      <td>1639344465163</td>\n",
       "      <td>1a9f895f-b8db-479c-906b-a64b2ec0eeef</td>\n",
       "      <td>QUILTON TOILET PAPER TWIN PACK</td>\n",
       "      <td>1.0</td>\n",
       "      <td>3.00</td>\n",
       "      <td>3.00</td>\n",
       "      <td>ALEXANDRIA</td>\n",
       "      <td>2021-12-13</td>\n",
       "    </tr>\n",
       "    <tr>\n",
       "      <th>1</th>\n",
       "      <td>56af5729-be72-4dee-9142-b31449e22532</td>\n",
       "      <td>1639344465163</td>\n",
       "      <td>2f81de78-b77b-4f7e-9568-8af6757ebb6c</td>\n",
       "      <td>REXONA ROLL ON MEN 50ML</td>\n",
       "      <td>1.0</td>\n",
       "      <td>4.00</td>\n",
       "      <td>4.00</td>\n",
       "      <td>ANNANDALE</td>\n",
       "      <td>2021-12-13</td>\n",
       "    </tr>\n",
       "    <tr>\n",
       "      <th>2</th>\n",
       "      <td>56af5729-be72-4dee-9142-b31449e22532</td>\n",
       "      <td>1639344465163</td>\n",
       "      <td>b0c36bd7-b2a6-4d52-91c9-2a41322d19ad</td>\n",
       "      <td>COLGATE TOTAL TOOTHPASTE 40G</td>\n",
       "      <td>1.0</td>\n",
       "      <td>3.00</td>\n",
       "      <td>3.00</td>\n",
       "      <td>Collingwood Store</td>\n",
       "      <td>2021-12-13</td>\n",
       "    </tr>\n",
       "    <tr>\n",
       "      <th>3</th>\n",
       "      <td>56af5729-be72-4dee-9142-b31449e22532</td>\n",
       "      <td>1639344465163</td>\n",
       "      <td>887dc654-0027-4ec1-ac13-6a34b2e5bb23</td>\n",
       "      <td>GRANT'S BAMBOO TOOTHBRUSH ADULT SOFT</td>\n",
       "      <td>1.0</td>\n",
       "      <td>4.50</td>\n",
       "      <td>4.50</td>\n",
       "      <td>ALEXANDRIA</td>\n",
       "      <td>2021-12-13</td>\n",
       "    </tr>\n",
       "    <tr>\n",
       "      <th>4</th>\n",
       "      <td>56af5729-be72-4dee-9142-b31449e22532</td>\n",
       "      <td>1639344465163</td>\n",
       "      <td>611d6839-2fa9-4d27-9b5d-fed1c725ca51</td>\n",
       "      <td>SMITHS SALT AND VINEGAR 170G</td>\n",
       "      <td>1.0</td>\n",
       "      <td>3.75</td>\n",
       "      <td>3.75</td>\n",
       "      <td>ALEXANDRIA</td>\n",
       "      <td>2021-12-13</td>\n",
       "    </tr>\n",
       "  </tbody>\n",
       "</table>\n",
       "</div>"
      ],
      "text/plain": [
       "                                 userId        orderId  \\\n",
       "0  56af5729-be72-4dee-9142-b31449e22532  1639344465163   \n",
       "1  56af5729-be72-4dee-9142-b31449e22532  1639344465163   \n",
       "2  56af5729-be72-4dee-9142-b31449e22532  1639344465163   \n",
       "3  56af5729-be72-4dee-9142-b31449e22532  1639344465163   \n",
       "4  56af5729-be72-4dee-9142-b31449e22532  1639344465163   \n",
       "\n",
       "                              productId  \\\n",
       "0  1a9f895f-b8db-479c-906b-a64b2ec0eeef   \n",
       "1  2f81de78-b77b-4f7e-9568-8af6757ebb6c   \n",
       "2  b0c36bd7-b2a6-4d52-91c9-2a41322d19ad   \n",
       "3  887dc654-0027-4ec1-ac13-6a34b2e5bb23   \n",
       "4  611d6839-2fa9-4d27-9b5d-fed1c725ca51   \n",
       "\n",
       "                            product_name  quantity  price   gmv  \\\n",
       "0         QUILTON TOILET PAPER TWIN PACK       1.0   3.00  3.00   \n",
       "1                REXONA ROLL ON MEN 50ML       1.0   4.00  4.00   \n",
       "2           COLGATE TOTAL TOOTHPASTE 40G       1.0   3.00  3.00   \n",
       "3  GRANT'S BAMBOO TOOTHBRUSH ADULT SOFT        1.0   4.50  4.50   \n",
       "4           SMITHS SALT AND VINEGAR 170G       1.0   3.75  3.75   \n",
       "\n",
       "               store  order_date  \n",
       "0         ALEXANDRIA  2021-12-13  \n",
       "1          ANNANDALE  2021-12-13  \n",
       "2  Collingwood Store  2021-12-13  \n",
       "3         ALEXANDRIA  2021-12-13  \n",
       "4         ALEXANDRIA  2021-12-13  "
      ]
     },
     "execution_count": 163,
     "metadata": {},
     "output_type": "execute_result"
    }
   ],
   "source": [
    "df = pd.read_csv(\"data.csv\")\n",
    "df.head(5)"
   ]
  },
  {
   "cell_type": "code",
   "execution_count": 164,
   "id": "5424f7b6",
   "metadata": {},
   "outputs": [
    {
     "name": "stdout",
     "output_type": "stream",
     "text": [
      "<class 'pandas.core.frame.DataFrame'>\n",
      "RangeIndex: 70091 entries, 0 to 70090\n",
      "Data columns (total 9 columns):\n",
      " #   Column        Non-Null Count  Dtype  \n",
      "---  ------        --------------  -----  \n",
      " 0   userId        70091 non-null  object \n",
      " 1   orderId       70091 non-null  int64  \n",
      " 2   productId     70091 non-null  object \n",
      " 3   product_name  70091 non-null  object \n",
      " 4   quantity      70091 non-null  float64\n",
      " 5   price         70091 non-null  float64\n",
      " 6   gmv           70091 non-null  float64\n",
      " 7   store         70091 non-null  object \n",
      " 8   order_date    70091 non-null  object \n",
      "dtypes: float64(3), int64(1), object(5)\n",
      "memory usage: 4.8+ MB\n"
     ]
    }
   ],
   "source": [
    "df.info()"
   ]
  },
  {
   "cell_type": "code",
   "execution_count": 165,
   "id": "c70f09b8",
   "metadata": {},
   "outputs": [
    {
     "data": {
      "text/plain": [
       "(70091, 9)"
      ]
     },
     "execution_count": 165,
     "metadata": {},
     "output_type": "execute_result"
    }
   ],
   "source": [
    "df.shape"
   ]
  },
  {
   "cell_type": "code",
   "execution_count": 166,
   "id": "8a9b8139",
   "metadata": {},
   "outputs": [
    {
     "data": {
      "text/plain": [
       "CTK COVID 19 RAPID TEST 2PK                          3605\n",
       "HOUGH PHARMA COVID RAPID ANTIGEN TESTS 5PK           1247\n",
       "BANANA EACH                                           785\n",
       "AVOCADO EACH                                          650\n",
       "ROCHE SARS-CoV-2 RAPID ANTIGEN TESTS 5G               573\n",
       "                                                     ... \n",
       "RICK GRANT'S CHICKEN SEASONING 80G                      1\n",
       "T2 EARL GREY TEA BAGS 25PK                              1\n",
       "THE SPICE TAILOR INDONESIAN RENDANG CURRY 275G          1\n",
       "DRUNKEN SAILOR FOREST FRUIT JAM 290G                    1\n",
       "SATISFYER PRO2+ AIR PULSE STIMULATION + VIBRATION       1\n",
       "Name: product_name, Length: 1853, dtype: int64"
      ]
     },
     "execution_count": 166,
     "metadata": {},
     "output_type": "execute_result"
    }
   ],
   "source": [
    "df.product_name.value_counts()"
   ]
  },
  {
   "cell_type": "code",
   "execution_count": 167,
   "id": "fca0becb",
   "metadata": {},
   "outputs": [
    {
     "data": {
      "text/plain": [
       "userId          0\n",
       "orderId         0\n",
       "productId       0\n",
       "product_name    0\n",
       "quantity        0\n",
       "price           0\n",
       "gmv             0\n",
       "store           0\n",
       "order_date      0\n",
       "dtype: int64"
      ]
     },
     "execution_count": 167,
     "metadata": {},
     "output_type": "execute_result"
    }
   ],
   "source": [
    "df.isnull().sum()"
   ]
  },
  {
   "cell_type": "code",
   "execution_count": 168,
   "id": "0d590bbb",
   "metadata": {},
   "outputs": [],
   "source": [
    "df['order_date'] = pd.to_datetime(df['order_date'])"
   ]
  },
  {
   "cell_type": "code",
   "execution_count": 169,
   "id": "69c2ae9f",
   "metadata": {},
   "outputs": [
    {
     "name": "stdout",
     "output_type": "stream",
     "text": [
      "<class 'pandas.core.frame.DataFrame'>\n",
      "RangeIndex: 70091 entries, 0 to 70090\n",
      "Data columns (total 9 columns):\n",
      " #   Column        Non-Null Count  Dtype         \n",
      "---  ------        --------------  -----         \n",
      " 0   userId        70091 non-null  object        \n",
      " 1   orderId       70091 non-null  int64         \n",
      " 2   productId     70091 non-null  object        \n",
      " 3   product_name  70091 non-null  object        \n",
      " 4   quantity      70091 non-null  float64       \n",
      " 5   price         70091 non-null  float64       \n",
      " 6   gmv           70091 non-null  float64       \n",
      " 7   store         70091 non-null  object        \n",
      " 8   order_date    70091 non-null  datetime64[ns]\n",
      "dtypes: datetime64[ns](1), float64(3), int64(1), object(4)\n",
      "memory usage: 4.8+ MB\n"
     ]
    }
   ],
   "source": [
    "df.info()"
   ]
  },
  {
   "cell_type": "code",
   "execution_count": 170,
   "id": "e63edbcd",
   "metadata": {},
   "outputs": [
    {
     "data": {
      "text/html": [
       "<div>\n",
       "<style scoped>\n",
       "    .dataframe tbody tr th:only-of-type {\n",
       "        vertical-align: middle;\n",
       "    }\n",
       "\n",
       "    .dataframe tbody tr th {\n",
       "        vertical-align: top;\n",
       "    }\n",
       "\n",
       "    .dataframe thead th {\n",
       "        text-align: right;\n",
       "    }\n",
       "</style>\n",
       "<table border=\"1\" class=\"dataframe\">\n",
       "  <thead>\n",
       "    <tr style=\"text-align: right;\">\n",
       "      <th></th>\n",
       "      <th>userId</th>\n",
       "      <th>gmv</th>\n",
       "    </tr>\n",
       "  </thead>\n",
       "  <tbody>\n",
       "    <tr>\n",
       "      <th>0</th>\n",
       "      <td>0001f853-db5f-442a-9457-d4d6593314ce</td>\n",
       "      <td>35.4</td>\n",
       "    </tr>\n",
       "    <tr>\n",
       "      <th>1</th>\n",
       "      <td>0005c465-823c-4307-8c0f-ca427726cfd4</td>\n",
       "      <td>40.5</td>\n",
       "    </tr>\n",
       "    <tr>\n",
       "      <th>2</th>\n",
       "      <td>0014b30d-f1ba-4b7b-8d6a-3c4dd387fc21</td>\n",
       "      <td>70.0</td>\n",
       "    </tr>\n",
       "    <tr>\n",
       "      <th>3</th>\n",
       "      <td>00192dcd-16fe-4e53-a08f-4122a3ae9a31</td>\n",
       "      <td>321.0</td>\n",
       "    </tr>\n",
       "    <tr>\n",
       "      <th>4</th>\n",
       "      <td>00193179-9b65-4888-bf0b-09ad22c24b96</td>\n",
       "      <td>85.4</td>\n",
       "    </tr>\n",
       "  </tbody>\n",
       "</table>\n",
       "</div>"
      ],
      "text/plain": [
       "                                 userId    gmv\n",
       "0  0001f853-db5f-442a-9457-d4d6593314ce   35.4\n",
       "1  0005c465-823c-4307-8c0f-ca427726cfd4   40.5\n",
       "2  0014b30d-f1ba-4b7b-8d6a-3c4dd387fc21   70.0\n",
       "3  00192dcd-16fe-4e53-a08f-4122a3ae9a31  321.0\n",
       "4  00193179-9b65-4888-bf0b-09ad22c24b96   85.4"
      ]
     },
     "execution_count": 170,
     "metadata": {},
     "output_type": "execute_result"
    }
   ],
   "source": [
    "monetory = df.groupby('userId')['gmv'].sum()\n",
    "monetory = monetory.reset_index()\n",
    "monetory.head()"
   ]
  },
  {
   "cell_type": "code",
   "execution_count": 171,
   "id": "7f0aa0da",
   "metadata": {},
   "outputs": [
    {
     "data": {
      "text/html": [
       "<div>\n",
       "<style scoped>\n",
       "    .dataframe tbody tr th:only-of-type {\n",
       "        vertical-align: middle;\n",
       "    }\n",
       "\n",
       "    .dataframe tbody tr th {\n",
       "        vertical-align: top;\n",
       "    }\n",
       "\n",
       "    .dataframe thead th {\n",
       "        text-align: right;\n",
       "    }\n",
       "</style>\n",
       "<table border=\"1\" class=\"dataframe\">\n",
       "  <thead>\n",
       "    <tr style=\"text-align: right;\">\n",
       "      <th></th>\n",
       "      <th>userId</th>\n",
       "      <th>gmv</th>\n",
       "    </tr>\n",
       "  </thead>\n",
       "  <tbody>\n",
       "    <tr>\n",
       "      <th>1331</th>\n",
       "      <td>2d85c915-7869-4b8e-995d-0000b89ae81b</td>\n",
       "      <td>7596.02</td>\n",
       "    </tr>\n",
       "    <tr>\n",
       "      <th>6346</th>\n",
       "      <td>d0041d27-ec52-447c-b37b-e4a9808bace6</td>\n",
       "      <td>5285.09</td>\n",
       "    </tr>\n",
       "    <tr>\n",
       "      <th>3293</th>\n",
       "      <td>6ced92f6-d0ab-4108-bc51-ca192aa0e493</td>\n",
       "      <td>4034.95</td>\n",
       "    </tr>\n",
       "    <tr>\n",
       "      <th>4401</th>\n",
       "      <td>929154c9-bc8f-423f-9232-958b4e537fdf</td>\n",
       "      <td>2953.28</td>\n",
       "    </tr>\n",
       "    <tr>\n",
       "      <th>4337</th>\n",
       "      <td>8fd6ea90-3289-456e-a7b4-fc32c8ba2045</td>\n",
       "      <td>2952.63</td>\n",
       "    </tr>\n",
       "    <tr>\n",
       "      <th>...</th>\n",
       "      <td>...</td>\n",
       "      <td>...</td>\n",
       "    </tr>\n",
       "    <tr>\n",
       "      <th>1869</th>\n",
       "      <td>3fa2a316-0030-4984-b8e5-44da7b0c96c5</td>\n",
       "      <td>1.50</td>\n",
       "    </tr>\n",
       "    <tr>\n",
       "      <th>4066</th>\n",
       "      <td>85f5731b-a6ab-487f-aa0e-2e973dda4734</td>\n",
       "      <td>1.45</td>\n",
       "    </tr>\n",
       "    <tr>\n",
       "      <th>7607</th>\n",
       "      <td>f62ee2ab-46aa-478d-908f-1022ea91f685</td>\n",
       "      <td>1.45</td>\n",
       "    </tr>\n",
       "    <tr>\n",
       "      <th>5756</th>\n",
       "      <td>bcc4ff78-d568-4d10-bf4c-52351c618b1b</td>\n",
       "      <td>0.80</td>\n",
       "    </tr>\n",
       "    <tr>\n",
       "      <th>6384</th>\n",
       "      <td>d1343be9-7647-4bac-a31c-f5d9448caed1</td>\n",
       "      <td>0.65</td>\n",
       "    </tr>\n",
       "  </tbody>\n",
       "</table>\n",
       "<p>7887 rows × 2 columns</p>\n",
       "</div>"
      ],
      "text/plain": [
       "                                    userId      gmv\n",
       "1331  2d85c915-7869-4b8e-995d-0000b89ae81b  7596.02\n",
       "6346  d0041d27-ec52-447c-b37b-e4a9808bace6  5285.09\n",
       "3293  6ced92f6-d0ab-4108-bc51-ca192aa0e493  4034.95\n",
       "4401  929154c9-bc8f-423f-9232-958b4e537fdf  2953.28\n",
       "4337  8fd6ea90-3289-456e-a7b4-fc32c8ba2045  2952.63\n",
       "...                                    ...      ...\n",
       "1869  3fa2a316-0030-4984-b8e5-44da7b0c96c5     1.50\n",
       "4066  85f5731b-a6ab-487f-aa0e-2e973dda4734     1.45\n",
       "7607  f62ee2ab-46aa-478d-908f-1022ea91f685     1.45\n",
       "5756  bcc4ff78-d568-4d10-bf4c-52351c618b1b     0.80\n",
       "6384  d1343be9-7647-4bac-a31c-f5d9448caed1     0.65\n",
       "\n",
       "[7887 rows x 2 columns]"
      ]
     },
     "execution_count": 171,
     "metadata": {},
     "output_type": "execute_result"
    }
   ],
   "source": [
    "monetory.sort_values(\"gmv\",ascending = False)"
   ]
  },
  {
   "cell_type": "code",
   "execution_count": 172,
   "id": "f6ada84f",
   "metadata": {},
   "outputs": [
    {
     "data": {
      "text/html": [
       "<div>\n",
       "<style scoped>\n",
       "    .dataframe tbody tr th:only-of-type {\n",
       "        vertical-align: middle;\n",
       "    }\n",
       "\n",
       "    .dataframe tbody tr th {\n",
       "        vertical-align: top;\n",
       "    }\n",
       "\n",
       "    .dataframe thead th {\n",
       "        text-align: right;\n",
       "    }\n",
       "</style>\n",
       "<table border=\"1\" class=\"dataframe\">\n",
       "  <thead>\n",
       "    <tr style=\"text-align: right;\">\n",
       "      <th></th>\n",
       "      <th>userId</th>\n",
       "      <th>orderId</th>\n",
       "    </tr>\n",
       "  </thead>\n",
       "  <tbody>\n",
       "    <tr>\n",
       "      <th>0</th>\n",
       "      <td>0001f853-db5f-442a-9457-d4d6593314ce</td>\n",
       "      <td>6</td>\n",
       "    </tr>\n",
       "    <tr>\n",
       "      <th>1</th>\n",
       "      <td>0005c465-823c-4307-8c0f-ca427726cfd4</td>\n",
       "      <td>6</td>\n",
       "    </tr>\n",
       "    <tr>\n",
       "      <th>2</th>\n",
       "      <td>0014b30d-f1ba-4b7b-8d6a-3c4dd387fc21</td>\n",
       "      <td>1</td>\n",
       "    </tr>\n",
       "    <tr>\n",
       "      <th>3</th>\n",
       "      <td>00192dcd-16fe-4e53-a08f-4122a3ae9a31</td>\n",
       "      <td>2</td>\n",
       "    </tr>\n",
       "    <tr>\n",
       "      <th>4</th>\n",
       "      <td>00193179-9b65-4888-bf0b-09ad22c24b96</td>\n",
       "      <td>29</td>\n",
       "    </tr>\n",
       "  </tbody>\n",
       "</table>\n",
       "</div>"
      ],
      "text/plain": [
       "                                 userId  orderId\n",
       "0  0001f853-db5f-442a-9457-d4d6593314ce        6\n",
       "1  0005c465-823c-4307-8c0f-ca427726cfd4        6\n",
       "2  0014b30d-f1ba-4b7b-8d6a-3c4dd387fc21        1\n",
       "3  00192dcd-16fe-4e53-a08f-4122a3ae9a31        2\n",
       "4  00193179-9b65-4888-bf0b-09ad22c24b96       29"
      ]
     },
     "execution_count": 172,
     "metadata": {},
     "output_type": "execute_result"
    }
   ],
   "source": [
    "frequency = df.groupby('userId')['orderId'].count()\n",
    "frequency = frequency.reset_index()\n",
    "frequency.head()"
   ]
  },
  {
   "cell_type": "code",
   "execution_count": 173,
   "id": "7fc948b2",
   "metadata": {},
   "outputs": [
    {
     "data": {
      "text/html": [
       "<div>\n",
       "<style scoped>\n",
       "    .dataframe tbody tr th:only-of-type {\n",
       "        vertical-align: middle;\n",
       "    }\n",
       "\n",
       "    .dataframe tbody tr th {\n",
       "        vertical-align: top;\n",
       "    }\n",
       "\n",
       "    .dataframe thead th {\n",
       "        text-align: right;\n",
       "    }\n",
       "</style>\n",
       "<table border=\"1\" class=\"dataframe\">\n",
       "  <thead>\n",
       "    <tr style=\"text-align: right;\">\n",
       "      <th></th>\n",
       "      <th>userId</th>\n",
       "      <th>orderId</th>\n",
       "    </tr>\n",
       "  </thead>\n",
       "  <tbody>\n",
       "    <tr>\n",
       "      <th>1331</th>\n",
       "      <td>2d85c915-7869-4b8e-995d-0000b89ae81b</td>\n",
       "      <td>884</td>\n",
       "    </tr>\n",
       "    <tr>\n",
       "      <th>6346</th>\n",
       "      <td>d0041d27-ec52-447c-b37b-e4a9808bace6</td>\n",
       "      <td>452</td>\n",
       "    </tr>\n",
       "    <tr>\n",
       "      <th>4337</th>\n",
       "      <td>8fd6ea90-3289-456e-a7b4-fc32c8ba2045</td>\n",
       "      <td>371</td>\n",
       "    </tr>\n",
       "    <tr>\n",
       "      <th>330</th>\n",
       "      <td>0ab936e4-d71e-4e33-a6c0-32d93720cbb7</td>\n",
       "      <td>262</td>\n",
       "    </tr>\n",
       "    <tr>\n",
       "      <th>5480</th>\n",
       "      <td>b3c0efb6-c532-4499-a0df-060f8c136e94</td>\n",
       "      <td>220</td>\n",
       "    </tr>\n",
       "    <tr>\n",
       "      <th>...</th>\n",
       "      <td>...</td>\n",
       "      <td>...</td>\n",
       "    </tr>\n",
       "    <tr>\n",
       "      <th>4049</th>\n",
       "      <td>8582e92b-dee7-4a04-b7ab-6ec767ed1308</td>\n",
       "      <td>1</td>\n",
       "    </tr>\n",
       "    <tr>\n",
       "      <th>4053</th>\n",
       "      <td>85bf0636-f703-4b11-ad59-eac7e09c391d</td>\n",
       "      <td>1</td>\n",
       "    </tr>\n",
       "    <tr>\n",
       "      <th>4054</th>\n",
       "      <td>85c0a0e8-5ae1-4e33-9819-4c5b40b41c71</td>\n",
       "      <td>1</td>\n",
       "    </tr>\n",
       "    <tr>\n",
       "      <th>4055</th>\n",
       "      <td>85caec79-36d7-4757-b7df-72a0693f8338</td>\n",
       "      <td>1</td>\n",
       "    </tr>\n",
       "    <tr>\n",
       "      <th>7886</th>\n",
       "      <td>fff95127-5f8d-4d54-b4b0-a38e576432d5</td>\n",
       "      <td>1</td>\n",
       "    </tr>\n",
       "  </tbody>\n",
       "</table>\n",
       "<p>7887 rows × 2 columns</p>\n",
       "</div>"
      ],
      "text/plain": [
       "                                    userId  orderId\n",
       "1331  2d85c915-7869-4b8e-995d-0000b89ae81b      884\n",
       "6346  d0041d27-ec52-447c-b37b-e4a9808bace6      452\n",
       "4337  8fd6ea90-3289-456e-a7b4-fc32c8ba2045      371\n",
       "330   0ab936e4-d71e-4e33-a6c0-32d93720cbb7      262\n",
       "5480  b3c0efb6-c532-4499-a0df-060f8c136e94      220\n",
       "...                                    ...      ...\n",
       "4049  8582e92b-dee7-4a04-b7ab-6ec767ed1308        1\n",
       "4053  85bf0636-f703-4b11-ad59-eac7e09c391d        1\n",
       "4054  85c0a0e8-5ae1-4e33-9819-4c5b40b41c71        1\n",
       "4055  85caec79-36d7-4757-b7df-72a0693f8338        1\n",
       "7886  fff95127-5f8d-4d54-b4b0-a38e576432d5        1\n",
       "\n",
       "[7887 rows x 2 columns]"
      ]
     },
     "execution_count": 173,
     "metadata": {},
     "output_type": "execute_result"
    }
   ],
   "source": [
    "frequency.sort_values(\"orderId\",ascending = False)"
   ]
  },
  {
   "cell_type": "code",
   "execution_count": 174,
   "id": "808587a3",
   "metadata": {},
   "outputs": [
    {
     "data": {
      "text/plain": [
       "0       63 days\n",
       "1       63 days\n",
       "2       63 days\n",
       "3       63 days\n",
       "4       63 days\n",
       "          ...  \n",
       "70086    0 days\n",
       "70087    0 days\n",
       "70088    0 days\n",
       "70089    0 days\n",
       "70090    0 days\n",
       "Name: duration, Length: 70091, dtype: timedelta64[ns]"
      ]
     },
     "execution_count": 174,
     "metadata": {},
     "output_type": "execute_result"
    }
   ],
   "source": [
    "df['duration'] = df['order_date'].max() - df['order_date']\n",
    "df['duration']"
   ]
  },
  {
   "cell_type": "code",
   "execution_count": 175,
   "id": "65633db3",
   "metadata": {},
   "outputs": [
    {
     "data": {
      "text/html": [
       "<div>\n",
       "<style scoped>\n",
       "    .dataframe tbody tr th:only-of-type {\n",
       "        vertical-align: middle;\n",
       "    }\n",
       "\n",
       "    .dataframe tbody tr th {\n",
       "        vertical-align: top;\n",
       "    }\n",
       "\n",
       "    .dataframe thead th {\n",
       "        text-align: right;\n",
       "    }\n",
       "</style>\n",
       "<table border=\"1\" class=\"dataframe\">\n",
       "  <thead>\n",
       "    <tr style=\"text-align: right;\">\n",
       "      <th></th>\n",
       "      <th>userId</th>\n",
       "      <th>duration</th>\n",
       "    </tr>\n",
       "  </thead>\n",
       "  <tbody>\n",
       "    <tr>\n",
       "      <th>0</th>\n",
       "      <td>0001f853-db5f-442a-9457-d4d6593314ce</td>\n",
       "      <td>28 days</td>\n",
       "    </tr>\n",
       "    <tr>\n",
       "      <th>1</th>\n",
       "      <td>0005c465-823c-4307-8c0f-ca427726cfd4</td>\n",
       "      <td>39 days</td>\n",
       "    </tr>\n",
       "    <tr>\n",
       "      <th>2</th>\n",
       "      <td>0014b30d-f1ba-4b7b-8d6a-3c4dd387fc21</td>\n",
       "      <td>43 days</td>\n",
       "    </tr>\n",
       "    <tr>\n",
       "      <th>3</th>\n",
       "      <td>00192dcd-16fe-4e53-a08f-4122a3ae9a31</td>\n",
       "      <td>44 days</td>\n",
       "    </tr>\n",
       "    <tr>\n",
       "      <th>4</th>\n",
       "      <td>00193179-9b65-4888-bf0b-09ad22c24b96</td>\n",
       "      <td>4 days</td>\n",
       "    </tr>\n",
       "  </tbody>\n",
       "</table>\n",
       "</div>"
      ],
      "text/plain": [
       "                                 userId duration\n",
       "0  0001f853-db5f-442a-9457-d4d6593314ce  28 days\n",
       "1  0005c465-823c-4307-8c0f-ca427726cfd4  39 days\n",
       "2  0014b30d-f1ba-4b7b-8d6a-3c4dd387fc21  43 days\n",
       "3  00192dcd-16fe-4e53-a08f-4122a3ae9a31  44 days\n",
       "4  00193179-9b65-4888-bf0b-09ad22c24b96   4 days"
      ]
     },
     "execution_count": 175,
     "metadata": {},
     "output_type": "execute_result"
    }
   ],
   "source": [
    "recency = df.groupby('userId')['duration'].min()\n",
    "recency = recency.reset_index()\n",
    "recency.head()"
   ]
  },
  {
   "cell_type": "code",
   "execution_count": 176,
   "id": "01b049ee",
   "metadata": {},
   "outputs": [
    {
     "data": {
      "text/html": [
       "<div>\n",
       "<style scoped>\n",
       "    .dataframe tbody tr th:only-of-type {\n",
       "        vertical-align: middle;\n",
       "    }\n",
       "\n",
       "    .dataframe tbody tr th {\n",
       "        vertical-align: top;\n",
       "    }\n",
       "\n",
       "    .dataframe thead th {\n",
       "        text-align: right;\n",
       "    }\n",
       "</style>\n",
       "<table border=\"1\" class=\"dataframe\">\n",
       "  <thead>\n",
       "    <tr style=\"text-align: right;\">\n",
       "      <th></th>\n",
       "      <th>userId</th>\n",
       "      <th>recency</th>\n",
       "      <th>frequency</th>\n",
       "      <th>monetory</th>\n",
       "    </tr>\n",
       "  </thead>\n",
       "  <tbody>\n",
       "    <tr>\n",
       "      <th>0</th>\n",
       "      <td>0001f853-db5f-442a-9457-d4d6593314ce</td>\n",
       "      <td>28</td>\n",
       "      <td>6</td>\n",
       "      <td>35.4</td>\n",
       "    </tr>\n",
       "    <tr>\n",
       "      <th>1</th>\n",
       "      <td>0005c465-823c-4307-8c0f-ca427726cfd4</td>\n",
       "      <td>39</td>\n",
       "      <td>6</td>\n",
       "      <td>40.5</td>\n",
       "    </tr>\n",
       "    <tr>\n",
       "      <th>2</th>\n",
       "      <td>0014b30d-f1ba-4b7b-8d6a-3c4dd387fc21</td>\n",
       "      <td>43</td>\n",
       "      <td>1</td>\n",
       "      <td>70.0</td>\n",
       "    </tr>\n",
       "    <tr>\n",
       "      <th>3</th>\n",
       "      <td>00192dcd-16fe-4e53-a08f-4122a3ae9a31</td>\n",
       "      <td>44</td>\n",
       "      <td>2</td>\n",
       "      <td>321.0</td>\n",
       "    </tr>\n",
       "    <tr>\n",
       "      <th>4</th>\n",
       "      <td>00193179-9b65-4888-bf0b-09ad22c24b96</td>\n",
       "      <td>4</td>\n",
       "      <td>29</td>\n",
       "      <td>85.4</td>\n",
       "    </tr>\n",
       "  </tbody>\n",
       "</table>\n",
       "</div>"
      ],
      "text/plain": [
       "                                 userId  recency  frequency  monetory\n",
       "0  0001f853-db5f-442a-9457-d4d6593314ce       28          6      35.4\n",
       "1  0005c465-823c-4307-8c0f-ca427726cfd4       39          6      40.5\n",
       "2  0014b30d-f1ba-4b7b-8d6a-3c4dd387fc21       43          1      70.0\n",
       "3  00192dcd-16fe-4e53-a08f-4122a3ae9a31       44          2     321.0\n",
       "4  00193179-9b65-4888-bf0b-09ad22c24b96        4         29      85.4"
      ]
     },
     "execution_count": 176,
     "metadata": {},
     "output_type": "execute_result"
    }
   ],
   "source": [
    "rf = pd.merge(recency, frequency, on='userId', how='inner')\n",
    "rfm = pd.merge(rf,monetory, on='userId', how='inner')\n",
    "rfm.columns = ['userId', 'recency', 'frequency', 'monetory']\n",
    "rfm['recency'] = rfm['recency'].dt.days\n",
    "rfm.head()"
   ]
  },
  {
   "cell_type": "code",
   "execution_count": 177,
   "id": "67d0dcab",
   "metadata": {},
   "outputs": [
    {
     "data": {
      "image/png": "[encoded data removed]",
      "text/plain": [
       "<Figure size 432x288 with 1 Axes>"
      ]
     },
     "metadata": {
      "needs_background": "light"
     },
     "output_type": "display_data"
    },
    {
     "data": {
      "image/png": "[encoded data removed]",
      "text/plain": [
       "<Figure size 432x288 with 1 Axes>"
      ]
     },
     "metadata": {
      "needs_background": "light"
     },
     "output_type": "display_data"
    },
    {
     "data": {
      "image/png": "[encoded data removed]",
      "text/plain": [
       "<Figure size 432x288 with 1 Axes>"
      ]
     },
     "metadata": {
      "needs_background": "light"
     },
     "output_type": "display_data"
    }
   ],
   "source": [
    "plt.boxplot(rfm['recency'])\n",
    "plt.show()\n",
    "plt.boxplot(rfm['frequency'])\n",
    "plt.show()\n",
    "plt.boxplot(rfm['monetory'])\n",
    "plt.show()"
   ]
  },
  {
   "cell_type": "code",
   "execution_count": 178,
   "id": "bca0dceb",
   "metadata": {},
   "outputs": [
    {
     "data": {
      "image/png": "[encoded data removed]",
      "text/plain": [
       "<Figure size 432x288 with 1 Axes>"
      ]
     },
     "metadata": {
      "needs_background": "light"
     },
     "output_type": "display_data"
    }
   ],
   "source": [
    "#Recency distribution plot\n",
    "\n",
    "x = rfm['recency']\n",
    "ax = sns.distplot(x)"
   ]
  },
  {
   "cell_type": "code",
   "execution_count": 179,
   "id": "155bee53",
   "metadata": {},
   "outputs": [
    {
     "data": {
      "text/plain": [
       "count    7887.000000\n",
       "mean       26.420692\n",
       "std        14.810752\n",
       "min         0.000000\n",
       "25%        14.000000\n",
       "50%        27.000000\n",
       "75%        37.000000\n",
       "max        63.000000\n",
       "Name: recency, dtype: float64"
      ]
     },
     "execution_count": 179,
     "metadata": {},
     "output_type": "execute_result"
    }
   ],
   "source": [
    "rfm.recency.describe()"
   ]
  },
  {
   "cell_type": "code",
   "execution_count": 180,
   "id": "9dd95a6f",
   "metadata": {},
   "outputs": [
    {
     "data": {
      "text/plain": [
       "userId                                order_date  product_name                                             \n",
       "ffa86e01-5a62-48d1-8e68-65ac116c7882  2022-01-19  ECOSTORE HAND WASH VANILLA & COCONUT 425ML                   1\n",
       "                                                  GOURMET TOMATO EACH                                          1\n",
       "                                                  KALE FRESH BUNCH                                             1\n",
       "                                                  KIWIFRUIT EACH                                               1\n",
       "                                                  KOTEX TAMPONS REGULAR                                        1\n",
       "                                                  KOTEX ULTRA THIN REGULAR PADS WITH WINGS                     1\n",
       "                                                  LEMON                                                        1\n",
       "                                                  OATLY BARISTA BLEND OAT MILK 1L                              1\n",
       "                                                  ONION BROWN                                                  1\n",
       "                                                  ORANGE NAVEL EACH                                            1\n",
       "                                                  PANA ORGANIC MINT CHOCOLATE ICE CREAM 475ML                  1\n",
       "                                                  PARSLEY CONTINENTAL FRESH HERB                               1\n",
       "                                                  SALAD SERVERS LENTIL SALAD 300G                              1\n",
       "                                                  STEGGLES TURKEY MINCE 500G                                   1\n",
       "                                                  STRAWBERRY PUNNET 250G                                       1\n",
       "                                                  TOM ORGANIC PADS OVERNIGHT 8PK                               1\n",
       "                                                  WILDLY GOOD BURGERS BEETROOT & BLACK BEAN 250G               1\n",
       "                                                  WILDLY GOOD BURGERS ORIGINAL VEGGIE 250G                     1\n",
       "                                                  WILDLY GOOD SAUSAGES SPRING VEGGIE WITH GREEN CHILLI 250G    1\n",
       "                                                  WOODBRIDGE SMOKEHOUSE ATLANTIC SALMON SLICES 100G            1\n",
       "                                                  YELLOW CHERRY TOMATO 200G                                    1\n",
       "ffaba31a-a9d7-487c-be35-649787ac7032  2021-12-22  NATURAL CONFECTIONERY JELLY BABIES 260G                      1\n",
       "                                                  PASCALL MARSHMALLOWS 280G                                    1\n",
       "ffba4176-c08f-4c5a-9d7e-056fc72dfe4f  2022-01-18  CTK COVID 19 RAPID TEST 2PK                                  1\n",
       "ffc00589-296a-49d3-903f-1843668b788d  2022-01-14  CTK COVID 19 RAPID TEST 2PK                                  1\n",
       "ffcc595e-ae92-422b-bb69-81decaece1e8  2021-12-26  ABBOTT'S VILLAGE BAKERY LIGHT RYE BREAD LOAF 680G            1\n",
       "                                                  ADC BARISTA OAT MILK 1L                                      1\n",
       "                                                  DEVONDALE FULL CREAM MILK 1L                                 1\n",
       "                                                  DON ENGLISH STYLE LEG HAM 100G                               1\n",
       "                                                  ICEBERG LETTUCE EACH                                         1\n",
       "                                                  KIKKOMAN SOY SAUCE 150ML                                     1\n",
       "                                                  PRAISE MAYO SQUEEZE TRADITIONAL 365ML                        1\n",
       "                                      2022-01-26  THE GOURMET SAUSAGE COMPANY ITALIAN PORK 500G                1\n",
       "                                      2022-01-27  QUINOA GRAINS & SEEDS BOWAN ISLAND BAKERY 400G               1\n",
       "ffd3949b-6d61-4f0b-896f-c905c5328ff0  2022-02-02  FLOW FLEX COVID-19 ANTIGEN RAPID TEST 5PK                    1\n",
       "ffd8084e-565e-437a-bd33-42c608821aac  2022-01-21  CTK COVID 19 RAPID TEST 2PK                                  1\n",
       "ffef54d2-3b2f-4ddd-b3d4-d9806010afca  2022-01-13  CTK COVID 19 RAPID TEST 2PK                                  1\n",
       "fff843fd-51eb-49c0-84d4-0dc1c4fe54e4  2021-12-13  ABBOTT'S VILLAGE BAKERY RUSTIC WHITE BREAD LOAF 700G         1\n",
       "                                                  AVOCADO EACH                                                 1\n",
       "                                                  COCA COLA SOFT DRINK 375ML                                   1\n",
       "                                                  ORANGE NAVEL EACH                                            1\n",
       "                                                  TOMATO TRUSS 500G                                            1\n",
       "                                      2021-12-24  ALLENS SNAKE ALIVE BAG 200G                                  1\n",
       "                                                  BROCOLLINI BUNCH                                             1\n",
       "                                                  CADBURY SCORCHED ALMONDS 120G                                1\n",
       "                                                  COCA COLA SOFT DRINK 375ML                                   1\n",
       "                                                  DORITOS SALSA DIP MILD 300G                                  1\n",
       "                                                  FANTASTIC RICE CRACKERS TERIYAKI 100G                        1\n",
       "                                                  GOURMET TOMATO EACH                                          1\n",
       "                                                  LEBANESE CUCUMBER EACH                                       1\n",
       "                                                  MERSEY VALLEY CHEDDAR PICKLED ONION BLOCK 80G                1\n",
       "                                                  MISSION CHILLI & LIME CORN CHIPS 230G                        1\n",
       "                                                  PHILADELPHIA CREAM CHEESE SWEET CHILLI TUB 250G              1\n",
       "                                                  SCHWEPPES LEMON LIME AND BITTERS 4 X 300ML                   1\n",
       "                                                  STRANGE LOVE BEVERAGES SMOKED COLA 300ML                     1\n",
       "                                                  THE GOURMET SAUSAGE COMPANY KING ISLAND CHEDDAR 500G         1\n",
       "                                      2021-12-28  MORO BALSAMIC VINEGAR 500ML                                  1\n",
       "                                                  MORO EXTRA VIRGIN OLIVE OIL 500ML                            1\n",
       "                                      2021-12-31  HOUGH PHARMA COVID RAPID ANTIGEN TESTS 5PK                   1\n",
       "fff95127-5f8d-4d54-b4b0-a38e576432d5  2022-01-28  CHAMPION TOBACCO LEGENDARY RUBY 25G                          1\n",
       "Name: product_name, dtype: int64"
      ]
     },
     "execution_count": 180,
     "metadata": {},
     "output_type": "execute_result"
    }
   ],
   "source": [
    "\n",
    "df1 = df.groupby(['userId','order_date'])[\"product_name\"].value_counts()\n",
    "df1.tail(60)"
   ]
  },
  {
   "cell_type": "code",
   "execution_count": 181,
   "id": "0a2a57a4",
   "metadata": {},
   "outputs": [
    {
     "data": {
      "image/png": "[encoded data removed]",
      "text/plain": [
       "<Figure size 432x288 with 1 Axes>"
      ]
     },
     "metadata": {
      "needs_background": "light"
     },
     "output_type": "display_data"
    }
   ],
   "source": [
    "#frequency distribution plot\n",
    "\n",
    "x = rfm['frequency']\n",
    "ax = sns.distplot(x)"
   ]
  },
  {
   "cell_type": "code",
   "execution_count": 182,
   "id": "953bf84e",
   "metadata": {},
   "outputs": [
    {
     "data": {
      "text/plain": [
       "count    7887.000000\n",
       "mean        8.886902\n",
       "std        17.302419\n",
       "min         1.000000\n",
       "25%         1.000000\n",
       "50%         4.000000\n",
       "75%        11.000000\n",
       "max       884.000000\n",
       "Name: frequency, dtype: float64"
      ]
     },
     "execution_count": 182,
     "metadata": {},
     "output_type": "execute_result"
    }
   ],
   "source": [
    "rfm.frequency.describe()"
   ]
  },
  {
   "cell_type": "code",
   "execution_count": 183,
   "id": "b3e3109e",
   "metadata": {},
   "outputs": [
    {
     "data": {
      "image/png": "[encoded data removed]",
      "text/plain": [
       "<Figure size 432x288 with 1 Axes>"
      ]
     },
     "metadata": {
      "needs_background": "light"
     },
     "output_type": "display_data"
    }
   ],
   "source": [
    "#frequency distribution plot\n",
    "\n",
    "x = rfm['monetory']\n",
    "ax = sns.distplot(x)"
   ]
  },
  {
   "cell_type": "code",
   "execution_count": 191,
   "id": "4cd153e5",
   "metadata": {},
   "outputs": [
    {
     "data": {
      "text/plain": [
       "count    7887.000000\n",
       "mean       96.119502\n",
       "std       163.095453\n",
       "min         0.650000\n",
       "25%        38.650000\n",
       "50%        64.200000\n",
       "75%       108.125000\n",
       "max      7596.020000\n",
       "Name: monetory, dtype: float64"
      ]
     },
     "execution_count": 191,
     "metadata": {},
     "output_type": "execute_result"
    }
   ],
   "source": [
    "rfm.monetory.describe()"
   ]
  },
  {
   "cell_type": "code",
   "execution_count": 185,
   "id": "739c0166",
   "metadata": {},
   "outputs": [
    {
     "data": {
      "text/plain": [
       "{'recency': {0.25: 14.0, 0.5: 27.0, 0.75: 37.0},\n",
       " 'frequency': {0.25: 1.0, 0.5: 4.0, 0.75: 11.0},\n",
       " 'monetory': {0.25: 38.65, 0.5: 64.2, 0.75: 108.125}}"
      ]
     },
     "execution_count": 185,
     "metadata": {},
     "output_type": "execute_result"
    }
   ],
   "source": [
    "#Split into four segments using quantiles\n",
    "quantiles = rfm.quantile(q=[0.25,0.5,0.75])\n",
    "quantiles = quantiles.to_dict()\n",
    "quantiles"
   ]
  },
  {
   "cell_type": "code",
   "execution_count": 186,
   "id": "ba374815",
   "metadata": {},
   "outputs": [],
   "source": [
    "#Functions to create R, F and M segments\n",
    "def RScoring(x,p,d):\n",
    "    if x <= d[p][0.25]:\n",
    "        return 1\n",
    "    elif x <= d[p][0.50]:\n",
    "        return 2\n",
    "    elif x <= d[p][0.75]: \n",
    "        return 3\n",
    "    else:\n",
    "        return 4\n",
    "    \n",
    "def FnMScoring(x,p,d):\n",
    "    if x <= d[p][0.25]:\n",
    "        return 4\n",
    "    elif x <= d[p][0.50]:\n",
    "        return 3\n",
    "    elif x <= d[p][0.75]: \n",
    "        return 2\n",
    "    else:\n",
    "        return 1"
   ]
  },
  {
   "cell_type": "code",
   "execution_count": 187,
   "id": "73fab801",
   "metadata": {},
   "outputs": [
    {
     "data": {
      "text/html": [
       "<div>\n",
       "<style scoped>\n",
       "    .dataframe tbody tr th:only-of-type {\n",
       "        vertical-align: middle;\n",
       "    }\n",
       "\n",
       "    .dataframe tbody tr th {\n",
       "        vertical-align: top;\n",
       "    }\n",
       "\n",
       "    .dataframe thead th {\n",
       "        text-align: right;\n",
       "    }\n",
       "</style>\n",
       "<table border=\"1\" class=\"dataframe\">\n",
       "  <thead>\n",
       "    <tr style=\"text-align: right;\">\n",
       "      <th></th>\n",
       "      <th>userId</th>\n",
       "      <th>recency</th>\n",
       "      <th>frequency</th>\n",
       "      <th>monetory</th>\n",
       "      <th>R</th>\n",
       "      <th>F</th>\n",
       "      <th>M</th>\n",
       "    </tr>\n",
       "  </thead>\n",
       "  <tbody>\n",
       "    <tr>\n",
       "      <th>0</th>\n",
       "      <td>0001f853-db5f-442a-9457-d4d6593314ce</td>\n",
       "      <td>28</td>\n",
       "      <td>6</td>\n",
       "      <td>35.4</td>\n",
       "      <td>3</td>\n",
       "      <td>2</td>\n",
       "      <td>4</td>\n",
       "    </tr>\n",
       "    <tr>\n",
       "      <th>1</th>\n",
       "      <td>0005c465-823c-4307-8c0f-ca427726cfd4</td>\n",
       "      <td>39</td>\n",
       "      <td>6</td>\n",
       "      <td>40.5</td>\n",
       "      <td>4</td>\n",
       "      <td>2</td>\n",
       "      <td>3</td>\n",
       "    </tr>\n",
       "    <tr>\n",
       "      <th>2</th>\n",
       "      <td>0014b30d-f1ba-4b7b-8d6a-3c4dd387fc21</td>\n",
       "      <td>43</td>\n",
       "      <td>1</td>\n",
       "      <td>70.0</td>\n",
       "      <td>4</td>\n",
       "      <td>4</td>\n",
       "      <td>2</td>\n",
       "    </tr>\n",
       "    <tr>\n",
       "      <th>3</th>\n",
       "      <td>00192dcd-16fe-4e53-a08f-4122a3ae9a31</td>\n",
       "      <td>44</td>\n",
       "      <td>2</td>\n",
       "      <td>321.0</td>\n",
       "      <td>4</td>\n",
       "      <td>3</td>\n",
       "      <td>1</td>\n",
       "    </tr>\n",
       "    <tr>\n",
       "      <th>4</th>\n",
       "      <td>00193179-9b65-4888-bf0b-09ad22c24b96</td>\n",
       "      <td>4</td>\n",
       "      <td>29</td>\n",
       "      <td>85.4</td>\n",
       "      <td>1</td>\n",
       "      <td>1</td>\n",
       "      <td>2</td>\n",
       "    </tr>\n",
       "  </tbody>\n",
       "</table>\n",
       "</div>"
      ],
      "text/plain": [
       "                                 userId  recency  frequency  monetory  R  F  M\n",
       "0  0001f853-db5f-442a-9457-d4d6593314ce       28          6      35.4  3  2  4\n",
       "1  0005c465-823c-4307-8c0f-ca427726cfd4       39          6      40.5  4  2  3\n",
       "2  0014b30d-f1ba-4b7b-8d6a-3c4dd387fc21       43          1      70.0  4  4  2\n",
       "3  00192dcd-16fe-4e53-a08f-4122a3ae9a31       44          2     321.0  4  3  1\n",
       "4  00193179-9b65-4888-bf0b-09ad22c24b96        4         29      85.4  1  1  2"
      ]
     },
     "execution_count": 187,
     "metadata": {},
     "output_type": "execute_result"
    }
   ],
   "source": [
    "#Calculate Add R, F and M segment value columns in the existing dataset to show R, F and M segment values\n",
    "rfm['R'] = rfm['recency'].apply(RScoring, args=('recency',quantiles,))\n",
    "rfm['F'] = rfm['frequency'].apply(FnMScoring, args=('frequency',quantiles,))\n",
    "rfm['M'] = rfm['monetory'].apply(FnMScoring, args=('monetory',quantiles,))\n",
    "rfm.head()"
   ]
  },
  {
   "cell_type": "code",
   "execution_count": 188,
   "id": "79b43146",
   "metadata": {},
   "outputs": [
    {
     "data": {
      "text/html": [
       "<div>\n",
       "<style scoped>\n",
       "    .dataframe tbody tr th:only-of-type {\n",
       "        vertical-align: middle;\n",
       "    }\n",
       "\n",
       "    .dataframe tbody tr th {\n",
       "        vertical-align: top;\n",
       "    }\n",
       "\n",
       "    .dataframe thead th {\n",
       "        text-align: right;\n",
       "    }\n",
       "</style>\n",
       "<table border=\"1\" class=\"dataframe\">\n",
       "  <thead>\n",
       "    <tr style=\"text-align: right;\">\n",
       "      <th></th>\n",
       "      <th>userId</th>\n",
       "      <th>recency</th>\n",
       "      <th>frequency</th>\n",
       "      <th>monetory</th>\n",
       "      <th>R</th>\n",
       "      <th>F</th>\n",
       "      <th>M</th>\n",
       "      <th>RFMGroup</th>\n",
       "      <th>RFMScore</th>\n",
       "    </tr>\n",
       "  </thead>\n",
       "  <tbody>\n",
       "    <tr>\n",
       "      <th>0</th>\n",
       "      <td>0001f853-db5f-442a-9457-d4d6593314ce</td>\n",
       "      <td>28</td>\n",
       "      <td>6</td>\n",
       "      <td>35.4</td>\n",
       "      <td>3</td>\n",
       "      <td>2</td>\n",
       "      <td>4</td>\n",
       "      <td>324</td>\n",
       "      <td>9</td>\n",
       "    </tr>\n",
       "    <tr>\n",
       "      <th>1</th>\n",
       "      <td>0005c465-823c-4307-8c0f-ca427726cfd4</td>\n",
       "      <td>39</td>\n",
       "      <td>6</td>\n",
       "      <td>40.5</td>\n",
       "      <td>4</td>\n",
       "      <td>2</td>\n",
       "      <td>3</td>\n",
       "      <td>423</td>\n",
       "      <td>9</td>\n",
       "    </tr>\n",
       "    <tr>\n",
       "      <th>2</th>\n",
       "      <td>0014b30d-f1ba-4b7b-8d6a-3c4dd387fc21</td>\n",
       "      <td>43</td>\n",
       "      <td>1</td>\n",
       "      <td>70.0</td>\n",
       "      <td>4</td>\n",
       "      <td>4</td>\n",
       "      <td>2</td>\n",
       "      <td>442</td>\n",
       "      <td>10</td>\n",
       "    </tr>\n",
       "    <tr>\n",
       "      <th>3</th>\n",
       "      <td>00192dcd-16fe-4e53-a08f-4122a3ae9a31</td>\n",
       "      <td>44</td>\n",
       "      <td>2</td>\n",
       "      <td>321.0</td>\n",
       "      <td>4</td>\n",
       "      <td>3</td>\n",
       "      <td>1</td>\n",
       "      <td>431</td>\n",
       "      <td>8</td>\n",
       "    </tr>\n",
       "    <tr>\n",
       "      <th>4</th>\n",
       "      <td>00193179-9b65-4888-bf0b-09ad22c24b96</td>\n",
       "      <td>4</td>\n",
       "      <td>29</td>\n",
       "      <td>85.4</td>\n",
       "      <td>1</td>\n",
       "      <td>1</td>\n",
       "      <td>2</td>\n",
       "      <td>112</td>\n",
       "      <td>4</td>\n",
       "    </tr>\n",
       "  </tbody>\n",
       "</table>\n",
       "</div>"
      ],
      "text/plain": [
       "                                 userId  recency  frequency  monetory  R  F  \\\n",
       "0  0001f853-db5f-442a-9457-d4d6593314ce       28          6      35.4  3  2   \n",
       "1  0005c465-823c-4307-8c0f-ca427726cfd4       39          6      40.5  4  2   \n",
       "2  0014b30d-f1ba-4b7b-8d6a-3c4dd387fc21       43          1      70.0  4  4   \n",
       "3  00192dcd-16fe-4e53-a08f-4122a3ae9a31       44          2     321.0  4  3   \n",
       "4  00193179-9b65-4888-bf0b-09ad22c24b96        4         29      85.4  1  1   \n",
       "\n",
       "   M RFMGroup  RFMScore  \n",
       "0  4      324         9  \n",
       "1  3      423         9  \n",
       "2  2      442        10  \n",
       "3  1      431         8  \n",
       "4  2      112         4  "
      ]
     },
     "execution_count": 188,
     "metadata": {},
     "output_type": "execute_result"
    }
   ],
   "source": [
    "rfm['RFMGroup'] = rfm.R.map(str) + rfm.F.map(str) + rfm.M.map(str)\n",
    "rfm['RFMScore'] = rfm[['R', 'F', 'M']].sum(axis = 1)\n",
    "rfm.head()"
   ]
  },
  {
   "cell_type": "code",
   "execution_count": 189,
   "id": "390506d7",
   "metadata": {},
   "outputs": [
    {
     "data": {
      "text/html": [
       "<div>\n",
       "<style scoped>\n",
       "    .dataframe tbody tr th:only-of-type {\n",
       "        vertical-align: middle;\n",
       "    }\n",
       "\n",
       "    .dataframe tbody tr th {\n",
       "        vertical-align: top;\n",
       "    }\n",
       "\n",
       "    .dataframe thead th {\n",
       "        text-align: right;\n",
       "    }\n",
       "</style>\n",
       "<table border=\"1\" class=\"dataframe\">\n",
       "  <thead>\n",
       "    <tr style=\"text-align: right;\">\n",
       "      <th></th>\n",
       "      <th>index</th>\n",
       "      <th>userId</th>\n",
       "      <th>recency</th>\n",
       "      <th>frequency</th>\n",
       "      <th>monetory</th>\n",
       "      <th>R</th>\n",
       "      <th>F</th>\n",
       "      <th>M</th>\n",
       "      <th>RFMGroup</th>\n",
       "      <th>RFMScore</th>\n",
       "      <th>RFM_Loyalty_Level</th>\n",
       "    </tr>\n",
       "  </thead>\n",
       "  <tbody>\n",
       "    <tr>\n",
       "      <th>0</th>\n",
       "      <td>0</td>\n",
       "      <td>0001f853-db5f-442a-9457-d4d6593314ce</td>\n",
       "      <td>28</td>\n",
       "      <td>6</td>\n",
       "      <td>35.4</td>\n",
       "      <td>3</td>\n",
       "      <td>2</td>\n",
       "      <td>4</td>\n",
       "      <td>324</td>\n",
       "      <td>9</td>\n",
       "      <td>Silver</td>\n",
       "    </tr>\n",
       "    <tr>\n",
       "      <th>1</th>\n",
       "      <td>1</td>\n",
       "      <td>0005c465-823c-4307-8c0f-ca427726cfd4</td>\n",
       "      <td>39</td>\n",
       "      <td>6</td>\n",
       "      <td>40.5</td>\n",
       "      <td>4</td>\n",
       "      <td>2</td>\n",
       "      <td>3</td>\n",
       "      <td>423</td>\n",
       "      <td>9</td>\n",
       "      <td>Silver</td>\n",
       "    </tr>\n",
       "    <tr>\n",
       "      <th>2</th>\n",
       "      <td>2</td>\n",
       "      <td>0014b30d-f1ba-4b7b-8d6a-3c4dd387fc21</td>\n",
       "      <td>43</td>\n",
       "      <td>1</td>\n",
       "      <td>70.0</td>\n",
       "      <td>4</td>\n",
       "      <td>4</td>\n",
       "      <td>2</td>\n",
       "      <td>442</td>\n",
       "      <td>10</td>\n",
       "      <td>Silver</td>\n",
       "    </tr>\n",
       "    <tr>\n",
       "      <th>3</th>\n",
       "      <td>3</td>\n",
       "      <td>00192dcd-16fe-4e53-a08f-4122a3ae9a31</td>\n",
       "      <td>44</td>\n",
       "      <td>2</td>\n",
       "      <td>321.0</td>\n",
       "      <td>4</td>\n",
       "      <td>3</td>\n",
       "      <td>1</td>\n",
       "      <td>431</td>\n",
       "      <td>8</td>\n",
       "      <td>Gold</td>\n",
       "    </tr>\n",
       "    <tr>\n",
       "      <th>4</th>\n",
       "      <td>4</td>\n",
       "      <td>00193179-9b65-4888-bf0b-09ad22c24b96</td>\n",
       "      <td>4</td>\n",
       "      <td>29</td>\n",
       "      <td>85.4</td>\n",
       "      <td>1</td>\n",
       "      <td>1</td>\n",
       "      <td>2</td>\n",
       "      <td>112</td>\n",
       "      <td>4</td>\n",
       "      <td>Platinum</td>\n",
       "    </tr>\n",
       "  </tbody>\n",
       "</table>\n",
       "</div>"
      ],
      "text/plain": [
       "   index                                userId  recency  frequency  monetory  \\\n",
       "0      0  0001f853-db5f-442a-9457-d4d6593314ce       28          6      35.4   \n",
       "1      1  0005c465-823c-4307-8c0f-ca427726cfd4       39          6      40.5   \n",
       "2      2  0014b30d-f1ba-4b7b-8d6a-3c4dd387fc21       43          1      70.0   \n",
       "3      3  00192dcd-16fe-4e53-a08f-4122a3ae9a31       44          2     321.0   \n",
       "4      4  00193179-9b65-4888-bf0b-09ad22c24b96        4         29      85.4   \n",
       "\n",
       "   R  F  M RFMGroup  RFMScore RFM_Loyalty_Level  \n",
       "0  3  2  4      324         9            Silver  \n",
       "1  4  2  3      423         9            Silver  \n",
       "2  4  4  2      442        10            Silver  \n",
       "3  4  3  1      431         8              Gold  \n",
       "4  1  1  2      112         4          Platinum  "
      ]
     },
     "execution_count": 189,
     "metadata": {},
     "output_type": "execute_result"
    }
   ],
   "source": [
    "#Assign Loyalty Level to each customer\n",
    "Loyalty_Level = ['Platinum', 'Gold', 'Silver', 'Bronze']\n",
    "Score_cuts = pd.qcut(rfm.RFMScore, q = 4, labels = Loyalty_Level)\n",
    "rfm['RFM_Loyalty_Level'] = Score_cuts.values\n",
    "rfm.reset_index().head()"
   ]
  },
  {
   "cell_type": "code",
   "execution_count": 196,
   "id": "98205002",
   "metadata": {},
   "outputs": [
    {
     "data": {
      "text/html": [
       "<div>\n",
       "<style scoped>\n",
       "    .dataframe tbody tr th:only-of-type {\n",
       "        vertical-align: middle;\n",
       "    }\n",
       "\n",
       "    .dataframe tbody tr th {\n",
       "        vertical-align: top;\n",
       "    }\n",
       "\n",
       "    .dataframe thead th {\n",
       "        text-align: right;\n",
       "    }\n",
       "</style>\n",
       "<table border=\"1\" class=\"dataframe\">\n",
       "  <thead>\n",
       "    <tr style=\"text-align: right;\">\n",
       "      <th></th>\n",
       "      <th>userId</th>\n",
       "      <th>recency</th>\n",
       "      <th>frequency</th>\n",
       "      <th>monetory</th>\n",
       "      <th>RFMGroup</th>\n",
       "      <th>RFM_Loyalty_Level</th>\n",
       "    </tr>\n",
       "  </thead>\n",
       "  <tbody>\n",
       "    <tr>\n",
       "      <th>8</th>\n",
       "      <td>002aab74-31ee-4ad9-be46-12b78da2bd90</td>\n",
       "      <td>11</td>\n",
       "      <td>62</td>\n",
       "      <td>337.60</td>\n",
       "      <td>111</td>\n",
       "      <td>Platinum</td>\n",
       "    </tr>\n",
       "    <tr>\n",
       "      <th>12</th>\n",
       "      <td>0036f41c-4556-400b-b98d-1e79769c00d3</td>\n",
       "      <td>9</td>\n",
       "      <td>24</td>\n",
       "      <td>280.35</td>\n",
       "      <td>111</td>\n",
       "      <td>Platinum</td>\n",
       "    </tr>\n",
       "    <tr>\n",
       "      <th>70</th>\n",
       "      <td>02782c03-04d8-4da7-b61c-22511a03e8ac</td>\n",
       "      <td>13</td>\n",
       "      <td>29</td>\n",
       "      <td>200.40</td>\n",
       "      <td>111</td>\n",
       "      <td>Platinum</td>\n",
       "    </tr>\n",
       "    <tr>\n",
       "      <th>85</th>\n",
       "      <td>02c57625-5e92-41a8-be83-f95203537862</td>\n",
       "      <td>9</td>\n",
       "      <td>43</td>\n",
       "      <td>245.61</td>\n",
       "      <td>111</td>\n",
       "      <td>Platinum</td>\n",
       "    </tr>\n",
       "    <tr>\n",
       "      <th>112</th>\n",
       "      <td>0370a9a7-8017-45d5-9f25-2362a7b670b2</td>\n",
       "      <td>11</td>\n",
       "      <td>36</td>\n",
       "      <td>278.70</td>\n",
       "      <td>111</td>\n",
       "      <td>Platinum</td>\n",
       "    </tr>\n",
       "    <tr>\n",
       "      <th>...</th>\n",
       "      <td>...</td>\n",
       "      <td>...</td>\n",
       "      <td>...</td>\n",
       "      <td>...</td>\n",
       "      <td>...</td>\n",
       "      <td>...</td>\n",
       "    </tr>\n",
       "    <tr>\n",
       "      <th>7816</th>\n",
       "      <td>fd66ef85-7a15-4963-bcc8-544dd76731a0</td>\n",
       "      <td>10</td>\n",
       "      <td>35</td>\n",
       "      <td>142.20</td>\n",
       "      <td>111</td>\n",
       "      <td>Platinum</td>\n",
       "    </tr>\n",
       "    <tr>\n",
       "      <th>7821</th>\n",
       "      <td>fdccada3-4d88-47e5-919f-e577becb8c7d</td>\n",
       "      <td>5</td>\n",
       "      <td>18</td>\n",
       "      <td>166.00</td>\n",
       "      <td>111</td>\n",
       "      <td>Platinum</td>\n",
       "    </tr>\n",
       "    <tr>\n",
       "      <th>7834</th>\n",
       "      <td>fe5822a6-6bec-4719-8e02-c8ab3df85a27</td>\n",
       "      <td>8</td>\n",
       "      <td>25</td>\n",
       "      <td>169.40</td>\n",
       "      <td>111</td>\n",
       "      <td>Platinum</td>\n",
       "    </tr>\n",
       "    <tr>\n",
       "      <th>7848</th>\n",
       "      <td>fee642ee-5f00-401b-a36a-1c4e2c98f46d</td>\n",
       "      <td>0</td>\n",
       "      <td>17</td>\n",
       "      <td>231.55</td>\n",
       "      <td>111</td>\n",
       "      <td>Platinum</td>\n",
       "    </tr>\n",
       "    <tr>\n",
       "      <th>7876</th>\n",
       "      <td>ff9239f5-94be-4cca-9ea9-e57da3c00f5a</td>\n",
       "      <td>9</td>\n",
       "      <td>100</td>\n",
       "      <td>418.19</td>\n",
       "      <td>111</td>\n",
       "      <td>Platinum</td>\n",
       "    </tr>\n",
       "  </tbody>\n",
       "</table>\n",
       "<p>670 rows × 6 columns</p>\n",
       "</div>"
      ],
      "text/plain": [
       "                                    userId  recency  frequency  monetory  \\\n",
       "8     002aab74-31ee-4ad9-be46-12b78da2bd90       11         62    337.60   \n",
       "12    0036f41c-4556-400b-b98d-1e79769c00d3        9         24    280.35   \n",
       "70    02782c03-04d8-4da7-b61c-22511a03e8ac       13         29    200.40   \n",
       "85    02c57625-5e92-41a8-be83-f95203537862        9         43    245.61   \n",
       "112   0370a9a7-8017-45d5-9f25-2362a7b670b2       11         36    278.70   \n",
       "...                                    ...      ...        ...       ...   \n",
       "7816  fd66ef85-7a15-4963-bcc8-544dd76731a0       10         35    142.20   \n",
       "7821  fdccada3-4d88-47e5-919f-e577becb8c7d        5         18    166.00   \n",
       "7834  fe5822a6-6bec-4719-8e02-c8ab3df85a27        8         25    169.40   \n",
       "7848  fee642ee-5f00-401b-a36a-1c4e2c98f46d        0         17    231.55   \n",
       "7876  ff9239f5-94be-4cca-9ea9-e57da3c00f5a        9        100    418.19   \n",
       "\n",
       "     RFMGroup RFM_Loyalty_Level  \n",
       "8         111          Platinum  \n",
       "12        111          Platinum  \n",
       "70        111          Platinum  \n",
       "85        111          Platinum  \n",
       "112       111          Platinum  \n",
       "...       ...               ...  \n",
       "7816      111          Platinum  \n",
       "7821      111          Platinum  \n",
       "7834      111          Platinum  \n",
       "7848      111          Platinum  \n",
       "7876      111          Platinum  \n",
       "\n",
       "[670 rows x 6 columns]"
      ]
     },
     "execution_count": 196,
     "metadata": {},
     "output_type": "execute_result"
    }
   ],
   "source": [
    "rfm1 = rfm.loc[(rfm[\"RFMGroup\"] == \"111\"),[\"userId\",\"recency\",\"frequency\",\"monetory\",\"RFMGroup\",\"RFM_Loyalty_Level\"]]\n",
    "rfm1"
   ]
  },
  {
   "cell_type": "code",
   "execution_count": 194,
   "id": "695b84f6",
   "metadata": {},
   "outputs": [
    {
     "data": {
      "text/plain": [
       "<AxesSubplot:xlabel='RFM_Loyalty_Level', ylabel='recency'>"
      ]
     },
     "execution_count": 194,
     "metadata": {},
     "output_type": "execute_result"
    },
    {
     "data": {
      "image/png": "[encoded data removed]",
      "text/plain": [
       "<Figure size 432x288 with 1 Axes>"
      ]
     },
     "metadata": {
      "needs_background": "light"
     },
     "output_type": "display_data"
    }
   ],
   "source": [
    "sns.boxplot(x='RFM_Loyalty_Level', y='recency', data=rfm)\n"
   ]
  },
  {
   "cell_type": "code",
   "execution_count": null,
   "id": "4a405898",
   "metadata": {},
   "outputs": [],
   "source": []
  }
 ],
 "metadata": {
  "kernelspec": {
   "display_name": "Python 3 (ipykernel)",
   "language": "python",
   "name": "python3"
  },
  "language_info": {
   "codemirror_mode": {
    "name": "ipython",
    "version": 3
   },
   "file_extension": ".py",
   "mimetype": "text/x-python",
   "name": "python",
   "nbconvert_exporter": "python",
   "pygments_lexer": "ipython3",
   "version": "3.9.7"
  }
 },
 "nbformat": 4,
 "nbformat_minor": 5
}
