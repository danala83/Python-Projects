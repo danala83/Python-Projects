{
 "cells": [
  {
   "cell_type": "code",
   "execution_count": 1,
   "id": "practical-preparation",
   "metadata": {
    "_cell_guid": "b1076dfc-b9ad-4769-8c92-a6c4dae69d19",
    "_uuid": "8f2839f25d086af736a60e9eeb907d3b93b6e0e5",
    "execution": {
     "iopub.execute_input": "2021-04-16T19:03:21.540467Z",
     "iopub.status.busy": "2021-04-16T19:03:21.539775Z",
     "iopub.status.idle": "2021-04-16T19:03:21.559032Z",
     "shell.execute_reply": "2021-04-16T19:03:21.558149Z"
    },
    "papermill": {
     "duration": 0.04638,
     "end_time": "2021-04-16T19:03:21.559220",
     "exception": false,
     "start_time": "2021-04-16T19:03:21.512840",
     "status": "completed"
    },
    "tags": []
   },
   "outputs": [
    {
     "name": "stdout",
     "output_type": "stream",
     "text": [
      "/kaggle/input/retail-clean/retail_clean.csv\n"
     ]
    }
   ],
   "source": [
    "# This Python 3 environment comes with many helpful analytics libraries installed\n",
    "# It is defined by the kaggle/python Docker image: https://github.com/kaggle/docker-python\n",
    "# For example, here's several helpful packages to load\n",
    "\n",
    "import numpy as np # linear algebra\n",
    "import pandas as pd # data processing, CSV file I/O (e.g. pd.read_csv)\n",
    "\n",
    "# Input data files are available in the read-only \"../input/\" directory\n",
    "# For example, running this (by clicking run or pressing Shift+Enter) will list all files under the input directory\n",
    "\n",
    "import os\n",
    "for dirname, _, filenames in os.walk('/kaggle/input'):\n",
    "    for filename in filenames:\n",
    "        print(os.path.join(dirname, filename))\n",
    "\n",
    "# You can write up to 20GB to the current directory (/kaggle/working/) that gets preserved as output when you create a version using \"Save & Run All\" \n",
    "# You can also write temporary files to /kaggle/temp/, but they won't be saved outside of the current session"
   ]
  },
  {
   "cell_type": "code",
   "execution_count": 2,
   "id": "major-harvard",
   "metadata": {
    "execution": {
     "iopub.execute_input": "2021-04-16T19:03:21.617514Z",
     "iopub.status.busy": "2021-04-16T19:03:21.605308Z",
     "iopub.status.idle": "2021-04-16T19:03:32.552892Z",
     "shell.execute_reply": "2021-04-16T19:03:32.552165Z"
    },
    "papermill": {
     "duration": 10.973379,
     "end_time": "2021-04-16T19:03:32.553051",
     "exception": false,
     "start_time": "2021-04-16T19:03:21.579672",
     "status": "completed"
    },
    "tags": []
   },
   "outputs": [
    {
     "name": "stdout",
     "output_type": "stream",
     "text": [
      "Collecting inventorize\r\n",
      "  Downloading inventorize-0.0.8.tar.gz (16 kB)\r\n",
      "Requirement already satisfied: scipy in /opt/conda/lib/python3.7/site-packages (from inventorize) (1.5.4)\r\n",
      "Requirement already satisfied: scikit-learn in /opt/conda/lib/python3.7/site-packages (from inventorize) (0.24.1)\r\n",
      "Requirement already satisfied: pandas>=0.23.3 in /opt/conda/lib/python3.7/site-packages (from inventorize) (1.2.2)\r\n",
      "Requirement already satisfied: numpy>=1.14.5 in /opt/conda/lib/python3.7/site-packages (from inventorize) (1.19.5)\r\n",
      "Requirement already satisfied: python-dateutil>=2.7.3 in /opt/conda/lib/python3.7/site-packages (from pandas>=0.23.3->inventorize) (2.8.1)\r\n",
      "Requirement already satisfied: pytz>=2017.3 in /opt/conda/lib/python3.7/site-packages (from pandas>=0.23.3->inventorize) (2021.1)\r\n",
      "Requirement already satisfied: six>=1.5 in /opt/conda/lib/python3.7/site-packages (from python-dateutil>=2.7.3->pandas>=0.23.3->inventorize) (1.15.0)\r\n",
      "Requirement already satisfied: joblib>=0.11 in /opt/conda/lib/python3.7/site-packages (from scikit-learn->inventorize) (1.0.1)\r\n",
      "Requirement already satisfied: threadpoolctl>=2.0.0 in /opt/conda/lib/python3.7/site-packages (from scikit-learn->inventorize) (2.1.0)\r\n",
      "Building wheels for collected packages: inventorize\r\n",
      "  Building wheel for inventorize (setup.py) ... \u001b[?25l-\b \b\\\b \bdone\r\n",
      "\u001b[?25h  Created wheel for inventorize: filename=inventorize-0.0.8-py3-none-any.whl size=15621 sha256=6040d7df0ab7effd7d9b02ad8f3c62a7d409a3509e33002634d09ee77e0da526\r\n",
      "  Stored in directory: /root/.cache/pip/wheels/bd/52/8e/9f2ffa0f48556e99f5b527da3b111810a19fcdfadfb17bb37d\r\n",
      "Successfully built inventorize\r\n",
      "Installing collected packages: inventorize\r\n",
      "Successfully installed inventorize-0.0.8\r\n"
     ]
    }
   ],
   "source": [
    "! pip install inventorize"
   ]
  },
  {
   "cell_type": "code",
   "execution_count": 3,
   "id": "pregnant-interference",
   "metadata": {
    "execution": {
     "iopub.execute_input": "2021-04-16T19:03:32.602606Z",
     "iopub.status.busy": "2021-04-16T19:03:32.601941Z",
     "iopub.status.idle": "2021-04-16T19:03:33.959733Z",
     "shell.execute_reply": "2021-04-16T19:03:33.958939Z"
    },
    "papermill": {
     "duration": 1.385015,
     "end_time": "2021-04-16T19:03:33.959894",
     "exception": false,
     "start_time": "2021-04-16T19:03:32.574879",
     "status": "completed"
    },
    "tags": []
   },
   "outputs": [],
   "source": [
    "from sklearn.linear_model import LinearRegression\n",
    "import inventorize as inv"
   ]
  },
  {
   "cell_type": "code",
   "execution_count": 4,
   "id": "smart-beginning",
   "metadata": {
    "execution": {
     "iopub.execute_input": "2021-04-16T19:03:34.009986Z",
     "iopub.status.busy": "2021-04-16T19:03:34.009231Z",
     "iopub.status.idle": "2021-04-16T19:03:34.013477Z",
     "shell.execute_reply": "2021-04-16T19:03:34.012743Z"
    },
    "papermill": {
     "duration": 0.032034,
     "end_time": "2021-04-16T19:03:34.013638",
     "exception": false,
     "start_time": "2021-04-16T19:03:33.981604",
     "status": "completed"
    },
    "tags": []
   },
   "outputs": [],
   "source": [
    "## creating list of price and demand\n",
    "price =[5,10,15,17,20,23,25]\n",
    "demand =[600,550,700,680,500,400,250]"
   ]
  },
  {
   "cell_type": "code",
   "execution_count": 5,
   "id": "confident-belly",
   "metadata": {
    "execution": {
     "iopub.execute_input": "2021-04-16T19:03:34.068296Z",
     "iopub.status.busy": "2021-04-16T19:03:34.067259Z",
     "iopub.status.idle": "2021-04-16T19:03:34.070390Z",
     "shell.execute_reply": "2021-04-16T19:03:34.069771Z"
    },
    "papermill": {
     "duration": 0.034586,
     "end_time": "2021-04-16T19:03:34.070542",
     "exception": false,
     "start_time": "2021-04-16T19:03:34.035956",
     "status": "completed"
    },
    "tags": []
   },
   "outputs": [],
   "source": [
    "## creating df\n",
    "pricing_data = pd.DataFrame({\"price\":price,\"demand\":demand})"
   ]
  },
  {
   "cell_type": "code",
   "execution_count": 6,
   "id": "muslim-piano",
   "metadata": {
    "execution": {
     "iopub.execute_input": "2021-04-16T19:03:34.121438Z",
     "iopub.status.busy": "2021-04-16T19:03:34.120775Z",
     "iopub.status.idle": "2021-04-16T19:03:34.124293Z",
     "shell.execute_reply": "2021-04-16T19:03:34.123603Z"
    },
    "papermill": {
     "duration": 0.03161,
     "end_time": "2021-04-16T19:03:34.124438",
     "exception": false,
     "start_time": "2021-04-16T19:03:34.092828",
     "status": "completed"
    },
    "tags": []
   },
   "outputs": [],
   "source": [
    "import matplotlib.pyplot as plt"
   ]
  },
  {
   "cell_type": "code",
   "execution_count": 7,
   "id": "residential-union",
   "metadata": {
    "execution": {
     "iopub.execute_input": "2021-04-16T19:03:34.192149Z",
     "iopub.status.busy": "2021-04-16T19:03:34.191365Z",
     "iopub.status.idle": "2021-04-16T19:03:34.381336Z",
     "shell.execute_reply": "2021-04-16T19:03:34.380513Z"
    },
    "papermill": {
     "duration": 0.234833,
     "end_time": "2021-04-16T19:03:34.381495",
     "exception": false,
     "start_time": "2021-04-16T19:03:34.146662",
     "status": "completed"
    },
    "tags": []
   },
   "outputs": [
    {
     "data": {
      "text/plain": [
       "<matplotlib.collections.PathCollection at 0x7fb83460c550>"
      ]
     },
     "execution_count": 7,
     "metadata": {},
     "output_type": "execute_result"
    },
    {
     "data": {
      "image/png": "[encoded data removed]",
      "text/plain": [
       "<Figure size 432x288 with 1 Axes>"
      ]
     },
     "metadata": {
      "needs_background": "light"
     },
     "output_type": "display_data"
    }
   ],
   "source": [
    "## visulaizing the fit\n",
    "plt.scatter(price, demand)"
   ]
  },
  {
   "cell_type": "markdown",
   "id": "seventh-buyer",
   "metadata": {
    "papermill": {
     "duration": 0.022975,
     "end_time": "2021-04-16T19:03:34.427808",
     "exception": false,
     "start_time": "2021-04-16T19:03:34.404833",
     "status": "completed"
    },
    "tags": []
   },
   "source": [
    "#### the plot shows that this is not a best fit, it is representing more of a sigmoid, perhaps if we try logistic regression we may get the best fit."
   ]
  },
  {
   "cell_type": "code",
   "execution_count": 8,
   "id": "textile-artist",
   "metadata": {
    "execution": {
     "iopub.execute_input": "2021-04-16T19:03:34.511523Z",
     "iopub.status.busy": "2021-04-16T19:03:34.501242Z",
     "iopub.status.idle": "2021-04-16T19:03:35.087971Z",
     "shell.execute_reply": "2021-04-16T19:03:35.087246Z"
    },
    "papermill": {
     "duration": 0.637305,
     "end_time": "2021-04-16T19:03:35.088288",
     "exception": false,
     "start_time": "2021-04-16T19:03:34.450983",
     "status": "completed"
    },
    "tags": []
   },
   "outputs": [
    {
     "name": "stderr",
     "output_type": "stream",
     "text": [
      "/opt/conda/lib/python3.7/site-packages/numpy/core/_asarray.py:83: VisibleDeprecationWarning: Creating an ndarray from ragged nested sequences (which is a list-or-tuple of lists-or-tuples-or ndarrays with different lengths or shapes) is deprecated. If you meant to do this, you must specify 'dtype=object' when creating the ndarray\n",
      "  return array(a, dtype, copy=False, order=order)\n"
     ]
    }
   ],
   "source": [
    "### comparing the logit function with linear.\n",
    "\n",
    "logit_linear=inv.single_product_optimization(price, demand,\"Juice\", 20, 4)"
   ]
  },
  {
   "cell_type": "code",
   "execution_count": 9,
   "id": "lasting-county",
   "metadata": {
    "execution": {
     "iopub.execute_input": "2021-04-16T19:03:35.144332Z",
     "iopub.status.busy": "2021-04-16T19:03:35.143602Z",
     "iopub.status.idle": "2021-04-16T19:03:35.166183Z",
     "shell.execute_reply": "2021-04-16T19:03:35.166679Z"
    },
    "papermill": {
     "duration": 0.054766,
     "end_time": "2021-04-16T19:03:35.167011",
     "exception": false,
     "start_time": "2021-04-16T19:03:35.112245",
     "status": "completed"
    },
    "tags": []
   },
   "outputs": [
    {
     "data": {
      "text/plain": [
       "{'optimization_paremeters':  final_simplex: (array([[-4.76292472e+00,  2.29095916e-01,  5.07841645e+02],\n",
       "        [-4.76292471e+00,  2.29095915e-01,  5.07841645e+02],\n",
       "        [-4.76292466e+00,  2.29095913e-01,  5.07841645e+02],\n",
       "        [-4.76292469e+00,  2.29095914e-01,  5.07841645e+02]]), array([10993.65115399, 10993.65115399, 10993.65115399, 10993.65115399]))\n",
       "            fun: 10993.651153985002\n",
       "        message: 'Optimization terminated successfully.'\n",
       "           nfev: 267\n",
       "            nit: 149\n",
       "         status: 0\n",
       "        success: True\n",
       "              x: array([-4.76292472e+00,  2.29095916e-01,  5.07841645e+02]),\n",
       " 'lm_model': LinearRegression(),\n",
       " 'squared_error_logit': 'squared_error_logit= 10993.651153985002',\n",
       " 'squared_error_linear': 'squared_errorr_lm= 87654.04515522107',\n",
       " 'simulation_data':             x  predicted_linear  predicted_logit  revenue_linear  \\\n",
       " 0   -7.806472        880.576416       512.608727    -6874.194763   \n",
       " 1   -6.806472        865.933895       513.630096    -5893.954443   \n",
       " 2   -5.806472        851.291374       514.861834    -4942.999166   \n",
       " 3   -4.806472        836.648852       516.344685    -4021.328930   \n",
       " 4   -3.806472        822.006331       518.126446    -3128.943737   \n",
       " 5   -2.806472        807.363810       520.262872    -2265.843586   \n",
       " 6   -1.806472        792.721289       522.818564    -1432.028478   \n",
       " 7   -0.806472        778.078768       525.867754     -627.498412   \n",
       " 8    0.193528        763.436247       529.494829      147.746612   \n",
       " 9    1.193528        748.793725       533.794388      893.706593   \n",
       " 10   2.193528        734.151204       538.870479     1610.381532   \n",
       " 11   3.193528        719.508683       544.834507     2297.771429   \n",
       " 12   4.193528        704.866162       551.801036     2955.876283   \n",
       " 13   5.193528        690.223641       559.880391     3584.696096   \n",
       " 14   6.193528        675.581120       569.166498     4184.230865   \n",
       " 15   7.193528        660.938598       579.717888     4754.480593   \n",
       " 16   8.193528        646.296077       591.529265     5295.445278   \n",
       " 17   9.193528        631.653556       604.490743     5807.124921   \n",
       " 18  10.193528        617.011035       618.332309     6289.519521   \n",
       " 19  11.193528        602.368514       632.553126     6742.629079   \n",
       " 20  12.193528        587.725993       646.340197     7166.453595   \n",
       " 21  13.193528        573.083471       658.490247     7560.993068   \n",
       " 22  14.193528        558.440950       667.362771     7926.247499   \n",
       " 23  15.193528        543.798429       670.908486     8262.216888   \n",
       " 24  16.193528        529.155908       666.826950     8568.901234   \n",
       " 25  17.193528        514.513387       652.893682     8846.300538   \n",
       " 26  18.193528        499.870866       627.444350     9094.414800   \n",
       " 27  19.193528        485.228344       589.912586     9313.244020   \n",
       " 28  20.193528        470.585823       541.228843     9502.788197   \n",
       " 29  21.193528        455.943302       483.873017     9663.047331   \n",
       " 30  22.193528        441.300781       421.485317     9794.021424   \n",
       " 31  23.193528        426.658260       358.140129     9895.710474   \n",
       " 32  24.193528        412.015739       297.550365     9968.114482   \n",
       " 33  25.193528        397.373217       242.481850    10011.233447   \n",
       " 34  26.193528        382.730696       194.522169    10025.067370   \n",
       " 35  27.193528        368.088175       154.174090    10009.616251   \n",
       " 36  28.193528        353.445654       121.137466     9964.880089   \n",
       " 37  29.193528        338.803133        94.634465     9890.858885   \n",
       " 38  30.193528        324.160612        73.683432     9787.552639   \n",
       " 39  31.193528        309.518090        57.286080     9654.961351   \n",
       " 40  32.193528        294.875569        44.532715     9493.085020   \n",
       " 41  33.193528        280.233048        34.647156     9301.923646   \n",
       " 42  34.193528        265.590527        26.994409     9081.477231   \n",
       " 43  35.193528        250.948006        21.069019     8831.745773   \n",
       " 44  36.193528        236.305485        16.475667     8552.729273   \n",
       " 45  37.193528        221.662963        12.908525     8244.427730   \n",
       " \n",
       "     revenue_logit  profit_linear  profit_logit  \n",
       " 0    -4001.665456  -10396.500427  -6052.100363  \n",
       " 1    -3496.008652   -9357.690022  -5550.529038  \n",
       " 2    -2989.530605   -8348.164660  -5048.977941  \n",
       " 3    -2481.796055   -7367.924340  -4547.174796  \n",
       " 4    -1972.233592   -6416.969062  -4044.739377  \n",
       " 5    -1460.102962   -5495.298827  -3541.154449  \n",
       " 6     -944.456877   -4602.913634  -3035.731133  \n",
       " 7     -424.097398   -3739.813483  -2527.568415  \n",
       " 8      102.472299   -2905.998374  -2015.507019  \n",
       " 9      637.098773   -2101.468308  -1498.078778  \n",
       " 10    1182.027711   -1326.223285   -973.454204  \n",
       " 11    1739.944482    -580.263303   -439.393544  \n",
       " 12    2313.993328     136.411636    106.789184  \n",
       " 13    2907.754725     823.801533    668.233160  \n",
       " 14    3525.148882    1481.906387   1248.482890  \n",
       " 15    4170.217105    2110.726199   1851.345552  \n",
       " 16    4846.711848    2710.260969   2480.594787  \n",
       " 17    5557.402823    3280.510696   3139.439853  \n",
       " 18    6302.987967    3821.475381   3829.658730  \n",
       " 19    7080.501392    4333.155024   4550.288889  \n",
       " 20    7881.167561    4815.549624   5295.806774  \n",
       " 21    8687.809794    5268.659182   6053.848804  \n",
       " 22    9472.232454    5692.483698   6802.781371  \n",
       " 23   10193.467157    6087.023172   7509.833211  \n",
       " 24   10798.281168    6452.277603   8130.973368  \n",
       " 25   11225.546081    6788.246991   8613.971352  \n",
       " 26   11415.426608    7094.931338   8905.649209  \n",
       " 27   11322.503983    7372.330642   8962.853640  \n",
       " 28   10929.320021    7620.444904   8764.404650  \n",
       " 29   10254.976544    7839.274123   8319.484475  \n",
       " 30    9354.246370    8028.818300   7668.305100  \n",
       " 31    8306.533270    8189.077435   6873.972752  \n",
       " 32    7198.793211    8320.051527   6008.591751  \n",
       " 33    6108.973378    8421.740577   5139.045978  \n",
       " 34    5095.221960    8494.144585   4317.133284  \n",
       " 35    4192.537506    8537.263551   3575.841145  \n",
       " 36    3415.292603    8551.097474   2930.742737  \n",
       " 37    2762.713931    8535.646354   2384.176073  \n",
       " 38    2224.762812    8490.910193   1930.029083  \n",
       " 39    1786.954955    8416.888989   1557.810636  \n",
       " 40    1433.665216    8313.582743   1255.534358  \n",
       " 41    1150.061350    8180.991454   1011.472727  \n",
       " 42     923.034100    8019.115123    815.056463  \n",
       " 43     741.493104    7827.953750    657.217029  \n",
       " 44     596.312532    7607.507334    530.409862  \n",
       " 45     480.113592    7357.775876    428.479492  ,\n",
       " 'best_model': 'best_model is logit modelfor Juice',\n",
       " 'optimum_linear': 'optimum linear revenue price is [26.19352842]for Juice',\n",
       " 'optimum_logit': 'optimum logit revenue price is [18.19352842]for Juice',\n",
       " 'current_price': 'current price is 20',\n",
       " 'article_name': 'article name is Juice',\n",
       " 'predictions':     x    y        lm_p     logit_p\n",
       " 0   5  600  693.057385  558.225194\n",
       " 1  10  550  619.844779  615.604567\n",
       " 2  15  700  546.632173  670.744617\n",
       " 3  17  680  517.347131  656.449371\n",
       " 4  20  500  473.419567  551.424175\n",
       " 5  23  400  429.492004  370.288847\n",
       " 6  25  250  400.206961  252.617168,\n",
       " 'point_of_maximum_profits': {'linear': array([28.19352842]),\n",
       "  'logit': array([19.19352842])}}"
      ]
     },
     "execution_count": 9,
     "metadata": {},
     "output_type": "execute_result"
    }
   ],
   "source": [
    "logit_linear"
   ]
  },
  {
   "cell_type": "markdown",
   "id": "acoustic-proposition",
   "metadata": {
    "papermill": {
     "duration": 0.024101,
     "end_time": "2021-04-16T19:03:35.215700",
     "exception": false,
     "start_time": "2021-04-16T19:03:35.191599",
     "status": "completed"
    },
    "tags": []
   },
   "source": [
    "### The sqr_err for logit is 10993 and that of linear is 87654, therefore logit model seems to be the best fit."
   ]
  },
  {
   "cell_type": "code",
   "execution_count": 10,
   "id": "moving-blind",
   "metadata": {
    "execution": {
     "iopub.execute_input": "2021-04-16T19:03:35.270637Z",
     "iopub.status.busy": "2021-04-16T19:03:35.269871Z",
     "iopub.status.idle": "2021-04-16T19:03:35.273941Z",
     "shell.execute_reply": "2021-04-16T19:03:35.273249Z"
    },
    "papermill": {
     "duration": 0.033714,
     "end_time": "2021-04-16T19:03:35.274087",
     "exception": false,
     "start_time": "2021-04-16T19:03:35.240373",
     "status": "completed"
    },
    "tags": []
   },
   "outputs": [
    {
     "data": {
      "text/plain": [
       "dict"
      ]
     },
     "execution_count": 10,
     "metadata": {},
     "output_type": "execute_result"
    }
   ],
   "source": [
    "type(logit_linear)"
   ]
  },
  {
   "cell_type": "code",
   "execution_count": 11,
   "id": "mounted-lewis",
   "metadata": {
    "execution": {
     "iopub.execute_input": "2021-04-16T19:03:35.331020Z",
     "iopub.status.busy": "2021-04-16T19:03:35.329817Z",
     "iopub.status.idle": "2021-04-16T19:03:35.334539Z",
     "shell.execute_reply": "2021-04-16T19:03:35.333974Z"
    },
    "papermill": {
     "duration": 0.035269,
     "end_time": "2021-04-16T19:03:35.334684",
     "exception": false,
     "start_time": "2021-04-16T19:03:35.299415",
     "status": "completed"
    },
    "tags": []
   },
   "outputs": [
    {
     "data": {
      "text/plain": [
       "dict_keys(['optimization_paremeters', 'lm_model', 'squared_error_logit', 'squared_error_linear', 'simulation_data', 'best_model', 'optimum_linear', 'optimum_logit', 'current_price', 'article_name', 'predictions', 'point_of_maximum_profits'])"
      ]
     },
     "execution_count": 11,
     "metadata": {},
     "output_type": "execute_result"
    }
   ],
   "source": [
    "logit_linear.keys()"
   ]
  },
  {
   "cell_type": "code",
   "execution_count": 12,
   "id": "after-presence",
   "metadata": {
    "execution": {
     "iopub.execute_input": "2021-04-16T19:03:35.391361Z",
     "iopub.status.busy": "2021-04-16T19:03:35.390392Z",
     "iopub.status.idle": "2021-04-16T19:03:35.393124Z",
     "shell.execute_reply": "2021-04-16T19:03:35.393636Z"
    },
    "papermill": {
     "duration": 0.033684,
     "end_time": "2021-04-16T19:03:35.393852",
     "exception": false,
     "start_time": "2021-04-16T19:03:35.360168",
     "status": "completed"
    },
    "tags": []
   },
   "outputs": [],
   "source": [
    "prediction_data=logit_linear['predictions']"
   ]
  },
  {
   "cell_type": "code",
   "execution_count": 13,
   "id": "increasing-brick",
   "metadata": {
    "execution": {
     "iopub.execute_input": "2021-04-16T19:03:35.449241Z",
     "iopub.status.busy": "2021-04-16T19:03:35.448235Z",
     "iopub.status.idle": "2021-04-16T19:03:35.463851Z",
     "shell.execute_reply": "2021-04-16T19:03:35.463247Z"
    },
    "papermill": {
     "duration": 0.04454,
     "end_time": "2021-04-16T19:03:35.464017",
     "exception": false,
     "start_time": "2021-04-16T19:03:35.419477",
     "status": "completed"
    },
    "tags": []
   },
   "outputs": [
    {
     "data": {
      "text/html": [
       "<div>\n",
       "<style scoped>\n",
       "    .dataframe tbody tr th:only-of-type {\n",
       "        vertical-align: middle;\n",
       "    }\n",
       "\n",
       "    .dataframe tbody tr th {\n",
       "        vertical-align: top;\n",
       "    }\n",
       "\n",
       "    .dataframe thead th {\n",
       "        text-align: right;\n",
       "    }\n",
       "</style>\n",
       "<table border=\"1\" class=\"dataframe\">\n",
       "  <thead>\n",
       "    <tr style=\"text-align: right;\">\n",
       "      <th></th>\n",
       "      <th>x</th>\n",
       "      <th>y</th>\n",
       "      <th>lm_p</th>\n",
       "      <th>logit_p</th>\n",
       "    </tr>\n",
       "  </thead>\n",
       "  <tbody>\n",
       "    <tr>\n",
       "      <th>0</th>\n",
       "      <td>5</td>\n",
       "      <td>600</td>\n",
       "      <td>693.057385</td>\n",
       "      <td>558.225194</td>\n",
       "    </tr>\n",
       "    <tr>\n",
       "      <th>1</th>\n",
       "      <td>10</td>\n",
       "      <td>550</td>\n",
       "      <td>619.844779</td>\n",
       "      <td>615.604567</td>\n",
       "    </tr>\n",
       "    <tr>\n",
       "      <th>2</th>\n",
       "      <td>15</td>\n",
       "      <td>700</td>\n",
       "      <td>546.632173</td>\n",
       "      <td>670.744617</td>\n",
       "    </tr>\n",
       "    <tr>\n",
       "      <th>3</th>\n",
       "      <td>17</td>\n",
       "      <td>680</td>\n",
       "      <td>517.347131</td>\n",
       "      <td>656.449371</td>\n",
       "    </tr>\n",
       "    <tr>\n",
       "      <th>4</th>\n",
       "      <td>20</td>\n",
       "      <td>500</td>\n",
       "      <td>473.419567</td>\n",
       "      <td>551.424175</td>\n",
       "    </tr>\n",
       "    <tr>\n",
       "      <th>5</th>\n",
       "      <td>23</td>\n",
       "      <td>400</td>\n",
       "      <td>429.492004</td>\n",
       "      <td>370.288847</td>\n",
       "    </tr>\n",
       "    <tr>\n",
       "      <th>6</th>\n",
       "      <td>25</td>\n",
       "      <td>250</td>\n",
       "      <td>400.206961</td>\n",
       "      <td>252.617168</td>\n",
       "    </tr>\n",
       "  </tbody>\n",
       "</table>\n",
       "</div>"
      ],
      "text/plain": [
       "    x    y        lm_p     logit_p\n",
       "0   5  600  693.057385  558.225194\n",
       "1  10  550  619.844779  615.604567\n",
       "2  15  700  546.632173  670.744617\n",
       "3  17  680  517.347131  656.449371\n",
       "4  20  500  473.419567  551.424175\n",
       "5  23  400  429.492004  370.288847\n",
       "6  25  250  400.206961  252.617168"
      ]
     },
     "execution_count": 13,
     "metadata": {},
     "output_type": "execute_result"
    }
   ],
   "source": [
    "prediction_data"
   ]
  },
  {
   "cell_type": "code",
   "execution_count": 14,
   "id": "virtual-associate",
   "metadata": {
    "execution": {
     "iopub.execute_input": "2021-04-16T19:03:35.548412Z",
     "iopub.status.busy": "2021-04-16T19:03:35.547545Z",
     "iopub.status.idle": "2021-04-16T19:03:35.691091Z",
     "shell.execute_reply": "2021-04-16T19:03:35.689815Z"
    },
    "papermill": {
     "duration": 0.200913,
     "end_time": "2021-04-16T19:03:35.691254",
     "exception": false,
     "start_time": "2021-04-16T19:03:35.490341",
     "status": "completed"
    },
    "tags": []
   },
   "outputs": [
    {
     "data": {
      "text/plain": [
       "[<matplotlib.lines.Line2D at 0x7fb8321bc110>]"
      ]
     },
     "execution_count": 14,
     "metadata": {},
     "output_type": "execute_result"
    },
    {
     "data": {
      "image/png": "[encoded data removed]",
      "text/plain": [
       "<Figure size 432x288 with 1 Axes>"
      ]
     },
     "metadata": {
      "needs_background": "light"
     },
     "output_type": "display_data"
    }
   ],
   "source": [
    "plt.scatter(prediction_data.x, prediction_data.y)\n",
    "plt.plot(prediction_data.x, prediction_data.lm_p)\n",
    "plt.plot(prediction_data.x, prediction_data.logit_p)"
   ]
  },
  {
   "cell_type": "markdown",
   "id": "based-adrian",
   "metadata": {
    "papermill": {
     "duration": 0.027693,
     "end_time": "2021-04-16T19:03:35.746838",
     "exception": false,
     "start_time": "2021-04-16T19:03:35.719145",
     "status": "completed"
    },
    "tags": []
   },
   "source": [
    "#### We can see that that the logit model is the better fit than linera, lets take a look at the point of max.profit"
   ]
  },
  {
   "cell_type": "code",
   "execution_count": 15,
   "id": "treated-collaboration",
   "metadata": {
    "execution": {
     "iopub.execute_input": "2021-04-16T19:03:35.809969Z",
     "iopub.status.busy": "2021-04-16T19:03:35.809240Z",
     "iopub.status.idle": "2021-04-16T19:03:35.812635Z",
     "shell.execute_reply": "2021-04-16T19:03:35.813305Z"
    },
    "papermill": {
     "duration": 0.037592,
     "end_time": "2021-04-16T19:03:35.813484",
     "exception": false,
     "start_time": "2021-04-16T19:03:35.775892",
     "status": "completed"
    },
    "tags": []
   },
   "outputs": [
    {
     "data": {
      "text/plain": [
       "{'linear': array([28.19352842]), 'logit': array([19.19352842])}"
      ]
     },
     "execution_count": 15,
     "metadata": {},
     "output_type": "execute_result"
    }
   ],
   "source": [
    "logit_linear['point_of_maximum_profits']"
   ]
  },
  {
   "cell_type": "markdown",
   "id": "perceived-apartment",
   "metadata": {
    "papermill": {
     "duration": 0.027581,
     "end_time": "2021-04-16T19:03:35.868942",
     "exception": false,
     "start_time": "2021-04-16T19:03:35.841361",
     "status": "completed"
    },
    "tags": []
   },
   "source": [
    "#### differnce between the cost is more as it can make or break the revenue."
   ]
  },
  {
   "cell_type": "code",
   "execution_count": 16,
   "id": "united-coaching",
   "metadata": {
    "execution": {
     "iopub.execute_input": "2021-04-16T19:03:35.927900Z",
     "iopub.status.busy": "2021-04-16T19:03:35.927226Z",
     "iopub.status.idle": "2021-04-16T19:03:38.304535Z",
     "shell.execute_reply": "2021-04-16T19:03:38.305597Z"
    },
    "papermill": {
     "duration": 2.409211,
     "end_time": "2021-04-16T19:03:38.305844",
     "exception": false,
     "start_time": "2021-04-16T19:03:35.896633",
     "status": "completed"
    },
    "tags": []
   },
   "outputs": [],
   "source": [
    "retail_cln= pd.read_csv(\"../input/retail-clean/retail_clean.csv\") "
   ]
  },
  {
   "cell_type": "code",
   "execution_count": 17,
   "id": "integral-cleanup",
   "metadata": {
    "execution": {
     "iopub.execute_input": "2021-04-16T19:03:38.371282Z",
     "iopub.status.busy": "2021-04-16T19:03:38.369822Z",
     "iopub.status.idle": "2021-04-16T19:03:38.641309Z",
     "shell.execute_reply": "2021-04-16T19:03:38.640670Z"
    },
    "papermill": {
     "duration": 0.304454,
     "end_time": "2021-04-16T19:03:38.641492",
     "exception": false,
     "start_time": "2021-04-16T19:03:38.337038",
     "status": "completed"
    },
    "tags": []
   },
   "outputs": [],
   "source": [
    "retail_cln['InvoiceDate']=pd.to_datetime(retail_cln['InvoiceDate'])"
   ]
  },
  {
   "cell_type": "code",
   "execution_count": 18,
   "id": "spare-norman",
   "metadata": {
    "execution": {
     "iopub.execute_input": "2021-04-16T19:03:38.704904Z",
     "iopub.status.busy": "2021-04-16T19:03:38.704074Z",
     "iopub.status.idle": "2021-04-16T19:03:38.907560Z",
     "shell.execute_reply": "2021-04-16T19:03:38.905467Z"
    },
    "papermill": {
     "duration": 0.236557,
     "end_time": "2021-04-16T19:03:38.907909",
     "exception": false,
     "start_time": "2021-04-16T19:03:38.671352",
     "status": "completed"
    },
    "tags": []
   },
   "outputs": [
    {
     "name": "stderr",
     "output_type": "stream",
     "text": [
      "/opt/conda/lib/python3.7/site-packages/ipykernel_launcher.py:2: FutureWarning: Series.dt.weekofyear and Series.dt.week have been deprecated.  Please use Series.dt.isocalendar().week instead.\n",
      "  \n"
     ]
    }
   ],
   "source": [
    "retail_cln['year']=retail_cln['InvoiceDate'].dt.year\n",
    "retail_cln['week']=retail_cln['InvoiceDate'].dt.week"
   ]
  },
  {
   "cell_type": "code",
   "execution_count": 19,
   "id": "chubby-hollywood",
   "metadata": {
    "execution": {
     "iopub.execute_input": "2021-04-16T19:03:38.980374Z",
     "iopub.status.busy": "2021-04-16T19:03:38.979568Z",
     "iopub.status.idle": "2021-04-16T19:03:45.044029Z",
     "shell.execute_reply": "2021-04-16T19:03:45.043351Z"
    },
    "papermill": {
     "duration": 6.103859,
     "end_time": "2021-04-16T19:03:45.044216",
     "exception": false,
     "start_time": "2021-04-16T19:03:38.940357",
     "status": "completed"
    },
    "tags": []
   },
   "outputs": [],
   "source": [
    "## getting week_year component\n",
    "retail_cln['week_year']=retail_cln['InvoiceDate'].dt.strftime(\"%W %Y\")"
   ]
  },
  {
   "cell_type": "code",
   "execution_count": 20,
   "id": "empirical-shanghai",
   "metadata": {
    "execution": {
     "iopub.execute_input": "2021-04-16T19:03:45.122305Z",
     "iopub.status.busy": "2021-04-16T19:03:45.117233Z",
     "iopub.status.idle": "2021-04-16T19:03:45.506092Z",
     "shell.execute_reply": "2021-04-16T19:03:45.505441Z"
    },
    "papermill": {
     "duration": 0.431268,
     "end_time": "2021-04-16T19:03:45.506294",
     "exception": false,
     "start_time": "2021-04-16T19:03:45.075026",
     "status": "completed"
    },
    "tags": []
   },
   "outputs": [],
   "source": [
    "weekly_sales=retail_cln.groupby([\"Description\",\"week_year\"]).agg(total_sales= (\"Quantity\",\"sum\"),\n",
    "                                                  price= (\"Price\",\"mean\")).reset_index()"
   ]
  },
  {
   "cell_type": "code",
   "execution_count": 21,
   "id": "pleasant-rebel",
   "metadata": {
    "execution": {
     "iopub.execute_input": "2021-04-16T19:03:45.581079Z",
     "iopub.status.busy": "2021-04-16T19:03:45.579963Z",
     "iopub.status.idle": "2021-04-16T19:03:45.592680Z",
     "shell.execute_reply": "2021-04-16T19:03:45.593258Z"
    },
    "papermill": {
     "duration": 0.058102,
     "end_time": "2021-04-16T19:03:45.593446",
     "exception": false,
     "start_time": "2021-04-16T19:03:45.535344",
     "status": "completed"
    },
    "tags": []
   },
   "outputs": [],
   "source": [
    "### creating a key for unique skus\n",
    "\n",
    "keys = weekly_sales.Description.unique()"
   ]
  },
  {
   "cell_type": "code",
   "execution_count": 22,
   "id": "generous-chess",
   "metadata": {
    "execution": {
     "iopub.execute_input": "2021-04-16T19:03:45.685450Z",
     "iopub.status.busy": "2021-04-16T19:03:45.684694Z",
     "iopub.status.idle": "2021-04-16T19:03:49.391898Z",
     "shell.execute_reply": "2021-04-16T19:03:49.392957Z"
    },
    "papermill": {
     "duration": 3.769564,
     "end_time": "2021-04-16T19:03:49.393344",
     "exception": false,
     "start_time": "2021-04-16T19:03:45.623780",
     "status": "completed"
    },
    "tags": []
   },
   "outputs": [
    {
     "name": "stderr",
     "output_type": "stream",
     "text": [
      "/opt/conda/lib/python3.7/site-packages/numpy/core/_asarray.py:83: VisibleDeprecationWarning: Creating an ndarray from ragged nested sequences (which is a list-or-tuple of lists-or-tuples-or ndarrays with different lengths or shapes) is deprecated. If you meant to do this, you must specify 'dtype=object' when creating the ndarray\n",
      "  return array(a, dtype, copy=False, order=order)\n",
      "/opt/conda/lib/python3.7/site-packages/numpy/core/_asarray.py:83: VisibleDeprecationWarning: Creating an ndarray from ragged nested sequences (which is a list-or-tuple of lists-or-tuples-or ndarrays with different lengths or shapes) is deprecated. If you meant to do this, you must specify 'dtype=object' when creating the ndarray\n",
      "  return array(a, dtype, copy=False, order=order)\n",
      "/opt/conda/lib/python3.7/site-packages/numpy/core/_asarray.py:83: VisibleDeprecationWarning: Creating an ndarray from ragged nested sequences (which is a list-or-tuple of lists-or-tuples-or ndarrays with different lengths or shapes) is deprecated. If you meant to do this, you must specify 'dtype=object' when creating the ndarray\n",
      "  return array(a, dtype, copy=False, order=order)\n",
      "/opt/conda/lib/python3.7/site-packages/numpy/core/_asarray.py:83: VisibleDeprecationWarning: Creating an ndarray from ragged nested sequences (which is a list-or-tuple of lists-or-tuples-or ndarrays with different lengths or shapes) is deprecated. If you meant to do this, you must specify 'dtype=object' when creating the ndarray\n",
      "  return array(a, dtype, copy=False, order=order)\n",
      "/opt/conda/lib/python3.7/site-packages/numpy/core/_asarray.py:83: VisibleDeprecationWarning: Creating an ndarray from ragged nested sequences (which is a list-or-tuple of lists-or-tuples-or ndarrays with different lengths or shapes) is deprecated. If you meant to do this, you must specify 'dtype=object' when creating the ndarray\n",
      "  return array(a, dtype, copy=False, order=order)\n"
     ]
    },
    {
     "ename": "ValueError",
     "evalue": "Found array with 0 sample(s) (shape=(0, 1)) while a minimum of 1 is required.",
     "output_type": "error",
     "traceback": [
      "\u001b[0;31m---------------------------------------------------------------------------\u001b[0m",
      "\u001b[0;31mValueError\u001b[0m                                Traceback (most recent call last)",
      "\u001b[0;32m<ipython-input-22-3a057e6faac8>\u001b[0m in \u001b[0;36m<module>\u001b[0;34m\u001b[0m\n\u001b[1;32m      7\u001b[0m         \u001b[0mcost\u001b[0m \u001b[0;34m=\u001b[0m \u001b[0;36m0.4\u001b[0m\u001b[0;34m*\u001b[0m \u001b[0mmax\u001b[0m\u001b[0;34m(\u001b[0m\u001b[0ma\u001b[0m\u001b[0;34m[\u001b[0m\u001b[0;34m'price'\u001b[0m\u001b[0;34m]\u001b[0m\u001b[0;34m)\u001b[0m\u001b[0;34m\u001b[0m\u001b[0;34m\u001b[0m\u001b[0m\n\u001b[1;32m      8\u001b[0m         \u001b[0mcurrent_price\u001b[0m \u001b[0;34m=\u001b[0m \u001b[0ma\u001b[0m\u001b[0;34m[\u001b[0m\u001b[0;34m'price'\u001b[0m\u001b[0;34m]\u001b[0m\u001b[0;34m.\u001b[0m\u001b[0mmean\u001b[0m\u001b[0;34m(\u001b[0m\u001b[0;34m)\u001b[0m\u001b[0;34m\u001b[0m\u001b[0;34m\u001b[0m\u001b[0m\n\u001b[0;32m----> 9\u001b[0;31m         \u001b[0mlogit\u001b[0m \u001b[0;34m=\u001b[0m \u001b[0minv\u001b[0m\u001b[0;34m.\u001b[0m\u001b[0msingle_product_optimization\u001b[0m\u001b[0;34m(\u001b[0m\u001b[0ma\u001b[0m\u001b[0;34m[\u001b[0m\u001b[0;34m'price'\u001b[0m\u001b[0;34m]\u001b[0m\u001b[0;34m,\u001b[0m \u001b[0ma\u001b[0m\u001b[0;34m[\u001b[0m\u001b[0;34m'total_sales'\u001b[0m\u001b[0;34m]\u001b[0m\u001b[0;34m,\u001b[0m \u001b[0mkey\u001b[0m\u001b[0;34m,\u001b[0m\u001b[0mcurrent_price\u001b[0m\u001b[0;34m,\u001b[0m \u001b[0mcost\u001b[0m\u001b[0;34m)\u001b[0m\u001b[0;34m\u001b[0m\u001b[0;34m\u001b[0m\u001b[0m\n\u001b[0m\u001b[1;32m     10\u001b[0m         \u001b[0mempty_dict_logit\u001b[0m\u001b[0;34m[\u001b[0m\u001b[0mkey\u001b[0m\u001b[0;34m]\u001b[0m\u001b[0;34m=\u001b[0m \u001b[0mlogit\u001b[0m\u001b[0;34m\u001b[0m\u001b[0;34m\u001b[0m\u001b[0m\n",
      "\u001b[0;32m/opt/conda/lib/python3.7/site-packages/inventorize/__init__.py\u001b[0m in \u001b[0;36msingle_product_optimization\u001b[0;34m(x, y, service_product_name, current_price, cost)\u001b[0m\n\u001b[1;32m   1966\u001b[0m \u001b[0;34m\u001b[0m\u001b[0m\n\u001b[1;32m   1967\u001b[0m   \u001b[0mMeasured\u001b[0m\u001b[0;34m[\u001b[0m\u001b[0;34m'logit_p'\u001b[0m\u001b[0;34m]\u001b[0m\u001b[0;34m=\u001b[0m\u001b[0mlogit1\u001b[0m\u001b[0;34m(\u001b[0m\u001b[0mMeasured\u001b[0m\u001b[0;34m[\u001b[0m\u001b[0;34m'x'\u001b[0m\u001b[0;34m]\u001b[0m\u001b[0;34m)\u001b[0m\u001b[0;34m\u001b[0m\u001b[0;34m\u001b[0m\u001b[0m\n\u001b[0;32m-> 1968\u001b[0;31m   \u001b[0msimulation_data\u001b[0m\u001b[0;34m[\u001b[0m\u001b[0;34m'predicted_linear'\u001b[0m\u001b[0;34m]\u001b[0m\u001b[0;34m=\u001b[0m \u001b[0mmodel\u001b[0m\u001b[0;34m.\u001b[0m\u001b[0mpredict\u001b[0m\u001b[0;34m(\u001b[0m\u001b[0msimulation_data\u001b[0m\u001b[0;34m[\u001b[0m\u001b[0;34m[\u001b[0m\u001b[0;34m'x'\u001b[0m\u001b[0;34m]\u001b[0m\u001b[0;34m]\u001b[0m\u001b[0;34m)\u001b[0m\u001b[0;34m\u001b[0m\u001b[0;34m\u001b[0m\u001b[0m\n\u001b[0m\u001b[1;32m   1969\u001b[0m   \u001b[0msimulation_data\u001b[0m\u001b[0;34m[\u001b[0m\u001b[0;34m'predicted_logit'\u001b[0m\u001b[0;34m]\u001b[0m\u001b[0;34m=\u001b[0m \u001b[0mlogit1\u001b[0m\u001b[0;34m(\u001b[0m\u001b[0msimulation_data\u001b[0m\u001b[0;34m[\u001b[0m\u001b[0;34m'x'\u001b[0m\u001b[0;34m]\u001b[0m\u001b[0;34m)\u001b[0m\u001b[0;34m\u001b[0m\u001b[0;34m\u001b[0m\u001b[0m\n\u001b[1;32m   1970\u001b[0m   \u001b[0msimulation_data\u001b[0m\u001b[0;34m[\u001b[0m\u001b[0;34m'revenue_linear'\u001b[0m\u001b[0;34m]\u001b[0m\u001b[0;34m=\u001b[0m \u001b[0msimulation_data\u001b[0m\u001b[0;34m[\u001b[0m\u001b[0;34m'predicted_linear'\u001b[0m\u001b[0;34m]\u001b[0m \u001b[0;34m*\u001b[0m\u001b[0msimulation_data\u001b[0m\u001b[0;34m[\u001b[0m\u001b[0;34m'x'\u001b[0m\u001b[0;34m]\u001b[0m\u001b[0;34m\u001b[0m\u001b[0;34m\u001b[0m\u001b[0m\n",
      "\u001b[0;32m/opt/conda/lib/python3.7/site-packages/sklearn/linear_model/_base.py\u001b[0m in \u001b[0;36mpredict\u001b[0;34m(self, X)\u001b[0m\n\u001b[1;32m    236\u001b[0m             \u001b[0mReturns\u001b[0m \u001b[0mpredicted\u001b[0m \u001b[0mvalues\u001b[0m\u001b[0;34m.\u001b[0m\u001b[0;34m\u001b[0m\u001b[0;34m\u001b[0m\u001b[0m\n\u001b[1;32m    237\u001b[0m         \"\"\"\n\u001b[0;32m--> 238\u001b[0;31m         \u001b[0;32mreturn\u001b[0m \u001b[0mself\u001b[0m\u001b[0;34m.\u001b[0m\u001b[0m_decision_function\u001b[0m\u001b[0;34m(\u001b[0m\u001b[0mX\u001b[0m\u001b[0;34m)\u001b[0m\u001b[0;34m\u001b[0m\u001b[0;34m\u001b[0m\u001b[0m\n\u001b[0m\u001b[1;32m    239\u001b[0m \u001b[0;34m\u001b[0m\u001b[0m\n\u001b[1;32m    240\u001b[0m     \u001b[0m_preprocess_data\u001b[0m \u001b[0;34m=\u001b[0m \u001b[0mstaticmethod\u001b[0m\u001b[0;34m(\u001b[0m\u001b[0m_preprocess_data\u001b[0m\u001b[0;34m)\u001b[0m\u001b[0;34m\u001b[0m\u001b[0;34m\u001b[0m\u001b[0m\n",
      "\u001b[0;32m/opt/conda/lib/python3.7/site-packages/sklearn/linear_model/_base.py\u001b[0m in \u001b[0;36m_decision_function\u001b[0;34m(self, X)\u001b[0m\n\u001b[1;32m    218\u001b[0m         \u001b[0mcheck_is_fitted\u001b[0m\u001b[0;34m(\u001b[0m\u001b[0mself\u001b[0m\u001b[0;34m)\u001b[0m\u001b[0;34m\u001b[0m\u001b[0;34m\u001b[0m\u001b[0m\n\u001b[1;32m    219\u001b[0m \u001b[0;34m\u001b[0m\u001b[0m\n\u001b[0;32m--> 220\u001b[0;31m         \u001b[0mX\u001b[0m \u001b[0;34m=\u001b[0m \u001b[0mcheck_array\u001b[0m\u001b[0;34m(\u001b[0m\u001b[0mX\u001b[0m\u001b[0;34m,\u001b[0m \u001b[0maccept_sparse\u001b[0m\u001b[0;34m=\u001b[0m\u001b[0;34m[\u001b[0m\u001b[0;34m'csr'\u001b[0m\u001b[0;34m,\u001b[0m \u001b[0;34m'csc'\u001b[0m\u001b[0;34m,\u001b[0m \u001b[0;34m'coo'\u001b[0m\u001b[0;34m]\u001b[0m\u001b[0;34m)\u001b[0m\u001b[0;34m\u001b[0m\u001b[0;34m\u001b[0m\u001b[0m\n\u001b[0m\u001b[1;32m    221\u001b[0m         return safe_sparse_dot(X, self.coef_.T,\n\u001b[1;32m    222\u001b[0m                                dense_output=True) + self.intercept_\n",
      "\u001b[0;32m/opt/conda/lib/python3.7/site-packages/sklearn/utils/validation.py\u001b[0m in \u001b[0;36minner_f\u001b[0;34m(*args, **kwargs)\u001b[0m\n\u001b[1;32m     61\u001b[0m             \u001b[0mextra_args\u001b[0m \u001b[0;34m=\u001b[0m \u001b[0mlen\u001b[0m\u001b[0;34m(\u001b[0m\u001b[0margs\u001b[0m\u001b[0;34m)\u001b[0m \u001b[0;34m-\u001b[0m \u001b[0mlen\u001b[0m\u001b[0;34m(\u001b[0m\u001b[0mall_args\u001b[0m\u001b[0;34m)\u001b[0m\u001b[0;34m\u001b[0m\u001b[0;34m\u001b[0m\u001b[0m\n\u001b[1;32m     62\u001b[0m             \u001b[0;32mif\u001b[0m \u001b[0mextra_args\u001b[0m \u001b[0;34m<=\u001b[0m \u001b[0;36m0\u001b[0m\u001b[0;34m:\u001b[0m\u001b[0;34m\u001b[0m\u001b[0;34m\u001b[0m\u001b[0m\n\u001b[0;32m---> 63\u001b[0;31m                 \u001b[0;32mreturn\u001b[0m \u001b[0mf\u001b[0m\u001b[0;34m(\u001b[0m\u001b[0;34m*\u001b[0m\u001b[0margs\u001b[0m\u001b[0;34m,\u001b[0m \u001b[0;34m**\u001b[0m\u001b[0mkwargs\u001b[0m\u001b[0;34m)\u001b[0m\u001b[0;34m\u001b[0m\u001b[0;34m\u001b[0m\u001b[0m\n\u001b[0m\u001b[1;32m     64\u001b[0m \u001b[0;34m\u001b[0m\u001b[0m\n\u001b[1;32m     65\u001b[0m             \u001b[0;31m# extra_args > 0\u001b[0m\u001b[0;34m\u001b[0m\u001b[0;34m\u001b[0m\u001b[0;34m\u001b[0m\u001b[0m\n",
      "\u001b[0;32m/opt/conda/lib/python3.7/site-packages/sklearn/utils/validation.py\u001b[0m in \u001b[0;36mcheck_array\u001b[0;34m(array, accept_sparse, accept_large_sparse, dtype, order, copy, force_all_finite, ensure_2d, allow_nd, ensure_min_samples, ensure_min_features, estimator)\u001b[0m\n\u001b[1;32m    670\u001b[0m                              \u001b[0;34m\" minimum of %d is required%s.\"\u001b[0m\u001b[0;34m\u001b[0m\u001b[0;34m\u001b[0m\u001b[0m\n\u001b[1;32m    671\u001b[0m                              % (n_samples, array.shape, ensure_min_samples,\n\u001b[0;32m--> 672\u001b[0;31m                                 context))\n\u001b[0m\u001b[1;32m    673\u001b[0m \u001b[0;34m\u001b[0m\u001b[0m\n\u001b[1;32m    674\u001b[0m     \u001b[0;32mif\u001b[0m \u001b[0mensure_min_features\u001b[0m \u001b[0;34m>\u001b[0m \u001b[0;36m0\u001b[0m \u001b[0;32mand\u001b[0m \u001b[0marray\u001b[0m\u001b[0;34m.\u001b[0m\u001b[0mndim\u001b[0m \u001b[0;34m==\u001b[0m \u001b[0;36m2\u001b[0m\u001b[0;34m:\u001b[0m\u001b[0;34m\u001b[0m\u001b[0;34m\u001b[0m\u001b[0m\n",
      "\u001b[0;31mValueError\u001b[0m: Found array with 0 sample(s) (shape=(0, 1)) while a minimum of 1 is required."
     ]
    }
   ],
   "source": [
    "## create empty dict\n",
    "\n",
    "empty_dict_logit= {}\n",
    "\n",
    "for key in keys:\n",
    "        a = weekly_sales[weekly_sales.Description == key]\n",
    "        cost = 0.4* max(a['price'])\n",
    "        current_price = a['price'].mean()\n",
    "        logit = inv.single_product_optimization(a['price'], a['total_sales'], key,current_price, cost)\n",
    "        empty_dict_logit[key]= logit"
   ]
  },
  {
   "cell_type": "code",
   "execution_count": 23,
   "id": "available-virginia",
   "metadata": {
    "execution": {
     "iopub.execute_input": "2021-04-16T19:03:49.504265Z",
     "iopub.status.busy": "2021-04-16T19:03:49.503550Z",
     "iopub.status.idle": "2021-04-16T19:03:49.513458Z",
     "shell.execute_reply": "2021-04-16T19:03:49.512212Z"
    },
    "papermill": {
     "duration": 0.081621,
     "end_time": "2021-04-16T19:03:49.513683",
     "exception": false,
     "start_time": "2021-04-16T19:03:49.432062",
     "status": "completed"
    },
    "tags": []
   },
   "outputs": [
    {
     "data": {
      "text/plain": [
       "{'  DOORMAT UNION JACK GUNS AND ROSES': {'optimization_paremeters':  final_simplex: (array([[-339.56035195,   50.82505954,   27.66896126],\n",
       "         [-339.56035244,   50.82505961,   27.66896126],\n",
       "         [-339.56035258,   50.82505964,   27.66896126],\n",
       "         [-339.56035227,   50.82505959,   27.66896127]]), array([1211.58929579, 1211.58929579, 1211.58929579, 1211.58929579]))\n",
       "             fun: 1211.589295787227\n",
       "         message: 'Optimization terminated successfully.'\n",
       "            nfev: 645\n",
       "             nit: 352\n",
       "          status: 0\n",
       "         success: True\n",
       "               x: array([-339.56035195,   50.82505954,   27.66896126]),\n",
       "  'lm_model': LinearRegression(),\n",
       "  'squared_error_logit': 'squared_error_logit= 1211.589295787227',\n",
       "  'squared_error_linear': 'squared_errorr_lm= 3621.9939513586464',\n",
       "  'simulation_data':           x  predicted_linear  predicted_logit  revenue_linear  revenue_logit  \\\n",
       "  0  5.491434         19.297171        27.668961      105.969146     151.942281   \n",
       "  1  6.491434         18.634114        27.686435      120.962123     179.724668   \n",
       "  \n",
       "     profit_linear  profit_logit  \n",
       "  0      53.866784     77.236085  \n",
       "  1      70.650016    104.971295  ,\n",
       "  'best_model': 'best_model is logit modelfor   DOORMAT UNION JACK GUNS AND ROSES',\n",
       "  'optimum_linear': 'optimum linear revenue price is [6.49143422]for   DOORMAT UNION JACK GUNS AND ROSES',\n",
       "  'optimum_logit': 'optimum logit revenue price is [6.49143422]for   DOORMAT UNION JACK GUNS AND ROSES',\n",
       "  'current_price': 'current price is 6.609912854030502',\n",
       "  'article_name': 'article name is   DOORMAT UNION JACK GUNS AND ROSES',\n",
       "  'predictions':           x   y       lm_p    logit_p\n",
       "  0  6.590000  16  18.568759  28.941462\n",
       "  1  6.650000  26  18.528975  36.252154\n",
       "  2  6.643333  48  18.533396  35.390629\n",
       "  3  6.655882  58  18.525075  36.553403\n",
       "  4  6.750000   3  18.462670   0.917124\n",
       "  5  6.750000   2  18.462670   0.917124\n",
       "  6  6.750000   2  18.462670   0.917124\n",
       "  7  6.750000   2  18.462670   0.917124\n",
       "  8  5.950000  10  18.993116  27.668961,\n",
       "  'point_of_maximum_profits': {'linear': array([6.49143422]),\n",
       "   'logit': array([6.49143422])}},\n",
       " ' 3 STRIPEY MICE FELTCRAFT': {'optimization_paremeters':  final_simplex: (array([[-349.02997033,  179.85249168,   76.82480803],\n",
       "         [-349.029971  ,  179.85249202,   76.82480806],\n",
       "         [-349.02997025,  179.85249164,   76.82480807],\n",
       "         [-349.02997062,  179.85249183,   76.82480806]]), array([5287.22687628, 5287.22687628, 5287.22687628, 5287.22687628]))\n",
       "             fun: 5287.226876281281\n",
       "         message: 'Optimization terminated successfully.'\n",
       "            nfev: 362\n",
       "             nit: 196\n",
       "          status: 0\n",
       "         success: True\n",
       "               x: array([-349.02997033,  179.85249168,   76.82480803]),\n",
       "  'lm_model': LinearRegression(),\n",
       "  'squared_error_logit': 'squared_error_logit= 5287.226876281281',\n",
       "  'squared_error_linear': 'squared_errorr_lm= 16242.588060866055',\n",
       "  'simulation_data':           x  predicted_linear  predicted_logit  revenue_linear  revenue_logit  \\\n",
       "  0  1.808572        120.990943        76.824808      218.820809     138.943183   \n",
       "  \n",
       "     profit_linear  profit_logit  \n",
       "  0     124.447874     79.019832  ,\n",
       "  'best_model': 'best_model is logit modelfor  3 STRIPEY MICE FELTCRAFT',\n",
       "  'optimum_linear': 'optimum linear revenue price is [1.80857181]for  3 STRIPEY MICE FELTCRAFT',\n",
       "  'optimum_logit': 'optimum logit revenue price is [1.80857181]for  3 STRIPEY MICE FELTCRAFT',\n",
       "  'current_price': 'current price is 1.94156746031746',\n",
       "  'article_name': 'article name is  3 STRIPEY MICE FELTCRAFT',\n",
       "  'predictions':            x    y       lm_p    logit_p\n",
       "  9   1.950000   20  25.749902  18.595193\n",
       "  10  1.950000    5  25.749902  18.595193\n",
       "  11  1.950000   16  25.749902  18.595193\n",
       "  12  1.950000   22  25.749902  18.595193\n",
       "  13  1.950000   54  25.749902  18.595193\n",
       "  14  1.950000   40  25.749902  18.595193\n",
       "  15  1.916667   78  48.197347  81.332253\n",
       "  16  1.950000   22  25.749902  18.595193\n",
       "  17  1.950000   36  25.749902  18.595193\n",
       "  18  1.850000   58  93.092236  76.824912\n",
       "  19  1.950000    6  25.749902  18.595193\n",
       "  20  1.950000   12  25.749902  18.595193\n",
       "  21  1.950000    6  25.749902  18.595193\n",
       "  22  1.950000    6  25.749902  18.595193\n",
       "  23  1.950000    6  25.749902  18.595193\n",
       "  24  1.950000    6  25.749902  18.595193\n",
       "  25  1.950000    6  25.749902  18.595193\n",
       "  26  1.931250  132  38.376590  99.962891\n",
       "  27  1.950000   38  25.749902  18.595193\n",
       "  28  1.925000   73  42.585486  90.082798\n",
       "  29  1.950000   18  25.749902  18.595193,\n",
       "  'point_of_maximum_profits': {'linear': array([1.80857181]),\n",
       "   'logit': array([1.80857181])}},\n",
       " ' 4 PURPLE FLOCK DINNER CANDLES': {'optimization_paremeters':  final_simplex: (array([[-10.46917042,   4.99888459,  36.94280523],\n",
       "         [-10.46917041,   4.99888459,  36.94280441],\n",
       "         [-10.4691709 ,   4.99888477,  36.94280485],\n",
       "         [-10.46917087,   4.99888478,  36.94280437]]), array([1100.00030554, 1100.00030554, 1100.00030554, 1100.00030554]))\n",
       "             fun: 1100.0003055351992\n",
       "         message: 'Optimization terminated successfully.'\n",
       "            nfev: 243\n",
       "             nit: 132\n",
       "          status: 0\n",
       "         success: True\n",
       "               x: array([-10.46917042,   4.99888459,  36.94280523]),\n",
       "  'lm_model': LinearRegression(),\n",
       "  'squared_error_logit': 'squared_error_logit= 1100.0003055351992',\n",
       "  'squared_error_linear': 'squared_errorr_lm= 1984.386614957688',\n",
       "  'simulation_data':           x  predicted_linear  predicted_logit  revenue_linear  revenue_logit  \\\n",
       "  0 -0.183324         69.410381        36.947583      -12.724614      -6.773392   \n",
       "  1  0.816676         46.097732        37.341554       37.646895      30.495937   \n",
       "  2  1.816676         22.785083        48.744693       41.393105      88.553296   \n",
       "  3  2.816676         -0.527566         1.097812       -1.485983       3.092181   \n",
       "  \n",
       "     profit_linear  profit_logit  \n",
       "  0     -83.523203    -44.459927  \n",
       "  1      -9.372792     -7.592448  \n",
       "  2      18.152320     38.833709  \n",
       "  3      -0.947865      1.972412  ,\n",
       "  'best_model': 'best_model is logit modelfor  4 PURPLE FLOCK DINNER CANDLES',\n",
       "  'optimum_linear': 'optimum linear revenue price is [1.81667564]for  4 PURPLE FLOCK DINNER CANDLES',\n",
       "  'optimum_logit': 'optimum logit revenue price is [1.81667564]for  4 PURPLE FLOCK DINNER CANDLES',\n",
       "  'current_price': 'current price is 2.330777777777777',\n",
       "  'article_name': 'article name is  4 PURPLE FLOCK DINNER CANDLES',\n",
       "  'predictions':            x   y       lm_p    logit_p\n",
       "  30  2.550000   1   5.689349   4.679322\n",
       "  31  2.550000   1   5.689349   4.679322\n",
       "  32  2.550000   1   5.689349   4.679322\n",
       "  33  2.550000   3   5.689349   4.679322\n",
       "  34  2.550000   3   5.689349   4.679322\n",
       "  35  2.550000   1   5.689349   4.679322\n",
       "  36  2.550000   1   5.689349   4.679322\n",
       "  37  2.550000   2   5.689349   4.679322\n",
       "  38  2.550000   2   5.689349   4.679322\n",
       "  39  2.550000   3   5.689349   4.679322\n",
       "  40  2.550000   4   5.689349   4.679322\n",
       "  41  2.550000   1   5.689349   4.679322\n",
       "  42  2.550000   2   5.689349   4.679322\n",
       "  43  2.550000   4   5.689349   4.679322\n",
       "  44  2.550000   1   5.689349   4.679322\n",
       "  45  2.550000   1   5.689349   4.679322\n",
       "  46  0.850000  36  45.320853  37.401777\n",
       "  47  2.550000   2   5.689349   4.679322\n",
       "  48  0.850000  36  45.320853  37.401777\n",
       "  49  1.700000  42  25.505101  47.011010\n",
       "  50  1.983333  43  18.899850  45.227947\n",
       "  51  2.550000   4   5.689349   4.679322\n",
       "  52  2.550000   6   5.689349   4.679322\n",
       "  53  2.550000   1   5.689349   4.679322\n",
       "  54  2.550000   7   5.689349   4.679322\n",
       "  55  2.550000   9   5.689349   4.679322\n",
       "  56  2.550000  20   5.689349   4.679322\n",
       "  57  2.550000  26   5.689349   4.679322\n",
       "  58  2.550000  12   5.689349   4.679322\n",
       "  59  0.790000  49  46.719612  37.298931,\n",
       "  'point_of_maximum_profits': {'linear': array([1.81667564]),\n",
       "   'logit': array([1.81667564])}},\n",
       " \" 50'S CHRISTMAS GIFT BAG LARGE\": {'optimization_paremeters':  final_simplex: (array([[-211.0750101 ,  170.23404768,  393.77235973],\n",
       "         [-211.07501005,  170.23404765,  393.7723597 ],\n",
       "         [-211.07501043,  170.23404795,  393.7723599 ],\n",
       "         [-211.07501078,  170.23404823,  393.77236007]]), array([54470.4, 54470.4, 54470.4, 54470.4]))\n",
       "             fun: 54470.39999999999\n",
       "         message: 'Optimization terminated successfully.'\n",
       "            nfev: 262\n",
       "             nit: 135\n",
       "          status: 0\n",
       "         success: True\n",
       "               x: array([-211.0750101 ,  170.23404768,  393.77235973]),\n",
       "  'lm_model': LinearRegression(),\n",
       "  'squared_error_logit': 'squared_error_logit= 54470.39999999999',\n",
       "  'squared_error_linear': 'squared_errorr_lm= 54470.4',\n",
       "  'simulation_data':          x  predicted_linear  predicted_logit  revenue_linear  revenue_logit  \\\n",
       "  0  1.21955            692.39       437.366212      844.404224     533.389964   \n",
       "  \n",
       "     profit_linear  profit_logit  \n",
       "  0     498.209224    314.706858  ,\n",
       "  'best_model': \"best_model is logit modelfor  50'S CHRISTMAS GIFT BAG LARGE\",\n",
       "  'optimum_linear': \"optimum linear revenue price is [1.21955]for  50'S CHRISTMAS GIFT BAG LARGE\",\n",
       "  'optimum_logit': \"optimum logit revenue price is [1.21955]for  50'S CHRISTMAS GIFT BAG LARGE\",\n",
       "  'current_price': 'current price is 1.2486875',\n",
       "  'article_name': \"article name is  50'S CHRISTMAS GIFT BAG LARGE\",\n",
       "  'predictions':         x    y   lm_p     logit_p\n",
       "  60  1.250   12   91.8   91.800000\n",
       "  61  1.250   24   91.8   91.800000\n",
       "  62  1.250   17   91.8   91.800000\n",
       "  63  1.250   64   91.8   91.800000\n",
       "  64  1.250  160   91.8   91.800000\n",
       "  65  1.250   76   91.8   91.800000\n",
       "  66  1.229  506  506.0  506.000001\n",
       "  67  1.250  104   91.8   91.800000\n",
       "  68  1.250  170   91.8   91.800000\n",
       "  69  1.250  199   91.8   91.800000\n",
       "  70  1.250  168   91.8   91.800000\n",
       "  71  1.250  143   91.8   91.800000\n",
       "  72  1.250   80   91.8   91.800000\n",
       "  73  1.250   82   91.8   91.800000\n",
       "  74  1.250   50   91.8   91.800000\n",
       "  75  1.250   28   91.8   91.800000,\n",
       "  'point_of_maximum_profits': {'linear': array([1.21955]),\n",
       "   'logit': array([1.21955])}}}"
      ]
     },
     "execution_count": 23,
     "metadata": {},
     "output_type": "execute_result"
    }
   ],
   "source": [
    "empty_dict_logit"
   ]
  },
  {
   "cell_type": "code",
   "execution_count": null,
   "id": "outside-passport",
   "metadata": {
    "papermill": {
     "duration": 0.031905,
     "end_time": "2021-04-16T19:03:49.582149",
     "exception": false,
     "start_time": "2021-04-16T19:03:49.550244",
     "status": "completed"
    },
    "tags": []
   },
   "outputs": [],
   "source": []
  }
 ],
 "metadata": {
  "kernelspec": {
   "display_name": "Python 3",
   "language": "python",
   "name": "python3"
  },
  "language_info": {
   "codemirror_mode": {
    "name": "ipython",
    "version": 3
   },
   "file_extension": ".py",
   "mimetype": "text/x-python",
   "name": "python",
   "nbconvert_exporter": "python",
   "pygments_lexer": "ipython3",
   "version": "3.7.9"
  },
  "papermill": {
   "default_parameters": {},
   "duration": 36.461751,
   "end_time": "2021-04-16T19:03:50.426652",
   "environment_variables": {},
   "exception": null,
   "input_path": "__notebook__.ipynb",
   "output_path": "__notebook__.ipynb",
   "parameters": {},
   "start_time": "2021-04-16T19:03:13.964901",
   "version": "2.3.2"
  }
 },
 "nbformat": 4,
 "nbformat_minor": 5
}
