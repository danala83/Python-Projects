{
 "cells": [
  {
   "cell_type": "markdown",
   "id": "smart-letters",
   "metadata": {
    "papermill": {
     "duration": 0.018692,
     "end_time": "2021-04-18T15:30:56.163303",
     "exception": false,
     "start_time": "2021-04-18T15:30:56.144611",
     "status": "completed"
    },
    "tags": []
   },
   "source": [
    "### OBJECTIVE:\n",
    "#### To identify, how does the price of one product effects the demand of other products. We'll use multivariate regression and Logit model. In a multiple logit model, we make sure not to put the similar products as the results could be biased."
   ]
  },
  {
   "cell_type": "code",
   "execution_count": 1,
   "id": "banned-redhead",
   "metadata": {
    "execution": {
     "iopub.execute_input": "2021-04-18T15:30:56.204253Z",
     "iopub.status.busy": "2021-04-18T15:30:56.202809Z",
     "iopub.status.idle": "2021-04-18T15:30:56.227171Z",
     "shell.execute_reply": "2021-04-18T15:30:56.227721Z"
    },
    "papermill": {
     "duration": 0.046624,
     "end_time": "2021-04-18T15:30:56.228046",
     "exception": false,
     "start_time": "2021-04-18T15:30:56.181422",
     "status": "completed"
    },
    "tags": []
   },
   "outputs": [
    {
     "name": "stdout",
     "output_type": "stream",
     "text": [
      "/kaggle/input/price-sales/multvariate_slides.csv\n",
      "/kaggle/input/multi-slide/multi_slides.csv\n"
     ]
    }
   ],
   "source": [
    "import numpy as np # linear algebra\n",
    "import pandas as pd # data processing, CSV file I/O (e.g. pd.read_csv)\n",
    "\n",
    "# Input data files are available in the read-only \"../input/\" directory\n",
    "# For example, running this (by clicking run or pressing Shift+Enter) will list all files under the input directory\n",
    "\n",
    "import os\n",
    "for dirname, _, filenames in os.walk('/kaggle/input'):\n",
    "    for filename in filenames:\n",
    "        print(os.path.join(dirname, filename))"
   ]
  },
  {
   "cell_type": "code",
   "execution_count": 2,
   "id": "russian-letter",
   "metadata": {
    "execution": {
     "iopub.execute_input": "2021-04-18T15:30:56.268868Z",
     "iopub.status.busy": "2021-04-18T15:30:56.268223Z",
     "iopub.status.idle": "2021-04-18T15:31:07.002845Z",
     "shell.execute_reply": "2021-04-18T15:31:07.003727Z"
    },
    "papermill": {
     "duration": 10.757115,
     "end_time": "2021-04-18T15:31:07.003915",
     "exception": false,
     "start_time": "2021-04-18T15:30:56.246800",
     "status": "completed"
    },
    "tags": []
   },
   "outputs": [
    {
     "name": "stdout",
     "output_type": "stream",
     "text": [
      "Collecting inventorize\r\n",
      "  Downloading inventorize-0.0.8.tar.gz (16 kB)\r\n",
      "Requirement already satisfied: scipy in /opt/conda/lib/python3.7/site-packages (from inventorize) (1.5.4)\r\n",
      "Requirement already satisfied: scikit-learn in /opt/conda/lib/python3.7/site-packages (from inventorize) (0.24.1)\r\n",
      "Requirement already satisfied: pandas>=0.23.3 in /opt/conda/lib/python3.7/site-packages (from inventorize) (1.2.2)\r\n",
      "Requirement already satisfied: numpy>=1.14.5 in /opt/conda/lib/python3.7/site-packages (from inventorize) (1.19.5)\r\n",
      "Requirement already satisfied: python-dateutil>=2.7.3 in /opt/conda/lib/python3.7/site-packages (from pandas>=0.23.3->inventorize) (2.8.1)\r\n",
      "Requirement already satisfied: pytz>=2017.3 in /opt/conda/lib/python3.7/site-packages (from pandas>=0.23.3->inventorize) (2021.1)\r\n",
      "Requirement already satisfied: six>=1.5 in /opt/conda/lib/python3.7/site-packages (from python-dateutil>=2.7.3->pandas>=0.23.3->inventorize) (1.15.0)\r\n",
      "Requirement already satisfied: joblib>=0.11 in /opt/conda/lib/python3.7/site-packages (from scikit-learn->inventorize) (1.0.1)\r\n",
      "Requirement already satisfied: threadpoolctl>=2.0.0 in /opt/conda/lib/python3.7/site-packages (from scikit-learn->inventorize) (2.1.0)\r\n",
      "Building wheels for collected packages: inventorize\r\n",
      "  Building wheel for inventorize (setup.py) ... \u001b[?25l-\b \b\\\b \bdone\r\n",
      "\u001b[?25h  Created wheel for inventorize: filename=inventorize-0.0.8-py3-none-any.whl size=15621 sha256=6bc97f34e23b5437144998a63f70a1c0ab98fc6b1759555cd69d18f2718b2e7c\r\n",
      "  Stored in directory: /root/.cache/pip/wheels/bd/52/8e/9f2ffa0f48556e99f5b527da3b111810a19fcdfadfb17bb37d\r\n",
      "Successfully built inventorize\r\n",
      "Installing collected packages: inventorize\r\n",
      "Successfully installed inventorize-0.0.8\r\n"
     ]
    }
   ],
   "source": [
    "!pip install inventorize"
   ]
  },
  {
   "cell_type": "code",
   "execution_count": 3,
   "id": "large-public",
   "metadata": {
    "execution": {
     "iopub.execute_input": "2021-04-18T15:31:07.056447Z",
     "iopub.status.busy": "2021-04-18T15:31:07.055539Z",
     "iopub.status.idle": "2021-04-18T15:31:09.245124Z",
     "shell.execute_reply": "2021-04-18T15:31:09.244419Z"
    },
    "papermill": {
     "duration": 2.218077,
     "end_time": "2021-04-18T15:31:09.245271",
     "exception": false,
     "start_time": "2021-04-18T15:31:07.027194",
     "status": "completed"
    },
    "tags": []
   },
   "outputs": [],
   "source": [
    "import inventorize as inv\n",
    "from sklearn.linear_model import LinearRegression\n",
    "import statsmodels.api as sm"
   ]
  },
  {
   "cell_type": "code",
   "execution_count": 4,
   "id": "spanish-guatemala",
   "metadata": {
    "execution": {
     "iopub.execute_input": "2021-04-18T15:31:09.296284Z",
     "iopub.status.busy": "2021-04-18T15:31:09.295532Z",
     "iopub.status.idle": "2021-04-18T15:31:09.320594Z",
     "shell.execute_reply": "2021-04-18T15:31:09.321177Z"
    },
    "papermill": {
     "duration": 0.054109,
     "end_time": "2021-04-18T15:31:09.321366",
     "exception": false,
     "start_time": "2021-04-18T15:31:09.267257",
     "status": "completed"
    },
    "tags": []
   },
   "outputs": [],
   "source": [
    "multi = pd.read_csv(\"../input/price-sales/multvariate_slides.csv\")"
   ]
  },
  {
   "cell_type": "code",
   "execution_count": 5,
   "id": "cubic-fence",
   "metadata": {
    "execution": {
     "iopub.execute_input": "2021-04-18T15:31:09.371133Z",
     "iopub.status.busy": "2021-04-18T15:31:09.370161Z",
     "iopub.status.idle": "2021-04-18T15:31:09.402826Z",
     "shell.execute_reply": "2021-04-18T15:31:09.403358Z"
    },
    "papermill": {
     "duration": 0.058691,
     "end_time": "2021-04-18T15:31:09.403549",
     "exception": false,
     "start_time": "2021-04-18T15:31:09.344858",
     "status": "completed"
    },
    "tags": []
   },
   "outputs": [
    {
     "data": {
      "text/html": [
       "<div>\n",
       "<style scoped>\n",
       "    .dataframe tbody tr th:only-of-type {\n",
       "        vertical-align: middle;\n",
       "    }\n",
       "\n",
       "    .dataframe tbody tr th {\n",
       "        vertical-align: top;\n",
       "    }\n",
       "\n",
       "    .dataframe thead th {\n",
       "        text-align: right;\n",
       "    }\n",
       "</style>\n",
       "<table border=\"1\" class=\"dataframe\">\n",
       "  <thead>\n",
       "    <tr style=\"text-align: right;\">\n",
       "      <th></th>\n",
       "      <th>week</th>\n",
       "      <th>Price_product3</th>\n",
       "      <th>Price_product1</th>\n",
       "      <th>Price_product2</th>\n",
       "      <th>Price_product4</th>\n",
       "      <th>sales_product3</th>\n",
       "      <th>sales_product1</th>\n",
       "      <th>sales_product2</th>\n",
       "      <th>sales_product4</th>\n",
       "    </tr>\n",
       "  </thead>\n",
       "  <tbody>\n",
       "    <tr>\n",
       "      <th>0</th>\n",
       "      <td>1</td>\n",
       "      <td>92.926829</td>\n",
       "      <td>60.000000</td>\n",
       "      <td>100.0</td>\n",
       "      <td>130.000000</td>\n",
       "      <td>86</td>\n",
       "      <td>700</td>\n",
       "      <td>406</td>\n",
       "      <td>124</td>\n",
       "    </tr>\n",
       "    <tr>\n",
       "      <th>1</th>\n",
       "      <td>2</td>\n",
       "      <td>117.118644</td>\n",
       "      <td>65.000000</td>\n",
       "      <td>110.0</td>\n",
       "      <td>140.000000</td>\n",
       "      <td>257</td>\n",
       "      <td>1652</td>\n",
       "      <td>979</td>\n",
       "      <td>295</td>\n",
       "    </tr>\n",
       "    <tr>\n",
       "      <th>2</th>\n",
       "      <td>3</td>\n",
       "      <td>103.302752</td>\n",
       "      <td>60.000000</td>\n",
       "      <td>100.0</td>\n",
       "      <td>130.000000</td>\n",
       "      <td>230</td>\n",
       "      <td>1999</td>\n",
       "      <td>1197</td>\n",
       "      <td>358</td>\n",
       "    </tr>\n",
       "    <tr>\n",
       "      <th>3</th>\n",
       "      <td>4</td>\n",
       "      <td>115.769231</td>\n",
       "      <td>65.000000</td>\n",
       "      <td>110.0</td>\n",
       "      <td>140.000000</td>\n",
       "      <td>203</td>\n",
       "      <td>848</td>\n",
       "      <td>496</td>\n",
       "      <td>170</td>\n",
       "    </tr>\n",
       "    <tr>\n",
       "      <th>4</th>\n",
       "      <td>5</td>\n",
       "      <td>106.769231</td>\n",
       "      <td>60.054496</td>\n",
       "      <td>100.0</td>\n",
       "      <td>129.727273</td>\n",
       "      <td>144</td>\n",
       "      <td>1278</td>\n",
       "      <td>826</td>\n",
       "      <td>206</td>\n",
       "    </tr>\n",
       "  </tbody>\n",
       "</table>\n",
       "</div>"
      ],
      "text/plain": [
       "   week  Price_product3  Price_product1  Price_product2  Price_product4  \\\n",
       "0     1       92.926829       60.000000           100.0      130.000000   \n",
       "1     2      117.118644       65.000000           110.0      140.000000   \n",
       "2     3      103.302752       60.000000           100.0      130.000000   \n",
       "3     4      115.769231       65.000000           110.0      140.000000   \n",
       "4     5      106.769231       60.054496           100.0      129.727273   \n",
       "\n",
       "   sales_product3  sales_product1  sales_product2  sales_product4  \n",
       "0              86             700             406             124  \n",
       "1             257            1652             979             295  \n",
       "2             230            1999            1197             358  \n",
       "3             203             848             496             170  \n",
       "4             144            1278             826             206  "
      ]
     },
     "execution_count": 5,
     "metadata": {},
     "output_type": "execute_result"
    }
   ],
   "source": [
    "multi.head()"
   ]
  },
  {
   "cell_type": "code",
   "execution_count": 6,
   "id": "assured-bench",
   "metadata": {
    "execution": {
     "iopub.execute_input": "2021-04-18T15:31:09.452835Z",
     "iopub.status.busy": "2021-04-18T15:31:09.451813Z",
     "iopub.status.idle": "2021-04-18T15:31:09.480474Z",
     "shell.execute_reply": "2021-04-18T15:31:09.480977Z"
    },
    "papermill": {
     "duration": 0.055069,
     "end_time": "2021-04-18T15:31:09.481170",
     "exception": false,
     "start_time": "2021-04-18T15:31:09.426101",
     "status": "completed"
    },
    "tags": []
   },
   "outputs": [
    {
     "data": {
      "text/html": [
       "<div>\n",
       "<style scoped>\n",
       "    .dataframe tbody tr th:only-of-type {\n",
       "        vertical-align: middle;\n",
       "    }\n",
       "\n",
       "    .dataframe tbody tr th {\n",
       "        vertical-align: top;\n",
       "    }\n",
       "\n",
       "    .dataframe thead th {\n",
       "        text-align: right;\n",
       "    }\n",
       "</style>\n",
       "<table border=\"1\" class=\"dataframe\">\n",
       "  <thead>\n",
       "    <tr style=\"text-align: right;\">\n",
       "      <th></th>\n",
       "      <th>Price_product3</th>\n",
       "      <th>Price_product1</th>\n",
       "      <th>Price_product2</th>\n",
       "      <th>Price_product4</th>\n",
       "    </tr>\n",
       "  </thead>\n",
       "  <tbody>\n",
       "    <tr>\n",
       "      <th>count</th>\n",
       "      <td>101.000000</td>\n",
       "      <td>101.000000</td>\n",
       "      <td>101.000000</td>\n",
       "      <td>101.000000</td>\n",
       "    </tr>\n",
       "    <tr>\n",
       "      <th>mean</th>\n",
       "      <td>110.590879</td>\n",
       "      <td>62.371903</td>\n",
       "      <td>104.746805</td>\n",
       "      <td>134.692887</td>\n",
       "    </tr>\n",
       "    <tr>\n",
       "      <th>std</th>\n",
       "      <td>5.877259</td>\n",
       "      <td>2.504866</td>\n",
       "      <td>5.018190</td>\n",
       "      <td>5.103280</td>\n",
       "    </tr>\n",
       "    <tr>\n",
       "      <th>min</th>\n",
       "      <td>92.926829</td>\n",
       "      <td>59.968750</td>\n",
       "      <td>99.924528</td>\n",
       "      <td>124.666667</td>\n",
       "    </tr>\n",
       "    <tr>\n",
       "      <th>25%</th>\n",
       "      <td>105.506329</td>\n",
       "      <td>60.000000</td>\n",
       "      <td>100.000000</td>\n",
       "      <td>130.000000</td>\n",
       "    </tr>\n",
       "    <tr>\n",
       "      <th>50%</th>\n",
       "      <td>108.275862</td>\n",
       "      <td>60.000000</td>\n",
       "      <td>100.000000</td>\n",
       "      <td>130.000000</td>\n",
       "    </tr>\n",
       "    <tr>\n",
       "      <th>75%</th>\n",
       "      <td>115.722543</td>\n",
       "      <td>65.000000</td>\n",
       "      <td>110.000000</td>\n",
       "      <td>140.000000</td>\n",
       "    </tr>\n",
       "    <tr>\n",
       "      <th>max</th>\n",
       "      <td>124.318182</td>\n",
       "      <td>65.000000</td>\n",
       "      <td>110.000000</td>\n",
       "      <td>140.000000</td>\n",
       "    </tr>\n",
       "  </tbody>\n",
       "</table>\n",
       "</div>"
      ],
      "text/plain": [
       "       Price_product3  Price_product1  Price_product2  Price_product4\n",
       "count      101.000000      101.000000      101.000000      101.000000\n",
       "mean       110.590879       62.371903      104.746805      134.692887\n",
       "std          5.877259        2.504866        5.018190        5.103280\n",
       "min         92.926829       59.968750       99.924528      124.666667\n",
       "25%        105.506329       60.000000      100.000000      130.000000\n",
       "50%        108.275862       60.000000      100.000000      130.000000\n",
       "75%        115.722543       65.000000      110.000000      140.000000\n",
       "max        124.318182       65.000000      110.000000      140.000000"
      ]
     },
     "execution_count": 6,
     "metadata": {},
     "output_type": "execute_result"
    }
   ],
   "source": [
    "multi.iloc[:,1:5].describe()"
   ]
  },
  {
   "cell_type": "markdown",
   "id": "figured-universal",
   "metadata": {
    "papermill": {
     "duration": 0.023179,
     "end_time": "2021-04-18T15:31:09.527522",
     "exception": false,
     "start_time": "2021-04-18T15:31:09.504343",
     "status": "completed"
    },
    "tags": []
   },
   "source": [
    "### Multiple regression Model"
   ]
  },
  {
   "cell_type": "code",
   "execution_count": 7,
   "id": "wicked-security",
   "metadata": {
    "execution": {
     "iopub.execute_input": "2021-04-18T15:31:09.583435Z",
     "iopub.status.busy": "2021-04-18T15:31:09.582380Z",
     "iopub.status.idle": "2021-04-18T15:31:09.585125Z",
     "shell.execute_reply": "2021-04-18T15:31:09.584591Z"
    },
    "papermill": {
     "duration": 0.033253,
     "end_time": "2021-04-18T15:31:09.585270",
     "exception": false,
     "start_time": "2021-04-18T15:31:09.552017",
     "status": "completed"
    },
    "tags": []
   },
   "outputs": [],
   "source": [
    "X= multi.iloc[:,1:5]"
   ]
  },
  {
   "cell_type": "code",
   "execution_count": 8,
   "id": "dress-miniature",
   "metadata": {
    "execution": {
     "iopub.execute_input": "2021-04-18T15:31:09.638703Z",
     "iopub.status.busy": "2021-04-18T15:31:09.637875Z",
     "iopub.status.idle": "2021-04-18T15:31:09.645466Z",
     "shell.execute_reply": "2021-04-18T15:31:09.644753Z"
    },
    "papermill": {
     "duration": 0.036026,
     "end_time": "2021-04-18T15:31:09.645614",
     "exception": false,
     "start_time": "2021-04-18T15:31:09.609588",
     "status": "completed"
    },
    "tags": []
   },
   "outputs": [],
   "source": [
    "X= sm.add_constant(X)"
   ]
  },
  {
   "cell_type": "code",
   "execution_count": 9,
   "id": "changing-atmosphere",
   "metadata": {
    "execution": {
     "iopub.execute_input": "2021-04-18T15:31:09.699803Z",
     "iopub.status.busy": "2021-04-18T15:31:09.698916Z",
     "iopub.status.idle": "2021-04-18T15:31:09.717103Z",
     "shell.execute_reply": "2021-04-18T15:31:09.716153Z"
    },
    "papermill": {
     "duration": 0.048046,
     "end_time": "2021-04-18T15:31:09.717255",
     "exception": false,
     "start_time": "2021-04-18T15:31:09.669209",
     "status": "completed"
    },
    "tags": []
   },
   "outputs": [],
   "source": [
    "model_prod1 = sm.OLS(multi[[\"sales_product1\"]],X).fit()"
   ]
  },
  {
   "cell_type": "code",
   "execution_count": 10,
   "id": "impressive-camcorder",
   "metadata": {
    "execution": {
     "iopub.execute_input": "2021-04-18T15:31:09.786488Z",
     "iopub.status.busy": "2021-04-18T15:31:09.785815Z",
     "iopub.status.idle": "2021-04-18T15:31:09.790145Z",
     "shell.execute_reply": "2021-04-18T15:31:09.789572Z"
    },
    "papermill": {
     "duration": 0.049353,
     "end_time": "2021-04-18T15:31:09.790284",
     "exception": false,
     "start_time": "2021-04-18T15:31:09.740931",
     "status": "completed"
    },
    "tags": []
   },
   "outputs": [
    {
     "data": {
      "text/html": [
       "<table class=\"simpletable\">\n",
       "<caption>OLS Regression Results</caption>\n",
       "<tr>\n",
       "  <th>Dep. Variable:</th>     <td>sales_product1</td>  <th>  R-squared:         </th> <td>   0.064</td>\n",
       "</tr>\n",
       "<tr>\n",
       "  <th>Model:</th>                   <td>OLS</td>       <th>  Adj. R-squared:    </th> <td>   0.025</td>\n",
       "</tr>\n",
       "<tr>\n",
       "  <th>Method:</th>             <td>Least Squares</td>  <th>  F-statistic:       </th> <td>   1.631</td>\n",
       "</tr>\n",
       "<tr>\n",
       "  <th>Date:</th>             <td>Sun, 18 Apr 2021</td> <th>  Prob (F-statistic):</th>  <td> 0.173</td> \n",
       "</tr>\n",
       "<tr>\n",
       "  <th>Time:</th>                 <td>15:31:09</td>     <th>  Log-Likelihood:    </th> <td> -749.74</td>\n",
       "</tr>\n",
       "<tr>\n",
       "  <th>No. Observations:</th>      <td>   101</td>      <th>  AIC:               </th> <td>   1509.</td>\n",
       "</tr>\n",
       "<tr>\n",
       "  <th>Df Residuals:</th>          <td>    96</td>      <th>  BIC:               </th> <td>   1523.</td>\n",
       "</tr>\n",
       "<tr>\n",
       "  <th>Df Model:</th>              <td>     4</td>      <th>                     </th>     <td> </td>   \n",
       "</tr>\n",
       "<tr>\n",
       "  <th>Covariance Type:</th>      <td>nonrobust</td>    <th>                     </th>     <td> </td>   \n",
       "</tr>\n",
       "</table>\n",
       "<table class=\"simpletable\">\n",
       "<tr>\n",
       "         <td></td>           <th>coef</th>     <th>std err</th>      <th>t</th>      <th>P>|t|</th>  <th>[0.025</th>    <th>0.975]</th>  \n",
       "</tr>\n",
       "<tr>\n",
       "  <th>const</th>          <td> 7377.1418</td> <td> 1.76e+04</td> <td>    0.420</td> <td> 0.676</td> <td>-2.75e+04</td> <td> 4.23e+04</td>\n",
       "</tr>\n",
       "<tr>\n",
       "  <th>Price_product3</th> <td>   27.2741</td> <td>   18.695</td> <td>    1.459</td> <td> 0.148</td> <td>   -9.835</td> <td>   64.383</td>\n",
       "</tr>\n",
       "<tr>\n",
       "  <th>Price_product1</th> <td> -530.3128</td> <td> 1729.549</td> <td>   -0.307</td> <td> 0.760</td> <td>-3963.441</td> <td> 2902.816</td>\n",
       "</tr>\n",
       "<tr>\n",
       "  <th>Price_product2</th> <td>  182.5719</td> <td>  863.511</td> <td>    0.211</td> <td> 0.833</td> <td>-1531.485</td> <td> 1896.628</td>\n",
       "</tr>\n",
       "<tr>\n",
       "  <th>Price_product4</th> <td>   35.2606</td> <td>   78.389</td> <td>    0.450</td> <td> 0.654</td> <td> -120.341</td> <td>  190.862</td>\n",
       "</tr>\n",
       "</table>\n",
       "<table class=\"simpletable\">\n",
       "<tr>\n",
       "  <th>Omnibus:</th>       <td>33.833</td> <th>  Durbin-Watson:     </th> <td>   1.364</td>\n",
       "</tr>\n",
       "<tr>\n",
       "  <th>Prob(Omnibus):</th> <td> 0.000</td> <th>  Jarque-Bera (JB):  </th> <td>  70.175</td>\n",
       "</tr>\n",
       "<tr>\n",
       "  <th>Skew:</th>          <td> 1.307</td> <th>  Prob(JB):          </th> <td>5.78e-16</td>\n",
       "</tr>\n",
       "<tr>\n",
       "  <th>Kurtosis:</th>      <td> 6.137</td> <th>  Cond. No.          </th> <td>9.10e+04</td>\n",
       "</tr>\n",
       "</table><br/><br/>Notes:<br/>[1] Standard Errors assume that the covariance matrix of the errors is correctly specified.<br/>[2] The condition number is large, 9.1e+04. This might indicate that there are<br/>strong multicollinearity or other numerical problems."
      ],
      "text/plain": [
       "<class 'statsmodels.iolib.summary.Summary'>\n",
       "\"\"\"\n",
       "                            OLS Regression Results                            \n",
       "==============================================================================\n",
       "Dep. Variable:         sales_product1   R-squared:                       0.064\n",
       "Model:                            OLS   Adj. R-squared:                  0.025\n",
       "Method:                 Least Squares   F-statistic:                     1.631\n",
       "Date:                Sun, 18 Apr 2021   Prob (F-statistic):              0.173\n",
       "Time:                        15:31:09   Log-Likelihood:                -749.74\n",
       "No. Observations:                 101   AIC:                             1509.\n",
       "Df Residuals:                      96   BIC:                             1523.\n",
       "Df Model:                           4                                         \n",
       "Covariance Type:            nonrobust                                         \n",
       "==================================================================================\n",
       "                     coef    std err          t      P>|t|      [0.025      0.975]\n",
       "----------------------------------------------------------------------------------\n",
       "const           7377.1418   1.76e+04      0.420      0.676   -2.75e+04    4.23e+04\n",
       "Price_product3    27.2741     18.695      1.459      0.148      -9.835      64.383\n",
       "Price_product1  -530.3128   1729.549     -0.307      0.760   -3963.441    2902.816\n",
       "Price_product2   182.5719    863.511      0.211      0.833   -1531.485    1896.628\n",
       "Price_product4    35.2606     78.389      0.450      0.654    -120.341     190.862\n",
       "==============================================================================\n",
       "Omnibus:                       33.833   Durbin-Watson:                   1.364\n",
       "Prob(Omnibus):                  0.000   Jarque-Bera (JB):               70.175\n",
       "Skew:                           1.307   Prob(JB):                     5.78e-16\n",
       "Kurtosis:                       6.137   Cond. No.                     9.10e+04\n",
       "==============================================================================\n",
       "\n",
       "Notes:\n",
       "[1] Standard Errors assume that the covariance matrix of the errors is correctly specified.\n",
       "[2] The condition number is large, 9.1e+04. This might indicate that there are\n",
       "strong multicollinearity or other numerical problems.\n",
       "\"\"\""
      ]
     },
     "execution_count": 10,
     "metadata": {},
     "output_type": "execute_result"
    }
   ],
   "source": [
    "model_prod1.summary()"
   ]
  },
  {
   "cell_type": "markdown",
   "id": "urban-shopper",
   "metadata": {
    "papermill": {
     "duration": 0.024026,
     "end_time": "2021-04-18T15:31:09.838388",
     "exception": false,
     "start_time": "2021-04-18T15:31:09.814362",
     "status": "completed"
    },
    "tags": []
   },
   "source": [
    "#### None of the product seems statistically significant in reponse to product 1."
   ]
  },
  {
   "cell_type": "code",
   "execution_count": 11,
   "id": "polish-wonder",
   "metadata": {
    "execution": {
     "iopub.execute_input": "2021-04-18T15:31:09.893534Z",
     "iopub.status.busy": "2021-04-18T15:31:09.892789Z",
     "iopub.status.idle": "2021-04-18T15:31:09.895043Z",
     "shell.execute_reply": "2021-04-18T15:31:09.895691Z"
    },
    "papermill": {
     "duration": 0.033361,
     "end_time": "2021-04-18T15:31:09.895861",
     "exception": false,
     "start_time": "2021-04-18T15:31:09.862500",
     "status": "completed"
    },
    "tags": []
   },
   "outputs": [],
   "source": [
    "model_prod2 = sm.OLS(multi[[\"sales_product2\"]],X).fit()"
   ]
  },
  {
   "cell_type": "code",
   "execution_count": 12,
   "id": "better-gateway",
   "metadata": {
    "execution": {
     "iopub.execute_input": "2021-04-18T15:31:09.949512Z",
     "iopub.status.busy": "2021-04-18T15:31:09.948812Z",
     "iopub.status.idle": "2021-04-18T15:31:09.966487Z",
     "shell.execute_reply": "2021-04-18T15:31:09.967046Z"
    },
    "papermill": {
     "duration": 0.046832,
     "end_time": "2021-04-18T15:31:09.967225",
     "exception": false,
     "start_time": "2021-04-18T15:31:09.920393",
     "status": "completed"
    },
    "tags": []
   },
   "outputs": [
    {
     "data": {
      "text/html": [
       "<table class=\"simpletable\">\n",
       "<caption>OLS Regression Results</caption>\n",
       "<tr>\n",
       "  <th>Dep. Variable:</th>     <td>sales_product2</td>  <th>  R-squared:         </th> <td>   0.121</td>\n",
       "</tr>\n",
       "<tr>\n",
       "  <th>Model:</th>                   <td>OLS</td>       <th>  Adj. R-squared:    </th> <td>   0.084</td>\n",
       "</tr>\n",
       "<tr>\n",
       "  <th>Method:</th>             <td>Least Squares</td>  <th>  F-statistic:       </th> <td>   3.304</td>\n",
       "</tr>\n",
       "<tr>\n",
       "  <th>Date:</th>             <td>Sun, 18 Apr 2021</td> <th>  Prob (F-statistic):</th>  <td>0.0139</td> \n",
       "</tr>\n",
       "<tr>\n",
       "  <th>Time:</th>                 <td>15:31:09</td>     <th>  Log-Likelihood:    </th> <td> -727.98</td>\n",
       "</tr>\n",
       "<tr>\n",
       "  <th>No. Observations:</th>      <td>   101</td>      <th>  AIC:               </th> <td>   1466.</td>\n",
       "</tr>\n",
       "<tr>\n",
       "  <th>Df Residuals:</th>          <td>    96</td>      <th>  BIC:               </th> <td>   1479.</td>\n",
       "</tr>\n",
       "<tr>\n",
       "  <th>Df Model:</th>              <td>     4</td>      <th>                     </th>     <td> </td>   \n",
       "</tr>\n",
       "<tr>\n",
       "  <th>Covariance Type:</th>      <td>nonrobust</td>    <th>                     </th>     <td> </td>   \n",
       "</tr>\n",
       "</table>\n",
       "<table class=\"simpletable\">\n",
       "<tr>\n",
       "         <td></td>           <th>coef</th>     <th>std err</th>      <th>t</th>      <th>P>|t|</th>  <th>[0.025</th>    <th>0.975]</th>  \n",
       "</tr>\n",
       "<tr>\n",
       "  <th>const</th>          <td> 5239.0073</td> <td> 1.42e+04</td> <td>    0.370</td> <td> 0.712</td> <td>-2.29e+04</td> <td> 3.34e+04</td>\n",
       "</tr>\n",
       "<tr>\n",
       "  <th>Price_product3</th> <td>   51.8223</td> <td>   15.071</td> <td>    3.438</td> <td> 0.001</td> <td>   21.906</td> <td>   81.739</td>\n",
       "</tr>\n",
       "<tr>\n",
       "  <th>Price_product1</th> <td> -419.8599</td> <td> 1394.316</td> <td>   -0.301</td> <td> 0.764</td> <td>-3187.555</td> <td> 2347.835</td>\n",
       "</tr>\n",
       "<tr>\n",
       "  <th>Price_product2</th> <td>  120.0249</td> <td>  696.139</td> <td>    0.172</td> <td> 0.863</td> <td>-1261.801</td> <td> 1501.851</td>\n",
       "</tr>\n",
       "<tr>\n",
       "  <th>Price_product4</th> <td>   25.7188</td> <td>   63.195</td> <td>    0.407</td> <td> 0.685</td> <td>  -99.723</td> <td>  151.160</td>\n",
       "</tr>\n",
       "</table>\n",
       "<table class=\"simpletable\">\n",
       "<tr>\n",
       "  <th>Omnibus:</th>       <td>58.626</td> <th>  Durbin-Watson:     </th> <td>   1.558</td>\n",
       "</tr>\n",
       "<tr>\n",
       "  <th>Prob(Omnibus):</th> <td> 0.000</td> <th>  Jarque-Bera (JB):  </th> <td> 201.827</td>\n",
       "</tr>\n",
       "<tr>\n",
       "  <th>Skew:</th>          <td> 2.065</td> <th>  Prob(JB):          </th> <td>1.49e-44</td>\n",
       "</tr>\n",
       "<tr>\n",
       "  <th>Kurtosis:</th>      <td> 8.559</td> <th>  Cond. No.          </th> <td>9.10e+04</td>\n",
       "</tr>\n",
       "</table><br/><br/>Notes:<br/>[1] Standard Errors assume that the covariance matrix of the errors is correctly specified.<br/>[2] The condition number is large, 9.1e+04. This might indicate that there are<br/>strong multicollinearity or other numerical problems."
      ],
      "text/plain": [
       "<class 'statsmodels.iolib.summary.Summary'>\n",
       "\"\"\"\n",
       "                            OLS Regression Results                            \n",
       "==============================================================================\n",
       "Dep. Variable:         sales_product2   R-squared:                       0.121\n",
       "Model:                            OLS   Adj. R-squared:                  0.084\n",
       "Method:                 Least Squares   F-statistic:                     3.304\n",
       "Date:                Sun, 18 Apr 2021   Prob (F-statistic):             0.0139\n",
       "Time:                        15:31:09   Log-Likelihood:                -727.98\n",
       "No. Observations:                 101   AIC:                             1466.\n",
       "Df Residuals:                      96   BIC:                             1479.\n",
       "Df Model:                           4                                         \n",
       "Covariance Type:            nonrobust                                         \n",
       "==================================================================================\n",
       "                     coef    std err          t      P>|t|      [0.025      0.975]\n",
       "----------------------------------------------------------------------------------\n",
       "const           5239.0073   1.42e+04      0.370      0.712   -2.29e+04    3.34e+04\n",
       "Price_product3    51.8223     15.071      3.438      0.001      21.906      81.739\n",
       "Price_product1  -419.8599   1394.316     -0.301      0.764   -3187.555    2347.835\n",
       "Price_product2   120.0249    696.139      0.172      0.863   -1261.801    1501.851\n",
       "Price_product4    25.7188     63.195      0.407      0.685     -99.723     151.160\n",
       "==============================================================================\n",
       "Omnibus:                       58.626   Durbin-Watson:                   1.558\n",
       "Prob(Omnibus):                  0.000   Jarque-Bera (JB):              201.827\n",
       "Skew:                           2.065   Prob(JB):                     1.49e-44\n",
       "Kurtosis:                       8.559   Cond. No.                     9.10e+04\n",
       "==============================================================================\n",
       "\n",
       "Notes:\n",
       "[1] Standard Errors assume that the covariance matrix of the errors is correctly specified.\n",
       "[2] The condition number is large, 9.1e+04. This might indicate that there are\n",
       "strong multicollinearity or other numerical problems.\n",
       "\"\"\""
      ]
     },
     "execution_count": 12,
     "metadata": {},
     "output_type": "execute_result"
    }
   ],
   "source": [
    "model_prod2.summary()"
   ]
  },
  {
   "cell_type": "markdown",
   "id": "exclusive-lancaster",
   "metadata": {
    "papermill": {
     "duration": 0.026235,
     "end_time": "2021-04-18T15:31:10.018690",
     "exception": false,
     "start_time": "2021-04-18T15:31:09.992455",
     "status": "completed"
    },
    "tags": []
   },
   "source": [
    "#### We can notice that prod_3 is statistically significant, and as the price of prod_3 increases so does the demand for prod_2 increases. There is a direct comeptition between the two products or atleast prod_3 is significant to prod_2."
   ]
  },
  {
   "cell_type": "code",
   "execution_count": 13,
   "id": "cutting-infrared",
   "metadata": {
    "execution": {
     "iopub.execute_input": "2021-04-18T15:31:10.072889Z",
     "iopub.status.busy": "2021-04-18T15:31:10.072191Z",
     "iopub.status.idle": "2021-04-18T15:31:10.078234Z",
     "shell.execute_reply": "2021-04-18T15:31:10.078741Z"
    },
    "papermill": {
     "duration": 0.034359,
     "end_time": "2021-04-18T15:31:10.078926",
     "exception": false,
     "start_time": "2021-04-18T15:31:10.044567",
     "status": "completed"
    },
    "tags": []
   },
   "outputs": [],
   "source": [
    "model_prod3 = sm.OLS(multi[[\"sales_product3\"]],X).fit()"
   ]
  },
  {
   "cell_type": "code",
   "execution_count": 14,
   "id": "soviet-syndication",
   "metadata": {
    "execution": {
     "iopub.execute_input": "2021-04-18T15:31:10.133116Z",
     "iopub.status.busy": "2021-04-18T15:31:10.132425Z",
     "iopub.status.idle": "2021-04-18T15:31:10.152528Z",
     "shell.execute_reply": "2021-04-18T15:31:10.151829Z"
    },
    "papermill": {
     "duration": 0.048476,
     "end_time": "2021-04-18T15:31:10.152682",
     "exception": false,
     "start_time": "2021-04-18T15:31:10.104206",
     "status": "completed"
    },
    "tags": []
   },
   "outputs": [
    {
     "data": {
      "text/html": [
       "<table class=\"simpletable\">\n",
       "<caption>OLS Regression Results</caption>\n",
       "<tr>\n",
       "  <th>Dep. Variable:</th>     <td>sales_product3</td>  <th>  R-squared:         </th> <td>   0.080</td>\n",
       "</tr>\n",
       "<tr>\n",
       "  <th>Model:</th>                   <td>OLS</td>       <th>  Adj. R-squared:    </th> <td>   0.042</td>\n",
       "</tr>\n",
       "<tr>\n",
       "  <th>Method:</th>             <td>Least Squares</td>  <th>  F-statistic:       </th> <td>   2.098</td>\n",
       "</tr>\n",
       "<tr>\n",
       "  <th>Date:</th>             <td>Sun, 18 Apr 2021</td> <th>  Prob (F-statistic):</th>  <td>0.0870</td> \n",
       "</tr>\n",
       "<tr>\n",
       "  <th>Time:</th>                 <td>15:31:10</td>     <th>  Log-Likelihood:    </th> <td> -647.37</td>\n",
       "</tr>\n",
       "<tr>\n",
       "  <th>No. Observations:</th>      <td>   101</td>      <th>  AIC:               </th> <td>   1305.</td>\n",
       "</tr>\n",
       "<tr>\n",
       "  <th>Df Residuals:</th>          <td>    96</td>      <th>  BIC:               </th> <td>   1318.</td>\n",
       "</tr>\n",
       "<tr>\n",
       "  <th>Df Model:</th>              <td>     4</td>      <th>                     </th>     <td> </td>   \n",
       "</tr>\n",
       "<tr>\n",
       "  <th>Covariance Type:</th>      <td>nonrobust</td>    <th>                     </th>     <td> </td>   \n",
       "</tr>\n",
       "</table>\n",
       "<table class=\"simpletable\">\n",
       "<tr>\n",
       "         <td></td>           <th>coef</th>     <th>std err</th>      <th>t</th>      <th>P>|t|</th>  <th>[0.025</th>    <th>0.975]</th>  \n",
       "</tr>\n",
       "<tr>\n",
       "  <th>const</th>          <td> 6752.7010</td> <td> 6378.490</td> <td>    1.059</td> <td> 0.292</td> <td>-5908.501</td> <td> 1.94e+04</td>\n",
       "</tr>\n",
       "<tr>\n",
       "  <th>Price_product3</th> <td>   15.0311</td> <td>    6.784</td> <td>    2.216</td> <td> 0.029</td> <td>    1.564</td> <td>   28.498</td>\n",
       "</tr>\n",
       "<tr>\n",
       "  <th>Price_product1</th> <td> -678.3564</td> <td>  627.661</td> <td>   -1.081</td> <td> 0.283</td> <td>-1924.254</td> <td>  567.541</td>\n",
       "</tr>\n",
       "<tr>\n",
       "  <th>Price_product2</th> <td>  329.6756</td> <td>  313.372</td> <td>    1.052</td> <td> 0.295</td> <td> -292.363</td> <td>  951.714</td>\n",
       "</tr>\n",
       "<tr>\n",
       "  <th>Price_product4</th> <td>   -2.3692</td> <td>   28.448</td> <td>   -0.083</td> <td> 0.934</td> <td>  -58.837</td> <td>   54.099</td>\n",
       "</tr>\n",
       "</table>\n",
       "<table class=\"simpletable\">\n",
       "<tr>\n",
       "  <th>Omnibus:</th>       <td>20.700</td> <th>  Durbin-Watson:     </th> <td>   1.207</td>\n",
       "</tr>\n",
       "<tr>\n",
       "  <th>Prob(Omnibus):</th> <td> 0.000</td> <th>  Jarque-Bera (JB):  </th> <td>  29.008</td>\n",
       "</tr>\n",
       "<tr>\n",
       "  <th>Skew:</th>          <td> 0.974</td> <th>  Prob(JB):          </th> <td>5.02e-07</td>\n",
       "</tr>\n",
       "<tr>\n",
       "  <th>Kurtosis:</th>      <td> 4.759</td> <th>  Cond. No.          </th> <td>9.10e+04</td>\n",
       "</tr>\n",
       "</table><br/><br/>Notes:<br/>[1] Standard Errors assume that the covariance matrix of the errors is correctly specified.<br/>[2] The condition number is large, 9.1e+04. This might indicate that there are<br/>strong multicollinearity or other numerical problems."
      ],
      "text/plain": [
       "<class 'statsmodels.iolib.summary.Summary'>\n",
       "\"\"\"\n",
       "                            OLS Regression Results                            \n",
       "==============================================================================\n",
       "Dep. Variable:         sales_product3   R-squared:                       0.080\n",
       "Model:                            OLS   Adj. R-squared:                  0.042\n",
       "Method:                 Least Squares   F-statistic:                     2.098\n",
       "Date:                Sun, 18 Apr 2021   Prob (F-statistic):             0.0870\n",
       "Time:                        15:31:10   Log-Likelihood:                -647.37\n",
       "No. Observations:                 101   AIC:                             1305.\n",
       "Df Residuals:                      96   BIC:                             1318.\n",
       "Df Model:                           4                                         \n",
       "Covariance Type:            nonrobust                                         \n",
       "==================================================================================\n",
       "                     coef    std err          t      P>|t|      [0.025      0.975]\n",
       "----------------------------------------------------------------------------------\n",
       "const           6752.7010   6378.490      1.059      0.292   -5908.501    1.94e+04\n",
       "Price_product3    15.0311      6.784      2.216      0.029       1.564      28.498\n",
       "Price_product1  -678.3564    627.661     -1.081      0.283   -1924.254     567.541\n",
       "Price_product2   329.6756    313.372      1.052      0.295    -292.363     951.714\n",
       "Price_product4    -2.3692     28.448     -0.083      0.934     -58.837      54.099\n",
       "==============================================================================\n",
       "Omnibus:                       20.700   Durbin-Watson:                   1.207\n",
       "Prob(Omnibus):                  0.000   Jarque-Bera (JB):               29.008\n",
       "Skew:                           0.974   Prob(JB):                     5.02e-07\n",
       "Kurtosis:                       4.759   Cond. No.                     9.10e+04\n",
       "==============================================================================\n",
       "\n",
       "Notes:\n",
       "[1] Standard Errors assume that the covariance matrix of the errors is correctly specified.\n",
       "[2] The condition number is large, 9.1e+04. This might indicate that there are\n",
       "strong multicollinearity or other numerical problems.\n",
       "\"\"\""
      ]
     },
     "execution_count": 14,
     "metadata": {},
     "output_type": "execute_result"
    }
   ],
   "source": [
    "model_prod3.summary()"
   ]
  },
  {
   "cell_type": "markdown",
   "id": "proper-basic",
   "metadata": {
    "papermill": {
     "duration": 0.026529,
     "end_time": "2021-04-18T15:31:10.206088",
     "exception": false,
     "start_time": "2021-04-18T15:31:10.179559",
     "status": "completed"
    },
    "tags": []
   },
   "source": [
    "#### The price of prod_3 is significant to itself and is independent of other product influence."
   ]
  },
  {
   "cell_type": "code",
   "execution_count": 15,
   "id": "arabic-radiation",
   "metadata": {
    "execution": {
     "iopub.execute_input": "2021-04-18T15:31:10.264925Z",
     "iopub.status.busy": "2021-04-18T15:31:10.264292Z",
     "iopub.status.idle": "2021-04-18T15:31:10.268634Z",
     "shell.execute_reply": "2021-04-18T15:31:10.268098Z"
    },
    "papermill": {
     "duration": 0.036343,
     "end_time": "2021-04-18T15:31:10.268771",
     "exception": false,
     "start_time": "2021-04-18T15:31:10.232428",
     "status": "completed"
    },
    "tags": []
   },
   "outputs": [],
   "source": [
    "model_prod4 = sm.OLS(multi[[\"sales_product4\"]],X).fit()"
   ]
  },
  {
   "cell_type": "code",
   "execution_count": 16,
   "id": "devoted-roller",
   "metadata": {
    "execution": {
     "iopub.execute_input": "2021-04-18T15:31:10.329515Z",
     "iopub.status.busy": "2021-04-18T15:31:10.328845Z",
     "iopub.status.idle": "2021-04-18T15:31:10.343377Z",
     "shell.execute_reply": "2021-04-18T15:31:10.343835Z"
    },
    "papermill": {
     "duration": 0.048296,
     "end_time": "2021-04-18T15:31:10.344038",
     "exception": false,
     "start_time": "2021-04-18T15:31:10.295742",
     "status": "completed"
    },
    "tags": []
   },
   "outputs": [
    {
     "data": {
      "text/html": [
       "<table class=\"simpletable\">\n",
       "<caption>OLS Regression Results</caption>\n",
       "<tr>\n",
       "  <th>Dep. Variable:</th>     <td>sales_product4</td>  <th>  R-squared:         </th> <td>   0.132</td>\n",
       "</tr>\n",
       "<tr>\n",
       "  <th>Model:</th>                   <td>OLS</td>       <th>  Adj. R-squared:    </th> <td>   0.096</td>\n",
       "</tr>\n",
       "<tr>\n",
       "  <th>Method:</th>             <td>Least Squares</td>  <th>  F-statistic:       </th> <td>   3.662</td>\n",
       "</tr>\n",
       "<tr>\n",
       "  <th>Date:</th>             <td>Sun, 18 Apr 2021</td> <th>  Prob (F-statistic):</th>  <td>0.00806</td>\n",
       "</tr>\n",
       "<tr>\n",
       "  <th>Time:</th>                 <td>15:31:10</td>     <th>  Log-Likelihood:    </th> <td> -589.86</td>\n",
       "</tr>\n",
       "<tr>\n",
       "  <th>No. Observations:</th>      <td>   101</td>      <th>  AIC:               </th> <td>   1190.</td>\n",
       "</tr>\n",
       "<tr>\n",
       "  <th>Df Residuals:</th>          <td>    96</td>      <th>  BIC:               </th> <td>   1203.</td>\n",
       "</tr>\n",
       "<tr>\n",
       "  <th>Df Model:</th>              <td>     4</td>      <th>                     </th>     <td> </td>   \n",
       "</tr>\n",
       "<tr>\n",
       "  <th>Covariance Type:</th>      <td>nonrobust</td>    <th>                     </th>     <td> </td>   \n",
       "</tr>\n",
       "</table>\n",
       "<table class=\"simpletable\">\n",
       "<tr>\n",
       "         <td></td>           <th>coef</th>     <th>std err</th>      <th>t</th>      <th>P>|t|</th>  <th>[0.025</th>    <th>0.975]</th>  \n",
       "</tr>\n",
       "<tr>\n",
       "  <th>const</th>          <td> 1777.6420</td> <td> 3609.477</td> <td>    0.492</td> <td> 0.623</td> <td>-5387.113</td> <td> 8942.397</td>\n",
       "</tr>\n",
       "<tr>\n",
       "  <th>Price_product3</th> <td>    7.1117</td> <td>    3.839</td> <td>    1.852</td> <td> 0.067</td> <td>   -0.509</td> <td>   14.733</td>\n",
       "</tr>\n",
       "<tr>\n",
       "  <th>Price_product1</th> <td> -128.0663</td> <td>  355.183</td> <td>   -0.361</td> <td> 0.719</td> <td> -833.098</td> <td>  576.966</td>\n",
       "</tr>\n",
       "<tr>\n",
       "  <th>Price_product2</th> <td>   39.6664</td> <td>  177.332</td> <td>    0.224</td> <td> 0.823</td> <td> -312.335</td> <td>  391.667</td>\n",
       "</tr>\n",
       "<tr>\n",
       "  <th>Price_product4</th> <td>   10.8549</td> <td>   16.098</td> <td>    0.674</td> <td> 0.502</td> <td>  -21.100</td> <td>   42.809</td>\n",
       "</tr>\n",
       "</table>\n",
       "<table class=\"simpletable\">\n",
       "<tr>\n",
       "  <th>Omnibus:</th>       <td>13.400</td> <th>  Durbin-Watson:     </th> <td>   1.240</td>\n",
       "</tr>\n",
       "<tr>\n",
       "  <th>Prob(Omnibus):</th> <td> 0.001</td> <th>  Jarque-Bera (JB):  </th> <td>  14.369</td>\n",
       "</tr>\n",
       "<tr>\n",
       "  <th>Skew:</th>          <td> 0.874</td> <th>  Prob(JB):          </th> <td>0.000758</td>\n",
       "</tr>\n",
       "<tr>\n",
       "  <th>Kurtosis:</th>      <td> 3.599</td> <th>  Cond. No.          </th> <td>9.10e+04</td>\n",
       "</tr>\n",
       "</table><br/><br/>Notes:<br/>[1] Standard Errors assume that the covariance matrix of the errors is correctly specified.<br/>[2] The condition number is large, 9.1e+04. This might indicate that there are<br/>strong multicollinearity or other numerical problems."
      ],
      "text/plain": [
       "<class 'statsmodels.iolib.summary.Summary'>\n",
       "\"\"\"\n",
       "                            OLS Regression Results                            \n",
       "==============================================================================\n",
       "Dep. Variable:         sales_product4   R-squared:                       0.132\n",
       "Model:                            OLS   Adj. R-squared:                  0.096\n",
       "Method:                 Least Squares   F-statistic:                     3.662\n",
       "Date:                Sun, 18 Apr 2021   Prob (F-statistic):            0.00806\n",
       "Time:                        15:31:10   Log-Likelihood:                -589.86\n",
       "No. Observations:                 101   AIC:                             1190.\n",
       "Df Residuals:                      96   BIC:                             1203.\n",
       "Df Model:                           4                                         \n",
       "Covariance Type:            nonrobust                                         \n",
       "==================================================================================\n",
       "                     coef    std err          t      P>|t|      [0.025      0.975]\n",
       "----------------------------------------------------------------------------------\n",
       "const           1777.6420   3609.477      0.492      0.623   -5387.113    8942.397\n",
       "Price_product3     7.1117      3.839      1.852      0.067      -0.509      14.733\n",
       "Price_product1  -128.0663    355.183     -0.361      0.719    -833.098     576.966\n",
       "Price_product2    39.6664    177.332      0.224      0.823    -312.335     391.667\n",
       "Price_product4    10.8549     16.098      0.674      0.502     -21.100      42.809\n",
       "==============================================================================\n",
       "Omnibus:                       13.400   Durbin-Watson:                   1.240\n",
       "Prob(Omnibus):                  0.001   Jarque-Bera (JB):               14.369\n",
       "Skew:                           0.874   Prob(JB):                     0.000758\n",
       "Kurtosis:                       3.599   Cond. No.                     9.10e+04\n",
       "==============================================================================\n",
       "\n",
       "Notes:\n",
       "[1] Standard Errors assume that the covariance matrix of the errors is correctly specified.\n",
       "[2] The condition number is large, 9.1e+04. This might indicate that there are\n",
       "strong multicollinearity or other numerical problems.\n",
       "\"\"\""
      ]
     },
     "execution_count": 16,
     "metadata": {},
     "output_type": "execute_result"
    }
   ],
   "source": [
    "model_prod4.summary()"
   ]
  },
  {
   "cell_type": "markdown",
   "id": "loaded-limit",
   "metadata": {
    "papermill": {
     "duration": 0.02676,
     "end_time": "2021-04-18T15:31:10.397670",
     "exception": false,
     "start_time": "2021-04-18T15:31:10.370910",
     "status": "completed"
    },
    "tags": []
   },
   "source": [
    "#### It seems that prod_3 is significant to prod_4 as compared to other products and with increase in price of prod_3 the demand for prod_4 also increases to certain extent."
   ]
  },
  {
   "cell_type": "markdown",
   "id": "silver-wisdom",
   "metadata": {
    "papermill": {
     "duration": 0.027351,
     "end_time": "2021-04-18T15:31:10.452696",
     "exception": false,
     "start_time": "2021-04-18T15:31:10.425345",
     "status": "completed"
    },
    "tags": []
   },
   "source": [
    "### Multiple Logit Model"
   ]
  },
  {
   "cell_type": "code",
   "execution_count": 17,
   "id": "threaded-uruguay",
   "metadata": {
    "execution": {
     "iopub.execute_input": "2021-04-18T15:31:10.510395Z",
     "iopub.status.busy": "2021-04-18T15:31:10.509697Z",
     "iopub.status.idle": "2021-04-18T15:31:10.568020Z",
     "shell.execute_reply": "2021-04-18T15:31:10.568597Z"
    },
    "papermill": {
     "duration": 0.089278,
     "end_time": "2021-04-18T15:31:10.568800",
     "exception": false,
     "start_time": "2021-04-18T15:31:10.479522",
     "status": "completed"
    },
    "tags": []
   },
   "outputs": [],
   "source": [
    "multi_choice= pd.read_csv(\"../input/multi-slide/multi_slides.csv\")"
   ]
  },
  {
   "cell_type": "code",
   "execution_count": 18,
   "id": "distinct-assets",
   "metadata": {
    "execution": {
     "iopub.execute_input": "2021-04-18T15:31:10.637533Z",
     "iopub.status.busy": "2021-04-18T15:31:10.636833Z",
     "iopub.status.idle": "2021-04-18T15:31:10.639750Z",
     "shell.execute_reply": "2021-04-18T15:31:10.640213Z"
    },
    "papermill": {
     "duration": 0.043508,
     "end_time": "2021-04-18T15:31:10.640387",
     "exception": false,
     "start_time": "2021-04-18T15:31:10.596879",
     "status": "completed"
    },
    "tags": []
   },
   "outputs": [
    {
     "data": {
      "text/html": [
       "<div>\n",
       "<style scoped>\n",
       "    .dataframe tbody tr th:only-of-type {\n",
       "        vertical-align: middle;\n",
       "    }\n",
       "\n",
       "    .dataframe tbody tr th {\n",
       "        vertical-align: top;\n",
       "    }\n",
       "\n",
       "    .dataframe thead th {\n",
       "        text-align: right;\n",
       "    }\n",
       "</style>\n",
       "<table border=\"1\" class=\"dataframe\">\n",
       "  <thead>\n",
       "    <tr style=\"text-align: right;\">\n",
       "      <th></th>\n",
       "      <th>product1</th>\n",
       "      <th>product2</th>\n",
       "      <th>product3</th>\n",
       "      <th>product4</th>\n",
       "      <th>choice</th>\n",
       "    </tr>\n",
       "  </thead>\n",
       "  <tbody>\n",
       "    <tr>\n",
       "      <th>0</th>\n",
       "      <td>60.0</td>\n",
       "      <td>100.0</td>\n",
       "      <td>109.230769</td>\n",
       "      <td>130.0</td>\n",
       "      <td>2</td>\n",
       "    </tr>\n",
       "    <tr>\n",
       "      <th>1</th>\n",
       "      <td>60.0</td>\n",
       "      <td>100.0</td>\n",
       "      <td>106.444444</td>\n",
       "      <td>130.0</td>\n",
       "      <td>2</td>\n",
       "    </tr>\n",
       "    <tr>\n",
       "      <th>2</th>\n",
       "      <td>60.0</td>\n",
       "      <td>100.0</td>\n",
       "      <td>104.285714</td>\n",
       "      <td>130.0</td>\n",
       "      <td>4</td>\n",
       "    </tr>\n",
       "    <tr>\n",
       "      <th>3</th>\n",
       "      <td>65.0</td>\n",
       "      <td>110.0</td>\n",
       "      <td>118.360656</td>\n",
       "      <td>140.0</td>\n",
       "      <td>3</td>\n",
       "    </tr>\n",
       "    <tr>\n",
       "      <th>4</th>\n",
       "      <td>60.0</td>\n",
       "      <td>100.0</td>\n",
       "      <td>110.000000</td>\n",
       "      <td>130.0</td>\n",
       "      <td>1</td>\n",
       "    </tr>\n",
       "  </tbody>\n",
       "</table>\n",
       "</div>"
      ],
      "text/plain": [
       "   product1  product2    product3  product4  choice\n",
       "0      60.0     100.0  109.230769     130.0       2\n",
       "1      60.0     100.0  106.444444     130.0       2\n",
       "2      60.0     100.0  104.285714     130.0       4\n",
       "3      65.0     110.0  118.360656     140.0       3\n",
       "4      60.0     100.0  110.000000     130.0       1"
      ]
     },
     "execution_count": 18,
     "metadata": {},
     "output_type": "execute_result"
    }
   ],
   "source": [
    "multi_choice.head()"
   ]
  },
  {
   "cell_type": "code",
   "execution_count": 19,
   "id": "useful-empty",
   "metadata": {
    "execution": {
     "iopub.execute_input": "2021-04-18T15:31:10.698928Z",
     "iopub.status.busy": "2021-04-18T15:31:10.698280Z",
     "iopub.status.idle": "2021-04-18T15:42:00.599402Z",
     "shell.execute_reply": "2021-04-18T15:42:00.598548Z"
    },
    "papermill": {
     "duration": 649.931672,
     "end_time": "2021-04-18T15:42:00.599599",
     "exception": false,
     "start_time": "2021-04-18T15:31:10.667927",
     "status": "completed"
    },
    "tags": []
   },
   "outputs": [
    {
     "name": "stderr",
     "output_type": "stream",
     "text": [
      "/opt/conda/lib/python3.7/site-packages/inventorize/__init__.py:821: SettingWithCopyWarning: \n",
      "A value is trying to be set on a copy of a slice from a DataFrame\n",
      "\n",
      "See the caveats in the documentation: https://pandas.pydata.org/pandas-docs/stable/user_guide/indexing.html#returning-a-view-versus-a-copy\n",
      "  data['dummy'][i]= offset_func(variables,data,i,y[i])\n"
     ]
    }
   ],
   "source": [
    "choice = inv.Multi_Competing_optimization(multi_choice.iloc[:4000,0:4], multi_choice.loc[:4000,\"choice\"],\n",
    "                                          4, [40,60,70,100])"
   ]
  },
  {
   "cell_type": "code",
   "execution_count": 20,
   "id": "timely-festival",
   "metadata": {
    "execution": {
     "iopub.execute_input": "2021-04-18T15:42:00.668119Z",
     "iopub.status.busy": "2021-04-18T15:42:00.664605Z",
     "iopub.status.idle": "2021-04-18T15:42:00.672504Z",
     "shell.execute_reply": "2021-04-18T15:42:00.673045Z"
    },
    "papermill": {
     "duration": 0.043924,
     "end_time": "2021-04-18T15:42:00.673245",
     "exception": false,
     "start_time": "2021-04-18T15:42:00.629321",
     "status": "completed"
    },
    "tags": []
   },
   "outputs": [
    {
     "data": {
      "text/html": [
       "<div>\n",
       "<style scoped>\n",
       "    .dataframe tbody tr th:only-of-type {\n",
       "        vertical-align: middle;\n",
       "    }\n",
       "\n",
       "    .dataframe tbody tr th {\n",
       "        vertical-align: top;\n",
       "    }\n",
       "\n",
       "    .dataframe thead th {\n",
       "        text-align: right;\n",
       "    }\n",
       "</style>\n",
       "<table border=\"1\" class=\"dataframe\">\n",
       "  <thead>\n",
       "    <tr style=\"text-align: right;\">\n",
       "      <th></th>\n",
       "      <th>Product_name</th>\n",
       "      <th>utitliy_of_product</th>\n",
       "      <th>scipy.optimized_prices</th>\n",
       "      <th>cost</th>\n",
       "    </tr>\n",
       "  </thead>\n",
       "  <tbody>\n",
       "    <tr>\n",
       "      <th>0</th>\n",
       "      <td>product1</td>\n",
       "      <td>83.928859</td>\n",
       "      <td>90.962683</td>\n",
       "      <td>40</td>\n",
       "    </tr>\n",
       "    <tr>\n",
       "      <th>1</th>\n",
       "      <td>product2</td>\n",
       "      <td>125.186490</td>\n",
       "      <td>121.090610</td>\n",
       "      <td>60</td>\n",
       "    </tr>\n",
       "    <tr>\n",
       "      <th>2</th>\n",
       "      <td>product3</td>\n",
       "      <td>127.483287</td>\n",
       "      <td>131.926113</td>\n",
       "      <td>70</td>\n",
       "    </tr>\n",
       "    <tr>\n",
       "      <th>3</th>\n",
       "      <td>product4</td>\n",
       "      <td>153.751600</td>\n",
       "      <td>165.485383</td>\n",
       "      <td>100</td>\n",
       "    </tr>\n",
       "  </tbody>\n",
       "</table>\n",
       "</div>"
      ],
      "text/plain": [
       "  Product_name  utitliy_of_product  scipy.optimized_prices  cost\n",
       "0     product1           83.928859               90.962683    40\n",
       "1     product2          125.186490              121.090610    60\n",
       "2     product3          127.483287              131.926113    70\n",
       "3     product4          153.751600              165.485383   100"
      ]
     },
     "execution_count": 20,
     "metadata": {},
     "output_type": "execute_result"
    }
   ],
   "source": [
    "choice"
   ]
  },
  {
   "cell_type": "code",
   "execution_count": null,
   "id": "collected-blind",
   "metadata": {
    "papermill": {
     "duration": 0.028157,
     "end_time": "2021-04-18T15:42:00.730955",
     "exception": false,
     "start_time": "2021-04-18T15:42:00.702798",
     "status": "completed"
    },
    "tags": []
   },
   "outputs": [],
   "source": []
  }
 ],
 "metadata": {
  "kernelspec": {
   "display_name": "Python 3",
   "language": "python",
   "name": "python3"
  },
  "language_info": {
   "codemirror_mode": {
    "name": "ipython",
    "version": 3
   },
   "file_extension": ".py",
   "mimetype": "text/x-python",
   "name": "python",
   "nbconvert_exporter": "python",
   "pygments_lexer": "ipython3",
   "version": "3.7.9"
  },
  "papermill": {
   "default_parameters": {},
   "duration": 672.116772,
   "end_time": "2021-04-18T15:42:01.471790",
   "environment_variables": {},
   "exception": null,
   "input_path": "__notebook__.ipynb",
   "output_path": "__notebook__.ipynb",
   "parameters": {},
   "start_time": "2021-04-18T15:30:49.355018",
   "version": "2.3.2"
  }
 },
 "nbformat": 4,
 "nbformat_minor": 5
}
