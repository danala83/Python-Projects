{
 "cells": [
  {
   "cell_type": "markdown",
   "id": "burning-valley",
   "metadata": {
    "papermill": {
     "duration": 0.042718,
     "end_time": "2021-04-21T16:47:09.468901",
     "exception": false,
     "start_time": "2021-04-21T16:47:09.426183",
     "status": "completed"
    },
    "tags": []
   },
   "source": [
    "### RFM Analysis\n",
    "#### We'll perform RFM analysis on retail data and segment the customer based on recency, frequency and monetary value for Marketing department.\n",
    "#### We'll use two methods for this analysis, the first method is Ranking and the second is using Clustering-K_Means."
   ]
  },
  {
   "cell_type": "code",
   "execution_count": 1,
   "id": "magnetic-analyst",
   "metadata": {
    "execution": {
     "iopub.execute_input": "2021-04-21T16:47:09.555760Z",
     "iopub.status.busy": "2021-04-21T16:47:09.554813Z",
     "iopub.status.idle": "2021-04-21T16:47:09.571672Z",
     "shell.execute_reply": "2021-04-21T16:47:09.570295Z"
    },
    "papermill": {
     "duration": 0.063769,
     "end_time": "2021-04-21T16:47:09.571898",
     "exception": false,
     "start_time": "2021-04-21T16:47:09.508129",
     "status": "completed"
    },
    "tags": []
   },
   "outputs": [
    {
     "name": "stdout",
     "output_type": "stream",
     "text": [
      "/kaggle/input/retail-clean/retail_clean.csv\n"
     ]
    }
   ],
   "source": [
    "import numpy as np # linear algebra\n",
    "import pandas as pd # data processing, CSV file I/O (e.g. pd.read_csv)\n",
    "\n",
    "# Input data files are available in the read-only \"../input/\" directory\n",
    "# For example, running this (by clicking run or pressing Shift+Enter) will list all files under the input directory\n",
    "\n",
    "import os\n",
    "for dirname, _, filenames in os.walk('/kaggle/input'):\n",
    "    for filename in filenames:\n",
    "        print(os.path.join(dirname, filename))"
   ]
  },
  {
   "cell_type": "code",
   "execution_count": 2,
   "id": "opened-galaxy",
   "metadata": {
    "execution": {
     "iopub.execute_input": "2021-04-21T16:47:09.662311Z",
     "iopub.status.busy": "2021-04-21T16:47:09.661701Z",
     "iopub.status.idle": "2021-04-21T16:47:09.664239Z",
     "shell.execute_reply": "2021-04-21T16:47:09.663594Z"
    },
    "papermill": {
     "duration": 0.048325,
     "end_time": "2021-04-21T16:47:09.664374",
     "exception": false,
     "start_time": "2021-04-21T16:47:09.616049",
     "status": "completed"
    },
    "tags": []
   },
   "outputs": [],
   "source": [
    "import matplotlib.pyplot as plt"
   ]
  },
  {
   "cell_type": "markdown",
   "id": "closed-somerset",
   "metadata": {
    "papermill": {
     "duration": 0.038936,
     "end_time": "2021-04-21T16:47:09.742212",
     "exception": false,
     "start_time": "2021-04-21T16:47:09.703276",
     "status": "completed"
    },
    "tags": []
   },
   "source": [
    "### Ranking Method"
   ]
  },
  {
   "cell_type": "code",
   "execution_count": 3,
   "id": "junior-suffering",
   "metadata": {
    "execution": {
     "iopub.execute_input": "2021-04-21T16:47:09.826799Z",
     "iopub.status.busy": "2021-04-21T16:47:09.826153Z",
     "iopub.status.idle": "2021-04-21T16:47:11.919615Z",
     "shell.execute_reply": "2021-04-21T16:47:11.918916Z"
    },
    "papermill": {
     "duration": 2.137899,
     "end_time": "2021-04-21T16:47:11.919758",
     "exception": false,
     "start_time": "2021-04-21T16:47:09.781859",
     "status": "completed"
    },
    "tags": []
   },
   "outputs": [],
   "source": [
    "retail=  pd.read_csv(\"../input/retail-clean/retail_clean.csv\")"
   ]
  },
  {
   "cell_type": "code",
   "execution_count": 4,
   "id": "handy-aurora",
   "metadata": {
    "execution": {
     "iopub.execute_input": "2021-04-21T16:47:12.058627Z",
     "iopub.status.busy": "2021-04-21T16:47:12.057954Z",
     "iopub.status.idle": "2021-04-21T16:47:12.261056Z",
     "shell.execute_reply": "2021-04-21T16:47:12.260341Z"
    },
    "papermill": {
     "duration": 0.301768,
     "end_time": "2021-04-21T16:47:12.261204",
     "exception": false,
     "start_time": "2021-04-21T16:47:11.959436",
     "status": "completed"
    },
    "tags": []
   },
   "outputs": [],
   "source": [
    "retail['InvoiceDate']= pd.to_datetime(retail['InvoiceDate'])"
   ]
  },
  {
   "cell_type": "code",
   "execution_count": 5,
   "id": "broke-immunology",
   "metadata": {
    "execution": {
     "iopub.execute_input": "2021-04-21T16:47:12.348174Z",
     "iopub.status.busy": "2021-04-21T16:47:12.347441Z",
     "iopub.status.idle": "2021-04-21T16:47:18.354041Z",
     "shell.execute_reply": "2021-04-21T16:47:18.353324Z"
    },
    "papermill": {
     "duration": 6.051158,
     "end_time": "2021-04-21T16:47:18.354192",
     "exception": false,
     "start_time": "2021-04-21T16:47:12.303034",
     "status": "completed"
    },
    "tags": []
   },
   "outputs": [],
   "source": [
    "retail['date']= retail['InvoiceDate'].dt.strftime(\"%Y-%m-%d\")"
   ]
  },
  {
   "cell_type": "code",
   "execution_count": 6,
   "id": "needed-express",
   "metadata": {
    "execution": {
     "iopub.execute_input": "2021-04-21T16:47:18.486390Z",
     "iopub.status.busy": "2021-04-21T16:47:18.485710Z",
     "iopub.status.idle": "2021-04-21T16:47:18.668368Z",
     "shell.execute_reply": "2021-04-21T16:47:18.667675Z"
    },
    "papermill": {
     "duration": 0.274709,
     "end_time": "2021-04-21T16:47:18.668533",
     "exception": false,
     "start_time": "2021-04-21T16:47:18.393824",
     "status": "completed"
    },
    "tags": []
   },
   "outputs": [],
   "source": [
    "retail['date'] = pd.to_datetime(retail['date'])"
   ]
  },
  {
   "cell_type": "markdown",
   "id": "exciting-variation",
   "metadata": {
    "papermill": {
     "duration": 0.039134,
     "end_time": "2021-04-21T16:47:18.746790",
     "exception": false,
     "start_time": "2021-04-21T16:47:18.707656",
     "status": "completed"
    },
    "tags": []
   },
   "source": [
    "### CALCULATING RECENCY"
   ]
  },
  {
   "cell_type": "code",
   "execution_count": 7,
   "id": "resistant-maximum",
   "metadata": {
    "execution": {
     "iopub.execute_input": "2021-04-21T16:47:18.829233Z",
     "iopub.status.busy": "2021-04-21T16:47:18.828293Z",
     "iopub.status.idle": "2021-04-21T16:47:18.837136Z",
     "shell.execute_reply": "2021-04-21T16:47:18.836602Z"
    },
    "papermill": {
     "duration": 0.051208,
     "end_time": "2021-04-21T16:47:18.837281",
     "exception": false,
     "start_time": "2021-04-21T16:47:18.786073",
     "status": "completed"
    },
    "tags": []
   },
   "outputs": [],
   "source": [
    "max_date=  retail['date'].max()"
   ]
  },
  {
   "cell_type": "code",
   "execution_count": 8,
   "id": "registered-parameter",
   "metadata": {
    "execution": {
     "iopub.execute_input": "2021-04-21T16:47:18.930349Z",
     "iopub.status.busy": "2021-04-21T16:47:18.929265Z",
     "iopub.status.idle": "2021-04-21T16:47:18.965307Z",
     "shell.execute_reply": "2021-04-21T16:47:18.964763Z"
    },
    "papermill": {
     "duration": 0.088547,
     "end_time": "2021-04-21T16:47:18.965457",
     "exception": false,
     "start_time": "2021-04-21T16:47:18.876910",
     "status": "completed"
    },
    "tags": []
   },
   "outputs": [],
   "source": [
    "cust_recency = retail.groupby(\"Customer ID\").agg(last_date = (\"date\",max)).reset_index()"
   ]
  },
  {
   "cell_type": "code",
   "execution_count": 9,
   "id": "ignored-nursery",
   "metadata": {
    "execution": {
     "iopub.execute_input": "2021-04-21T16:47:19.054556Z",
     "iopub.status.busy": "2021-04-21T16:47:19.053670Z",
     "iopub.status.idle": "2021-04-21T16:47:19.071289Z",
     "shell.execute_reply": "2021-04-21T16:47:19.071853Z"
    },
    "papermill": {
     "duration": 0.0665,
     "end_time": "2021-04-21T16:47:19.072060",
     "exception": false,
     "start_time": "2021-04-21T16:47:19.005560",
     "status": "completed"
    },
    "tags": []
   },
   "outputs": [
    {
     "data": {
      "text/html": [
       "<div>\n",
       "<style scoped>\n",
       "    .dataframe tbody tr th:only-of-type {\n",
       "        vertical-align: middle;\n",
       "    }\n",
       "\n",
       "    .dataframe tbody tr th {\n",
       "        vertical-align: top;\n",
       "    }\n",
       "\n",
       "    .dataframe thead th {\n",
       "        text-align: right;\n",
       "    }\n",
       "</style>\n",
       "<table border=\"1\" class=\"dataframe\">\n",
       "  <thead>\n",
       "    <tr style=\"text-align: right;\">\n",
       "      <th></th>\n",
       "      <th>Customer ID</th>\n",
       "      <th>last_date</th>\n",
       "    </tr>\n",
       "  </thead>\n",
       "  <tbody>\n",
       "    <tr>\n",
       "      <th>0</th>\n",
       "      <td>12346.0</td>\n",
       "      <td>2011-01-18</td>\n",
       "    </tr>\n",
       "    <tr>\n",
       "      <th>1</th>\n",
       "      <td>12347.0</td>\n",
       "      <td>2011-12-07</td>\n",
       "    </tr>\n",
       "    <tr>\n",
       "      <th>2</th>\n",
       "      <td>12348.0</td>\n",
       "      <td>2011-09-25</td>\n",
       "    </tr>\n",
       "    <tr>\n",
       "      <th>3</th>\n",
       "      <td>12349.0</td>\n",
       "      <td>2011-11-21</td>\n",
       "    </tr>\n",
       "    <tr>\n",
       "      <th>4</th>\n",
       "      <td>12350.0</td>\n",
       "      <td>2011-02-02</td>\n",
       "    </tr>\n",
       "    <tr>\n",
       "      <th>...</th>\n",
       "      <td>...</td>\n",
       "      <td>...</td>\n",
       "    </tr>\n",
       "    <tr>\n",
       "      <th>5937</th>\n",
       "      <td>18283.0</td>\n",
       "      <td>2011-12-06</td>\n",
       "    </tr>\n",
       "    <tr>\n",
       "      <th>5938</th>\n",
       "      <td>18284.0</td>\n",
       "      <td>2010-10-06</td>\n",
       "    </tr>\n",
       "    <tr>\n",
       "      <th>5939</th>\n",
       "      <td>18285.0</td>\n",
       "      <td>2010-02-17</td>\n",
       "    </tr>\n",
       "    <tr>\n",
       "      <th>5940</th>\n",
       "      <td>18286.0</td>\n",
       "      <td>2010-08-20</td>\n",
       "    </tr>\n",
       "    <tr>\n",
       "      <th>5941</th>\n",
       "      <td>18287.0</td>\n",
       "      <td>2011-10-28</td>\n",
       "    </tr>\n",
       "  </tbody>\n",
       "</table>\n",
       "<p>5942 rows × 2 columns</p>\n",
       "</div>"
      ],
      "text/plain": [
       "      Customer ID  last_date\n",
       "0         12346.0 2011-01-18\n",
       "1         12347.0 2011-12-07\n",
       "2         12348.0 2011-09-25\n",
       "3         12349.0 2011-11-21\n",
       "4         12350.0 2011-02-02\n",
       "...           ...        ...\n",
       "5937      18283.0 2011-12-06\n",
       "5938      18284.0 2010-10-06\n",
       "5939      18285.0 2010-02-17\n",
       "5940      18286.0 2010-08-20\n",
       "5941      18287.0 2011-10-28\n",
       "\n",
       "[5942 rows x 2 columns]"
      ]
     },
     "execution_count": 9,
     "metadata": {},
     "output_type": "execute_result"
    }
   ],
   "source": [
    "## Customers with last purchase date\n",
    "cust_recency"
   ]
  },
  {
   "cell_type": "code",
   "execution_count": 10,
   "id": "local-trinidad",
   "metadata": {
    "execution": {
     "iopub.execute_input": "2021-04-21T16:47:19.159230Z",
     "iopub.status.busy": "2021-04-21T16:47:19.158333Z",
     "iopub.status.idle": "2021-04-21T16:47:19.162933Z",
     "shell.execute_reply": "2021-04-21T16:47:19.162289Z"
    },
    "papermill": {
     "duration": 0.050196,
     "end_time": "2021-04-21T16:47:19.163094",
     "exception": false,
     "start_time": "2021-04-21T16:47:19.112898",
     "status": "completed"
    },
    "tags": []
   },
   "outputs": [],
   "source": [
    "cust_recency['recency']= max_date - cust_recency['last_date']"
   ]
  },
  {
   "cell_type": "code",
   "execution_count": 11,
   "id": "following-detection",
   "metadata": {
    "execution": {
     "iopub.execute_input": "2021-04-21T16:47:19.261917Z",
     "iopub.status.busy": "2021-04-21T16:47:19.261081Z",
     "iopub.status.idle": "2021-04-21T16:47:19.265289Z",
     "shell.execute_reply": "2021-04-21T16:47:19.264803Z"
    },
    "papermill": {
     "duration": 0.060672,
     "end_time": "2021-04-21T16:47:19.265428",
     "exception": false,
     "start_time": "2021-04-21T16:47:19.204756",
     "status": "completed"
    },
    "tags": []
   },
   "outputs": [
    {
     "data": {
      "text/html": [
       "<div>\n",
       "<style scoped>\n",
       "    .dataframe tbody tr th:only-of-type {\n",
       "        vertical-align: middle;\n",
       "    }\n",
       "\n",
       "    .dataframe tbody tr th {\n",
       "        vertical-align: top;\n",
       "    }\n",
       "\n",
       "    .dataframe thead th {\n",
       "        text-align: right;\n",
       "    }\n",
       "</style>\n",
       "<table border=\"1\" class=\"dataframe\">\n",
       "  <thead>\n",
       "    <tr style=\"text-align: right;\">\n",
       "      <th></th>\n",
       "      <th>Customer ID</th>\n",
       "      <th>last_date</th>\n",
       "      <th>recency</th>\n",
       "    </tr>\n",
       "  </thead>\n",
       "  <tbody>\n",
       "    <tr>\n",
       "      <th>0</th>\n",
       "      <td>12346.0</td>\n",
       "      <td>2011-01-18</td>\n",
       "      <td>325 days</td>\n",
       "    </tr>\n",
       "    <tr>\n",
       "      <th>1</th>\n",
       "      <td>12347.0</td>\n",
       "      <td>2011-12-07</td>\n",
       "      <td>2 days</td>\n",
       "    </tr>\n",
       "    <tr>\n",
       "      <th>2</th>\n",
       "      <td>12348.0</td>\n",
       "      <td>2011-09-25</td>\n",
       "      <td>75 days</td>\n",
       "    </tr>\n",
       "    <tr>\n",
       "      <th>3</th>\n",
       "      <td>12349.0</td>\n",
       "      <td>2011-11-21</td>\n",
       "      <td>18 days</td>\n",
       "    </tr>\n",
       "    <tr>\n",
       "      <th>4</th>\n",
       "      <td>12350.0</td>\n",
       "      <td>2011-02-02</td>\n",
       "      <td>310 days</td>\n",
       "    </tr>\n",
       "    <tr>\n",
       "      <th>...</th>\n",
       "      <td>...</td>\n",
       "      <td>...</td>\n",
       "      <td>...</td>\n",
       "    </tr>\n",
       "    <tr>\n",
       "      <th>5937</th>\n",
       "      <td>18283.0</td>\n",
       "      <td>2011-12-06</td>\n",
       "      <td>3 days</td>\n",
       "    </tr>\n",
       "    <tr>\n",
       "      <th>5938</th>\n",
       "      <td>18284.0</td>\n",
       "      <td>2010-10-06</td>\n",
       "      <td>429 days</td>\n",
       "    </tr>\n",
       "    <tr>\n",
       "      <th>5939</th>\n",
       "      <td>18285.0</td>\n",
       "      <td>2010-02-17</td>\n",
       "      <td>660 days</td>\n",
       "    </tr>\n",
       "    <tr>\n",
       "      <th>5940</th>\n",
       "      <td>18286.0</td>\n",
       "      <td>2010-08-20</td>\n",
       "      <td>476 days</td>\n",
       "    </tr>\n",
       "    <tr>\n",
       "      <th>5941</th>\n",
       "      <td>18287.0</td>\n",
       "      <td>2011-10-28</td>\n",
       "      <td>42 days</td>\n",
       "    </tr>\n",
       "  </tbody>\n",
       "</table>\n",
       "<p>5942 rows × 3 columns</p>\n",
       "</div>"
      ],
      "text/plain": [
       "      Customer ID  last_date  recency\n",
       "0         12346.0 2011-01-18 325 days\n",
       "1         12347.0 2011-12-07   2 days\n",
       "2         12348.0 2011-09-25  75 days\n",
       "3         12349.0 2011-11-21  18 days\n",
       "4         12350.0 2011-02-02 310 days\n",
       "...           ...        ...      ...\n",
       "5937      18283.0 2011-12-06   3 days\n",
       "5938      18284.0 2010-10-06 429 days\n",
       "5939      18285.0 2010-02-17 660 days\n",
       "5940      18286.0 2010-08-20 476 days\n",
       "5941      18287.0 2011-10-28  42 days\n",
       "\n",
       "[5942 rows x 3 columns]"
      ]
     },
     "execution_count": 11,
     "metadata": {},
     "output_type": "execute_result"
    }
   ],
   "source": [
    "cust_recency"
   ]
  },
  {
   "cell_type": "code",
   "execution_count": 12,
   "id": "adopted-marker",
   "metadata": {
    "execution": {
     "iopub.execute_input": "2021-04-21T16:47:19.353395Z",
     "iopub.status.busy": "2021-04-21T16:47:19.352792Z",
     "iopub.status.idle": "2021-04-21T16:47:19.487545Z",
     "shell.execute_reply": "2021-04-21T16:47:19.486960Z"
    },
    "papermill": {
     "duration": 0.180818,
     "end_time": "2021-04-21T16:47:19.487690",
     "exception": false,
     "start_time": "2021-04-21T16:47:19.306872",
     "status": "completed"
    },
    "tags": []
   },
   "outputs": [],
   "source": [
    "cust_recency['recency']= cust_recency['recency'].astype(\"string\").str.replace('days','').astype(int)"
   ]
  },
  {
   "cell_type": "code",
   "execution_count": 13,
   "id": "accessory-bacon",
   "metadata": {
    "execution": {
     "iopub.execute_input": "2021-04-21T16:47:19.580554Z",
     "iopub.status.busy": "2021-04-21T16:47:19.579882Z",
     "iopub.status.idle": "2021-04-21T16:47:19.582831Z",
     "shell.execute_reply": "2021-04-21T16:47:19.583394Z"
    },
    "papermill": {
     "duration": 0.054637,
     "end_time": "2021-04-21T16:47:19.583594",
     "exception": false,
     "start_time": "2021-04-21T16:47:19.528957",
     "status": "completed"
    },
    "tags": []
   },
   "outputs": [
    {
     "data": {
      "text/html": [
       "<div>\n",
       "<style scoped>\n",
       "    .dataframe tbody tr th:only-of-type {\n",
       "        vertical-align: middle;\n",
       "    }\n",
       "\n",
       "    .dataframe tbody tr th {\n",
       "        vertical-align: top;\n",
       "    }\n",
       "\n",
       "    .dataframe thead th {\n",
       "        text-align: right;\n",
       "    }\n",
       "</style>\n",
       "<table border=\"1\" class=\"dataframe\">\n",
       "  <thead>\n",
       "    <tr style=\"text-align: right;\">\n",
       "      <th></th>\n",
       "      <th>Customer ID</th>\n",
       "      <th>last_date</th>\n",
       "      <th>recency</th>\n",
       "    </tr>\n",
       "  </thead>\n",
       "  <tbody>\n",
       "    <tr>\n",
       "      <th>0</th>\n",
       "      <td>12346.0</td>\n",
       "      <td>2011-01-18</td>\n",
       "      <td>325</td>\n",
       "    </tr>\n",
       "    <tr>\n",
       "      <th>1</th>\n",
       "      <td>12347.0</td>\n",
       "      <td>2011-12-07</td>\n",
       "      <td>2</td>\n",
       "    </tr>\n",
       "    <tr>\n",
       "      <th>2</th>\n",
       "      <td>12348.0</td>\n",
       "      <td>2011-09-25</td>\n",
       "      <td>75</td>\n",
       "    </tr>\n",
       "    <tr>\n",
       "      <th>3</th>\n",
       "      <td>12349.0</td>\n",
       "      <td>2011-11-21</td>\n",
       "      <td>18</td>\n",
       "    </tr>\n",
       "    <tr>\n",
       "      <th>4</th>\n",
       "      <td>12350.0</td>\n",
       "      <td>2011-02-02</td>\n",
       "      <td>310</td>\n",
       "    </tr>\n",
       "  </tbody>\n",
       "</table>\n",
       "</div>"
      ],
      "text/plain": [
       "   Customer ID  last_date  recency\n",
       "0      12346.0 2011-01-18      325\n",
       "1      12347.0 2011-12-07        2\n",
       "2      12348.0 2011-09-25       75\n",
       "3      12349.0 2011-11-21       18\n",
       "4      12350.0 2011-02-02      310"
      ]
     },
     "execution_count": 13,
     "metadata": {},
     "output_type": "execute_result"
    }
   ],
   "source": [
    "cust_recency.head()"
   ]
  },
  {
   "cell_type": "markdown",
   "id": "dynamic-master",
   "metadata": {
    "papermill": {
     "duration": 0.042283,
     "end_time": "2021-04-21T16:47:19.668580",
     "exception": false,
     "start_time": "2021-04-21T16:47:19.626297",
     "status": "completed"
    },
    "tags": []
   },
   "source": [
    "### CALCULATING FREQUENCY"
   ]
  },
  {
   "cell_type": "code",
   "execution_count": 14,
   "id": "dedicated-iceland",
   "metadata": {
    "execution": {
     "iopub.execute_input": "2021-04-21T16:47:19.756059Z",
     "iopub.status.busy": "2021-04-21T16:47:19.755409Z",
     "iopub.status.idle": "2021-04-21T16:47:20.029751Z",
     "shell.execute_reply": "2021-04-21T16:47:20.028381Z"
    },
    "papermill": {
     "duration": 0.318943,
     "end_time": "2021-04-21T16:47:20.029903",
     "exception": false,
     "start_time": "2021-04-21T16:47:19.710960",
     "status": "completed"
    },
    "tags": []
   },
   "outputs": [],
   "source": [
    "freq1 = retail.groupby(['Customer ID','Invoice']).agg(count= (\"Description\",\"count\")).reset_index()"
   ]
  },
  {
   "cell_type": "code",
   "execution_count": 15,
   "id": "united-sydney",
   "metadata": {
    "execution": {
     "iopub.execute_input": "2021-04-21T16:47:20.127728Z",
     "iopub.status.busy": "2021-04-21T16:47:20.120775Z",
     "iopub.status.idle": "2021-04-21T16:47:20.130131Z",
     "shell.execute_reply": "2021-04-21T16:47:20.130631Z"
    },
    "papermill": {
     "duration": 0.058898,
     "end_time": "2021-04-21T16:47:20.130808",
     "exception": false,
     "start_time": "2021-04-21T16:47:20.071910",
     "status": "completed"
    },
    "tags": []
   },
   "outputs": [],
   "source": [
    "freq = freq1.groupby(\"Customer ID\").agg(frequency = (\"count\",\"count\")).reset_index()"
   ]
  },
  {
   "cell_type": "code",
   "execution_count": 16,
   "id": "imported-festival",
   "metadata": {
    "execution": {
     "iopub.execute_input": "2021-04-21T16:47:20.224208Z",
     "iopub.status.busy": "2021-04-21T16:47:20.223540Z",
     "iopub.status.idle": "2021-04-21T16:47:20.227321Z",
     "shell.execute_reply": "2021-04-21T16:47:20.227900Z"
    },
    "papermill": {
     "duration": 0.05533,
     "end_time": "2021-04-21T16:47:20.228074",
     "exception": false,
     "start_time": "2021-04-21T16:47:20.172744",
     "status": "completed"
    },
    "tags": []
   },
   "outputs": [
    {
     "data": {
      "text/html": [
       "<div>\n",
       "<style scoped>\n",
       "    .dataframe tbody tr th:only-of-type {\n",
       "        vertical-align: middle;\n",
       "    }\n",
       "\n",
       "    .dataframe tbody tr th {\n",
       "        vertical-align: top;\n",
       "    }\n",
       "\n",
       "    .dataframe thead th {\n",
       "        text-align: right;\n",
       "    }\n",
       "</style>\n",
       "<table border=\"1\" class=\"dataframe\">\n",
       "  <thead>\n",
       "    <tr style=\"text-align: right;\">\n",
       "      <th></th>\n",
       "      <th>Customer ID</th>\n",
       "      <th>frequency</th>\n",
       "    </tr>\n",
       "  </thead>\n",
       "  <tbody>\n",
       "    <tr>\n",
       "      <th>0</th>\n",
       "      <td>12346.0</td>\n",
       "      <td>17</td>\n",
       "    </tr>\n",
       "    <tr>\n",
       "      <th>1</th>\n",
       "      <td>12347.0</td>\n",
       "      <td>8</td>\n",
       "    </tr>\n",
       "    <tr>\n",
       "      <th>2</th>\n",
       "      <td>12348.0</td>\n",
       "      <td>5</td>\n",
       "    </tr>\n",
       "    <tr>\n",
       "      <th>3</th>\n",
       "      <td>12349.0</td>\n",
       "      <td>5</td>\n",
       "    </tr>\n",
       "    <tr>\n",
       "      <th>4</th>\n",
       "      <td>12350.0</td>\n",
       "      <td>1</td>\n",
       "    </tr>\n",
       "  </tbody>\n",
       "</table>\n",
       "</div>"
      ],
      "text/plain": [
       "   Customer ID  frequency\n",
       "0      12346.0         17\n",
       "1      12347.0          8\n",
       "2      12348.0          5\n",
       "3      12349.0          5\n",
       "4      12350.0          1"
      ]
     },
     "execution_count": 16,
     "metadata": {},
     "output_type": "execute_result"
    }
   ],
   "source": [
    "freq.head()"
   ]
  },
  {
   "cell_type": "markdown",
   "id": "demographic-waters",
   "metadata": {
    "papermill": {
     "duration": 0.042559,
     "end_time": "2021-04-21T16:47:20.313720",
     "exception": false,
     "start_time": "2021-04-21T16:47:20.271161",
     "status": "completed"
    },
    "tags": []
   },
   "source": [
    "### CALCULATING MONETARY VALUE"
   ]
  },
  {
   "cell_type": "code",
   "execution_count": 17,
   "id": "capital-shade",
   "metadata": {
    "execution": {
     "iopub.execute_input": "2021-04-21T16:47:20.402074Z",
     "iopub.status.busy": "2021-04-21T16:47:20.401398Z",
     "iopub.status.idle": "2021-04-21T16:47:20.406268Z",
     "shell.execute_reply": "2021-04-21T16:47:20.406807Z"
    },
    "papermill": {
     "duration": 0.050807,
     "end_time": "2021-04-21T16:47:20.406985",
     "exception": false,
     "start_time": "2021-04-21T16:47:20.356178",
     "status": "completed"
    },
    "tags": []
   },
   "outputs": [
    {
     "data": {
      "text/plain": [
       "Index(['Unnamed: 0', 'Invoice', 'StockCode', 'Description', 'Quantity',\n",
       "       'InvoiceDate', 'Price', 'Customer ID', 'Country', 'date'],\n",
       "      dtype='object')"
      ]
     },
     "execution_count": 17,
     "metadata": {},
     "output_type": "execute_result"
    }
   ],
   "source": [
    "retail.columns"
   ]
  },
  {
   "cell_type": "code",
   "execution_count": 18,
   "id": "optional-highway",
   "metadata": {
    "execution": {
     "iopub.execute_input": "2021-04-21T16:47:20.496238Z",
     "iopub.status.busy": "2021-04-21T16:47:20.495627Z",
     "iopub.status.idle": "2021-04-21T16:47:20.520326Z",
     "shell.execute_reply": "2021-04-21T16:47:20.519195Z"
    },
    "papermill": {
     "duration": 0.070443,
     "end_time": "2021-04-21T16:47:20.520531",
     "exception": false,
     "start_time": "2021-04-21T16:47:20.450088",
     "status": "completed"
    },
    "tags": []
   },
   "outputs": [],
   "source": [
    "retail[\"Revenue\"]= retail[\"Quantity\"]* retail[\"Price\"]"
   ]
  },
  {
   "cell_type": "code",
   "execution_count": 19,
   "id": "balanced-advice",
   "metadata": {
    "execution": {
     "iopub.execute_input": "2021-04-21T16:47:20.618057Z",
     "iopub.status.busy": "2021-04-21T16:47:20.617036Z",
     "iopub.status.idle": "2021-04-21T16:47:20.797846Z",
     "shell.execute_reply": "2021-04-21T16:47:20.798349Z"
    },
    "papermill": {
     "duration": 0.234738,
     "end_time": "2021-04-21T16:47:20.798585",
     "exception": false,
     "start_time": "2021-04-21T16:47:20.563847",
     "status": "completed"
    },
    "tags": []
   },
   "outputs": [],
   "source": [
    "monet1= retail.groupby([\"Customer ID\",\"Invoice\"]).agg(revenue =(\"Revenue\",\"sum\")).reset_index()"
   ]
  },
  {
   "cell_type": "code",
   "execution_count": 20,
   "id": "consolidated-officer",
   "metadata": {
    "execution": {
     "iopub.execute_input": "2021-04-21T16:47:20.898071Z",
     "iopub.status.busy": "2021-04-21T16:47:20.897276Z",
     "iopub.status.idle": "2021-04-21T16:47:20.901081Z",
     "shell.execute_reply": "2021-04-21T16:47:20.901541Z"
    },
    "papermill": {
     "duration": 0.058967,
     "end_time": "2021-04-21T16:47:20.901712",
     "exception": false,
     "start_time": "2021-04-21T16:47:20.842745",
     "status": "completed"
    },
    "tags": []
   },
   "outputs": [
    {
     "data": {
      "text/html": [
       "<div>\n",
       "<style scoped>\n",
       "    .dataframe tbody tr th:only-of-type {\n",
       "        vertical-align: middle;\n",
       "    }\n",
       "\n",
       "    .dataframe tbody tr th {\n",
       "        vertical-align: top;\n",
       "    }\n",
       "\n",
       "    .dataframe thead th {\n",
       "        text-align: right;\n",
       "    }\n",
       "</style>\n",
       "<table border=\"1\" class=\"dataframe\">\n",
       "  <thead>\n",
       "    <tr style=\"text-align: right;\">\n",
       "      <th></th>\n",
       "      <th>Customer ID</th>\n",
       "      <th>Invoice</th>\n",
       "      <th>revenue</th>\n",
       "    </tr>\n",
       "  </thead>\n",
       "  <tbody>\n",
       "    <tr>\n",
       "      <th>0</th>\n",
       "      <td>12346.0</td>\n",
       "      <td>491725</td>\n",
       "      <td>45.0</td>\n",
       "    </tr>\n",
       "    <tr>\n",
       "      <th>1</th>\n",
       "      <td>12346.0</td>\n",
       "      <td>491742</td>\n",
       "      <td>22.5</td>\n",
       "    </tr>\n",
       "    <tr>\n",
       "      <th>2</th>\n",
       "      <td>12346.0</td>\n",
       "      <td>491744</td>\n",
       "      <td>22.5</td>\n",
       "    </tr>\n",
       "    <tr>\n",
       "      <th>3</th>\n",
       "      <td>12346.0</td>\n",
       "      <td>492718</td>\n",
       "      <td>22.5</td>\n",
       "    </tr>\n",
       "    <tr>\n",
       "      <th>4</th>\n",
       "      <td>12346.0</td>\n",
       "      <td>492722</td>\n",
       "      <td>1.0</td>\n",
       "    </tr>\n",
       "  </tbody>\n",
       "</table>\n",
       "</div>"
      ],
      "text/plain": [
       "   Customer ID Invoice  revenue\n",
       "0      12346.0  491725     45.0\n",
       "1      12346.0  491742     22.5\n",
       "2      12346.0  491744     22.5\n",
       "3      12346.0  492718     22.5\n",
       "4      12346.0  492722      1.0"
      ]
     },
     "execution_count": 20,
     "metadata": {},
     "output_type": "execute_result"
    }
   ],
   "source": [
    "monet1.head()"
   ]
  },
  {
   "cell_type": "code",
   "execution_count": 21,
   "id": "suburban-holiday",
   "metadata": {
    "execution": {
     "iopub.execute_input": "2021-04-21T16:47:20.996418Z",
     "iopub.status.busy": "2021-04-21T16:47:20.995788Z",
     "iopub.status.idle": "2021-04-21T16:47:21.008976Z",
     "shell.execute_reply": "2021-04-21T16:47:21.009752Z"
    },
    "papermill": {
     "duration": 0.064268,
     "end_time": "2021-04-21T16:47:21.009983",
     "exception": false,
     "start_time": "2021-04-21T16:47:20.945715",
     "status": "completed"
    },
    "tags": []
   },
   "outputs": [],
   "source": [
    "monet = monet1.groupby(\"Customer ID\").agg(monetary =(\"revenue\",\"mean\")).reset_index()"
   ]
  },
  {
   "cell_type": "markdown",
   "id": "dramatic-politics",
   "metadata": {
    "papermill": {
     "duration": 0.044067,
     "end_time": "2021-04-21T16:47:21.099465",
     "exception": false,
     "start_time": "2021-04-21T16:47:21.055398",
     "status": "completed"
    },
    "tags": []
   },
   "source": [
    "### RANKING, percentile based\n",
    "#### For recency, less the better \n",
    "#### For frequency, more the better\n",
    "#### For monetary, more the better"
   ]
  },
  {
   "cell_type": "code",
   "execution_count": 22,
   "id": "exempt-exception",
   "metadata": {
    "execution": {
     "iopub.execute_input": "2021-04-21T16:47:21.192722Z",
     "iopub.status.busy": "2021-04-21T16:47:21.192083Z",
     "iopub.status.idle": "2021-04-21T16:47:21.202587Z",
     "shell.execute_reply": "2021-04-21T16:47:21.201954Z"
    },
    "papermill": {
     "duration": 0.058149,
     "end_time": "2021-04-21T16:47:21.202736",
     "exception": false,
     "start_time": "2021-04-21T16:47:21.144587",
     "status": "completed"
    },
    "tags": []
   },
   "outputs": [],
   "source": [
    "cust_recency['rank_recency']= cust_recency['recency'].rank(pct=True)"
   ]
  },
  {
   "cell_type": "code",
   "execution_count": 23,
   "id": "democratic-greek",
   "metadata": {
    "execution": {
     "iopub.execute_input": "2021-04-21T16:47:21.301599Z",
     "iopub.status.busy": "2021-04-21T16:47:21.300955Z",
     "iopub.status.idle": "2021-04-21T16:47:21.305228Z",
     "shell.execute_reply": "2021-04-21T16:47:21.305715Z"
    },
    "papermill": {
     "duration": 0.05871,
     "end_time": "2021-04-21T16:47:21.305889",
     "exception": false,
     "start_time": "2021-04-21T16:47:21.247179",
     "status": "completed"
    },
    "tags": []
   },
   "outputs": [],
   "source": [
    "freq['rank_freq']= freq['frequency'].rank(ascending=False,pct=True)"
   ]
  },
  {
   "cell_type": "code",
   "execution_count": 24,
   "id": "faced-consumption",
   "metadata": {
    "execution": {
     "iopub.execute_input": "2021-04-21T16:47:21.400167Z",
     "iopub.status.busy": "2021-04-21T16:47:21.399557Z",
     "iopub.status.idle": "2021-04-21T16:47:21.404711Z",
     "shell.execute_reply": "2021-04-21T16:47:21.404125Z"
    },
    "papermill": {
     "duration": 0.054345,
     "end_time": "2021-04-21T16:47:21.404858",
     "exception": false,
     "start_time": "2021-04-21T16:47:21.350513",
     "status": "completed"
    },
    "tags": []
   },
   "outputs": [],
   "source": [
    "monet['rank_monet']= monet['monetary'].rank(ascending=False,pct=True)"
   ]
  },
  {
   "cell_type": "markdown",
   "id": "annoying-opening",
   "metadata": {
    "papermill": {
     "duration": 0.044887,
     "end_time": "2021-04-21T16:47:21.495830",
     "exception": false,
     "start_time": "2021-04-21T16:47:21.450943",
     "status": "completed"
    },
    "tags": []
   },
   "source": [
    "### Joining All Data"
   ]
  },
  {
   "cell_type": "code",
   "execution_count": 25,
   "id": "twelve-laundry",
   "metadata": {
    "execution": {
     "iopub.execute_input": "2021-04-21T16:47:21.588229Z",
     "iopub.status.busy": "2021-04-21T16:47:21.587613Z",
     "iopub.status.idle": "2021-04-21T16:47:21.602689Z",
     "shell.execute_reply": "2021-04-21T16:47:21.601970Z"
    },
    "papermill": {
     "duration": 0.062639,
     "end_time": "2021-04-21T16:47:21.602836",
     "exception": false,
     "start_time": "2021-04-21T16:47:21.540197",
     "status": "completed"
    },
    "tags": []
   },
   "outputs": [],
   "source": [
    "all_data = pd.merge(cust_recency,freq, how=\"left\", on=\"Customer ID\")"
   ]
  },
  {
   "cell_type": "code",
   "execution_count": 26,
   "id": "restricted-partnership",
   "metadata": {
    "execution": {
     "iopub.execute_input": "2021-04-21T16:47:21.702561Z",
     "iopub.status.busy": "2021-04-21T16:47:21.697981Z",
     "iopub.status.idle": "2021-04-21T16:47:21.708134Z",
     "shell.execute_reply": "2021-04-21T16:47:21.708630Z"
    },
    "papermill": {
     "duration": 0.061089,
     "end_time": "2021-04-21T16:47:21.708818",
     "exception": false,
     "start_time": "2021-04-21T16:47:21.647729",
     "status": "completed"
    },
    "tags": []
   },
   "outputs": [],
   "source": [
    "all_data = pd.merge(all_data,monet, how=\"left\", on=\"Customer ID\")"
   ]
  },
  {
   "cell_type": "code",
   "execution_count": 27,
   "id": "secure-bacteria",
   "metadata": {
    "execution": {
     "iopub.execute_input": "2021-04-21T16:47:21.802381Z",
     "iopub.status.busy": "2021-04-21T16:47:21.801717Z",
     "iopub.status.idle": "2021-04-21T16:47:21.816251Z",
     "shell.execute_reply": "2021-04-21T16:47:21.816817Z"
    },
    "papermill": {
     "duration": 0.063306,
     "end_time": "2021-04-21T16:47:21.816998",
     "exception": false,
     "start_time": "2021-04-21T16:47:21.753692",
     "status": "completed"
    },
    "tags": []
   },
   "outputs": [
    {
     "data": {
      "text/html": [
       "<div>\n",
       "<style scoped>\n",
       "    .dataframe tbody tr th:only-of-type {\n",
       "        vertical-align: middle;\n",
       "    }\n",
       "\n",
       "    .dataframe tbody tr th {\n",
       "        vertical-align: top;\n",
       "    }\n",
       "\n",
       "    .dataframe thead th {\n",
       "        text-align: right;\n",
       "    }\n",
       "</style>\n",
       "<table border=\"1\" class=\"dataframe\">\n",
       "  <thead>\n",
       "    <tr style=\"text-align: right;\">\n",
       "      <th></th>\n",
       "      <th>Customer ID</th>\n",
       "      <th>last_date</th>\n",
       "      <th>recency</th>\n",
       "      <th>rank_recency</th>\n",
       "      <th>frequency</th>\n",
       "      <th>rank_freq</th>\n",
       "      <th>monetary</th>\n",
       "      <th>rank_monet</th>\n",
       "    </tr>\n",
       "  </thead>\n",
       "  <tbody>\n",
       "    <tr>\n",
       "      <th>0</th>\n",
       "      <td>12346.0</td>\n",
       "      <td>2011-01-18</td>\n",
       "      <td>325</td>\n",
       "      <td>0.707506</td>\n",
       "      <td>17</td>\n",
       "      <td>0.096264</td>\n",
       "      <td>-3.043529</td>\n",
       "      <td>0.987041</td>\n",
       "    </tr>\n",
       "    <tr>\n",
       "      <th>1</th>\n",
       "      <td>12347.0</td>\n",
       "      <td>2011-12-07</td>\n",
       "      <td>2</td>\n",
       "      <td>0.033995</td>\n",
       "      <td>8</td>\n",
       "      <td>0.250589</td>\n",
       "      <td>615.191250</td>\n",
       "      <td>0.068832</td>\n",
       "    </tr>\n",
       "    <tr>\n",
       "      <th>2</th>\n",
       "      <td>12348.0</td>\n",
       "      <td>2011-09-25</td>\n",
       "      <td>75</td>\n",
       "      <td>0.459525</td>\n",
       "      <td>5</td>\n",
       "      <td>0.388337</td>\n",
       "      <td>403.880000</td>\n",
       "      <td>0.185291</td>\n",
       "    </tr>\n",
       "    <tr>\n",
       "      <th>3</th>\n",
       "      <td>12349.0</td>\n",
       "      <td>2011-11-21</td>\n",
       "      <td>18</td>\n",
       "      <td>0.201195</td>\n",
       "      <td>5</td>\n",
       "      <td>0.388337</td>\n",
       "      <td>880.908000</td>\n",
       "      <td>0.030966</td>\n",
       "    </tr>\n",
       "    <tr>\n",
       "      <th>4</th>\n",
       "      <td>12350.0</td>\n",
       "      <td>2011-02-02</td>\n",
       "      <td>310</td>\n",
       "      <td>0.695894</td>\n",
       "      <td>1</td>\n",
       "      <td>0.877146</td>\n",
       "      <td>334.400000</td>\n",
       "      <td>0.273982</td>\n",
       "    </tr>\n",
       "  </tbody>\n",
       "</table>\n",
       "</div>"
      ],
      "text/plain": [
       "   Customer ID  last_date  recency  rank_recency  frequency  rank_freq  \\\n",
       "0      12346.0 2011-01-18      325      0.707506         17   0.096264   \n",
       "1      12347.0 2011-12-07        2      0.033995          8   0.250589   \n",
       "2      12348.0 2011-09-25       75      0.459525          5   0.388337   \n",
       "3      12349.0 2011-11-21       18      0.201195          5   0.388337   \n",
       "4      12350.0 2011-02-02      310      0.695894          1   0.877146   \n",
       "\n",
       "     monetary  rank_monet  \n",
       "0   -3.043529    0.987041  \n",
       "1  615.191250    0.068832  \n",
       "2  403.880000    0.185291  \n",
       "3  880.908000    0.030966  \n",
       "4  334.400000    0.273982  "
      ]
     },
     "execution_count": 27,
     "metadata": {},
     "output_type": "execute_result"
    }
   ],
   "source": [
    "all_data.head()"
   ]
  },
  {
   "cell_type": "markdown",
   "id": "prescription-village",
   "metadata": {
    "papermill": {
     "duration": 0.044934,
     "end_time": "2021-04-21T16:47:21.908204",
     "exception": false,
     "start_time": "2021-04-21T16:47:21.863270",
     "status": "completed"
    },
    "tags": []
   },
   "source": [
    "### CUSTOMER SEGMENTATION"
   ]
  },
  {
   "cell_type": "code",
   "execution_count": 28,
   "id": "alive-majority",
   "metadata": {
    "execution": {
     "iopub.execute_input": "2021-04-21T16:47:22.003945Z",
     "iopub.status.busy": "2021-04-21T16:47:22.003177Z",
     "iopub.status.idle": "2021-04-21T16:47:22.006858Z",
     "shell.execute_reply": "2021-04-21T16:47:22.007512Z"
    },
    "papermill": {
     "duration": 0.053962,
     "end_time": "2021-04-21T16:47:22.007710",
     "exception": false,
     "start_time": "2021-04-21T16:47:21.953748",
     "status": "completed"
    },
    "tags": []
   },
   "outputs": [],
   "source": [
    "bins =[0,0.5,1]\n",
    "\n",
    "names = ['1','2']  ## groups"
   ]
  },
  {
   "cell_type": "code",
   "execution_count": 29,
   "id": "outer-serum",
   "metadata": {
    "execution": {
     "iopub.execute_input": "2021-04-21T16:47:22.101294Z",
     "iopub.status.busy": "2021-04-21T16:47:22.100706Z",
     "iopub.status.idle": "2021-04-21T16:47:22.106202Z",
     "shell.execute_reply": "2021-04-21T16:47:22.105594Z"
    },
    "papermill": {
     "duration": 0.053241,
     "end_time": "2021-04-21T16:47:22.106338",
     "exception": false,
     "start_time": "2021-04-21T16:47:22.053097",
     "status": "completed"
    },
    "tags": []
   },
   "outputs": [],
   "source": [
    "final = pd.DataFrame(cust_recency[\"Customer ID\"])"
   ]
  },
  {
   "cell_type": "code",
   "execution_count": 30,
   "id": "august-party",
   "metadata": {
    "execution": {
     "iopub.execute_input": "2021-04-21T16:47:22.202677Z",
     "iopub.status.busy": "2021-04-21T16:47:22.202049Z",
     "iopub.status.idle": "2021-04-21T16:47:22.209787Z",
     "shell.execute_reply": "2021-04-21T16:47:22.210293Z"
    },
    "papermill": {
     "duration": 0.056748,
     "end_time": "2021-04-21T16:47:22.210462",
     "exception": false,
     "start_time": "2021-04-21T16:47:22.153714",
     "status": "completed"
    },
    "tags": []
   },
   "outputs": [],
   "source": [
    "final['frequency']= pd.cut(freq['rank_freq'], bins, labels=names).astype(\"string\")"
   ]
  },
  {
   "cell_type": "code",
   "execution_count": 31,
   "id": "careful-decision",
   "metadata": {
    "execution": {
     "iopub.execute_input": "2021-04-21T16:47:22.305585Z",
     "iopub.status.busy": "2021-04-21T16:47:22.304902Z",
     "iopub.status.idle": "2021-04-21T16:47:22.312770Z",
     "shell.execute_reply": "2021-04-21T16:47:22.313304Z"
    },
    "papermill": {
     "duration": 0.057265,
     "end_time": "2021-04-21T16:47:22.313499",
     "exception": false,
     "start_time": "2021-04-21T16:47:22.256234",
     "status": "completed"
    },
    "tags": []
   },
   "outputs": [],
   "source": [
    "final['recency']= pd.cut(cust_recency['rank_recency'], bins, labels=names).astype(\"string\")"
   ]
  },
  {
   "cell_type": "code",
   "execution_count": 32,
   "id": "sonic-tobago",
   "metadata": {
    "execution": {
     "iopub.execute_input": "2021-04-21T16:47:22.408584Z",
     "iopub.status.busy": "2021-04-21T16:47:22.407957Z",
     "iopub.status.idle": "2021-04-21T16:47:22.415438Z",
     "shell.execute_reply": "2021-04-21T16:47:22.415965Z"
    },
    "papermill": {
     "duration": 0.056792,
     "end_time": "2021-04-21T16:47:22.416134",
     "exception": false,
     "start_time": "2021-04-21T16:47:22.359342",
     "status": "completed"
    },
    "tags": []
   },
   "outputs": [],
   "source": [
    "final['monetary']= pd.cut(monet['rank_monet'], bins, labels=names).astype(\"string\")"
   ]
  },
  {
   "cell_type": "code",
   "execution_count": 33,
   "id": "instructional-identity",
   "metadata": {
    "execution": {
     "iopub.execute_input": "2021-04-21T16:47:22.511546Z",
     "iopub.status.busy": "2021-04-21T16:47:22.510889Z",
     "iopub.status.idle": "2021-04-21T16:47:22.522693Z",
     "shell.execute_reply": "2021-04-21T16:47:22.523183Z"
    },
    "papermill": {
     "duration": 0.061293,
     "end_time": "2021-04-21T16:47:22.523350",
     "exception": false,
     "start_time": "2021-04-21T16:47:22.462057",
     "status": "completed"
    },
    "tags": []
   },
   "outputs": [
    {
     "data": {
      "text/html": [
       "<div>\n",
       "<style scoped>\n",
       "    .dataframe tbody tr th:only-of-type {\n",
       "        vertical-align: middle;\n",
       "    }\n",
       "\n",
       "    .dataframe tbody tr th {\n",
       "        vertical-align: top;\n",
       "    }\n",
       "\n",
       "    .dataframe thead th {\n",
       "        text-align: right;\n",
       "    }\n",
       "</style>\n",
       "<table border=\"1\" class=\"dataframe\">\n",
       "  <thead>\n",
       "    <tr style=\"text-align: right;\">\n",
       "      <th></th>\n",
       "      <th>Customer ID</th>\n",
       "      <th>frequency</th>\n",
       "      <th>recency</th>\n",
       "      <th>monetary</th>\n",
       "    </tr>\n",
       "  </thead>\n",
       "  <tbody>\n",
       "    <tr>\n",
       "      <th>0</th>\n",
       "      <td>12346.0</td>\n",
       "      <td>1</td>\n",
       "      <td>2</td>\n",
       "      <td>2</td>\n",
       "    </tr>\n",
       "    <tr>\n",
       "      <th>1</th>\n",
       "      <td>12347.0</td>\n",
       "      <td>1</td>\n",
       "      <td>1</td>\n",
       "      <td>1</td>\n",
       "    </tr>\n",
       "    <tr>\n",
       "      <th>2</th>\n",
       "      <td>12348.0</td>\n",
       "      <td>1</td>\n",
       "      <td>1</td>\n",
       "      <td>1</td>\n",
       "    </tr>\n",
       "    <tr>\n",
       "      <th>3</th>\n",
       "      <td>12349.0</td>\n",
       "      <td>1</td>\n",
       "      <td>1</td>\n",
       "      <td>1</td>\n",
       "    </tr>\n",
       "    <tr>\n",
       "      <th>4</th>\n",
       "      <td>12350.0</td>\n",
       "      <td>2</td>\n",
       "      <td>2</td>\n",
       "      <td>1</td>\n",
       "    </tr>\n",
       "  </tbody>\n",
       "</table>\n",
       "</div>"
      ],
      "text/plain": [
       "   Customer ID frequency recency monetary\n",
       "0      12346.0         1       2        2\n",
       "1      12347.0         1       1        1\n",
       "2      12348.0         1       1        1\n",
       "3      12349.0         1       1        1\n",
       "4      12350.0         2       2        1"
      ]
     },
     "execution_count": 33,
     "metadata": {},
     "output_type": "execute_result"
    }
   ],
   "source": [
    "final.head()"
   ]
  },
  {
   "cell_type": "code",
   "execution_count": 34,
   "id": "violent-thomson",
   "metadata": {
    "execution": {
     "iopub.execute_input": "2021-04-21T16:47:22.620243Z",
     "iopub.status.busy": "2021-04-21T16:47:22.619518Z",
     "iopub.status.idle": "2021-04-21T16:47:22.629317Z",
     "shell.execute_reply": "2021-04-21T16:47:22.629871Z"
    },
    "papermill": {
     "duration": 0.060141,
     "end_time": "2021-04-21T16:47:22.630049",
     "exception": false,
     "start_time": "2021-04-21T16:47:22.569908",
     "status": "completed"
    },
    "tags": []
   },
   "outputs": [],
   "source": [
    "final['rec_freq_monet'] = final['recency']+final['frequency']+final['monetary']"
   ]
  },
  {
   "cell_type": "code",
   "execution_count": 35,
   "id": "fleet-water",
   "metadata": {
    "execution": {
     "iopub.execute_input": "2021-04-21T16:47:22.727188Z",
     "iopub.status.busy": "2021-04-21T16:47:22.726570Z",
     "iopub.status.idle": "2021-04-21T16:47:22.739510Z",
     "shell.execute_reply": "2021-04-21T16:47:22.740016Z"
    },
    "papermill": {
     "duration": 0.063138,
     "end_time": "2021-04-21T16:47:22.740184",
     "exception": false,
     "start_time": "2021-04-21T16:47:22.677046",
     "status": "completed"
    },
    "tags": []
   },
   "outputs": [
    {
     "data": {
      "text/html": [
       "<div>\n",
       "<style scoped>\n",
       "    .dataframe tbody tr th:only-of-type {\n",
       "        vertical-align: middle;\n",
       "    }\n",
       "\n",
       "    .dataframe tbody tr th {\n",
       "        vertical-align: top;\n",
       "    }\n",
       "\n",
       "    .dataframe thead th {\n",
       "        text-align: right;\n",
       "    }\n",
       "</style>\n",
       "<table border=\"1\" class=\"dataframe\">\n",
       "  <thead>\n",
       "    <tr style=\"text-align: right;\">\n",
       "      <th></th>\n",
       "      <th>Customer ID</th>\n",
       "      <th>frequency</th>\n",
       "      <th>recency</th>\n",
       "      <th>monetary</th>\n",
       "      <th>rec_freq_monet</th>\n",
       "    </tr>\n",
       "  </thead>\n",
       "  <tbody>\n",
       "    <tr>\n",
       "      <th>0</th>\n",
       "      <td>12346.0</td>\n",
       "      <td>1</td>\n",
       "      <td>2</td>\n",
       "      <td>2</td>\n",
       "      <td>212</td>\n",
       "    </tr>\n",
       "    <tr>\n",
       "      <th>1</th>\n",
       "      <td>12347.0</td>\n",
       "      <td>1</td>\n",
       "      <td>1</td>\n",
       "      <td>1</td>\n",
       "      <td>111</td>\n",
       "    </tr>\n",
       "    <tr>\n",
       "      <th>2</th>\n",
       "      <td>12348.0</td>\n",
       "      <td>1</td>\n",
       "      <td>1</td>\n",
       "      <td>1</td>\n",
       "      <td>111</td>\n",
       "    </tr>\n",
       "    <tr>\n",
       "      <th>3</th>\n",
       "      <td>12349.0</td>\n",
       "      <td>1</td>\n",
       "      <td>1</td>\n",
       "      <td>1</td>\n",
       "      <td>111</td>\n",
       "    </tr>\n",
       "    <tr>\n",
       "      <th>4</th>\n",
       "      <td>12350.0</td>\n",
       "      <td>2</td>\n",
       "      <td>2</td>\n",
       "      <td>1</td>\n",
       "      <td>221</td>\n",
       "    </tr>\n",
       "  </tbody>\n",
       "</table>\n",
       "</div>"
      ],
      "text/plain": [
       "   Customer ID frequency recency monetary rec_freq_monet\n",
       "0      12346.0         1       2        2            212\n",
       "1      12347.0         1       1        1            111\n",
       "2      12348.0         1       1        1            111\n",
       "3      12349.0         1       1        1            111\n",
       "4      12350.0         2       2        1            221"
      ]
     },
     "execution_count": 35,
     "metadata": {},
     "output_type": "execute_result"
    }
   ],
   "source": [
    "final.head()"
   ]
  },
  {
   "cell_type": "code",
   "execution_count": 36,
   "id": "dense-virgin",
   "metadata": {
    "execution": {
     "iopub.execute_input": "2021-04-21T16:47:22.841592Z",
     "iopub.status.busy": "2021-04-21T16:47:22.840932Z",
     "iopub.status.idle": "2021-04-21T16:47:22.844207Z",
     "shell.execute_reply": "2021-04-21T16:47:22.843584Z"
    },
    "papermill": {
     "duration": 0.056736,
     "end_time": "2021-04-21T16:47:22.844347",
     "exception": false,
     "start_time": "2021-04-21T16:47:22.787611",
     "status": "completed"
    },
    "tags": []
   },
   "outputs": [],
   "source": [
    "all_data['RFM'] = final['rec_freq_monet']"
   ]
  },
  {
   "cell_type": "code",
   "execution_count": 37,
   "id": "meaning-cargo",
   "metadata": {
    "execution": {
     "iopub.execute_input": "2021-04-21T16:47:22.955633Z",
     "iopub.status.busy": "2021-04-21T16:47:22.954948Z",
     "iopub.status.idle": "2021-04-21T16:47:22.959268Z",
     "shell.execute_reply": "2021-04-21T16:47:22.958629Z"
    },
    "papermill": {
     "duration": 0.067418,
     "end_time": "2021-04-21T16:47:22.959422",
     "exception": false,
     "start_time": "2021-04-21T16:47:22.892004",
     "status": "completed"
    },
    "tags": []
   },
   "outputs": [
    {
     "data": {
      "text/html": [
       "<div>\n",
       "<style scoped>\n",
       "    .dataframe tbody tr th:only-of-type {\n",
       "        vertical-align: middle;\n",
       "    }\n",
       "\n",
       "    .dataframe tbody tr th {\n",
       "        vertical-align: top;\n",
       "    }\n",
       "\n",
       "    .dataframe thead th {\n",
       "        text-align: right;\n",
       "    }\n",
       "</style>\n",
       "<table border=\"1\" class=\"dataframe\">\n",
       "  <thead>\n",
       "    <tr style=\"text-align: right;\">\n",
       "      <th></th>\n",
       "      <th>Customer ID</th>\n",
       "      <th>last_date</th>\n",
       "      <th>recency</th>\n",
       "      <th>rank_recency</th>\n",
       "      <th>frequency</th>\n",
       "      <th>rank_freq</th>\n",
       "      <th>monetary</th>\n",
       "      <th>rank_monet</th>\n",
       "      <th>RFM</th>\n",
       "    </tr>\n",
       "  </thead>\n",
       "  <tbody>\n",
       "    <tr>\n",
       "      <th>0</th>\n",
       "      <td>12346.0</td>\n",
       "      <td>2011-01-18</td>\n",
       "      <td>325</td>\n",
       "      <td>0.707506</td>\n",
       "      <td>17</td>\n",
       "      <td>0.096264</td>\n",
       "      <td>-3.043529</td>\n",
       "      <td>0.987041</td>\n",
       "      <td>212</td>\n",
       "    </tr>\n",
       "    <tr>\n",
       "      <th>1</th>\n",
       "      <td>12347.0</td>\n",
       "      <td>2011-12-07</td>\n",
       "      <td>2</td>\n",
       "      <td>0.033995</td>\n",
       "      <td>8</td>\n",
       "      <td>0.250589</td>\n",
       "      <td>615.191250</td>\n",
       "      <td>0.068832</td>\n",
       "      <td>111</td>\n",
       "    </tr>\n",
       "    <tr>\n",
       "      <th>2</th>\n",
       "      <td>12348.0</td>\n",
       "      <td>2011-09-25</td>\n",
       "      <td>75</td>\n",
       "      <td>0.459525</td>\n",
       "      <td>5</td>\n",
       "      <td>0.388337</td>\n",
       "      <td>403.880000</td>\n",
       "      <td>0.185291</td>\n",
       "      <td>111</td>\n",
       "    </tr>\n",
       "    <tr>\n",
       "      <th>3</th>\n",
       "      <td>12349.0</td>\n",
       "      <td>2011-11-21</td>\n",
       "      <td>18</td>\n",
       "      <td>0.201195</td>\n",
       "      <td>5</td>\n",
       "      <td>0.388337</td>\n",
       "      <td>880.908000</td>\n",
       "      <td>0.030966</td>\n",
       "      <td>111</td>\n",
       "    </tr>\n",
       "    <tr>\n",
       "      <th>4</th>\n",
       "      <td>12350.0</td>\n",
       "      <td>2011-02-02</td>\n",
       "      <td>310</td>\n",
       "      <td>0.695894</td>\n",
       "      <td>1</td>\n",
       "      <td>0.877146</td>\n",
       "      <td>334.400000</td>\n",
       "      <td>0.273982</td>\n",
       "      <td>221</td>\n",
       "    </tr>\n",
       "  </tbody>\n",
       "</table>\n",
       "</div>"
      ],
      "text/plain": [
       "   Customer ID  last_date  recency  rank_recency  frequency  rank_freq  \\\n",
       "0      12346.0 2011-01-18      325      0.707506         17   0.096264   \n",
       "1      12347.0 2011-12-07        2      0.033995          8   0.250589   \n",
       "2      12348.0 2011-09-25       75      0.459525          5   0.388337   \n",
       "3      12349.0 2011-11-21       18      0.201195          5   0.388337   \n",
       "4      12350.0 2011-02-02      310      0.695894          1   0.877146   \n",
       "\n",
       "     monetary  rank_monet  RFM  \n",
       "0   -3.043529    0.987041  212  \n",
       "1  615.191250    0.068832  111  \n",
       "2  403.880000    0.185291  111  \n",
       "3  880.908000    0.030966  111  \n",
       "4  334.400000    0.273982  221  "
      ]
     },
     "execution_count": 37,
     "metadata": {},
     "output_type": "execute_result"
    }
   ],
   "source": [
    "all_data.head()"
   ]
  },
  {
   "cell_type": "code",
   "execution_count": 38,
   "id": "recent-recycling",
   "metadata": {
    "execution": {
     "iopub.execute_input": "2021-04-21T16:47:23.062810Z",
     "iopub.status.busy": "2021-04-21T16:47:23.062179Z",
     "iopub.status.idle": "2021-04-21T16:47:24.016798Z",
     "shell.execute_reply": "2021-04-21T16:47:24.017311Z"
    },
    "papermill": {
     "duration": 1.007894,
     "end_time": "2021-04-21T16:47:24.017531",
     "exception": false,
     "start_time": "2021-04-21T16:47:23.009637",
     "status": "completed"
    },
    "tags": []
   },
   "outputs": [],
   "source": [
    "import seaborn as sns"
   ]
  },
  {
   "cell_type": "code",
   "execution_count": 39,
   "id": "mathematical-sessions",
   "metadata": {
    "execution": {
     "iopub.execute_input": "2021-04-21T16:47:24.128101Z",
     "iopub.status.busy": "2021-04-21T16:47:24.127104Z",
     "iopub.status.idle": "2021-04-21T16:47:24.322872Z",
     "shell.execute_reply": "2021-04-21T16:47:24.322027Z"
    },
    "papermill": {
     "duration": 0.256341,
     "end_time": "2021-04-21T16:47:24.323050",
     "exception": false,
     "start_time": "2021-04-21T16:47:24.066709",
     "status": "completed"
    },
    "tags": []
   },
   "outputs": [
    {
     "data": {
      "text/plain": [
       "[Text(0, 0, '212'),\n",
       " Text(1, 0, '111'),\n",
       " Text(2, 0, '221'),\n",
       " Text(3, 0, '112'),\n",
       " Text(4, 0, '222'),\n",
       " Text(5, 0, '121'),\n",
       " Text(6, 0, '122'),\n",
       " Text(7, 0, '211')]"
      ]
     },
     "execution_count": 39,
     "metadata": {},
     "output_type": "execute_result"
    },
    {
     "data": {
      "image/png": "[encoded data removed]",
      "text/plain": [
       "<Figure size 432x288 with 1 Axes>"
      ]
     },
     "metadata": {
      "needs_background": "light"
     },
     "output_type": "display_data"
    }
   ],
   "source": [
    "fig = sns.countplot(x= 'RFM', data= all_data)\n",
    "fig.set_xticklabels(fig.get_xticklabels(), rotation= 45)"
   ]
  },
  {
   "cell_type": "markdown",
   "id": "moving-partition",
   "metadata": {
    "papermill": {
     "duration": 0.052593,
     "end_time": "2021-04-21T16:47:24.438657",
     "exception": false,
     "start_time": "2021-04-21T16:47:24.386064",
     "status": "completed"
    },
    "tags": []
   },
   "source": [
    "#### Conclusion : Marketing department can now startegize based on the customer groups, for eg 111 & 112 are loyal and can be offered some gifts, however 222 & 221 are lost cause as they don't buy frequently and its a long time since they shopped and they shop for low value.\n",
    "#### for 212, though they buy frequently but its been a long time since they bough anything and therefore they can be targetted with some strategy."
   ]
  },
  {
   "cell_type": "markdown",
   "id": "satellite-trustee",
   "metadata": {
    "papermill": {
     "duration": 0.048967,
     "end_time": "2021-04-21T16:47:24.537222",
     "exception": false,
     "start_time": "2021-04-21T16:47:24.488255",
     "status": "completed"
    },
    "tags": []
   },
   "source": [
    "### K-Means Clustering"
   ]
  },
  {
   "cell_type": "code",
   "execution_count": 40,
   "id": "painful-screening",
   "metadata": {
    "execution": {
     "iopub.execute_input": "2021-04-21T16:47:24.641554Z",
     "iopub.status.busy": "2021-04-21T16:47:24.640659Z",
     "iopub.status.idle": "2021-04-21T16:47:24.645575Z",
     "shell.execute_reply": "2021-04-21T16:47:24.644950Z"
    },
    "papermill": {
     "duration": 0.059267,
     "end_time": "2021-04-21T16:47:24.645713",
     "exception": false,
     "start_time": "2021-04-21T16:47:24.586446",
     "status": "completed"
    },
    "tags": []
   },
   "outputs": [
    {
     "data": {
      "text/plain": [
       "Index(['Customer ID', 'last_date', 'recency', 'rank_recency', 'frequency',\n",
       "       'rank_freq', 'monetary', 'rank_monet', 'RFM'],\n",
       "      dtype='object')"
      ]
     },
     "execution_count": 40,
     "metadata": {},
     "output_type": "execute_result"
    }
   ],
   "source": [
    "all_data.columns"
   ]
  },
  {
   "cell_type": "code",
   "execution_count": 41,
   "id": "premier-engineering",
   "metadata": {
    "execution": {
     "iopub.execute_input": "2021-04-21T16:47:24.749926Z",
     "iopub.status.busy": "2021-04-21T16:47:24.749268Z",
     "iopub.status.idle": "2021-04-21T16:47:25.257006Z",
     "shell.execute_reply": "2021-04-21T16:47:25.255502Z"
    },
    "papermill": {
     "duration": 0.56144,
     "end_time": "2021-04-21T16:47:25.257167",
     "exception": false,
     "start_time": "2021-04-21T16:47:24.695727",
     "status": "completed"
    },
    "tags": []
   },
   "outputs": [],
   "source": [
    "from sklearn.cluster import KMeans"
   ]
  },
  {
   "cell_type": "code",
   "execution_count": 42,
   "id": "developing-northern",
   "metadata": {
    "execution": {
     "iopub.execute_input": "2021-04-21T16:47:25.365313Z",
     "iopub.status.busy": "2021-04-21T16:47:25.364677Z",
     "iopub.status.idle": "2021-04-21T16:47:25.367160Z",
     "shell.execute_reply": "2021-04-21T16:47:25.366556Z"
    },
    "papermill": {
     "duration": 0.059294,
     "end_time": "2021-04-21T16:47:25.367294",
     "exception": false,
     "start_time": "2021-04-21T16:47:25.308000",
     "status": "completed"
    },
    "tags": []
   },
   "outputs": [],
   "source": [
    "X= all_data[['recency','frequency','monetary']]"
   ]
  },
  {
   "cell_type": "code",
   "execution_count": 43,
   "id": "sorted-excerpt",
   "metadata": {
    "execution": {
     "iopub.execute_input": "2021-04-21T16:47:25.473759Z",
     "iopub.status.busy": "2021-04-21T16:47:25.473047Z",
     "iopub.status.idle": "2021-04-21T16:47:25.475796Z",
     "shell.execute_reply": "2021-04-21T16:47:25.476547Z"
    },
    "papermill": {
     "duration": 0.05869,
     "end_time": "2021-04-21T16:47:25.476748",
     "exception": false,
     "start_time": "2021-04-21T16:47:25.418058",
     "status": "completed"
    },
    "tags": []
   },
   "outputs": [],
   "source": [
    "km = KMeans(n_clusters= 3, n_init= 10, max_iter= 300, tol= 0.0001)"
   ]
  },
  {
   "cell_type": "code",
   "execution_count": 44,
   "id": "modular-secondary",
   "metadata": {
    "execution": {
     "iopub.execute_input": "2021-04-21T16:47:25.584604Z",
     "iopub.status.busy": "2021-04-21T16:47:25.583940Z",
     "iopub.status.idle": "2021-04-21T16:47:26.786837Z",
     "shell.execute_reply": "2021-04-21T16:47:26.787901Z"
    },
    "papermill": {
     "duration": 1.260894,
     "end_time": "2021-04-21T16:47:26.788155",
     "exception": false,
     "start_time": "2021-04-21T16:47:25.527261",
     "status": "completed"
    },
    "tags": []
   },
   "outputs": [],
   "source": [
    "fitting = km.fit_predict(X)"
   ]
  },
  {
   "cell_type": "code",
   "execution_count": 45,
   "id": "cultural-frame",
   "metadata": {
    "execution": {
     "iopub.execute_input": "2021-04-21T16:47:26.910524Z",
     "iopub.status.busy": "2021-04-21T16:47:26.909877Z",
     "iopub.status.idle": "2021-04-21T16:47:26.913342Z",
     "shell.execute_reply": "2021-04-21T16:47:26.912850Z"
    },
    "papermill": {
     "duration": 0.058323,
     "end_time": "2021-04-21T16:47:26.913507",
     "exception": false,
     "start_time": "2021-04-21T16:47:26.855184",
     "status": "completed"
    },
    "tags": []
   },
   "outputs": [
    {
     "data": {
      "text/plain": [
       "array([0, 0, 0, ..., 0, 0, 0], dtype=int32)"
      ]
     },
     "execution_count": 45,
     "metadata": {},
     "output_type": "execute_result"
    }
   ],
   "source": [
    "### Centroids\n",
    "fitting"
   ]
  },
  {
   "cell_type": "code",
   "execution_count": 46,
   "id": "continuing-conflict",
   "metadata": {
    "execution": {
     "iopub.execute_input": "2021-04-21T16:47:27.022255Z",
     "iopub.status.busy": "2021-04-21T16:47:27.021458Z",
     "iopub.status.idle": "2021-04-21T16:47:27.024621Z",
     "shell.execute_reply": "2021-04-21T16:47:27.025668Z"
    },
    "papermill": {
     "duration": 0.061618,
     "end_time": "2021-04-21T16:47:27.025890",
     "exception": false,
     "start_time": "2021-04-21T16:47:26.964272",
     "status": "completed"
    },
    "tags": []
   },
   "outputs": [
    {
     "name": "stderr",
     "output_type": "stream",
     "text": [
      "/opt/conda/lib/python3.7/site-packages/ipykernel_launcher.py:1: SettingWithCopyWarning: \n",
      "A value is trying to be set on a copy of a slice from a DataFrame.\n",
      "Try using .loc[row_indexer,col_indexer] = value instead\n",
      "\n",
      "See the caveats in the documentation: https://pandas.pydata.org/pandas-docs/stable/user_guide/indexing.html#returning-a-view-versus-a-copy\n",
      "  \"\"\"Entry point for launching an IPython kernel.\n"
     ]
    }
   ],
   "source": [
    "X['centroids']=fitting"
   ]
  },
  {
   "cell_type": "code",
   "execution_count": 47,
   "id": "south-promise",
   "metadata": {
    "execution": {
     "iopub.execute_input": "2021-04-21T16:47:27.139567Z",
     "iopub.status.busy": "2021-04-21T16:47:27.138825Z",
     "iopub.status.idle": "2021-04-21T16:47:27.142897Z",
     "shell.execute_reply": "2021-04-21T16:47:27.142394Z"
    },
    "papermill": {
     "duration": 0.064584,
     "end_time": "2021-04-21T16:47:27.143037",
     "exception": false,
     "start_time": "2021-04-21T16:47:27.078453",
     "status": "completed"
    },
    "tags": []
   },
   "outputs": [
    {
     "data": {
      "text/plain": [
       "<bound method NDFrame.head of       recency  frequency    monetary  centroids\n",
       "0         325         17   -3.043529          0\n",
       "1           2          8  615.191250          0\n",
       "2          75          5  403.880000          0\n",
       "3          18          5  880.908000          0\n",
       "4         310          1  334.400000          0\n",
       "...       ...        ...         ...        ...\n",
       "5937        3         22  121.131818          0\n",
       "5938      429          2  218.340000          0\n",
       "5939      660          1  427.000000          0\n",
       "5940      476          3  396.143333          0\n",
       "5941       42          8  522.236250          0\n",
       "\n",
       "[5942 rows x 4 columns]>"
      ]
     },
     "execution_count": 47,
     "metadata": {},
     "output_type": "execute_result"
    }
   ],
   "source": [
    "X.head"
   ]
  },
  {
   "cell_type": "code",
   "execution_count": 48,
   "id": "ecological-handbook",
   "metadata": {
    "execution": {
     "iopub.execute_input": "2021-04-21T16:47:27.253105Z",
     "iopub.status.busy": "2021-04-21T16:47:27.252428Z",
     "iopub.status.idle": "2021-04-21T16:47:32.495181Z",
     "shell.execute_reply": "2021-04-21T16:47:32.494349Z"
    },
    "papermill": {
     "duration": 5.300622,
     "end_time": "2021-04-21T16:47:32.495337",
     "exception": false,
     "start_time": "2021-04-21T16:47:27.194715",
     "status": "completed"
    },
    "tags": []
   },
   "outputs": [
    {
     "name": "stderr",
     "output_type": "stream",
     "text": [
      "/opt/conda/lib/python3.7/site-packages/seaborn/distributions.py:306: UserWarning: Dataset has 0 variance; skipping density estimate.\n",
      "  warnings.warn(msg, UserWarning)\n",
      "/opt/conda/lib/python3.7/site-packages/seaborn/distributions.py:306: UserWarning: Dataset has 0 variance; skipping density estimate.\n",
      "  warnings.warn(msg, UserWarning)\n",
      "/opt/conda/lib/python3.7/site-packages/seaborn/distributions.py:306: UserWarning: Dataset has 0 variance; skipping density estimate.\n",
      "  warnings.warn(msg, UserWarning)\n"
     ]
    },
    {
     "data": {
      "text/plain": [
       "<seaborn.axisgrid.PairGrid at 0x7f20f4b57ed0>"
      ]
     },
     "execution_count": 48,
     "metadata": {},
     "output_type": "execute_result"
    },
    {
     "data": {
      "image/png": "[encoded data removed]",
      "text/plain": [
       "<Figure size 594.25x540 with 12 Axes>"
      ]
     },
     "metadata": {
      "needs_background": "light"
     },
     "output_type": "display_data"
    }
   ],
   "source": [
    "sns.pairplot(data=X, hue='centroids', palette=[\"C0\", \"C1\", \"k\"])"
   ]
  },
  {
   "cell_type": "markdown",
   "id": "automatic-morning",
   "metadata": {
    "papermill": {
     "duration": 0.054285,
     "end_time": "2021-04-21T16:47:32.604931",
     "exception": false,
     "start_time": "2021-04-21T16:47:32.550646",
     "status": "completed"
    },
    "tags": []
   },
   "source": [
    "### Elbow Spree to get the optimum K or number of clusters"
   ]
  },
  {
   "cell_type": "code",
   "execution_count": 49,
   "id": "painted-thong",
   "metadata": {
    "execution": {
     "iopub.execute_input": "2021-04-21T16:47:32.723997Z",
     "iopub.status.busy": "2021-04-21T16:47:32.722095Z",
     "iopub.status.idle": "2021-04-21T16:47:52.650002Z",
     "shell.execute_reply": "2021-04-21T16:47:52.649272Z"
    },
    "papermill": {
     "duration": 19.990427,
     "end_time": "2021-04-21T16:47:52.650182",
     "exception": false,
     "start_time": "2021-04-21T16:47:32.659755",
     "status": "completed"
    },
    "tags": []
   },
   "outputs": [],
   "source": [
    "### Sum of squared errors\n",
    "\n",
    "sse =[]\n",
    "\n",
    "for k in range(1,11):\n",
    "    kmeans= KMeans(n_clusters= k, n_init= 10, max_iter= 300, tol= 0.0001)\n",
    "    a= kmeans.fit(X)\n",
    "    sse.append(a.inertia_)"
   ]
  },
  {
   "cell_type": "code",
   "execution_count": 50,
   "id": "informal-aaron",
   "metadata": {
    "execution": {
     "iopub.execute_input": "2021-04-21T16:47:52.771373Z",
     "iopub.status.busy": "2021-04-21T16:47:52.770540Z",
     "iopub.status.idle": "2021-04-21T16:47:52.774908Z",
     "shell.execute_reply": "2021-04-21T16:47:52.774406Z"
    },
    "papermill": {
     "duration": 0.066051,
     "end_time": "2021-04-21T16:47:52.775059",
     "exception": false,
     "start_time": "2021-04-21T16:47:52.709008",
     "status": "completed"
    },
    "tags": []
   },
   "outputs": [
    {
     "data": {
      "text/plain": [
       "[1870448883.954063,\n",
       " 1225123739.083827,\n",
       " 855073277.1022171,\n",
       " 626275774.3116075,\n",
       " 450448448.2015297,\n",
       " 348513644.9362592,\n",
       " 255268464.10476506,\n",
       " 199933007.65103477,\n",
       " 170972613.96067354,\n",
       " 145067055.86583978]"
      ]
     },
     "execution_count": 50,
     "metadata": {},
     "output_type": "execute_result"
    }
   ],
   "source": [
    "sse"
   ]
  },
  {
   "cell_type": "code",
   "execution_count": 51,
   "id": "egyptian-testimony",
   "metadata": {
    "execution": {
     "iopub.execute_input": "2021-04-21T16:47:52.900555Z",
     "iopub.status.busy": "2021-04-21T16:47:52.892462Z",
     "iopub.status.idle": "2021-04-21T16:47:53.030429Z",
     "shell.execute_reply": "2021-04-21T16:47:53.029802Z"
    },
    "papermill": {
     "duration": 0.199739,
     "end_time": "2021-04-21T16:47:53.030588",
     "exception": false,
     "start_time": "2021-04-21T16:47:52.830849",
     "status": "completed"
    },
    "tags": []
   },
   "outputs": [
    {
     "data": {
      "text/plain": [
       "[<matplotlib.lines.Line2D at 0x7f20f54dd890>]"
      ]
     },
     "execution_count": 51,
     "metadata": {},
     "output_type": "execute_result"
    },
    {
     "data": {
      "image/png": "[encoded data removed]",
      "text/plain": [
       "<Figure size 432x288 with 1 Axes>"
      ]
     },
     "metadata": {
      "needs_background": "light"
     },
     "output_type": "display_data"
    }
   ],
   "source": [
    "plt.plot(range(1,11),sse)"
   ]
  },
  {
   "cell_type": "markdown",
   "id": "black-breakdown",
   "metadata": {
    "papermill": {
     "duration": 0.056674,
     "end_time": "2021-04-21T16:47:53.144815",
     "exception": false,
     "start_time": "2021-04-21T16:47:53.088141",
     "status": "completed"
    },
    "tags": []
   },
   "source": [
    "#### We can notice that the decline is gradual till 5 clusters and then it tends to smooth towards 10. Therefore, we can either go with 5 or 6 clusters."
   ]
  },
  {
   "cell_type": "code",
   "execution_count": null,
   "id": "absolute-packet",
   "metadata": {
    "papermill": {
     "duration": 0.0564,
     "end_time": "2021-04-21T16:47:53.258041",
     "exception": false,
     "start_time": "2021-04-21T16:47:53.201641",
     "status": "completed"
    },
    "tags": []
   },
   "outputs": [],
   "source": []
  }
 ],
 "metadata": {
  "kernelspec": {
   "display_name": "Python 3",
   "language": "python",
   "name": "python3"
  },
  "language_info": {
   "codemirror_mode": {
    "name": "ipython",
    "version": 3
   },
   "file_extension": ".py",
   "mimetype": "text/x-python",
   "name": "python",
   "nbconvert_exporter": "python",
   "pygments_lexer": "ipython3",
   "version": "3.7.9"
  },
  "papermill": {
   "default_parameters": {},
   "duration": 51.047159,
   "end_time": "2021-04-21T16:47:54.126153",
   "environment_variables": {},
   "exception": null,
   "input_path": "__notebook__.ipynb",
   "output_path": "__notebook__.ipynb",
   "parameters": {},
   "start_time": "2021-04-21T16:47:03.078994",
   "version": "2.3.2"
  }
 },
 "nbformat": 4,
 "nbformat_minor": 5
}
